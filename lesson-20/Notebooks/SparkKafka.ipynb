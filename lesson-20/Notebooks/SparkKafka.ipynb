{
 "cells": [
  {
   "cell_type": "code",
   "execution_count": null,
   "id": "e2515a1c-c4f9-4890-aa6d-641bf419cea6",
   "metadata": {
    "pycharm": {
     "name": "#%%\n"
    },
    "scrolled": true
   },
   "outputs": [],
   "source": [
    "import $ivy.`org.apache.spark::spark-sql:3.5.3`\n",
    "import $ivy.`org.apache.spark:spark-sql-kafka-0-10_2.12:3.5.3`\n",
    "import $ivy.`org.apache.kafka:kafka-clients:3.6.0`"
   ]
  },
  {
   "cell_type": "code",
   "execution_count": null,
   "id": "dc99a5fd-2141-4ffe-afb1-4b0a595a75af",
   "metadata": {
    "pycharm": {
     "name": "#%%\n"
    }
   },
   "outputs": [],
   "source": [
    "import org.apache.log4j.{Level, Logger}\n",
    "Logger.getLogger(\"org\").setLevel(Level.WARN)"
   ]
  },
  {
   "cell_type": "markdown",
   "id": "78ab7dc3-9173-4d9e-9a91-97256abb3a30",
   "metadata": {
    "pycharm": {
     "name": "#%% md\n"
    }
   },
   "source": [
    "## Start"
   ]
  },
  {
   "cell_type": "code",
   "execution_count": null,
   "id": "49835da8-c4d0-461a-a2c8-3c0959118bb4",
   "metadata": {
    "pycharm": {
     "name": "#%%\n"
    }
   },
   "outputs": [],
   "source": [
    "import org.apache.spark.sql._\n",
    "import org.apache.spark.sql.functions._"
   ]
  },
  {
   "cell_type": "code",
   "execution_count": null,
   "id": "7df9de1d-1f63-41b1-999b-69614c723fae",
   "metadata": {
    "pycharm": {
     "name": "#%%\n"
    },
    "scrolled": true
   },
   "outputs": [],
   "source": [
    "val spark = SparkSession\n",
    "                .builder()\n",
    "                .master(\"local[*]\")\n",
    "                .appName(\"Spark Kafka\")\n",
    "                .getOrCreate()\n",
    "\n",
    "import spark.implicits._"
   ]
  },
  {
   "cell_type": "markdown",
   "id": "255dee56-47d1-4e8a-bd98-29a40e35061c",
   "metadata": {},
   "source": [
    "## Читаем из топика *input*"
   ]
  },
  {
   "cell_type": "code",
   "execution_count": null,
   "id": "b8479501-274e-4333-949b-2c6a699a1926",
   "metadata": {},
   "outputs": [],
   "source": [
    "val input = spark.readStream\n",
    "      .format(\"kafka\")\n",
    "      .option(\"kafka.bootstrap.servers\", \"kafka1:9092,kafka2:9092,kafka3:9092\")\n",
    "      .option(\"subscribe\", \"input\")\n",
    "      .option(\"startingOffsets\", \"earliest\")\n",
    "      .load()\n",
    "      .selectExpr(\"CAST(key AS STRING)\", \"CAST(value AS STRING)\")\n",
    "      .as[(String, String)]"
   ]
  },
  {
   "cell_type": "markdown",
   "id": "bbbcfdbb-9da5-47fd-a936-e03f4858a3ee",
   "metadata": {},
   "source": [
    "## Пишем в топик *output*"
   ]
  },
  {
   "cell_type": "code",
   "execution_count": null,
   "id": "5bb459a5-b691-44df-913c-e6393b98da4b",
   "metadata": {
    "scrolled": true
   },
   "outputs": [],
   "source": [
    "val query = input.writeStream\n",
    "                    .format(\"kafka\")\n",
    "                    .option(\"kafka.bootstrap.servers\", \"kafka1:9092,kafka2:9092,kafka3:9092\")\n",
    "                    .option(\"topic\", \"output\")\n",
    "                    .option(\"checkpointLocation\", \"/tmp/checkpoin\")\n",
    "                    .outputMode(\"append\")\n",
    "                    .start()\n",
    "\n",
    "query.awaitTermination()"
   ]
  },
  {
   "cell_type": "markdown",
   "id": "45091db0-fbd1-4567-b5eb-faec32fd5325",
   "metadata": {
    "pycharm": {
     "name": "#%% md\n"
    }
   },
   "source": [
    "## Stop"
   ]
  },
  {
   "cell_type": "code",
   "execution_count": null,
   "id": "25e2b3ef-f005-4fa1-b6e5-533bf3fd55e6",
   "metadata": {
    "pycharm": {
     "name": "#%%\n"
    }
   },
   "outputs": [],
   "source": [
    "spark.stop()"
   ]
  }
 ],
 "metadata": {
  "kernelspec": {
   "display_name": "Scala (2.12)",
   "language": "scala",
   "name": "scala212"
  },
  "language_info": {
   "codemirror_mode": "text/x-scala",
   "file_extension": ".sc",
   "mimetype": "text/x-scala",
   "name": "scala",
   "nbconvert_exporter": "script",
   "version": "2.12.18"
  }
 },
 "nbformat": 4,
 "nbformat_minor": 5
}
