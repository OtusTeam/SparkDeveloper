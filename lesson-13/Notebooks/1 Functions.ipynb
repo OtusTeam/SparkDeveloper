{
 "cells": [
  {
   "cell_type": "code",
   "execution_count": 1,
   "id": "a82b2d70-528e-4d70-82d8-e09e3c6a9ce1",
   "metadata": {},
   "outputs": [
    {
     "data": {
      "text/plain": [
       "\u001b[32mimport \u001b[39m\u001b[36m$ivy.$\u001b[39m\n",
       "\u001b[32mimport \u001b[39m\u001b[36morg.apache.log4j.{Level, Logger}\u001b[39m"
      ]
     },
     "execution_count": 1,
     "metadata": {},
     "output_type": "execute_result"
    }
   ],
   "source": [
    "import $ivy.`org.apache.spark::spark-sql:3.5.5`\n",
    "import org.apache.log4j.{Level, Logger}\n",
    "Logger.getLogger(\"org\").setLevel(Level.OFF)"
   ]
  },
  {
   "cell_type": "code",
   "execution_count": 2,
   "id": "971c7adb-21bc-45c6-9739-19d3542686c2",
   "metadata": {},
   "outputs": [
    {
     "data": {
      "text/plain": [
       "\u001b[32mimport \u001b[39m\u001b[36morg.apache.spark.sql._\u001b[39m\n",
       "\u001b[32mimport \u001b[39m\u001b[36morg.apache.spark.sql.functions._\u001b[39m"
      ]
     },
     "execution_count": 2,
     "metadata": {},
     "output_type": "execute_result"
    }
   ],
   "source": [
    "import org.apache.spark.sql._\n",
    "import org.apache.spark.sql.functions._"
   ]
  },
  {
   "cell_type": "code",
   "execution_count": 3,
   "id": "e4caaef5-6fb9-4333-8b72-ed1115989f12",
   "metadata": {
    "scrolled": true
   },
   "outputs": [
    {
     "name": "stderr",
     "output_type": "stream",
     "text": [
      "Using Spark's default log4j profile: org/apache/spark/log4j2-defaults.properties\n",
      "25/03/13 16:30:37 INFO SparkContext: Running Spark version 3.5.5\n",
      "25/03/13 16:30:37 INFO SparkContext: OS info Mac OS X, 15.3.2, aarch64\n",
      "25/03/13 16:30:37 INFO SparkContext: Java version 11.0.26\n",
      "25/03/13 16:30:37 WARN NativeCodeLoader: Unable to load native-hadoop library for your platform... using builtin-java classes where applicable\n",
      "Setting Spark log level to \"WARN\".\n"
     ]
    },
    {
     "data": {
      "text/plain": [
       "\u001b[36mspark\u001b[39m: \u001b[32mSparkSession\u001b[39m = org.apache.spark.sql.SparkSession@3b80e7ff\n",
       "\u001b[32mimport \u001b[39m\u001b[36mspark.implicits._\u001b[39m"
      ]
     },
     "execution_count": 3,
     "metadata": {},
     "output_type": "execute_result"
    }
   ],
   "source": [
    "val spark = SparkSession\n",
    "                .builder()\n",
    "                .master(\"local[*]\")\n",
    "                .appName(\"Functions\")\n",
    "                .config(\"spark.log.level\", \"WARN\")\n",
    "                .getOrCreate()\n",
    "\n",
    "import spark.implicits._"
   ]
  },
  {
   "cell_type": "code",
   "execution_count": 4,
   "id": "7fb82f43-9e6f-4bcb-80d7-40a361767774",
   "metadata": {},
   "outputs": [
    {
     "name": "stdout",
     "output_type": "stream",
     "text": [
      "+------------+--------+-----+--------+-------+----------+\n",
      "|   firstName|lastName|state|quantity|revenue| timestamp|\n",
      "+------------+--------+-----+--------+-------+----------+\n",
      "|Jean-Georges|  Perrin|   NC|       1|    300|1551903533|\n",
      "|Jean-Georges|  Perrin|   NC|       2|    120|1551903567|\n",
      "|Jean-Georges|  Perrin|   CA|       4|     75|1551903599|\n",
      "|      Holden|   Karau|   CA|       6|     37|1551904299|\n",
      "|       Ginni| Rometty|   NY|       7|     91|1551916792|\n",
      "|      Holden|   Karau|   CA|       4|    153|1552876129|\n",
      "+------------+--------+-----+--------+-------+----------+\n",
      "\n"
     ]
    },
    {
     "data": {
      "text/plain": [
       "\u001b[36mdata\u001b[39m: \u001b[32mDataFrame\u001b[39m = [firstName: string, lastName: string ... 4 more fields]"
      ]
     },
     "execution_count": 4,
     "metadata": {},
     "output_type": "execute_result"
    }
   ],
   "source": [
    "val data = Seq(\n",
    "    (\"Jean-Georges\", \"Perrin\", \"NC\", 1, 300, 1551903533),\n",
    "    (\"Jean-Georges\", \"Perrin\", \"NC\", 2, 120, 1551903567),\n",
    "    (\"Jean-Georges\", \"Perrin\", \"CA\" ,4, 75, 1551903599),\n",
    "    (\"Holden\", \"Karau\", \"CA\" , 6, 37, 1551904299),\n",
    "    (\"Ginni\", \"Rometty\", \"NY\", 7, 91, 1551916792),\n",
    "    (\"Holden\", \"Karau\", \"CA\", 4, 153, 1552876129)\n",
    ").toDF(\"firstName\", \"lastName\", \"state\", \"quantity\", \"revenue\", \"timestamp\")\n",
    "\n",
    "data.show()"
   ]
  },
  {
   "cell_type": "code",
   "execution_count": 5,
   "id": "4511b195-2d41-41db-9ea5-5dc623f47cb5",
   "metadata": {},
   "outputs": [
    {
     "name": "stdout",
     "output_type": "stream",
     "text": [
      "root\n",
      " |-- firstName: string (nullable = true)\n",
      " |-- lastName: string (nullable = true)\n",
      " |-- state: string (nullable = true)\n",
      " |-- quantity: integer (nullable = false)\n",
      " |-- revenue: integer (nullable = false)\n",
      " |-- timestamp: integer (nullable = false)\n",
      "\n"
     ]
    }
   ],
   "source": [
    "data.printSchema()"
   ]
  },
  {
   "cell_type": "markdown",
   "id": "5531fae9-0baa-4ede-93d1-8b701ac68783",
   "metadata": {},
   "source": [
    "## Array Functions"
   ]
  },
  {
   "cell_type": "code",
   "execution_count": 6,
   "id": "a5812952-39e8-40b9-83f1-ceb87f32df06",
   "metadata": {},
   "outputs": [
    {
     "name": "stdout",
     "output_type": "stream",
     "text": [
      "+------------+--------+-----+--------+-------+----------+--------------------------+----------------------------+\n",
      "|firstName   |lastName|state|quantity|revenue|timestamp |k2v                       |k2n                         |\n",
      "+------------+--------+-----+--------+-------+----------+--------------------------+----------------------------+\n",
      "|Jean-Georges|Perrin  |NC   |1       |300    |1551903533|[Jean-Georges, Perrin, NC]|[FirstName, LastName, State]|\n",
      "|Jean-Georges|Perrin  |NC   |2       |120    |1551903567|[Jean-Georges, Perrin, NC]|[FirstName, LastName, State]|\n",
      "|Jean-Georges|Perrin  |CA   |4       |75     |1551903599|[Jean-Georges, Perrin, CA]|[FirstName, LastName, State]|\n",
      "|Holden      |Karau   |CA   |6       |37     |1551904299|[Holden, Karau, CA]       |[FirstName, LastName, State]|\n",
      "|Ginni       |Rometty |NY   |7       |91     |1551916792|[Ginni, Rometty, NY]      |[FirstName, LastName, State]|\n",
      "|Holden      |Karau   |CA   |4       |153    |1552876129|[Holden, Karau, CA]       |[FirstName, LastName, State]|\n",
      "+------------+--------+-----+--------+-------+----------+--------------------------+----------------------------+\n",
      "\n"
     ]
    },
    {
     "data": {
      "text/plain": [
       "\u001b[36mdatak2\u001b[39m: \u001b[32mDataFrame\u001b[39m = [firstName: string, lastName: string ... 6 more fields]"
      ]
     },
     "execution_count": 6,
     "metadata": {},
     "output_type": "execute_result"
    }
   ],
   "source": [
    "val datak2 = data\n",
    "                .withColumn(\"k2v\", array($\"firstName\", $\"lastName\", $\"state\"))\n",
    "                .withColumn(\"k2n\", array(lit(\"FirstName\"), lit(\"LastName\"), lit(\"State\")))\n",
    "\n",
    "datak2.show(false)"
   ]
  },
  {
   "cell_type": "code",
   "execution_count": 7,
   "id": "1659d289-550c-4ba4-ab16-617ae6da25d9",
   "metadata": {},
   "outputs": [
    {
     "name": "stdout",
     "output_type": "stream",
     "text": [
      "+------------+--------+-----+--------+-------+----------+--------------------------+----------------------------+\n",
      "|firstName   |lastName|state|quantity|revenue|timestamp |k2v                       |k2n                         |\n",
      "+------------+--------+-----+--------+-------+----------+--------------------------+----------------------------+\n",
      "|Jean-Georges|Perrin  |CA   |4       |75     |1551903599|[Jean-Georges, Perrin, CA]|[FirstName, LastName, State]|\n",
      "|Holden      |Karau   |CA   |6       |37     |1551904299|[Holden, Karau, CA]       |[FirstName, LastName, State]|\n",
      "|Holden      |Karau   |CA   |4       |153    |1552876129|[Holden, Karau, CA]       |[FirstName, LastName, State]|\n",
      "+------------+--------+-----+--------+-------+----------+--------------------------+----------------------------+\n",
      "\n"
     ]
    }
   ],
   "source": [
    "datak2.where(array_contains($\"k2v\", \"CA\")).show(false)"
   ]
  },
  {
   "cell_type": "markdown",
   "id": "5337eedf-cec3-4d0f-88c5-0327ee36f616",
   "metadata": {},
   "source": [
    "## Map Functions"
   ]
  },
  {
   "cell_type": "code",
   "execution_count": 8,
   "id": "c4ea9f77-080a-4d62-8fc4-e37c0206f33a",
   "metadata": {},
   "outputs": [
    {
     "name": "stdout",
     "output_type": "stream",
     "text": [
      "+------------+--------+-----+--------+-------+----------+------------------------------------------------------------+\n",
      "|firstName   |lastName|state|quantity|revenue|timestamp |k2m                                                         |\n",
      "+------------+--------+-----+--------+-------+----------+------------------------------------------------------------+\n",
      "|Jean-Georges|Perrin  |NC   |1       |300    |1551903533|{FirstName -> Jean-Georges, LastName -> Perrin, State -> NC}|\n",
      "|Jean-Georges|Perrin  |NC   |2       |120    |1551903567|{FirstName -> Jean-Georges, LastName -> Perrin, State -> NC}|\n",
      "|Jean-Georges|Perrin  |CA   |4       |75     |1551903599|{FirstName -> Jean-Georges, LastName -> Perrin, State -> CA}|\n",
      "|Holden      |Karau   |CA   |6       |37     |1551904299|{FirstName -> Holden, LastName -> Karau, State -> CA}       |\n",
      "|Ginni       |Rometty |NY   |7       |91     |1551916792|{FirstName -> Ginni, LastName -> Rometty, State -> NY}      |\n",
      "|Holden      |Karau   |CA   |4       |153    |1552876129|{FirstName -> Holden, LastName -> Karau, State -> CA}       |\n",
      "+------------+--------+-----+--------+-------+----------+------------------------------------------------------------+\n",
      "\n"
     ]
    },
    {
     "data": {
      "text/plain": [
       "\u001b[36mdatak2m\u001b[39m: \u001b[32mDataFrame\u001b[39m = [firstName: string, lastName: string ... 5 more fields]"
      ]
     },
     "execution_count": 8,
     "metadata": {},
     "output_type": "execute_result"
    }
   ],
   "source": [
    "val datak2m = data.withColumn(\"k2m\", map(lit(\"FirstName\"), $\"firstName\", lit(\"LastName\"), $\"lastName\", lit(\"State\"), $\"state\"))\n",
    "\n",
    "datak2m.show(false)"
   ]
  },
  {
   "cell_type": "code",
   "execution_count": 9,
   "id": "d653367c-af17-47d8-9302-3b20f694a92c",
   "metadata": {},
   "outputs": [
    {
     "name": "stdout",
     "output_type": "stream",
     "text": [
      "+------------+--------+-----+--------+-------+----------+--------------------------+----------------------------+------------------------------------------------------------+\n",
      "|firstName   |lastName|state|quantity|revenue|timestamp |k2v                       |k2n                         |k2m                                                         |\n",
      "+------------+--------+-----+--------+-------+----------+--------------------------+----------------------------+------------------------------------------------------------+\n",
      "|Jean-Georges|Perrin  |NC   |1       |300    |1551903533|[Jean-Georges, Perrin, NC]|[FirstName, LastName, State]|{FirstName -> Jean-Georges, LastName -> Perrin, State -> NC}|\n",
      "|Jean-Georges|Perrin  |NC   |2       |120    |1551903567|[Jean-Georges, Perrin, NC]|[FirstName, LastName, State]|{FirstName -> Jean-Georges, LastName -> Perrin, State -> NC}|\n",
      "|Jean-Georges|Perrin  |CA   |4       |75     |1551903599|[Jean-Georges, Perrin, CA]|[FirstName, LastName, State]|{FirstName -> Jean-Georges, LastName -> Perrin, State -> CA}|\n",
      "|Holden      |Karau   |CA   |6       |37     |1551904299|[Holden, Karau, CA]       |[FirstName, LastName, State]|{FirstName -> Holden, LastName -> Karau, State -> CA}       |\n",
      "|Ginni       |Rometty |NY   |7       |91     |1551916792|[Ginni, Rometty, NY]      |[FirstName, LastName, State]|{FirstName -> Ginni, LastName -> Rometty, State -> NY}      |\n",
      "|Holden      |Karau   |CA   |4       |153    |1552876129|[Holden, Karau, CA]       |[FirstName, LastName, State]|{FirstName -> Holden, LastName -> Karau, State -> CA}       |\n",
      "+------------+--------+-----+--------+-------+----------+--------------------------+----------------------------+------------------------------------------------------------+\n",
      "\n"
     ]
    },
    {
     "data": {
      "text/plain": [
       "\u001b[36mdatak2ma\u001b[39m: \u001b[32mDataFrame\u001b[39m = [firstName: string, lastName: string ... 7 more fields]"
      ]
     },
     "execution_count": 9,
     "metadata": {},
     "output_type": "execute_result"
    }
   ],
   "source": [
    "val datak2ma = datak2.withColumn(\"k2m\", map_from_arrays($\"k2n\", $\"k2v\"))\n",
    "\n",
    "datak2ma.show(false)"
   ]
  },
  {
   "cell_type": "markdown",
   "id": "174009f8-f995-43c8-857d-4f7afbcea3e4",
   "metadata": {},
   "source": [
    "## Date and Timestamp Functions"
   ]
  },
  {
   "cell_type": "code",
   "execution_count": 10,
   "id": "cc68f1e7-2fc4-4c8f-819a-148308e6406e",
   "metadata": {},
   "outputs": [
    {
     "name": "stdout",
     "output_type": "stream",
     "text": [
      "+------------+--------+-----+--------+-------+----------+-------------------+--------------------------+\n",
      "|firstName   |lastName|state|quantity|revenue|timestamp |recordTimestamp    |current                   |\n",
      "+------------+--------+-----+--------+-------+----------+-------------------+--------------------------+\n",
      "|Jean-Georges|Perrin  |NC   |1       |300    |1551903533|2019-03-06 23:18:53|2025-03-13 16:30:44.995342|\n",
      "|Jean-Georges|Perrin  |NC   |2       |120    |1551903567|2019-03-06 23:19:27|2025-03-13 16:30:44.995342|\n",
      "|Jean-Georges|Perrin  |CA   |4       |75     |1551903599|2019-03-06 23:19:59|2025-03-13 16:30:44.995342|\n",
      "|Holden      |Karau   |CA   |6       |37     |1551904299|2019-03-06 23:31:39|2025-03-13 16:30:44.995342|\n",
      "|Ginni       |Rometty |NY   |7       |91     |1551916792|2019-03-07 02:59:52|2025-03-13 16:30:44.995342|\n",
      "|Holden      |Karau   |CA   |4       |153    |1552876129|2019-03-18 05:28:49|2025-03-13 16:30:44.995342|\n",
      "+------------+--------+-----+--------+-------+----------+-------------------+--------------------------+\n",
      "\n"
     ]
    },
    {
     "data": {
      "text/plain": [
       "\u001b[36mdatat\u001b[39m: \u001b[32mDataFrame\u001b[39m = [firstName: string, lastName: string ... 6 more fields]"
      ]
     },
     "execution_count": 10,
     "metadata": {},
     "output_type": "execute_result"
    }
   ],
   "source": [
    "val datat = data\n",
    "                .withColumn(\"recordTimestamp\", to_timestamp($\"timestamp\"))\n",
    "                .withColumn(\"current\", current_timestamp())\n",
    "\n",
    "datat.show(false)"
   ]
  },
  {
   "cell_type": "code",
   "execution_count": 11,
   "id": "feb7c72e",
   "metadata": {},
   "outputs": [
    {
     "name": "stdout",
     "output_type": "stream",
     "text": [
      "root\n",
      " |-- firstName: string (nullable = true)\n",
      " |-- lastName: string (nullable = true)\n",
      " |-- state: string (nullable = true)\n",
      " |-- quantity: integer (nullable = false)\n",
      " |-- revenue: integer (nullable = false)\n",
      " |-- timestamp: integer (nullable = false)\n",
      " |-- recordTimestamp: timestamp (nullable = false)\n",
      " |-- current: timestamp (nullable = false)\n",
      "\n"
     ]
    }
   ],
   "source": [
    "datat.printSchema"
   ]
  },
  {
   "cell_type": "code",
   "execution_count": 12,
   "id": "923bf8a5-a4da-48d2-99ea-faf664a7a232",
   "metadata": {},
   "outputs": [
    {
     "name": "stdout",
     "output_type": "stream",
     "text": [
      "+-------------------+--------------------------+----------------------------------+\n",
      "|recordTimestamp    |current                   |datediff(current, recordTimestamp)|\n",
      "+-------------------+--------------------------+----------------------------------+\n",
      "|2019-03-06 23:18:53|2025-03-13 16:30:45.607223|2199                              |\n",
      "|2019-03-06 23:19:27|2025-03-13 16:30:45.607223|2199                              |\n",
      "|2019-03-06 23:19:59|2025-03-13 16:30:45.607223|2199                              |\n",
      "|2019-03-06 23:31:39|2025-03-13 16:30:45.607223|2199                              |\n",
      "|2019-03-07 02:59:52|2025-03-13 16:30:45.607223|2198                              |\n",
      "|2019-03-18 05:28:49|2025-03-13 16:30:45.607223|2187                              |\n",
      "+-------------------+--------------------------+----------------------------------+\n",
      "\n"
     ]
    }
   ],
   "source": [
    "datat.select($\"recordTimestamp\", $\"current\", datediff($\"current\", $\"recordTimestamp\")).show(false)"
   ]
  },
  {
   "cell_type": "markdown",
   "id": "8f4dd5f2-9d23-45ba-97dd-cb869fe5331f",
   "metadata": {},
   "source": [
    "## JSON Functions"
   ]
  },
  {
   "cell_type": "code",
   "execution_count": 13,
   "id": "7c9e0c1c-83c3-4d85-b8d0-790fb4b3c928",
   "metadata": {},
   "outputs": [
    {
     "name": "stdout",
     "output_type": "stream",
     "text": [
      "+------------+--------+-----+--------+-------+----------+------------------------------------------------------------+-------------------------------------------------------------+\n",
      "|firstName   |lastName|state|quantity|revenue|timestamp |k2m                                                         |k2j                                                          |\n",
      "+------------+--------+-----+--------+-------+----------+------------------------------------------------------------+-------------------------------------------------------------+\n",
      "|Jean-Georges|Perrin  |NC   |1       |300    |1551903533|{FirstName -> Jean-Georges, LastName -> Perrin, State -> NC}|{\"FirstName\":\"Jean-Georges\",\"LastName\":\"Perrin\",\"State\":\"NC\"}|\n",
      "|Jean-Georges|Perrin  |NC   |2       |120    |1551903567|{FirstName -> Jean-Georges, LastName -> Perrin, State -> NC}|{\"FirstName\":\"Jean-Georges\",\"LastName\":\"Perrin\",\"State\":\"NC\"}|\n",
      "|Jean-Georges|Perrin  |CA   |4       |75     |1551903599|{FirstName -> Jean-Georges, LastName -> Perrin, State -> CA}|{\"FirstName\":\"Jean-Georges\",\"LastName\":\"Perrin\",\"State\":\"CA\"}|\n",
      "|Holden      |Karau   |CA   |6       |37     |1551904299|{FirstName -> Holden, LastName -> Karau, State -> CA}       |{\"FirstName\":\"Holden\",\"LastName\":\"Karau\",\"State\":\"CA\"}       |\n",
      "|Ginni       |Rometty |NY   |7       |91     |1551916792|{FirstName -> Ginni, LastName -> Rometty, State -> NY}      |{\"FirstName\":\"Ginni\",\"LastName\":\"Rometty\",\"State\":\"NY\"}      |\n",
      "|Holden      |Karau   |CA   |4       |153    |1552876129|{FirstName -> Holden, LastName -> Karau, State -> CA}       |{\"FirstName\":\"Holden\",\"LastName\":\"Karau\",\"State\":\"CA\"}       |\n",
      "+------------+--------+-----+--------+-------+----------+------------------------------------------------------------+-------------------------------------------------------------+\n",
      "\n"
     ]
    },
    {
     "data": {
      "text/plain": [
       "\u001b[36mdatak2j\u001b[39m: \u001b[32mDataFrame\u001b[39m = [firstName: string, lastName: string ... 6 more fields]"
      ]
     },
     "execution_count": 13,
     "metadata": {},
     "output_type": "execute_result"
    }
   ],
   "source": [
    "val datak2j = datak2m.withColumn(\"k2j\", to_json($\"k2m\"))\n",
    "\n",
    "datak2j.show(false)"
   ]
  },
  {
   "cell_type": "markdown",
   "id": "908c5e15-5439-4cc5-8e9c-d4ca908cca3c",
   "metadata": {},
   "source": [
    "## Generator Functions"
   ]
  },
  {
   "cell_type": "code",
   "execution_count": 14,
   "id": "c8d80a2d-6636-4841-be49-646816ecbd4b",
   "metadata": {},
   "outputs": [
    {
     "name": "stdout",
     "output_type": "stream",
     "text": [
      "+------------+--------+-----+--------+-------+----------+---------------+---------------+\n",
      "|firstName   |lastName|state|quantity|revenue|timestamp |a1             |a2             |\n",
      "+------------+--------+-----+--------+-------+----------+---------------+---------------+\n",
      "|Jean-Georges|Perrin  |NC   |1       |300    |1551903533|[1, 2, 3, 4, 5]|[1, 2, 3, 4, 5]|\n",
      "|Jean-Georges|Perrin  |NC   |2       |120    |1551903567|[1, 2, 3, 4, 5]|[1, 2, 3, 4, 5]|\n",
      "|Jean-Georges|Perrin  |CA   |4       |75     |1551903599|[1, 2, 3, 4, 5]|[1, 2, 3, 4, 5]|\n",
      "|Holden      |Karau   |CA   |6       |37     |1551904299|[1, 2, 3, 4, 5]|[1, 2, 3, 4, 5]|\n",
      "|Ginni       |Rometty |NY   |7       |91     |1551916792|[1, 2, 3, 4, 5]|[1, 2, 3, 4, 5]|\n",
      "|Holden      |Karau   |CA   |4       |153    |1552876129|[1, 2, 3, 4, 5]|[1, 2, 3, 4, 5]|\n",
      "+------------+--------+-----+--------+-------+----------+---------------+---------------+\n",
      "\n"
     ]
    },
    {
     "data": {
      "text/plain": [
       "\u001b[36mdata2\u001b[39m: \u001b[32mDataFrame\u001b[39m = [firstName: string, lastName: string ... 6 more fields]"
      ]
     },
     "execution_count": 14,
     "metadata": {},
     "output_type": "execute_result"
    }
   ],
   "source": [
    "val data2 = data\n",
    "                .withColumn(\"a1\", array(lit(1), lit(2), lit(3), lit(4), lit(5)))\n",
    "                .withColumn(\"a2\", lit((1 to 5).toArray))\n",
    "\n",
    "data2.show(false)"
   ]
  },
  {
   "cell_type": "code",
   "execution_count": 15,
   "id": "886eb9f8-e8e1-451e-9c0f-74a393acb4e6",
   "metadata": {
    "scrolled": true
   },
   "outputs": [
    {
     "name": "stdout",
     "output_type": "stream",
     "text": [
      "+------------+--------+-----+--------+-------+----------+---------------+---------------+-----+\n",
      "|firstName   |lastName|state|quantity|revenue|timestamp |a1             |a2             |dummy|\n",
      "+------------+--------+-----+--------+-------+----------+---------------+---------------+-----+\n",
      "|Jean-Georges|Perrin  |NC   |1       |300    |1551903533|[1, 2, 3, 4, 5]|[1, 2, 3, 4, 5]|1    |\n",
      "|Jean-Georges|Perrin  |NC   |1       |300    |1551903533|[1, 2, 3, 4, 5]|[1, 2, 3, 4, 5]|2    |\n",
      "|Jean-Georges|Perrin  |NC   |1       |300    |1551903533|[1, 2, 3, 4, 5]|[1, 2, 3, 4, 5]|3    |\n",
      "|Jean-Georges|Perrin  |NC   |1       |300    |1551903533|[1, 2, 3, 4, 5]|[1, 2, 3, 4, 5]|4    |\n",
      "|Jean-Georges|Perrin  |NC   |1       |300    |1551903533|[1, 2, 3, 4, 5]|[1, 2, 3, 4, 5]|5    |\n",
      "|Jean-Georges|Perrin  |NC   |2       |120    |1551903567|[1, 2, 3, 4, 5]|[1, 2, 3, 4, 5]|1    |\n",
      "|Jean-Georges|Perrin  |NC   |2       |120    |1551903567|[1, 2, 3, 4, 5]|[1, 2, 3, 4, 5]|2    |\n",
      "|Jean-Georges|Perrin  |NC   |2       |120    |1551903567|[1, 2, 3, 4, 5]|[1, 2, 3, 4, 5]|3    |\n",
      "|Jean-Georges|Perrin  |NC   |2       |120    |1551903567|[1, 2, 3, 4, 5]|[1, 2, 3, 4, 5]|4    |\n",
      "|Jean-Georges|Perrin  |NC   |2       |120    |1551903567|[1, 2, 3, 4, 5]|[1, 2, 3, 4, 5]|5    |\n",
      "|Jean-Georges|Perrin  |CA   |4       |75     |1551903599|[1, 2, 3, 4, 5]|[1, 2, 3, 4, 5]|1    |\n",
      "|Jean-Georges|Perrin  |CA   |4       |75     |1551903599|[1, 2, 3, 4, 5]|[1, 2, 3, 4, 5]|2    |\n",
      "|Jean-Georges|Perrin  |CA   |4       |75     |1551903599|[1, 2, 3, 4, 5]|[1, 2, 3, 4, 5]|3    |\n",
      "|Jean-Georges|Perrin  |CA   |4       |75     |1551903599|[1, 2, 3, 4, 5]|[1, 2, 3, 4, 5]|4    |\n",
      "|Jean-Georges|Perrin  |CA   |4       |75     |1551903599|[1, 2, 3, 4, 5]|[1, 2, 3, 4, 5]|5    |\n",
      "|Holden      |Karau   |CA   |6       |37     |1551904299|[1, 2, 3, 4, 5]|[1, 2, 3, 4, 5]|1    |\n",
      "|Holden      |Karau   |CA   |6       |37     |1551904299|[1, 2, 3, 4, 5]|[1, 2, 3, 4, 5]|2    |\n",
      "|Holden      |Karau   |CA   |6       |37     |1551904299|[1, 2, 3, 4, 5]|[1, 2, 3, 4, 5]|3    |\n",
      "|Holden      |Karau   |CA   |6       |37     |1551904299|[1, 2, 3, 4, 5]|[1, 2, 3, 4, 5]|4    |\n",
      "|Holden      |Karau   |CA   |6       |37     |1551904299|[1, 2, 3, 4, 5]|[1, 2, 3, 4, 5]|5    |\n",
      "+------------+--------+-----+--------+-------+----------+---------------+---------------+-----+\n",
      "only showing top 20 rows\n",
      "\n"
     ]
    }
   ],
   "source": [
    "data2.withColumn(\"dummy\", explode($\"a1\")).show(false)"
   ]
  },
  {
   "cell_type": "markdown",
   "id": "c9904a83-620a-4537-9dd4-8a0dac8092be",
   "metadata": {},
   "source": [
    "## Window Functions"
   ]
  },
  {
   "cell_type": "code",
   "execution_count": 16,
   "id": "351a5cea-7668-4b03-a961-86658da77882",
   "metadata": {},
   "outputs": [
    {
     "data": {
      "text/plain": [
       "\u001b[32mimport \u001b[39m\u001b[36morg.apache.spark.sql.expressions.Window\u001b[39m\n",
       "\u001b[36mwindowSpec\u001b[39m: \u001b[32mexpressions\u001b[39m.\u001b[32mWindowSpec\u001b[39m = org.apache.spark.sql.expressions.WindowSpec@23981d31"
      ]
     },
     "execution_count": 16,
     "metadata": {},
     "output_type": "execute_result"
    }
   ],
   "source": [
    "import org.apache.spark.sql.expressions.Window\n",
    "\n",
    "val windowSpec = Window.partitionBy(\"firstName\", \"lastName\").orderBy(\"state\")"
   ]
  },
  {
   "cell_type": "code",
   "execution_count": 17,
   "id": "334205e6-b9b8-4dd2-b1df-8e801acd5833",
   "metadata": {
    "scrolled": true
   },
   "outputs": [
    {
     "name": "stdout",
     "output_type": "stream",
     "text": [
      "+------------+--------+-----+--------+-------+----------+----------+\n",
      "|   firstName|lastName|state|quantity|revenue| timestamp|row_number|\n",
      "+------------+--------+-----+--------+-------+----------+----------+\n",
      "|       Ginni| Rometty|   NY|       7|     91|1551916792|         1|\n",
      "|      Holden|   Karau|   CA|       6|     37|1551904299|         1|\n",
      "|      Holden|   Karau|   CA|       4|    153|1552876129|         2|\n",
      "|Jean-Georges|  Perrin|   CA|       4|     75|1551903599|         1|\n",
      "|Jean-Georges|  Perrin|   NC|       1|    300|1551903533|         2|\n",
      "|Jean-Georges|  Perrin|   NC|       2|    120|1551903567|         3|\n",
      "+------------+--------+-----+--------+-------+----------+----------+\n",
      "\n"
     ]
    },
    {
     "data": {
      "text/plain": [
       "\u001b[36mdataw\u001b[39m: \u001b[32mDataFrame\u001b[39m = [firstName: string, lastName: string ... 5 more fields]"
      ]
     },
     "execution_count": 17,
     "metadata": {},
     "output_type": "execute_result"
    }
   ],
   "source": [
    "val dataw = data.withColumn(\"row_number\", row_number().over(windowSpec))\n",
    "\n",
    "dataw.orderBy(\"firstName\", \"lastName\", \"state\").show()"
   ]
  },
  {
   "cell_type": "code",
   "execution_count": 18,
   "id": "76bdfc0e-b90a-49ea-85bc-9859ffce6068",
   "metadata": {
    "scrolled": true
   },
   "outputs": [
    {
     "name": "stdout",
     "output_type": "stream",
     "text": [
      "+------------+--------+-----+--------+-------+----------+----------+\n",
      "|   firstName|lastName|state|quantity|revenue| timestamp|row_number|\n",
      "+------------+--------+-----+--------+-------+----------+----------+\n",
      "|       Ginni| Rometty|   NY|       7|     91|1551916792|         1|\n",
      "|      Holden|   Karau|   CA|       6|     37|1551904299|         1|\n",
      "|Jean-Georges|  Perrin|   CA|       4|     75|1551903599|         1|\n",
      "+------------+--------+-----+--------+-------+----------+----------+\n",
      "\n"
     ]
    }
   ],
   "source": [
    "dataw.where($\"row_number\" === 1).show()"
   ]
  },
  {
   "cell_type": "code",
   "execution_count": 19,
   "id": "aea680ad-9eb7-443d-bc29-b54a343b2141",
   "metadata": {
    "scrolled": true
   },
   "outputs": [
    {
     "name": "stdout",
     "output_type": "stream",
     "text": [
      "+------------+--------+-----+--------+-------+----------+----------+--------+\n",
      "|   firstName|lastName|state|quantity|revenue| timestamp|row_number|revenue2|\n",
      "+------------+--------+-----+--------+-------+----------+----------+--------+\n",
      "|       Ginni| Rometty|   NY|       7|     91|1551916792|         1|      91|\n",
      "|      Holden|   Karau|   CA|       6|     37|1551904299|         1|      37|\n",
      "|      Holden|   Karau|   CA|       4|    153|1552876129|         2|      37|\n",
      "|Jean-Georges|  Perrin|   CA|       4|     75|1551903599|         1|      75|\n",
      "|Jean-Georges|  Perrin|   NC|       1|    300|1551903533|         2|      75|\n",
      "|Jean-Georges|  Perrin|   NC|       2|    120|1551903567|         3|      75|\n",
      "+------------+--------+-----+--------+-------+----------+----------+--------+\n",
      "\n"
     ]
    }
   ],
   "source": [
    "dataw.withColumn(\"revenue2\", nth_value($\"revenue\", 1).over(windowSpec)).show()"
   ]
  },
  {
   "cell_type": "code",
   "execution_count": null,
   "id": "bc3c7042-3b2c-4d32-a8cb-8aa8e6c5d252",
   "metadata": {},
   "outputs": [],
   "source": []
  }
 ],
 "metadata": {
  "kernelspec": {
   "display_name": "Scala (2.12)",
   "language": "scala",
   "name": "scala212"
  },
  "language_info": {
   "codemirror_mode": "text/x-scala",
   "file_extension": ".sc",
   "mimetype": "text/x-scala",
   "name": "scala",
   "nbconvert_exporter": "script",
   "version": "2.12.18"
  }
 },
 "nbformat": 4,
 "nbformat_minor": 5
}
