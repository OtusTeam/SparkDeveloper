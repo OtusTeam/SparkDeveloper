{
 "cells": [
  {
   "cell_type": "code",
   "execution_count": 1,
   "id": "b58a0e07-8644-456a-ab64-e35c78ff3d2e",
   "metadata": {},
   "outputs": [
    {
     "data": {
      "text/plain": [
       "\u001b[32mimport \u001b[39m\u001b[36m$ivy.$\u001b[39m\n",
       "\u001b[32mimport \u001b[39m\u001b[36morg.apache.log4j.{Level, Logger}\u001b[39m"
      ]
     },
     "execution_count": 1,
     "metadata": {},
     "output_type": "execute_result"
    }
   ],
   "source": [
    "import $ivy.`org.apache.spark::spark-sql:3.5.5`\n",
    "import org.apache.log4j.{Level, Logger}\n",
    "Logger.getLogger(\"org\").setLevel(Level.OFF)"
   ]
  },
  {
   "cell_type": "code",
   "execution_count": 2,
   "id": "6b9c302f-8c69-44a5-8e7b-f41e57b55547",
   "metadata": {},
   "outputs": [
    {
     "data": {
      "text/plain": [
       "\u001b[32mimport \u001b[39m\u001b[36morg.apache.spark.sql._\u001b[39m\n",
       "\u001b[32mimport \u001b[39m\u001b[36morg.apache.spark.sql.functions._\u001b[39m"
      ]
     },
     "execution_count": 2,
     "metadata": {},
     "output_type": "execute_result"
    }
   ],
   "source": [
    "import org.apache.spark.sql._\n",
    "import org.apache.spark.sql.functions._"
   ]
  },
  {
   "cell_type": "code",
   "execution_count": 3,
   "id": "b3eea84f-a2f0-456e-9bdb-96fd3e9fb13d",
   "metadata": {
    "scrolled": true
   },
   "outputs": [
    {
     "name": "stderr",
     "output_type": "stream",
     "text": [
      "Using Spark's default log4j profile: org/apache/spark/log4j2-defaults.properties\n",
      "25/03/13 16:35:43 INFO SparkContext: Running Spark version 3.5.5\n",
      "25/03/13 16:35:43 INFO SparkContext: OS info Mac OS X, 15.3.2, aarch64\n",
      "25/03/13 16:35:43 INFO SparkContext: Java version 11.0.26\n",
      "25/03/13 16:35:43 WARN NativeCodeLoader: Unable to load native-hadoop library for your platform... using builtin-java classes where applicable\n",
      "Setting Spark log level to \"WARN\".\n"
     ]
    },
    {
     "data": {
      "text/plain": [
       "\u001b[36mspark\u001b[39m: \u001b[32mSparkSession\u001b[39m = org.apache.spark.sql.SparkSession@32b18bf3\n",
       "\u001b[32mimport \u001b[39m\u001b[36mspark.implicits._\u001b[39m"
      ]
     },
     "execution_count": 3,
     "metadata": {},
     "output_type": "execute_result"
    }
   ],
   "source": [
    "val spark = SparkSession\n",
    "                .builder()\n",
    "                .master(\"local[*]\")\n",
    "                .appName(\"UDF\")\n",
    "                .config(\"spark.log.level\", \"WARN\")\n",
    "                .getOrCreate()\n",
    "\n",
    "import spark.implicits._"
   ]
  },
  {
   "cell_type": "code",
   "execution_count": 4,
   "id": "e360bff3-66b2-45b0-b5f8-f18078bfe3e7",
   "metadata": {},
   "outputs": [
    {
     "name": "stdout",
     "output_type": "stream",
     "text": [
      "+---+-------+------+\n",
      "| id|   name|salary|\n",
      "+---+-------+------+\n",
      "|  1|Michael|  3000|\n",
      "|  2|   Andy|  4500|\n",
      "|  3| Justin|  3500|\n",
      "|  4|  Berta|  4000|\n",
      "+---+-------+------+\n",
      "\n"
     ]
    },
    {
     "data": {
      "text/plain": [
       "\u001b[36mdata\u001b[39m: \u001b[32mDataFrame\u001b[39m = [id: int, name: string ... 1 more field]"
      ]
     },
     "execution_count": 4,
     "metadata": {},
     "output_type": "execute_result"
    }
   ],
   "source": [
    "val data = Seq(\n",
    "    (1, \"Michael\", 3000),\n",
    "    (2, \"Andy\", 4500),\n",
    "    (3, \"Justin\", 3500),\n",
    "    (4, \"Berta\", 4000)\n",
    ").toDF(\"id\", \"name\", \"salary\")\n",
    "\n",
    "data.show()"
   ]
  },
  {
   "cell_type": "markdown",
   "id": "69113281-2971-443a-90cb-f03546c52d21",
   "metadata": {},
   "source": [
    "## UDF без аргументов"
   ]
  },
  {
   "cell_type": "code",
   "execution_count": 5,
   "id": "df663c03-efef-4b69-9fa0-152475a0f1a0",
   "metadata": {
    "scrolled": true
   },
   "outputs": [
    {
     "name": "stdout",
     "output_type": "stream",
     "text": [
      "+---+-------+------+-------------------+\n",
      "| id|   name|salary|             random|\n",
      "+---+-------+------+-------------------+\n",
      "|  1|Michael|  3000| 0.6245355820477106|\n",
      "|  2|   Andy|  4500| 0.2533622519032023|\n",
      "|  3| Justin|  3500|0.11614977241890445|\n",
      "|  4|  Berta|  4000| 0.7590926783068178|\n",
      "+---+-------+------+-------------------+\n",
      "\n"
     ]
    },
    {
     "data": {
      "text/plain": [
       "\u001b[36mrandomUDF\u001b[39m: \u001b[32mexpressions\u001b[39m.\u001b[32mUserDefinedFunction\u001b[39m = \u001b[33mSparkUserDefinedFunction\u001b[39m(\n",
       "  ammonite.$sess.cmd5$Helper$$Lambda$5018/0x0000000801977c40@6f8ae8ba,\n",
       "  DoubleType,\n",
       "  \u001b[33mList\u001b[39m(),\n",
       "  \u001b[33mSome\u001b[39m(\n",
       "    \u001b[33mExpressionEncoder\u001b[39m(\n",
       "      \u001b[33mBoundReference\u001b[39m(\u001b[32m0\u001b[39m, DoubleType, \u001b[32mfalse\u001b[39m),\n",
       "      \u001b[33mAssertNotNull\u001b[39m(\n",
       "        \u001b[33mUpCast\u001b[39m(\n",
       "          \u001b[33mGetColumnByOrdinal\u001b[39m(\u001b[32m0\u001b[39m, DoubleType),\n",
       "          DoubleType,\n",
       "          \u001b[33mList\u001b[39m(\u001b[32m\"- root class: \\\"double\\\"\"\u001b[39m)\n",
       "        ),\n",
       "        \u001b[33mList\u001b[39m(\u001b[32m\"- root class: \\\"double\\\"\"\u001b[39m)\n",
       "      ),\n",
       "      Double\n",
       "    )\n",
       "  ),\n",
       "  \u001b[32mNone\u001b[39m,\n",
       "  \u001b[32mfalse\u001b[39m,\n",
       "  \u001b[32mtrue\u001b[39m\n",
       ")"
      ]
     },
     "execution_count": 5,
     "metadata": {},
     "output_type": "execute_result"
    }
   ],
   "source": [
    "val randomUDF = udf(() => java.lang.Math.random())\n",
    "data.withColumn(\"random\", randomUDF()).show()"
   ]
  },
  {
   "cell_type": "markdown",
   "id": "0ba4bfcf-a6de-4d4a-9eac-cc28c4f76d90",
   "metadata": {},
   "source": [
    "## UDF с одним аргументом"
   ]
  },
  {
   "cell_type": "code",
   "execution_count": 6,
   "id": "8f3347f9-5120-4cfd-9077-990643f32695",
   "metadata": {
    "scrolled": true
   },
   "outputs": [
    {
     "name": "stdout",
     "output_type": "stream",
     "text": [
      "+-------+------+----------+\n",
      "|   name|salary|new_salary|\n",
      "+-------+------+----------+\n",
      "|Michael|  3000|      3001|\n",
      "|   Andy|  4500|      4501|\n",
      "| Justin|  3500|      3501|\n",
      "|  Berta|  4000|      4001|\n",
      "+-------+------+----------+\n",
      "\n"
     ]
    },
    {
     "data": {
      "text/plain": [
       "\u001b[36mplusOneUDF\u001b[39m: \u001b[32mexpressions\u001b[39m.\u001b[32mUserDefinedFunction\u001b[39m = \u001b[33mSparkUserDefinedFunction\u001b[39m(\n",
       "  ammonite.$sess.cmd6$Helper$$Lambda$5095/0x00000008019a8040@79b24a23,\n",
       "  IntegerType,\n",
       "  \u001b[33mList\u001b[39m(\n",
       "    \u001b[33mSome\u001b[39m(\n",
       "      \u001b[33mExpressionEncoder\u001b[39m(\n",
       "        \u001b[33mBoundReference\u001b[39m(\u001b[32m0\u001b[39m, IntegerType, \u001b[32mfalse\u001b[39m),\n",
       "        \u001b[33mAssertNotNull\u001b[39m(\n",
       "          \u001b[33mUpCast\u001b[39m(\n",
       "            \u001b[33mGetColumnByOrdinal\u001b[39m(\u001b[32m0\u001b[39m, IntegerType),\n",
       "            IntegerType,\n",
       "            \u001b[33mList\u001b[39m(\u001b[32m\"- root class: \\\"int\\\"\"\u001b[39m)\n",
       "          ),\n",
       "          \u001b[33mList\u001b[39m(\u001b[32m\"- root class: \\\"int\\\"\"\u001b[39m)\n",
       "        ),\n",
       "        Int\n",
       "      )\n",
       "    )\n",
       "  ),\n",
       "  \u001b[33mSome\u001b[39m(\n",
       "    \u001b[33mExpressionEncoder\u001b[39m(\n",
       "      \u001b[33mBoundReference\u001b[39m(\u001b[32m0\u001b[39m, IntegerType, \u001b[32mfalse\u001b[39m),\n",
       "      \u001b[33mAssertNotNull\u001b[39m(\n",
       "        \u001b[33mUpCast\u001b[39m(\n",
       "          \u001b[33mGetColumnByOrdinal\u001b[39m(\u001b[32m0\u001b[39m, IntegerType),\n",
       "          IntegerType,\n",
       "          \u001b[33mList\u001b[39m(\u001b[32m\"- root class: \\\"int\\\"\"\u001b[39m)\n",
       "        ),\n",
       "        \u001b[33mList\u001b[39m(\u001b[32m\"- root class: \\\"int\\\"\"\u001b[39m)\n",
       "      ),\n",
       "      Int\n",
       "    )\n",
       "  ),\n",
       "  \u001b[32mNone\u001b[39m,\n",
       "  \u001b[32mfalse\u001b[39m,\n",
       "  \u001b[32mtrue\u001b[39m\n",
       ")"
      ]
     },
     "execution_count": 6,
     "metadata": {},
     "output_type": "execute_result"
    }
   ],
   "source": [
    "val plusOneUDF = udf((x: Int) => x + 1)\n",
    "data.select($\"name\", $\"salary\", plusOneUDF($\"salary\").as(\"new_salary\")).show()"
   ]
  },
  {
   "cell_type": "markdown",
   "id": "c9ebb13a-bb1b-45f9-a44a-a542a88961bb",
   "metadata": {},
   "source": [
    "## UDF с двумя аргументами"
   ]
  },
  {
   "cell_type": "code",
   "execution_count": 7,
   "id": "2c9316b8-b44d-44fb-a827-d89bacce28ea",
   "metadata": {
    "scrolled": true
   },
   "outputs": [
    {
     "data": {
      "text/plain": [
       "\u001b[36mstrLenPlusUDF\u001b[39m: \u001b[32mexpressions\u001b[39m.\u001b[32mUserDefinedFunction\u001b[39m = \u001b[33mSparkUserDefinedFunction\u001b[39m(\n",
       "  ammonite.$sess.cmd7$Helper$$Lambda$5135/0x00000008019c6840@5ea2c689,\n",
       "  IntegerType,\n",
       "  \u001b[33mList\u001b[39m(\n",
       "    \u001b[33mSome\u001b[39m(\n",
       "      \u001b[33mExpressionEncoder\u001b[39m(\n",
       "        \u001b[33mStaticInvoke\u001b[39m(\n",
       "          class org.apache.spark.unsafe.types.UTF8String,\n",
       "          StringType,\n",
       "          \u001b[32m\"fromString\"\u001b[39m,\n",
       "          \u001b[33mList\u001b[39m(\u001b[33mBoundReference\u001b[39m(\u001b[32m0\u001b[39m, \u001b[33mObjectType\u001b[39m(class java.lang.String), \u001b[32mtrue\u001b[39m)),\n",
       "          \u001b[33mList\u001b[39m(),\n",
       "          \u001b[32mtrue\u001b[39m,\n",
       "          \u001b[32mfalse\u001b[39m,\n",
       "          \u001b[32mtrue\u001b[39m\n",
       "        ),\n",
       "        \u001b[33mInvoke\u001b[39m(\n",
       "          \u001b[33mUpCast\u001b[39m(\n",
       "            \u001b[33mGetColumnByOrdinal\u001b[39m(\u001b[32m0\u001b[39m, StringType),\n",
       "            StringType,\n",
       "            \u001b[33mList\u001b[39m(\u001b[32m\"- root class: \\\"java.lang.String\\\"\"\u001b[39m)\n",
       "          ),\n",
       "          \u001b[32m\"toString\"\u001b[39m,\n",
       "          \u001b[33mObjectType\u001b[39m(class java.lang.String),\n",
       "          \u001b[33mList\u001b[39m(),\n",
       "          \u001b[33mList\u001b[39m(),\n",
       "          \u001b[32mtrue\u001b[39m,\n",
       "          \u001b[32mfalse\u001b[39m,\n",
       "          \u001b[32mtrue\u001b[39m\n",
       "        ),\n",
       "        java.lang.String\n",
       "      )\n",
       "    ),\n",
       "    \u001b[33mSome\u001b[39m(\n",
       "      \u001b[33mExpressionEncoder\u001b[39m(\n",
       "        \u001b[33mBoundReference\u001b[39m(\u001b[32m0\u001b[39m, IntegerType, \u001b[32mfalse\u001b[39m),\n",
       "        \u001b[33mAssertNotNull\u001b[39m(\n",
       "          \u001b[33mUpCast\u001b[39m(\n",
       "            \u001b[33mGetColumnByOrdinal\u001b[39m(\u001b[32m0\u001b[39m, IntegerType),\n",
       "..."
      ]
     },
     "execution_count": 7,
     "metadata": {},
     "output_type": "execute_result"
    }
   ],
   "source": [
    "val strLenPlusUDF = udf((x: String, y: Int) => x.length + y)"
   ]
  },
  {
   "cell_type": "code",
   "execution_count": 8,
   "id": "3493c23c-5a4f-40b3-9264-435bcafc4df5",
   "metadata": {},
   "outputs": [
    {
     "name": "stdout",
     "output_type": "stream",
     "text": [
      "+---+-------+------------+-------------+\n",
      "| id|   name|length(name)|nameLenPlusId|\n",
      "+---+-------+------------+-------------+\n",
      "|  1|Michael|           7|            8|\n",
      "|  2|   Andy|           4|            6|\n",
      "|  3| Justin|           6|            9|\n",
      "|  4|  Berta|           5|            9|\n",
      "+---+-------+------------+-------------+\n",
      "\n"
     ]
    }
   ],
   "source": [
    "data.select($\"id\", $\"name\", length($\"name\"), strLenPlusUDF($\"name\",  $\"id\").as(\"nameLenPlusId\")).show()"
   ]
  },
  {
   "cell_type": "code",
   "execution_count": 9,
   "id": "c0caa6db-9c61-4e0f-a5b0-810661c2b231",
   "metadata": {},
   "outputs": [
    {
     "name": "stdout",
     "output_type": "stream",
     "text": [
      "+-------+------------+------------+\n",
      "|   name|length(name)|nameLenPlus1|\n",
      "+-------+------------+------------+\n",
      "|Michael|           7|           8|\n",
      "|   Andy|           4|           5|\n",
      "| Justin|           6|           7|\n",
      "|  Berta|           5|           6|\n",
      "+-------+------------+------------+\n",
      "\n"
     ]
    }
   ],
   "source": [
    "data.select($\"name\", length($\"name\"), strLenPlusUDF($\"name\", lit(1)).as(\"nameLenPlus1\")).show()"
   ]
  },
  {
   "cell_type": "markdown",
   "id": "0651e927-b79f-4af5-b0c0-166d5c1a5534",
   "metadata": {},
   "source": [
    "## UDF для выражений WHERE"
   ]
  },
  {
   "cell_type": "code",
   "execution_count": 10,
   "id": "d8fc7576-d828-4982-8b2f-1be3dc32564a",
   "metadata": {
    "scrolled": true
   },
   "outputs": [
    {
     "name": "stdout",
     "output_type": "stream",
     "text": [
      "+---+------+------+\n",
      "| id|  name|salary|\n",
      "+---+------+------+\n",
      "|  3|Justin|  3500|\n",
      "|  4| Berta|  4000|\n",
      "+---+------+------+\n",
      "\n"
     ]
    },
    {
     "data": {
      "text/plain": [
       "\u001b[36moneArgFilterUDF\u001b[39m: \u001b[32mexpressions\u001b[39m.\u001b[32mUserDefinedFunction\u001b[39m = \u001b[33mSparkUserDefinedFunction\u001b[39m(\n",
       "  ammonite.$sess.cmd10$Helper$$Lambda$5164/0x00000008019d2840@3f4cf745,\n",
       "  BooleanType,\n",
       "  \u001b[33mList\u001b[39m(\n",
       "    \u001b[33mSome\u001b[39m(\n",
       "      \u001b[33mExpressionEncoder\u001b[39m(\n",
       "        \u001b[33mBoundReference\u001b[39m(\u001b[32m0\u001b[39m, IntegerType, \u001b[32mfalse\u001b[39m),\n",
       "        \u001b[33mAssertNotNull\u001b[39m(\n",
       "          \u001b[33mUpCast\u001b[39m(\n",
       "            \u001b[33mGetColumnByOrdinal\u001b[39m(\u001b[32m0\u001b[39m, IntegerType),\n",
       "            IntegerType,\n",
       "            \u001b[33mList\u001b[39m(\u001b[32m\"- root class: \\\"int\\\"\"\u001b[39m)\n",
       "          ),\n",
       "          \u001b[33mList\u001b[39m(\u001b[32m\"- root class: \\\"int\\\"\"\u001b[39m)\n",
       "        ),\n",
       "        Int\n",
       "      )\n",
       "    )\n",
       "  ),\n",
       "  \u001b[33mSome\u001b[39m(\n",
       "    \u001b[33mExpressionEncoder\u001b[39m(\n",
       "      \u001b[33mBoundReference\u001b[39m(\u001b[32m0\u001b[39m, BooleanType, \u001b[32mfalse\u001b[39m),\n",
       "      \u001b[33mAssertNotNull\u001b[39m(\n",
       "        \u001b[33mUpCast\u001b[39m(\n",
       "          \u001b[33mGetColumnByOrdinal\u001b[39m(\u001b[32m0\u001b[39m, BooleanType),\n",
       "          BooleanType,\n",
       "          \u001b[33mList\u001b[39m(\u001b[32m\"- root class: \\\"boolean\\\"\"\u001b[39m)\n",
       "        ),\n",
       "        \u001b[33mList\u001b[39m(\u001b[32m\"- root class: \\\"boolean\\\"\"\u001b[39m)\n",
       "      ),\n",
       "      Boolean\n",
       "    )\n",
       "  ),\n",
       "  \u001b[32mNone\u001b[39m,\n",
       "  \u001b[32mfalse\u001b[39m,\n",
       "  \u001b[32mtrue\u001b[39m\n",
       ")"
      ]
     },
     "execution_count": 10,
     "metadata": {},
     "output_type": "execute_result"
    }
   ],
   "source": [
    "val oneArgFilterUDF= udf((n: Int) => { n > 2 })\n",
    "data.where(oneArgFilterUDF($\"id\")).show()"
   ]
  },
  {
   "cell_type": "markdown",
   "id": "caa1e38a",
   "metadata": {},
   "source": [
    "## Spark SQL UDF"
   ]
  },
  {
   "cell_type": "code",
   "execution_count": 11,
   "id": "fb121085",
   "metadata": {},
   "outputs": [
    {
     "data": {
      "text/plain": [
       "\u001b[36mcubed\u001b[39m: \u001b[32mLong\u001b[39m => \u001b[32mLong\u001b[39m = ammonite.$sess.cmd11$Helper$$Lambda$5179/0x00000008019dd840@7f57ec72"
      ]
     },
     "execution_count": 11,
     "metadata": {},
     "output_type": "execute_result"
    }
   ],
   "source": [
    "val cubed = (s: Long) => {s * s * s}"
   ]
  },
  {
   "cell_type": "code",
   "execution_count": 12,
   "id": "84ee0f15",
   "metadata": {},
   "outputs": [
    {
     "data": {
      "text/plain": [
       "\u001b[36mres12\u001b[39m: \u001b[32mexpressions\u001b[39m.\u001b[32mUserDefinedFunction\u001b[39m = \u001b[33mSparkUserDefinedFunction\u001b[39m(\n",
       "  ammonite.$sess.cmd11$Helper$$Lambda$5179/0x00000008019dd840@7f57ec72,\n",
       "  LongType,\n",
       "  \u001b[33mList\u001b[39m(\n",
       "    \u001b[33mSome\u001b[39m(\n",
       "      \u001b[33mExpressionEncoder\u001b[39m(\n",
       "        \u001b[33mBoundReference\u001b[39m(\u001b[32m0\u001b[39m, LongType, \u001b[32mfalse\u001b[39m),\n",
       "        \u001b[33mAssertNotNull\u001b[39m(\n",
       "          \u001b[33mUpCast\u001b[39m(\n",
       "            \u001b[33mGetColumnByOrdinal\u001b[39m(\u001b[32m0\u001b[39m, LongType),\n",
       "            LongType,\n",
       "            \u001b[33mList\u001b[39m(\u001b[32m\"- root class: \\\"long\\\"\"\u001b[39m)\n",
       "          ),\n",
       "          \u001b[33mList\u001b[39m(\u001b[32m\"- root class: \\\"long\\\"\"\u001b[39m)\n",
       "        ),\n",
       "        Long\n",
       "      )\n",
       "    )\n",
       "  ),\n",
       "  \u001b[33mSome\u001b[39m(\n",
       "    \u001b[33mExpressionEncoder\u001b[39m(\n",
       "      \u001b[33mBoundReference\u001b[39m(\u001b[32m0\u001b[39m, LongType, \u001b[32mfalse\u001b[39m),\n",
       "      \u001b[33mAssertNotNull\u001b[39m(\n",
       "        \u001b[33mUpCast\u001b[39m(\n",
       "          \u001b[33mGetColumnByOrdinal\u001b[39m(\u001b[32m0\u001b[39m, LongType),\n",
       "          LongType,\n",
       "          \u001b[33mList\u001b[39m(\u001b[32m\"- root class: \\\"long\\\"\"\u001b[39m)\n",
       "        ),\n",
       "        \u001b[33mList\u001b[39m(\u001b[32m\"- root class: \\\"long\\\"\"\u001b[39m)\n",
       "      ),\n",
       "      Long\n",
       "    )\n",
       "  ),\n",
       "  \u001b[33mSome\u001b[39m(\u001b[32m\"cubed\"\u001b[39m),\n",
       "  \u001b[32mfalse\u001b[39m,\n",
       "  \u001b[32mtrue\u001b[39m\n",
       ")"
      ]
     },
     "execution_count": 12,
     "metadata": {},
     "output_type": "execute_result"
    }
   ],
   "source": [
    "spark.udf.register(\"cubed\", cubed)"
   ]
  },
  {
   "cell_type": "code",
   "execution_count": 13,
   "id": "b608e7c3",
   "metadata": {},
   "outputs": [],
   "source": [
    "spark.range(1, 10).createOrReplaceTempView(\"udf_test\")"
   ]
  },
  {
   "cell_type": "code",
   "execution_count": 14,
   "id": "165daee5",
   "metadata": {},
   "outputs": [
    {
     "name": "stdout",
     "output_type": "stream",
     "text": [
      "+---+--------+\n",
      "| id|id_cubed|\n",
      "+---+--------+\n",
      "|  1|       1|\n",
      "|  2|       8|\n",
      "|  3|      27|\n",
      "|  4|      64|\n",
      "|  5|     125|\n",
      "|  6|     216|\n",
      "|  7|     343|\n",
      "|  8|     512|\n",
      "|  9|     729|\n",
      "+---+--------+\n",
      "\n"
     ]
    }
   ],
   "source": [
    "spark.sql(\"SELECT id, cubed(id) AS id_cubed FROM udf_test\").show()"
   ]
  },
  {
   "cell_type": "markdown",
   "id": "a3524c6b-8d04-4ee9-9853-74a0696501f1",
   "metadata": {},
   "source": [
    "## Производительность"
   ]
  },
  {
   "cell_type": "code",
   "execution_count": 15,
   "id": "9290680b-d1b5-4fda-b04b-dea35e008c58",
   "metadata": {
    "scrolled": true
   },
   "outputs": [
    {
     "data": {
      "text/plain": [
       "\u001b[36mtrain\u001b[39m: \u001b[32mDataset\u001b[39m[\u001b[32mRow\u001b[39m] = [row_id: int, timestamp: bigint ... 8 more fields]"
      ]
     },
     "execution_count": 15,
     "metadata": {},
     "output_type": "execute_result"
    }
   ],
   "source": [
    "val train = spark.read.option(\"inferSchema\", true).option(\"header\", true).csv(\"data/train.csv\").cache()"
   ]
  },
  {
   "cell_type": "code",
   "execution_count": 16,
   "id": "fb8c2645-2f68-4f7b-b130-e14f83c7ef89",
   "metadata": {
    "scrolled": true
   },
   "outputs": [
    {
     "name": "stderr",
     "output_type": "stream",
     "text": [
      "25/03/13 16:41:16 WARN MemoryStore: Not enough space to cache rdd_17_41 in memory! (computed 26.3 MiB so far)\n",
      "25/03/13 16:41:16 WARN BlockManager: Persisting block rdd_17_41 to disk instead.\n",
      "25/03/13 16:41:16 WARN MemoryStore: Not enough space to cache rdd_17_40 in memory! (computed 41.1 MiB so far)\n",
      "25/03/13 16:41:16 WARN BlockManager: Persisting block rdd_17_40 to disk instead.\n",
      "25/03/13 16:41:24 WARN MemoryStore: Not enough space to cache rdd_17_40 in memory! (computed 41.1 MiB so far)\n",
      "25/03/13 16:41:32 WARN MemoryStore: Not enough space to cache rdd_17_41 in memory! (computed 26.3 MiB so far)\n"
     ]
    },
    {
     "name": "stdout",
     "output_type": "stream",
     "text": [
      "+------+---------+-------+----------+---------------+-----------------+-----------+------------------+---------------------------+------------------------------+\n",
      "|row_id|timestamp|user_id|content_id|content_type_id|task_container_id|user_answer|answered_correctly|prior_question_elapsed_time|prior_question_had_explanation|\n",
      "+------+---------+-------+----------+---------------+-----------------+-----------+------------------+---------------------------+------------------------------+\n",
      "|     0|        0|    115|      5692|              0|                1|          3|                 1|                       NULL|                          NULL|\n",
      "|     1|    56943|    115|      5716|              0|                2|          2|                 1|                    37000.0|                         false|\n",
      "|     2|   118363|    115|       128|              0|                0|          0|                 1|                    55000.0|                         false|\n",
      "|     3|   131167|    115|      7860|              0|                3|          0|                 1|                    19000.0|                         false|\n",
      "|     4|   137965|    115|      7922|              0|                4|          1|                 1|                    11000.0|                         false|\n",
      "+------+---------+-------+----------+---------------+-----------------+-----------+------------------+---------------------------+------------------------------+\n",
      "only showing top 5 rows\n",
      "\n"
     ]
    }
   ],
   "source": [
    "train.show(5)"
   ]
  },
  {
   "cell_type": "code",
   "execution_count": 17,
   "id": "25169bf7-24b2-4a53-ac21-ce4bf3327b7a",
   "metadata": {
    "scrolled": true
   },
   "outputs": [
    {
     "name": "stderr",
     "output_type": "stream",
     "text": [
      "25/03/13 16:41:40 WARN MemoryStore: Not enough space to cache rdd_17_41 in memory! (computed 7.7 MiB so far)\n",
      "25/03/13 16:41:41 WARN MemoryStore: Not enough space to cache rdd_17_40 in memory! (computed 26.3 MiB so far)\n"
     ]
    },
    {
     "data": {
      "text/plain": [
       "\u001b[36mres17\u001b[39m: \u001b[32mLong\u001b[39m = \u001b[32m101230332L\u001b[39m"
      ]
     },
     "execution_count": 17,
     "metadata": {},
     "output_type": "execute_result"
    }
   ],
   "source": [
    "train.count()"
   ]
  },
  {
   "cell_type": "code",
   "execution_count": 18,
   "id": "742a0020-a9b2-4223-8136-f16b5e22cd81",
   "metadata": {
    "scrolled": true
   },
   "outputs": [
    {
     "data": {
      "text/plain": [
       "\u001b[36mto_month\u001b[39m: \u001b[32mexpressions\u001b[39m.\u001b[32mUserDefinedFunction\u001b[39m = \u001b[33mSparkUserDefinedFunction\u001b[39m(\n",
       "  ammonite.$sess.cmd18$Helper$$Lambda$7635/0x0000000801dfc840@4b420a16,\n",
       "  LongType,\n",
       "  \u001b[33mList\u001b[39m(\n",
       "    \u001b[33mSome\u001b[39m(\n",
       "      \u001b[33mExpressionEncoder\u001b[39m(\n",
       "        \u001b[33mBoundReference\u001b[39m(\u001b[32m0\u001b[39m, LongType, \u001b[32mfalse\u001b[39m),\n",
       "        \u001b[33mAssertNotNull\u001b[39m(\n",
       "          \u001b[33mUpCast\u001b[39m(\n",
       "            \u001b[33mGetColumnByOrdinal\u001b[39m(\u001b[32m0\u001b[39m, LongType),\n",
       "            LongType,\n",
       "            \u001b[33mList\u001b[39m(\u001b[32m\"- root class: \\\"long\\\"\"\u001b[39m)\n",
       "          ),\n",
       "          \u001b[33mList\u001b[39m(\u001b[32m\"- root class: \\\"long\\\"\"\u001b[39m)\n",
       "        ),\n",
       "        Long\n",
       "      )\n",
       "    )\n",
       "  ),\n",
       "  \u001b[33mSome\u001b[39m(\n",
       "    \u001b[33mExpressionEncoder\u001b[39m(\n",
       "      \u001b[33mBoundReference\u001b[39m(\u001b[32m0\u001b[39m, LongType, \u001b[32mfalse\u001b[39m),\n",
       "      \u001b[33mAssertNotNull\u001b[39m(\n",
       "        \u001b[33mUpCast\u001b[39m(\n",
       "          \u001b[33mGetColumnByOrdinal\u001b[39m(\u001b[32m0\u001b[39m, LongType),\n",
       "          LongType,\n",
       "          \u001b[33mList\u001b[39m(\u001b[32m\"- root class: \\\"long\\\"\"\u001b[39m)\n",
       "        ),\n",
       "        \u001b[33mList\u001b[39m(\u001b[32m\"- root class: \\\"long\\\"\"\u001b[39m)\n",
       "      ),\n",
       "      Long\n",
       "    )\n",
       "  ),\n",
       "  \u001b[32mNone\u001b[39m,\n",
       "  \u001b[32mfalse\u001b[39m,\n",
       "  \u001b[32mtrue\u001b[39m\n",
       ")"
      ]
     },
     "execution_count": 18,
     "metadata": {},
     "output_type": "execute_result"
    }
   ],
   "source": [
    "val to_month = udf((ts_ms: Long) => ts_ms / 31536000000L * 12) // 1 year is 31536000000 ms"
   ]
  },
  {
   "cell_type": "code",
   "execution_count": null,
   "id": "0fe20a87-4c38-4410-b193-74ef3e128514",
   "metadata": {
    "scrolled": true
   },
   "outputs": [
    {
     "name": "stderr",
     "output_type": "stream",
     "text": [
      "25/03/13 16:41:51 WARN MemoryStore: Not enough space to cache rdd_17_8 in memory! (computed 15.1 MiB so far)\n",
      "25/03/13 16:41:55 WARN MemoryStore: Not enough space to cache rdd_17_20 in memory! (computed 41.2 MiB so far)\n"
     ]
    },
    {
     "name": "stdout",
     "output_type": "stream",
     "text": [
      "+----------+------------------+\n",
      "|content_id|        avg(month)|\n",
      "+----------+------------------+\n",
      "|      4519|0.4460020768431983|\n",
      "|      4818|0.5068813295247988|\n",
      "|      5518|0.6536082474226804|\n",
      "|     13285| 2.725925925925926|\n",
      "|     12027|2.2696177062374248|\n",
      "|       833|0.7334516865330967|\n",
      "|      9427| 0.652203699474766|\n",
      "|       496|0.6270834569072898|\n",
      "|      5156|0.5233297393761386|\n",
      "|      6336|0.6127002288329519|\n",
      "|      2866|0.9061162849232318|\n",
      "|      1959|1.0353606789250354|\n",
      "|      7982|0.6966064981949458|\n",
      "|     23336| 0.564428149870339|\n",
      "|       148| 0.602506180206291|\n",
      "|      1342|0.7789912124752375|\n",
      "|      1088|0.7588338484671289|\n",
      "|      1580|0.7253544345532477|\n",
      "|       471|0.8491909385113269|\n",
      "|      2122|0.8964813870474247|\n",
      "+----------+------------------+\n",
      "only showing top 20 rows\n",
      "\n"
     ]
    },
    {
     "data": {
      "text/plain": [
       "\u001b[36mt1\u001b[39m: \u001b[32mLong\u001b[39m = \u001b[32m23040926265458L\u001b[39m\n",
       "\u001b[36mduration1\u001b[39m: \u001b[32mDouble\u001b[39m = \u001b[32m19.477131833\u001b[39m"
      ]
     },
     "execution_count": 19,
     "metadata": {},
     "output_type": "execute_result"
    }
   ],
   "source": [
    "val t1 = System.nanoTime\n",
    "\n",
    "train\n",
    "    .select($\"content_id\", to_month($\"timestamp\").as(\"month\"))\n",
    "    .groupBy(\"content_id\")\n",
    "    .mean(\"month\")\n",
    "    .show(10)\n",
    "\n",
    "val duration1 = (System.nanoTime - t1) / 1e9d"
   ]
  },
  {
   "cell_type": "code",
   "execution_count": null,
   "id": "b13f97bf-147b-4a4a-848e-dbfadf92c153",
   "metadata": {
    "scrolled": true
   },
   "outputs": [
    {
     "name": "stderr",
     "output_type": "stream",
     "text": [
      "25/03/13 16:42:07 WARN MemoryStore: Not enough space to cache rdd_17_10 in memory! (computed 26.3 MiB so far)\n",
      "25/03/13 16:42:08 WARN MemoryStore: Not enough space to cache rdd_17_13 in memory! (computed 26.2 MiB so far)\n",
      "25/03/13 16:42:09 WARN MemoryStore: Not enough space to cache rdd_17_14 in memory! (computed 26.3 MiB so far)\n",
      "25/03/13 16:42:09 WARN MemoryStore: Not enough space to cache rdd_17_15 in memory! (computed 41.1 MiB so far)\n",
      "25/03/13 16:42:12 WARN MemoryStore: Not enough space to cache rdd_17_20 in memory! (computed 41.2 MiB so far)\n"
     ]
    },
    {
     "name": "stdout",
     "output_type": "stream",
     "text": [
      "+----------+------------------+\n",
      "|content_id|        avg(month)|\n",
      "+----------+------------------+\n",
      "|      4519|2.2218736221822732|\n",
      "|      4818|2.3372134952525556|\n",
      "|      5518| 3.029691836679273|\n",
      "|     13285| 5.964229418381344|\n",
      "|     12027|5.9773868010962765|\n",
      "|       833|  3.25216382900438|\n",
      "|      9427| 3.108803192689145|\n",
      "|       496|2.9023706505861853|\n",
      "|      5156|2.6012427887203198|\n",
      "|      6336|2.7640873674707946|\n",
      "|      2866|3.8766860651262456|\n",
      "|      1959|3.8461177532795423|\n",
      "|      7982|3.0568602514634398|\n",
      "|     23336| 2.773484159471813|\n",
      "|       148| 2.579153999078694|\n",
      "|      1342|  3.16126199595755|\n",
      "|      1088| 3.545207472523368|\n",
      "|      1580|3.2343945900405027|\n",
      "|       471| 3.760585843300882|\n",
      "|      2122|3.7522109521798543|\n",
      "+----------+------------------+\n",
      "only showing top 20 rows\n",
      "\n"
     ]
    },
    {
     "data": {
      "text/plain": [
       "\u001b[36mt2\u001b[39m: \u001b[32mLong\u001b[39m = \u001b[32m23061690404833L\u001b[39m\n",
       "\u001b[36mduration2\u001b[39m: \u001b[32mDouble\u001b[39m = \u001b[32m16.6974715\u001b[39m"
      ]
     },
     "execution_count": 20,
     "metadata": {},
     "output_type": "execute_result"
    }
   ],
   "source": [
    "val t2 = System.nanoTime\n",
    "\n",
    "train\n",
    "    .select($\"content_id\", ($\"timestamp\" / 31536000000L * 12).alias(\"month\"))\n",
    "    .groupBy(\"content_id\")\n",
    "    .mean(\"month\")\n",
    "    .show(10)\n",
    "\n",
    "val duration2 = (System.nanoTime - t2) / 1e9d"
   ]
  },
  {
   "cell_type": "code",
   "execution_count": 21,
   "id": "ce3269aa-f38a-40ee-bfc0-ddb0568f0666",
   "metadata": {},
   "outputs": [
    {
     "name": "stdout",
     "output_type": "stream",
     "text": [
      "duration1 = 19.477131833\n",
      "duration2 = 16.6974715\n",
      "duration1 - duration2 = 2.7796603330000025\n"
     ]
    }
   ],
   "source": [
    "println(s\"duration1 = $duration1\\nduration2 = $duration2\\nduration1 - duration2 = ${duration1 - duration2}\")"
   ]
  },
  {
   "cell_type": "code",
   "execution_count": null,
   "id": "aa08eaee-31e2-40fa-a210-e18beca2524f",
   "metadata": {},
   "outputs": [],
   "source": []
  }
 ],
 "metadata": {
  "kernelspec": {
   "display_name": "Scala (2.12)",
   "language": "scala",
   "name": "scala212"
  },
  "language_info": {
   "codemirror_mode": "text/x-scala",
   "file_extension": ".sc",
   "mimetype": "text/x-scala",
   "name": "scala",
   "nbconvert_exporter": "script",
   "version": "2.12.18"
  }
 },
 "nbformat": 4,
 "nbformat_minor": 5
}
