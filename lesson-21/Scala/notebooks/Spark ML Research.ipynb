{
 "cells": [
  {
   "cell_type": "code",
   "execution_count": 1,
   "id": "63bfe280-c8bf-4663-96a4-e10fdbe9bafc",
   "metadata": {},
   "outputs": [
    {
     "data": {
      "text/plain": [
       "\u001b[32mimport \u001b[39m\u001b[36m$ivy.$\u001b[39m\n",
       "\u001b[32mimport \u001b[39m\u001b[36m$ivy.$\u001b[39m\n",
       "\u001b[32mimport \u001b[39m\u001b[36morg.apache.log4j.{Level, Logger}\u001b[39m"
      ]
     },
     "execution_count": 1,
     "metadata": {},
     "output_type": "execute_result"
    }
   ],
   "source": [
    "import $ivy.`org.apache.spark::spark-sql:3.5.5`\n",
    "import $ivy.`org.apache.spark::spark-mllib:3.5.5`\n",
    "import org.apache.log4j.{Level, Logger}\n",
    "Logger.getLogger(\"org\").setLevel(Level.WARN)"
   ]
  },
  {
   "cell_type": "markdown",
   "id": "6ec5d212-af1b-45dc-bcea-ca300d438fab",
   "metadata": {
    "tags": []
   },
   "source": [
    "# Spark ML для задачи оттока\n",
    "\n",
    "Источник данных: [Kaggle](https://www.kaggle.com/sakshigoyal7/credit-card-customers)\n",
    "\n",
    "Описания полей:\n",
    "\n",
    "Название | Описание\n",
    ":--------|:--------\n",
    "CLIENTNUM | Client number. Unique identifier for the customer holding the account\n",
    "Attrition_Flag | Internal event (customer activity) variable\n",
    "Customer_Age | Demographic variable - Customer's Age in Years\n",
    "Gender | Demographic variable - M=Male, F=Female\n",
    "Dependent_count | Demographic variable - Number of dependents\n",
    "Education_Level | Demographic variable - Educational Qualification of the account holder (example: high school, college graduate, etc.)\n",
    "Marital_Status | Demographic variable - Married, Single, Divorced, Unknown\n",
    "Income_Category | Demographic variable - Annual Income Category of the account holder (< $40K, $40K - 60K, $60K - $80K, $80K-$120K, > $120K, Unknown)\n",
    "Card_Category | Product Variable - Type of Card (Blue, Silver, Gold, Platinum)\n",
    "Months_on_book | Period of relationship with bank"
   ]
  },
  {
   "cell_type": "markdown",
   "id": "4cfc2bfd-ed4a-4d7c-b2c9-63478befc32b",
   "metadata": {},
   "source": [
    "## Загрузка и знакомство с данными"
   ]
  },
  {
   "cell_type": "code",
   "execution_count": 2,
   "id": "54466b70-dcbf-429f-b06f-01543d67683d",
   "metadata": {
    "scrolled": true
   },
   "outputs": [
    {
     "name": "stderr",
     "output_type": "stream",
     "text": [
      "Using Spark's default log4j profile: org/apache/spark/log4j2-defaults.properties\n",
      "25/03/13 14:35:54 INFO SparkContext: Running Spark version 3.5.5\n",
      "25/03/13 14:35:54 INFO SparkContext: OS info Mac OS X, 15.3.2, aarch64\n",
      "25/03/13 14:35:54 INFO SparkContext: Java version 11.0.26\n",
      "25/03/13 14:35:54 WARN NativeCodeLoader: Unable to load native-hadoop library for your platform... using builtin-java classes where applicable\n",
      "Setting Spark log level to \"WARN\".\n"
     ]
    },
    {
     "data": {
      "text/plain": [
       "\u001b[32mimport \u001b[39m\u001b[36morg.apache.spark.sql._\u001b[39m\n",
       "\u001b[32mimport \u001b[39m\u001b[36morg.apache.spark.sql.functions._\u001b[39m\n",
       "\u001b[36mspark\u001b[39m: \u001b[32mSparkSession\u001b[39m = org.apache.spark.sql.SparkSession@107d3a1f\n",
       "\u001b[32mimport \u001b[39m\u001b[36mspark.implicits._\u001b[39m"
      ]
     },
     "execution_count": 2,
     "metadata": {},
     "output_type": "execute_result"
    }
   ],
   "source": [
    "import org.apache.spark.sql._\n",
    "import org.apache.spark.sql.functions._\n",
    "\n",
    "val spark = SparkSession\n",
    "                .builder()\n",
    "                .master(\"local[*]\")\n",
    "                .appName(\"Spark ML Research\")\n",
    "                .config(\"spark.sql.debug.maxToStringFields\", 1024)\n",
    "                .config(\"spark.log.level\", \"WARN\")\n",
    "                .getOrCreate()\n",
    "\n",
    "import spark.implicits._"
   ]
  },
  {
   "cell_type": "code",
   "execution_count": 3,
   "id": "493f5843-0589-4179-8382-88f4d060d003",
   "metadata": {},
   "outputs": [
    {
     "name": "stdout",
     "output_type": "stream",
     "text": [
      "+-----------------+------------+------+---------------+---------------+--------------+---------------+-------------+--------------+------------------------+----------------------+---------------------+------------+-------------------+---------------+--------------------+---------------+--------------+-------------------+---------------------+\n",
      "|Attrition_Flag   |Customer_Age|Gender|Dependent_count|Education_Level|Marital_Status|Income_Category|Card_Category|Months_on_book|Total_Relationship_Count|Months_Inactive_12_mon|Contacts_Count_12_mon|Credit_Limit|Total_Revolving_Bal|Avg_Open_To_Buy|Total_Amt_Chng_Q4_Q1|Total_Trans_Amt|Total_Trans_Ct|Total_Ct_Chng_Q4_Q1|Avg_Utilization_Ratio|\n",
      "+-----------------+------------+------+---------------+---------------+--------------+---------------+-------------+--------------+------------------------+----------------------+---------------------+------------+-------------------+---------------+--------------------+---------------+--------------+-------------------+---------------------+\n",
      "|Existing Customer|45          |M     |3              |High School    |Married       |$60K - $80K    |Blue         |39            |5                       |1                     |3                    |12691.0     |777                |11914.0        |1.335               |1144           |42            |1.625              |0.061                |\n",
      "|Existing Customer|49          |F     |5              |Graduate       |Single        |Less than $40K |Blue         |44            |6                       |1                     |2                    |8256.0      |864                |7392.0         |1.541               |1291           |33            |3.714              |0.105                |\n",
      "|Existing Customer|51          |M     |3              |Graduate       |Married       |$80K - $120K   |Blue         |36            |4                       |1                     |0                    |3418.0      |0                  |3418.0         |2.594               |1887           |20            |2.333              |0.0                  |\n",
      "|Existing Customer|40          |F     |4              |High School    |Unknown       |Less than $40K |Blue         |34            |3                       |4                     |1                    |3313.0      |2517               |796.0          |1.405               |1171           |20            |2.333              |0.76                 |\n",
      "|Existing Customer|40          |M     |3              |Uneducated     |Married       |$60K - $80K    |Blue         |21            |5                       |1                     |0                    |4716.0      |0                  |4716.0         |2.175               |816            |28            |2.5                |0.0                  |\n",
      "+-----------------+------------+------+---------------+---------------+--------------+---------------+-------------+--------------+------------------------+----------------------+---------------------+------------+-------------------+---------------+--------------------+---------------+--------------+-------------------+---------------------+\n",
      "only showing top 5 rows\n",
      "\n"
     ]
    },
    {
     "data": {
      "text/plain": [
       "\u001b[36mraw\u001b[39m: \u001b[32mDataFrame\u001b[39m = [CLIENTNUM: int, Attrition_Flag: string ... 21 more fields]\n",
       "\u001b[36mcolumns\u001b[39m: \u001b[32mArray\u001b[39m[\u001b[32mString\u001b[39m] = \u001b[33mArray\u001b[39m(\n",
       "  \u001b[32m\"CLIENTNUM\"\u001b[39m,\n",
       "  \u001b[32m\"Attrition_Flag\"\u001b[39m,\n",
       "  \u001b[32m\"Customer_Age\"\u001b[39m,\n",
       "  \u001b[32m\"Gender\"\u001b[39m,\n",
       "  \u001b[32m\"Dependent_count\"\u001b[39m,\n",
       "  \u001b[32m\"Education_Level\"\u001b[39m,\n",
       "  \u001b[32m\"Marital_Status\"\u001b[39m,\n",
       "  \u001b[32m\"Income_Category\"\u001b[39m,\n",
       "  \u001b[32m\"Card_Category\"\u001b[39m,\n",
       "  \u001b[32m\"Months_on_book\"\u001b[39m,\n",
       "  \u001b[32m\"Total_Relationship_Count\"\u001b[39m,\n",
       "  \u001b[32m\"Months_Inactive_12_mon\"\u001b[39m,\n",
       "  \u001b[32m\"Contacts_Count_12_mon\"\u001b[39m,\n",
       "  \u001b[32m\"Credit_Limit\"\u001b[39m,\n",
       "  \u001b[32m\"Total_Revolving_Bal\"\u001b[39m,\n",
       "  \u001b[32m\"Avg_Open_To_Buy\"\u001b[39m,\n",
       "  \u001b[32m\"Total_Amt_Chng_Q4_Q1\"\u001b[39m,\n",
       "  \u001b[32m\"Total_Trans_Amt\"\u001b[39m,\n",
       "  \u001b[32m\"Total_Trans_Ct\"\u001b[39m,\n",
       "  \u001b[32m\"Total_Ct_Chng_Q4_Q1\"\u001b[39m,\n",
       "  \u001b[32m\"Avg_Utilization_Ratio\"\u001b[39m,\n",
       "  \u001b[32m\"Naive_Bayes_Classifier_Attrition_Flag_Card_Category_Contacts_Count_12_mon_Dependent_count_Education_Level_Months_Inactive_12_mon_1\"\u001b[39m,\n",
       "  \u001b[32m\"Naive_Bayes_Classifier_Attrition_Flag_Card_Category_Contacts_Count_12_mon_Dependent_count_Education_Level_Months_Inactive_12_mon_2\"\u001b[39m\n",
       ")\n",
       "\u001b[36mcolumnsLen\u001b[39m: \u001b[32mInt\u001b[39m = \u001b[32m23\u001b[39m\n",
       "\u001b[36mcolsToDrop\u001b[39m: \u001b[32mcollection\u001b[39m.\u001b[32mimmutable\u001b[39m.\u001b[32mIndexedSeq\u001b[39m[\u001b[32mString\u001b[39m] = \u001b[33mVector\u001b[39m(\n",
       "  \u001b[32m\"Naive_Bayes_Classifier_Attrition_Flag_Card_Category_Contacts_Count_12_mon_Dependent_count_Education_Level_Months_Inactive_12_mon_1\"\u001b[39m,\n",
       "  \u001b[32m\"Naive_Bayes_Classifier_Attrition_Flag_Card_Category_Contacts_Count_12_mon_Dependent_count_Education_Level_Months_Inactive_12_mon_2\"\u001b[39m,\n",
       "  \u001b[32m\"CLIENTNUM\"\u001b[39m\n",
       ")\n",
       "\u001b[36mdf\u001b[39m: \u001b[32mDataFrame\u001b[39m = [Attrition_Flag: string, Customer_Age: int ... 18 more fields]"
      ]
     },
     "execution_count": 3,
     "metadata": {},
     "output_type": "execute_result"
    }
   ],
   "source": [
    "val raw = spark\n",
    "           .read\n",
    "           .option(\"header\", \"true\")\n",
    "           .option(\"inferSchema\", \"true\")\n",
    "           .csv(s\"../../data/BankChurners.csv\")\n",
    "\n",
    "val columns: Array[String] = raw.columns\n",
    "val columnsLen: Int = columns.length\n",
    "val colsToDrop = (columns.slice(columnsLen - 2, columnsLen) :+ columns.head).toIndexedSeq\n",
    "\n",
    "val df = raw.drop(colsToDrop: _*)\n",
    "\n",
    "df.show(5, truncate = false)"
   ]
  },
  {
   "cell_type": "markdown",
   "id": "6d883c00-fab0-420a-be91-6ce4e377bd11",
   "metadata": {},
   "source": [
    "### Определяем типы колонок"
   ]
  },
  {
   "cell_type": "code",
   "execution_count": 4,
   "id": "281cf4db-3639-4230-b45c-97b63d1d405f",
   "metadata": {},
   "outputs": [
    {
     "name": "stdout",
     "output_type": "stream",
     "text": [
      "root\n",
      " |-- Attrition_Flag: string (nullable = true)\n",
      " |-- Customer_Age: integer (nullable = true)\n",
      " |-- Gender: string (nullable = true)\n",
      " |-- Dependent_count: integer (nullable = true)\n",
      " |-- Education_Level: string (nullable = true)\n",
      " |-- Marital_Status: string (nullable = true)\n",
      " |-- Income_Category: string (nullable = true)\n",
      " |-- Card_Category: string (nullable = true)\n",
      " |-- Months_on_book: integer (nullable = true)\n",
      " |-- Total_Relationship_Count: integer (nullable = true)\n",
      " |-- Months_Inactive_12_mon: integer (nullable = true)\n",
      " |-- Contacts_Count_12_mon: integer (nullable = true)\n",
      " |-- Credit_Limit: double (nullable = true)\n",
      " |-- Total_Revolving_Bal: integer (nullable = true)\n",
      " |-- Avg_Open_To_Buy: double (nullable = true)\n",
      " |-- Total_Amt_Chng_Q4_Q1: double (nullable = true)\n",
      " |-- Total_Trans_Amt: integer (nullable = true)\n",
      " |-- Total_Trans_Ct: integer (nullable = true)\n",
      " |-- Total_Ct_Chng_Q4_Q1: double (nullable = true)\n",
      " |-- Avg_Utilization_Ratio: double (nullable = true)\n",
      "\n"
     ]
    }
   ],
   "source": [
    "df.printSchema()"
   ]
  },
  {
   "cell_type": "code",
   "execution_count": 5,
   "id": "7436af9f-ef50-4879-9336-fce90bac61b6",
   "metadata": {},
   "outputs": [
    {
     "name": "stdout",
     "output_type": "stream",
     "text": [
      "           Attrition_Flag\tStringType\n",
      "             Customer_Age\tIntegerType\n",
      "                   Gender\tStringType\n",
      "          Dependent_count\tIntegerType\n",
      "          Education_Level\tStringType\n",
      "           Marital_Status\tStringType\n",
      "          Income_Category\tStringType\n",
      "            Card_Category\tStringType\n",
      "           Months_on_book\tIntegerType\n",
      " Total_Relationship_Count\tIntegerType\n",
      "   Months_Inactive_12_mon\tIntegerType\n",
      "    Contacts_Count_12_mon\tIntegerType\n",
      "             Credit_Limit\tDoubleType\n",
      "      Total_Revolving_Bal\tIntegerType\n",
      "          Avg_Open_To_Buy\tDoubleType\n",
      "     Total_Amt_Chng_Q4_Q1\tDoubleType\n",
      "          Total_Trans_Amt\tIntegerType\n",
      "           Total_Trans_Ct\tIntegerType\n",
      "      Total_Ct_Chng_Q4_Q1\tDoubleType\n",
      "    Avg_Utilization_Ratio\tDoubleType\n"
     ]
    }
   ],
   "source": [
    "df.dtypes.foreach { dt => println(f\"${dt._1}%25s\\t${dt._2}\") }"
   ]
  },
  {
   "cell_type": "code",
   "execution_count": 6,
   "id": "14e720fd",
   "metadata": {},
   "outputs": [
    {
     "name": "stdout",
     "output_type": "stream",
     "text": [
      "(StringType,6)\n",
      "(IntegerType,9)\n",
      "(DoubleType,5)\n"
     ]
    }
   ],
   "source": [
    "df.dtypes.groupBy(_._2).mapValues(_.length).foreach(println)"
   ]
  },
  {
   "cell_type": "markdown",
   "id": "c4079d1a-14a4-4f96-be9c-a1c1d2ff94c7",
   "metadata": {},
   "source": [
    "### Проверим числовые колонки"
   ]
  },
  {
   "cell_type": "code",
   "execution_count": null,
   "id": "48cbe4c6-5363-42cc-9faa-b5e86024393e",
   "metadata": {},
   "outputs": [
    {
     "name": "stdout",
     "output_type": "stream",
     "text": [
      "+-------+-----------------+------------------+------------------+------------------------+----------------------+---------------------+-----------------+-------------------+-----------------+--------------------+-----------------+-----------------+-------------------+---------------------+\n",
      "|summary|     Customer_Age|   Dependent_count|    Months_on_book|Total_Relationship_Count|Months_Inactive_12_mon|Contacts_Count_12_mon|     Credit_Limit|Total_Revolving_Bal|  Avg_Open_To_Buy|Total_Amt_Chng_Q4_Q1|  Total_Trans_Amt|   Total_Trans_Ct|Total_Ct_Chng_Q4_Q1|Avg_Utilization_Ratio|\n",
      "+-------+-----------------+------------------+------------------+------------------------+----------------------+---------------------+-----------------+-------------------+-----------------+--------------------+-----------------+-----------------+-------------------+---------------------+\n",
      "|  count|            10127|             10127|             10127|                   10127|                 10127|                10127|            10127|              10127|            10127|               10127|            10127|            10127|              10127|                10127|\n",
      "|   mean|46.32596030413745|2.3462032191172115|35.928409203120374|      3.8125802310654686|    2.3411671768539546|   2.4553174681544387|8631.953698034848| 1162.8140614199665|7469.139636614887|  0.7599406536980376|4404.086303939963|64.85869457884863| 0.7122223758269962|   0.2748935518909845|\n",
      "| stddev|8.016814032549046|  1.29890834890379|  7.98641633087208|        1.55440786533883|    1.0106223994182844|   1.1062251426359249|9088.776650223148|  814.9873352357533|9090.685323679114|  0.2192067692307027|3397.129253557085|23.47257044923301|0.23808609133294137|  0.27569146925238736|\n",
      "|    min|               26|                 0|                13|                       1|                     0|                    0|           1438.3|                  0|              3.0|                 0.0|              510|               10|                0.0|                  0.0|\n",
      "|    25%|               41|                 1|                31|                       3|                     2|                    2|           2555.0|                357|           1322.0|               0.631|             2155|               45|              0.581|                0.022|\n",
      "|    50%|               46|                 2|                36|                       4|                     2|                    2|           4549.0|               1276|           3472.0|               0.736|             3899|               67|              0.702|                0.175|\n",
      "|    75%|               52|                 3|                40|                       5|                     3|                    3|          11067.0|               1784|           9857.0|               0.859|             4741|               81|              0.818|                0.503|\n",
      "|    max|               73|                 5|                56|                       6|                     6|                    6|          34516.0|               2517|          34516.0|               3.397|            18484|              139|              3.714|                0.999|\n",
      "+-------+-----------------+------------------+------------------+------------------------+----------------------+---------------------+-----------------+-------------------+-----------------+--------------------+-----------------+-----------------+-------------------+---------------------+\n",
      "\n"
     ]
    },
    {
     "data": {
      "text/plain": [
       "\u001b[36mnumericColumns\u001b[39m: \u001b[32mArray\u001b[39m[\u001b[32mString\u001b[39m] = \u001b[33mArray\u001b[39m(\n",
       "  \u001b[32m\"Customer_Age\"\u001b[39m,\n",
       "  \u001b[32m\"Dependent_count\"\u001b[39m,\n",
       "  \u001b[32m\"Months_on_book\"\u001b[39m,\n",
       "  \u001b[32m\"Total_Relationship_Count\"\u001b[39m,\n",
       "  \u001b[32m\"Months_Inactive_12_mon\"\u001b[39m,\n",
       "  \u001b[32m\"Contacts_Count_12_mon\"\u001b[39m,\n",
       "  \u001b[32m\"Credit_Limit\"\u001b[39m,\n",
       "  \u001b[32m\"Total_Revolving_Bal\"\u001b[39m,\n",
       "  \u001b[32m\"Avg_Open_To_Buy\"\u001b[39m,\n",
       "  \u001b[32m\"Total_Amt_Chng_Q4_Q1\"\u001b[39m,\n",
       "  \u001b[32m\"Total_Trans_Amt\"\u001b[39m,\n",
       "  \u001b[32m\"Total_Trans_Ct\"\u001b[39m,\n",
       "  \u001b[32m\"Total_Ct_Chng_Q4_Q1\"\u001b[39m,\n",
       "  \u001b[32m\"Avg_Utilization_Ratio\"\u001b[39m\n",
       ")"
      ]
     },
     "execution_count": 7,
     "metadata": {},
     "output_type": "execute_result"
    }
   ],
   "source": [
    "val numericColumns = df\n",
    "                      .dtypes\n",
    "                      .filter(p => p._2.equals(\"DoubleType\") || p._2.equals(\"IntegerType\"))\n",
    "                      .map(_._1)\n",
    "\n",
    "df.select(numericColumns.map(col).toIndexedSeq: _*).summary().show()"
   ]
  },
  {
   "cell_type": "code",
   "execution_count": 58,
   "id": "a27f07aa-e2ba-42cb-a664-69bbdca2dc2a",
   "metadata": {},
   "outputs": [
    {
     "data": {
      "text/html": [
       "\n",
       "      <script type=\"text/javascript\">\n",
       "        require.config({\n",
       "  paths: {\n",
       "    d3: 'https://cdnjs.cloudflare.com/ajax/libs/d3/3.5.17/d3.min',\n",
       "    plotly: 'https://cdn.plot.ly/plotly-1.52.2.min',\n",
       "    jquery: 'https://code.jquery.com/jquery-3.3.1.min'\n",
       "  },\n",
       "\n",
       "  shim: {\n",
       "    plotly: {\n",
       "      deps: ['d3', 'jquery'],\n",
       "      exports: 'plotly'\n",
       "    }\n",
       "  }\n",
       "});\n",
       "        \n",
       "\n",
       "        require(['plotly'], function(Plotly) {\n",
       "          window.Plotly = Plotly;\n",
       "        });\n",
       "      </script>\n",
       "    "
      ]
     },
     "metadata": {},
     "output_type": "display_data"
    },
    {
     "data": {
      "application/vnd.plotly.v1+json": {
       "config": {},
       "data": [
        {
         "type": "scatter",
         "x": [
          26,
          27,
          28,
          29,
          30,
          31,
          32,
          33,
          34,
          35,
          36,
          37,
          38,
          39,
          40,
          41,
          42,
          43,
          44,
          45,
          46,
          47,
          48,
          49,
          50,
          51,
          52,
          53,
          54,
          55,
          56,
          57,
          58,
          59,
          60,
          61,
          62,
          63,
          64,
          65,
          66,
          67,
          68,
          70,
          73
         ],
         "y": [
          78,
          32,
          29,
          56,
          70,
          91,
          106,
          127,
          146,
          184,
          221,
          260,
          303,
          333,
          361,
          379,
          426,
          473,
          500,
          486,
          490,
          479,
          472,
          495,
          452,
          398,
          376,
          387,
          307,
          279,
          262,
          223,
          157,
          157,
          127,
          93,
          93,
          65,
          43,
          101,
          2,
          4,
          2,
          1,
          1
         ]
        }
       ],
       "layout": {}
      },
      "text/html": [
       "<div class=\"chart\" id=\"plot-57206a3c-d83a-4a49-bb91-5f2b7c9b6e79\"></div>\n",
       "<script>require(['plotly'], function(Plotly) {\n",
       "  (function () {\n",
       "  var data0 = {\"x\":[26.0,27.0,28.0,29.0,30.0,31.0,32.0,33.0,34.0,35.0,36.0,37.0,38.0,39.0,40.0,41.0,42.0,43.0,44.0,45.0,46.0,47.0,48.0,49.0,50.0,51.0,52.0,53.0,54.0,55.0,56.0,57.0,58.0,59.0,60.0,61.0,62.0,63.0,64.0,65.0,66.0,67.0,68.0,70.0,73.0],\"y\":[78.0,32.0,29.0,56.0,70.0,91.0,106.0,127.0,146.0,184.0,221.0,260.0,303.0,333.0,361.0,379.0,426.0,473.0,500.0,486.0,490.0,479.0,472.0,495.0,452.0,398.0,376.0,387.0,307.0,279.0,262.0,223.0,157.0,157.0,127.0,93.0,93.0,65.0,43.0,101.0,2.0,4.0,2.0,1.0,1.0],\"type\":\"scatter\"};\n",
       "\n",
       "  var data = [data0];\n",
       "  var layout = {};\n",
       " var config = {};\n",
       "\n",
       "  Plotly.plot('plot-57206a3c-d83a-4a49-bb91-5f2b7c9b6e79', data, layout, config);\n",
       "})();\n",
       "});\n",
       "      </script>\n",
       "           "
      ]
     },
     "metadata": {},
     "output_type": "display_data"
    },
    {
     "data": {
      "text/plain": [
       "\u001b[32mimport \u001b[39m\u001b[36m$ivy.$\u001b[39m\n",
       "\u001b[32mimport \u001b[39m\u001b[36mplotly._\u001b[39m\n",
       "\u001b[32mimport \u001b[39m\u001b[36mplotly.element._\u001b[39m\n",
       "\u001b[32mimport \u001b[39m\u001b[36mplotly.layout._\u001b[39m\n",
       "\u001b[32mimport \u001b[39m\u001b[36mplotly.Almond._\u001b[39m\n",
       "\u001b[36mages\u001b[39m: \u001b[32mArray\u001b[39m[(\u001b[32mInt\u001b[39m, \u001b[32mLong\u001b[39m)] = \u001b[33mArray\u001b[39m(\n",
       "  (\u001b[32m26\u001b[39m, \u001b[32m78L\u001b[39m),\n",
       "  (\u001b[32m27\u001b[39m, \u001b[32m32L\u001b[39m),\n",
       "  (\u001b[32m28\u001b[39m, \u001b[32m29L\u001b[39m),\n",
       "  (\u001b[32m29\u001b[39m, \u001b[32m56L\u001b[39m),\n",
       "  (\u001b[32m30\u001b[39m, \u001b[32m70L\u001b[39m),\n",
       "  (\u001b[32m31\u001b[39m, \u001b[32m91L\u001b[39m),\n",
       "  (\u001b[32m32\u001b[39m, \u001b[32m106L\u001b[39m),\n",
       "  (\u001b[32m33\u001b[39m, \u001b[32m127L\u001b[39m),\n",
       "  (\u001b[32m34\u001b[39m, \u001b[32m146L\u001b[39m),\n",
       "  (\u001b[32m35\u001b[39m, \u001b[32m184L\u001b[39m),\n",
       "  (\u001b[32m36\u001b[39m, \u001b[32m221L\u001b[39m),\n",
       "  (\u001b[32m37\u001b[39m, \u001b[32m260L\u001b[39m),\n",
       "  (\u001b[32m38\u001b[39m, \u001b[32m303L\u001b[39m),\n",
       "  (\u001b[32m39\u001b[39m, \u001b[32m333L\u001b[39m),\n",
       "  (\u001b[32m40\u001b[39m, \u001b[32m361L\u001b[39m),\n",
       "  (\u001b[32m41\u001b[39m, \u001b[32m379L\u001b[39m),\n",
       "  (\u001b[32m42\u001b[39m, \u001b[32m426L\u001b[39m),\n",
       "  (\u001b[32m43\u001b[39m, \u001b[32m473L\u001b[39m),\n",
       "  (\u001b[32m44\u001b[39m, \u001b[32m500L\u001b[39m),\n",
       "  (\u001b[32m45\u001b[39m, \u001b[32m486L\u001b[39m),\n",
       "  (\u001b[32m46\u001b[39m, \u001b[32m490L\u001b[39m),\n",
       "  (\u001b[32m47\u001b[39m, \u001b[32m479L\u001b[39m),\n",
       "  (\u001b[32m48\u001b[39m, \u001b[32m472L\u001b[39m),\n",
       "  (\u001b[32m49\u001b[39m, \u001b[32m495L\u001b[39m),\n",
       "  (\u001b[32m50\u001b[39m, \u001b[32m452L\u001b[39m),\n",
       "  (\u001b[32m51\u001b[39m, \u001b[32m398L\u001b[39m),\n",
       "  (\u001b[32m52\u001b[39m, \u001b[32m376L\u001b[39m),\n",
       "  (\u001b[32m53\u001b[39m, \u001b[32m387L\u001b[39m),\n",
       "  (\u001b[32m54\u001b[39m, \u001b[32m307L\u001b[39m),\n",
       "  (\u001b[32m55\u001b[39m, \u001b[32m279L\u001b[39m),\n",
       "  (\u001b[32m56\u001b[39m, \u001b[32m262L\u001b[39m),\n",
       "  (\u001b[32m57\u001b[39m, \u001b[32m223L\u001b[39m),\n",
       "  (\u001b[32m58\u001b[39m, \u001b[32m157L\u001b[39m),\n",
       "  (\u001b[32m59\u001b[39m, \u001b[32m157L\u001b[39m),\n",
       "  (\u001b[32m60\u001b[39m, \u001b[32m127L\u001b[39m),\n",
       "  (\u001b[32m61\u001b[39m, \u001b[32m93L\u001b[39m),\n",
       "  (\u001b[32m62\u001b[39m, \u001b[32m93L\u001b[39m),\n",
       "  (\u001b[32m63\u001b[39m, \u001b[32m65L\u001b[39m),\n",
       "...\n",
       "\u001b[36mx\u001b[39m: \u001b[32mSeq\u001b[39m[\u001b[32mInt\u001b[39m] = \u001b[33mWrappedArray\u001b[39m(\n",
       "  \u001b[32m26\u001b[39m,\n",
       "  \u001b[32m27\u001b[39m,\n",
       "  \u001b[32m28\u001b[39m,\n",
       "  \u001b[32m29\u001b[39m,\n",
       "  \u001b[32m30\u001b[39m,\n",
       "  \u001b[32m31\u001b[39m,\n",
       "  \u001b[32m32\u001b[39m,\n",
       "  \u001b[32m33\u001b[39m,\n",
       "  \u001b[32m34\u001b[39m,\n",
       "  \u001b[32m35\u001b[39m,\n",
       "  \u001b[32m36\u001b[39m,\n",
       "  \u001b[32m37\u001b[39m,\n",
       "  \u001b[32m38\u001b[39m,\n",
       "  \u001b[32m39\u001b[39m,\n",
       "  \u001b[32m40\u001b[39m,\n",
       "  \u001b[32m41\u001b[39m,\n",
       "  \u001b[32m42\u001b[39m,\n",
       "  \u001b[32m43\u001b[39m,\n",
       "  \u001b[32m44\u001b[39m,\n",
       "  \u001b[32m45\u001b[39m,\n",
       "  \u001b[32m46\u001b[39m,\n",
       "  \u001b[32m47\u001b[39m,\n",
       "  \u001b[32m48\u001b[39m,\n",
       "  \u001b[32m49\u001b[39m,\n",
       "  \u001b[32m50\u001b[39m,\n",
       "  \u001b[32m51\u001b[39m,\n",
       "  \u001b[32m52\u001b[39m,\n",
       "  \u001b[32m53\u001b[39m,\n",
       "  \u001b[32m54\u001b[39m,\n",
       "  \u001b[32m55\u001b[39m,\n",
       "  \u001b[32m56\u001b[39m,\n",
       "  \u001b[32m57\u001b[39m,\n",
       "  \u001b[32m58\u001b[39m,\n",
       "  \u001b[32m59\u001b[39m,\n",
       "  \u001b[32m60\u001b[39m,\n",
       "  \u001b[32m61\u001b[39m,\n",
       "  \u001b[32m62\u001b[39m,\n",
       "  \u001b[32m63\u001b[39m,\n",
       "...\n",
       "\u001b[36my\u001b[39m: \u001b[32mSeq\u001b[39m[\u001b[32mLong\u001b[39m] = \u001b[33mWrappedArray\u001b[39m(\n",
       "  \u001b[32m78L\u001b[39m,\n",
       "  \u001b[32m32L\u001b[39m,\n",
       "  \u001b[32m29L\u001b[39m,\n",
       "  \u001b[32m56L\u001b[39m,\n",
       "  \u001b[32m70L\u001b[39m,\n",
       "  \u001b[32m91L\u001b[39m,\n",
       "  \u001b[32m106L\u001b[39m,\n",
       "  \u001b[32m127L\u001b[39m,\n",
       "  \u001b[32m146L\u001b[39m,\n",
       "  \u001b[32m184L\u001b[39m,\n",
       "  \u001b[32m221L\u001b[39m,\n",
       "  \u001b[32m260L\u001b[39m,\n",
       "  \u001b[32m303L\u001b[39m,\n",
       "  \u001b[32m333L\u001b[39m,\n",
       "  \u001b[32m361L\u001b[39m,\n",
       "  \u001b[32m379L\u001b[39m,\n",
       "  \u001b[32m426L\u001b[39m,\n",
       "  \u001b[32m473L\u001b[39m,\n",
       "  \u001b[32m500L\u001b[39m,\n",
       "  \u001b[32m486L\u001b[39m,\n",
       "  \u001b[32m490L\u001b[39m,\n",
       "  \u001b[32m479L\u001b[39m,\n",
       "  \u001b[32m472L\u001b[39m,\n",
       "  \u001b[32m495L\u001b[39m,\n",
       "  \u001b[32m452L\u001b[39m,\n",
       "  \u001b[32m398L\u001b[39m,\n",
       "  \u001b[32m376L\u001b[39m,\n",
       "  \u001b[32m387L\u001b[39m,\n",
       "  \u001b[32m307L\u001b[39m,\n",
       "  \u001b[32m279L\u001b[39m,\n",
       "  \u001b[32m262L\u001b[39m,\n",
       "  \u001b[32m223L\u001b[39m,\n",
       "  \u001b[32m157L\u001b[39m,\n",
       "  \u001b[32m157L\u001b[39m,\n",
       "  \u001b[32m127L\u001b[39m,\n",
       "  \u001b[32m93L\u001b[39m,\n",
       "  \u001b[32m93L\u001b[39m,\n",
       "  \u001b[32m65L\u001b[39m,\n",
       "...\n",
       "\u001b[36mres58_8\u001b[39m: \u001b[32mString\u001b[39m = \u001b[32m\"plot-57206a3c-d83a-4a49-bb91-5f2b7c9b6e79\"\u001b[39m"
      ]
     },
     "execution_count": 58,
     "metadata": {},
     "output_type": "execute_result"
    }
   ],
   "source": [
    "import $ivy.`org.plotly-scala::plotly-almond:0.8.1`\n",
    "\n",
    "import plotly._\n",
    "import plotly.element._\n",
    "import plotly.layout._\n",
    "import plotly.Almond._\n",
    "\n",
    "val ages = df\n",
    "            .groupBy($\"Customer_Age\")\n",
    "            .count()\n",
    "            .orderBy($\"Customer_Age\")\n",
    "            .collect()\n",
    "            .map(a => (a(0).asInstanceOf[Int], a(1).asInstanceOf[Long]))\n",
    "\n",
    "val x = ages.map(_._1).toSeq\n",
    "val y = ages.map(_._2).toSeq\n",
    "\n",
    "Scatter(x, y).plot()"
   ]
  },
  {
   "cell_type": "markdown",
   "id": "3656ee7d-5702-4ff2-9559-552b76e4c8fb",
   "metadata": {},
   "source": [
    "## Целевая колонка"
   ]
  },
  {
   "cell_type": "code",
   "execution_count": 9,
   "id": "9dcf283a-987d-4230-ac30-e4b351d296ac",
   "metadata": {},
   "outputs": [
    {
     "name": "stdout",
     "output_type": "stream",
     "text": [
      "+-----------------+------+\n",
      "|Attrition_Flag   |target|\n",
      "+-----------------+------+\n",
      "|Existing Customer|0     |\n",
      "|Existing Customer|0     |\n",
      "|Existing Customer|0     |\n",
      "|Existing Customer|0     |\n",
      "|Existing Customer|0     |\n",
      "+-----------------+------+\n",
      "only showing top 5 rows\n",
      "\n"
     ]
    },
    {
     "data": {
      "text/plain": [
       "\u001b[36mdft\u001b[39m: \u001b[32mDataFrame\u001b[39m = [Attrition_Flag: string, Customer_Age: int ... 19 more fields]"
      ]
     },
     "execution_count": 9,
     "metadata": {},
     "output_type": "execute_result"
    }
   ],
   "source": [
    "val dft = df.withColumn(\"target\", when($\"Attrition_Flag\" === \"Existing Customer\", 0).otherwise(1))\n",
    "\n",
    "dft.select(\"Attrition_Flag\", \"target\").show(5, truncate = false)"
   ]
  },
  {
   "cell_type": "markdown",
   "id": "9605d0dc-ab39-4aef-8644-f5d02b85e9f5",
   "metadata": {},
   "source": [
    "### Проверка сбалансированности данных"
   ]
  },
  {
   "cell_type": "code",
   "execution_count": 10,
   "id": "bfec4866-a238-42fc-8d67-2c171ddd79f0",
   "metadata": {},
   "outputs": [
    {
     "name": "stdout",
     "output_type": "stream",
     "text": [
      "+------+-----+\n",
      "|target|count|\n",
      "+------+-----+\n",
      "|     1| 1627|\n",
      "|     0| 8500|\n",
      "+------+-----+\n",
      "\n"
     ]
    }
   ],
   "source": [
    "dft.groupBy(\"target\").count().show()"
   ]
  },
  {
   "cell_type": "markdown",
   "id": "cca2f078-2b42-4487-aba0-7734572feb25",
   "metadata": {},
   "source": [
    "### Oversampling"
   ]
  },
  {
   "cell_type": "code",
   "execution_count": 11,
   "id": "45984f9d-97a0-49dd-9581-0648eaf6f8ae",
   "metadata": {},
   "outputs": [
    {
     "data": {
      "text/plain": [
       "\u001b[36mdf1\u001b[39m: \u001b[32mDataset\u001b[39m[\u001b[32mRow\u001b[39m] = [Attrition_Flag: string, Customer_Age: int ... 19 more fields]\n",
       "\u001b[36mdf0\u001b[39m: \u001b[32mDataset\u001b[39m[\u001b[32mRow\u001b[39m] = [Attrition_Flag: string, Customer_Age: int ... 19 more fields]\n",
       "\u001b[36mdf1count\u001b[39m: \u001b[32mLong\u001b[39m = \u001b[32m1627L\u001b[39m\n",
       "\u001b[36mdf0count\u001b[39m: \u001b[32mLong\u001b[39m = \u001b[32m8500L\u001b[39m\n",
       "\u001b[36mres11_4\u001b[39m: \u001b[32mLong\u001b[39m = \u001b[32m5L\u001b[39m"
      ]
     },
     "execution_count": 11,
     "metadata": {},
     "output_type": "execute_result"
    }
   ],
   "source": [
    "val df1 = dft.filter($\"target\" === 1)\n",
    "val df0 = dft.filter($\"target\" === 0)\n",
    "\n",
    "val df1count = df1.count()\n",
    "val df0count = df0.count()\n",
    "\n",
    "df0count / df1count"
   ]
  },
  {
   "cell_type": "code",
   "execution_count": 12,
   "id": "08ab6022-c05f-47a6-ae3e-8a0e6f77b3aa",
   "metadata": {},
   "outputs": [
    {
     "data": {
      "text/plain": [
       "\u001b[36mtimes\u001b[39m: \u001b[32mInt\u001b[39m = \u001b[32m5\u001b[39m"
      ]
     },
     "execution_count": 12,
     "metadata": {},
     "output_type": "execute_result"
    }
   ],
   "source": [
    "val times = (df0count / df1count).toInt"
   ]
  },
  {
   "cell_type": "markdown",
   "id": "0f521d3f",
   "metadata": {},
   "source": [
    "### Вариант 1"
   ]
  },
  {
   "cell_type": "code",
   "execution_count": 13,
   "id": "e88e9ecc-313d-4507-be9a-c93e253281d4",
   "metadata": {},
   "outputs": [
    {
     "name": "stdout",
     "output_type": "stream",
     "text": [
      "+-----------------+------------+------+---------------+---------------+--------------+---------------+-------------+--------------+------------------------+----------------------+---------------------+------------+-------------------+---------------+--------------------+---------------+--------------+-------------------+---------------------+------+\n",
      "|Attrition_Flag   |Customer_Age|Gender|Dependent_count|Education_Level|Marital_Status|Income_Category|Card_Category|Months_on_book|Total_Relationship_Count|Months_Inactive_12_mon|Contacts_Count_12_mon|Credit_Limit|Total_Revolving_Bal|Avg_Open_To_Buy|Total_Amt_Chng_Q4_Q1|Total_Trans_Amt|Total_Trans_Ct|Total_Ct_Chng_Q4_Q1|Avg_Utilization_Ratio|target|\n",
      "+-----------------+------------+------+---------------+---------------+--------------+---------------+-------------+--------------+------------------------+----------------------+---------------------+------------+-------------------+---------------+--------------------+---------------+--------------+-------------------+---------------------+------+\n",
      "|Attrited Customer|62          |F     |0              |Graduate       |Married       |Less than $40K |Blue         |49            |2                       |3                     |3                    |1438.3      |0                  |1438.3         |1.047               |692            |16            |0.6                |0.0                  |1     |\n",
      "|Attrited Customer|62          |F     |0              |Graduate       |Married       |Less than $40K |Blue         |49            |2                       |3                     |3                    |1438.3      |0                  |1438.3         |1.047               |692            |16            |0.6                |0.0                  |1     |\n",
      "|Attrited Customer|62          |F     |0              |Graduate       |Married       |Less than $40K |Blue         |49            |2                       |3                     |3                    |1438.3      |0                  |1438.3         |1.047               |692            |16            |0.6                |0.0                  |1     |\n",
      "|Attrited Customer|62          |F     |0              |Graduate       |Married       |Less than $40K |Blue         |49            |2                       |3                     |3                    |1438.3      |0                  |1438.3         |1.047               |692            |16            |0.6                |0.0                  |1     |\n",
      "|Attrited Customer|62          |F     |0              |Graduate       |Married       |Less than $40K |Blue         |49            |2                       |3                     |3                    |1438.3      |0                  |1438.3         |1.047               |692            |16            |0.6                |0.0                  |1     |\n",
      "|Attrited Customer|66          |F     |0              |Doctorate      |Married       |Unknown        |Blue         |56            |5                       |4                     |3                    |7882.0      |605                |7277.0         |1.052               |704            |16            |0.143              |0.077                |1     |\n",
      "|Attrited Customer|66          |F     |0              |Doctorate      |Married       |Unknown        |Blue         |56            |5                       |4                     |3                    |7882.0      |605                |7277.0         |1.052               |704            |16            |0.143              |0.077                |1     |\n",
      "|Attrited Customer|66          |F     |0              |Doctorate      |Married       |Unknown        |Blue         |56            |5                       |4                     |3                    |7882.0      |605                |7277.0         |1.052               |704            |16            |0.143              |0.077                |1     |\n",
      "|Attrited Customer|66          |F     |0              |Doctorate      |Married       |Unknown        |Blue         |56            |5                       |4                     |3                    |7882.0      |605                |7277.0         |1.052               |704            |16            |0.143              |0.077                |1     |\n",
      "|Attrited Customer|66          |F     |0              |Doctorate      |Married       |Unknown        |Blue         |56            |5                       |4                     |3                    |7882.0      |605                |7277.0         |1.052               |704            |16            |0.143              |0.077                |1     |\n",
      "+-----------------+------------+------+---------------+---------------+--------------+---------------+-------------+--------------+------------------------+----------------------+---------------------+------------+-------------------+---------------+--------------------+---------------+--------------+-------------------+---------------------+------+\n",
      "only showing top 10 rows\n",
      "\n"
     ]
    },
    {
     "data": {
      "text/plain": [
       "\u001b[36mdf1Over\u001b[39m: \u001b[32mDataFrame\u001b[39m = [Attrition_Flag: string, Customer_Age: int ... 19 more fields]"
      ]
     },
     "execution_count": 13,
     "metadata": {},
     "output_type": "execute_result"
    }
   ],
   "source": [
    "val df1Over = df1\n",
    "        .withColumn(\"dummy\", explode(lit((1 to times).toArray)))\n",
    "        .drop(\"dummy\")\n",
    "\n",
    "df1Over.show(10, truncate = false)"
   ]
  },
  {
   "cell_type": "markdown",
   "id": "17b26c05-c7ca-45ac-983a-bdf186b36ec2",
   "metadata": {},
   "source": [
    "### Вариант 2"
   ]
  },
  {
   "cell_type": "code",
   "execution_count": 14,
   "id": "d146e0b1-a1ec-4516-ac83-583a32f6631c",
   "metadata": {},
   "outputs": [
    {
     "data": {
      "text/plain": [
       "\u001b[36mdf1Over2\u001b[39m: \u001b[32mDataset\u001b[39m[\u001b[32mRow\u001b[39m] = [Attrition_Flag: string, Customer_Age: int ... 19 more fields]"
      ]
     },
     "execution_count": 14,
     "metadata": {},
     "output_type": "execute_result"
    }
   ],
   "source": [
    "val df1Over2 = (1 to times).toList.map(a => df1).reduce((x, y) => x.union(y))"
   ]
  },
  {
   "cell_type": "code",
   "execution_count": 15,
   "id": "f0f700b7",
   "metadata": {},
   "outputs": [
    {
     "name": "stdout",
     "output_type": "stream",
     "text": [
      "+-----------------+------------+------+---------------+---------------+--------------+---------------+-------------+--------------+------------------------+----------------------+---------------------+------------+-------------------+---------------+--------------------+---------------+--------------+-------------------+---------------------+------+\n",
      "|Attrition_Flag   |Customer_Age|Gender|Dependent_count|Education_Level|Marital_Status|Income_Category|Card_Category|Months_on_book|Total_Relationship_Count|Months_Inactive_12_mon|Contacts_Count_12_mon|Credit_Limit|Total_Revolving_Bal|Avg_Open_To_Buy|Total_Amt_Chng_Q4_Q1|Total_Trans_Amt|Total_Trans_Ct|Total_Ct_Chng_Q4_Q1|Avg_Utilization_Ratio|target|\n",
      "+-----------------+------------+------+---------------+---------------+--------------+---------------+-------------+--------------+------------------------+----------------------+---------------------+------------+-------------------+---------------+--------------------+---------------+--------------+-------------------+---------------------+------+\n",
      "|Attrited Customer|62          |F     |0              |Graduate       |Married       |Less than $40K |Blue         |49            |2                       |3                     |3                    |1438.3      |0                  |1438.3         |1.047               |692            |16            |0.6                |0.0                  |1     |\n",
      "|Attrited Customer|66          |F     |0              |Doctorate      |Married       |Unknown        |Blue         |56            |5                       |4                     |3                    |7882.0      |605                |7277.0         |1.052               |704            |16            |0.143              |0.077                |1     |\n",
      "|Attrited Customer|54          |F     |1              |Graduate       |Married       |Less than $40K |Blue         |40            |2                       |3                     |1                    |1438.3      |808                |630.3          |0.997               |705            |19            |0.9                |0.562                |1     |\n",
      "|Attrited Customer|56          |M     |2              |Graduate       |Married       |$120K +        |Blue         |36            |1                       |3                     |3                    |15769.0     |0                  |15769.0        |1.041               |602            |15            |0.364              |0.0                  |1     |\n",
      "|Attrited Customer|48          |M     |2              |Graduate       |Married       |$60K - $80K    |Silver       |35            |2                       |4                     |4                    |34516.0     |0                  |34516.0        |0.763               |691            |15            |0.5                |0.0                  |1     |\n",
      "|Attrited Customer|55          |F     |4              |Unknown        |Married       |$40K - $60K    |Blue         |45            |2                       |4                     |3                    |2158.0      |0                  |2158.0         |0.585               |615            |12            |0.714              |0.0                  |1     |\n",
      "|Attrited Customer|47          |M     |2              |Unknown        |Married       |$80K - $120K   |Blue         |37            |2                       |3                     |3                    |5449.0      |1628               |3821.0         |0.696               |836            |18            |0.385              |0.299                |1     |\n",
      "|Attrited Customer|53          |M     |2              |Graduate       |Married       |$80K - $120K   |Blue         |41            |3                       |3                     |2                    |11669.0     |2227               |9442.0         |0.622               |720            |23            |0.353              |0.191                |1     |\n",
      "|Attrited Customer|48          |F     |5              |High School    |Married       |Less than $40K |Blue         |38            |1                       |3                     |3                    |8025.0      |0                  |8025.0         |0.654               |673            |18            |0.8                |0.0                  |1     |\n",
      "|Attrited Customer|59          |M     |1              |College        |Single        |$60K - $80K    |Blue         |53            |2                       |3                     |3                    |14979.0     |0                  |14979.0        |0.71                |530            |10            |1.0                |0.0                  |1     |\n",
      "+-----------------+------------+------+---------------+---------------+--------------+---------------+-------------+--------------+------------------------+----------------------+---------------------+------------+-------------------+---------------+--------------------+---------------+--------------+-------------------+---------------------+------+\n",
      "only showing top 10 rows\n",
      "\n"
     ]
    }
   ],
   "source": [
    "df1Over2.show(10, truncate = false)"
   ]
  },
  {
   "cell_type": "code",
   "execution_count": 16,
   "id": "8a247778-8dbe-4b25-8622-27463d38c634",
   "metadata": {},
   "outputs": [
    {
     "name": "stdout",
     "output_type": "stream",
     "text": [
      "+--------------+------------+------+---------------+---------------+--------------+---------------+-------------+--------------+------------------------+----------------------+---------------------+------------+-------------------+---------------+--------------------+---------------+--------------+-------------------+---------------------+------+\n",
      "|Attrition_Flag|Customer_Age|Gender|Dependent_count|Education_Level|Marital_Status|Income_Category|Card_Category|Months_on_book|Total_Relationship_Count|Months_Inactive_12_mon|Contacts_Count_12_mon|Credit_Limit|Total_Revolving_Bal|Avg_Open_To_Buy|Total_Amt_Chng_Q4_Q1|Total_Trans_Amt|Total_Trans_Ct|Total_Ct_Chng_Q4_Q1|Avg_Utilization_Ratio|target|\n",
      "+--------------+------------+------+---------------+---------------+--------------+---------------+-------------+--------------+------------------------+----------------------+---------------------+------------+-------------------+---------------+--------------------+---------------+--------------+-------------------+---------------------+------+\n",
      "+--------------+------------+------+---------------+---------------+--------------+---------------+-------------+--------------+------------------------+----------------------+---------------------+------------+-------------------+---------------+--------------------+---------------+--------------+-------------------+---------------------+------+\n",
      "\n"
     ]
    }
   ],
   "source": [
    "df1Over.except(df1Over2).show"
   ]
  },
  {
   "cell_type": "markdown",
   "id": "a519c827-fd7c-4934-b4e8-0a828c6048bc",
   "metadata": {},
   "source": [
    "### Объединяем"
   ]
  },
  {
   "cell_type": "code",
   "execution_count": 17,
   "id": "ac613c32-0701-402a-9d10-89acba6b019c",
   "metadata": {},
   "outputs": [
    {
     "name": "stdout",
     "output_type": "stream",
     "text": [
      "+------+-----+\n",
      "|target|count|\n",
      "+------+-----+\n",
      "|     0| 8500|\n",
      "|     1| 8135|\n",
      "+------+-----+\n",
      "\n"
     ]
    },
    {
     "data": {
      "text/plain": [
       "\u001b[36mdata\u001b[39m: \u001b[32mDataset\u001b[39m[\u001b[32mRow\u001b[39m] = [Attrition_Flag: string, Customer_Age: int ... 19 more fields]"
      ]
     },
     "execution_count": 17,
     "metadata": {},
     "output_type": "execute_result"
    }
   ],
   "source": [
    "val data = df0.unionAll(df1Over)\n",
    "data.groupBy(\"target\").count().show()"
   ]
  },
  {
   "cell_type": "markdown",
   "id": "3e0acf7e-44f4-4a0b-890b-9a90e2636363",
   "metadata": {},
   "source": [
    "## Работа с признаками"
   ]
  },
  {
   "cell_type": "markdown",
   "id": "f890b7c0-9f40-4523-9116-06b095f643be",
   "metadata": {},
   "source": [
    "### Проверим корреляции числовых признаков"
   ]
  },
  {
   "cell_type": "code",
   "execution_count": 18,
   "id": "01465dc0-8cb1-46fc-b7b9-66f2bbd2a52e",
   "metadata": {},
   "outputs": [
    {
     "data": {
      "text/plain": [
       "\u001b[36mnumericColumnsPairs\u001b[39m: \u001b[32mArray\u001b[39m[(\u001b[32mString\u001b[39m, \u001b[32mString\u001b[39m)] = \u001b[33mArray\u001b[39m(\n",
       "  (\u001b[32m\"Customer_Age\"\u001b[39m, \u001b[32m\"Customer_Age\"\u001b[39m),\n",
       "  (\u001b[32m\"Customer_Age\"\u001b[39m, \u001b[32m\"Dependent_count\"\u001b[39m),\n",
       "  (\u001b[32m\"Customer_Age\"\u001b[39m, \u001b[32m\"Months_on_book\"\u001b[39m),\n",
       "  (\u001b[32m\"Customer_Age\"\u001b[39m, \u001b[32m\"Total_Relationship_Count\"\u001b[39m),\n",
       "  (\u001b[32m\"Customer_Age\"\u001b[39m, \u001b[32m\"Months_Inactive_12_mon\"\u001b[39m),\n",
       "  (\u001b[32m\"Customer_Age\"\u001b[39m, \u001b[32m\"Contacts_Count_12_mon\"\u001b[39m),\n",
       "  (\u001b[32m\"Customer_Age\"\u001b[39m, \u001b[32m\"Credit_Limit\"\u001b[39m),\n",
       "  (\u001b[32m\"Customer_Age\"\u001b[39m, \u001b[32m\"Total_Revolving_Bal\"\u001b[39m),\n",
       "  (\u001b[32m\"Customer_Age\"\u001b[39m, \u001b[32m\"Avg_Open_To_Buy\"\u001b[39m),\n",
       "  (\u001b[32m\"Customer_Age\"\u001b[39m, \u001b[32m\"Total_Amt_Chng_Q4_Q1\"\u001b[39m),\n",
       "  (\u001b[32m\"Customer_Age\"\u001b[39m, \u001b[32m\"Total_Trans_Amt\"\u001b[39m),\n",
       "  (\u001b[32m\"Customer_Age\"\u001b[39m, \u001b[32m\"Total_Trans_Ct\"\u001b[39m),\n",
       "  (\u001b[32m\"Customer_Age\"\u001b[39m, \u001b[32m\"Total_Ct_Chng_Q4_Q1\"\u001b[39m),\n",
       "  (\u001b[32m\"Customer_Age\"\u001b[39m, \u001b[32m\"Avg_Utilization_Ratio\"\u001b[39m),\n",
       "  (\u001b[32m\"Dependent_count\"\u001b[39m, \u001b[32m\"Customer_Age\"\u001b[39m),\n",
       "  (\u001b[32m\"Dependent_count\"\u001b[39m, \u001b[32m\"Dependent_count\"\u001b[39m),\n",
       "  (\u001b[32m\"Dependent_count\"\u001b[39m, \u001b[32m\"Months_on_book\"\u001b[39m),\n",
       "  (\u001b[32m\"Dependent_count\"\u001b[39m, \u001b[32m\"Total_Relationship_Count\"\u001b[39m),\n",
       "  (\u001b[32m\"Dependent_count\"\u001b[39m, \u001b[32m\"Months_Inactive_12_mon\"\u001b[39m),\n",
       "  (\u001b[32m\"Dependent_count\"\u001b[39m, \u001b[32m\"Contacts_Count_12_mon\"\u001b[39m),\n",
       "  (\u001b[32m\"Dependent_count\"\u001b[39m, \u001b[32m\"Credit_Limit\"\u001b[39m),\n",
       "  (\u001b[32m\"Dependent_count\"\u001b[39m, \u001b[32m\"Total_Revolving_Bal\"\u001b[39m),\n",
       "  (\u001b[32m\"Dependent_count\"\u001b[39m, \u001b[32m\"Avg_Open_To_Buy\"\u001b[39m),\n",
       "  (\u001b[32m\"Dependent_count\"\u001b[39m, \u001b[32m\"Total_Amt_Chng_Q4_Q1\"\u001b[39m),\n",
       "  (\u001b[32m\"Dependent_count\"\u001b[39m, \u001b[32m\"Total_Trans_Amt\"\u001b[39m),\n",
       "  (\u001b[32m\"Dependent_count\"\u001b[39m, \u001b[32m\"Total_Trans_Ct\"\u001b[39m),\n",
       "  (\u001b[32m\"Dependent_count\"\u001b[39m, \u001b[32m\"Total_Ct_Chng_Q4_Q1\"\u001b[39m),\n",
       "  (\u001b[32m\"Dependent_count\"\u001b[39m, \u001b[32m\"Avg_Utilization_Ratio\"\u001b[39m),\n",
       "  (\u001b[32m\"Months_on_book\"\u001b[39m, \u001b[32m\"Customer_Age\"\u001b[39m),\n",
       "  (\u001b[32m\"Months_on_book\"\u001b[39m, \u001b[32m\"Dependent_count\"\u001b[39m),\n",
       "  (\u001b[32m\"Months_on_book\"\u001b[39m, \u001b[32m\"Months_on_book\"\u001b[39m),\n",
       "  (\u001b[32m\"Months_on_book\"\u001b[39m, \u001b[32m\"Total_Relationship_Count\"\u001b[39m),\n",
       "  (\u001b[32m\"Months_on_book\"\u001b[39m, \u001b[32m\"Months_Inactive_12_mon\"\u001b[39m),\n",
       "  (\u001b[32m\"Months_on_book\"\u001b[39m, \u001b[32m\"Contacts_Count_12_mon\"\u001b[39m),\n",
       "  (\u001b[32m\"Months_on_book\"\u001b[39m, \u001b[32m\"Credit_Limit\"\u001b[39m),\n",
       "  (\u001b[32m\"Months_on_book\"\u001b[39m, \u001b[32m\"Total_Revolving_Bal\"\u001b[39m),\n",
       "  (\u001b[32m\"Months_on_book\"\u001b[39m, \u001b[32m\"Avg_Open_To_Buy\"\u001b[39m),\n",
       "  (\u001b[32m\"Months_on_book\"\u001b[39m, \u001b[32m\"Total_Amt_Chng_Q4_Q1\"\u001b[39m),\n",
       "..."
      ]
     },
     "execution_count": 18,
     "metadata": {},
     "output_type": "execute_result"
    }
   ],
   "source": [
    "val numericColumnsPairs = numericColumns.flatMap(f1 => numericColumns.map(f2 => (f1, f2)))"
   ]
  },
  {
   "cell_type": "code",
   "execution_count": 19,
   "id": "df6eedb2-830a-4d91-a749-f81cd732e70f",
   "metadata": {},
   "outputs": [
    {
     "data": {
      "text/plain": [
       "\u001b[36mres19\u001b[39m: \u001b[32mArray\u001b[39m[(\u001b[32mString\u001b[39m, \u001b[32mString\u001b[39m)] = \u001b[33mArray\u001b[39m(\n",
       "  (\u001b[32m\"Customer_Age\"\u001b[39m, \u001b[32m\"Customer_Age\"\u001b[39m),\n",
       "  (\u001b[32m\"Customer_Age\"\u001b[39m, \u001b[32m\"Dependent_count\"\u001b[39m),\n",
       "  (\u001b[32m\"Customer_Age\"\u001b[39m, \u001b[32m\"Months_on_book\"\u001b[39m),\n",
       "  (\u001b[32m\"Customer_Age\"\u001b[39m, \u001b[32m\"Total_Relationship_Count\"\u001b[39m),\n",
       "  (\u001b[32m\"Customer_Age\"\u001b[39m, \u001b[32m\"Months_Inactive_12_mon\"\u001b[39m),\n",
       "  (\u001b[32m\"Customer_Age\"\u001b[39m, \u001b[32m\"Contacts_Count_12_mon\"\u001b[39m),\n",
       "  (\u001b[32m\"Customer_Age\"\u001b[39m, \u001b[32m\"Credit_Limit\"\u001b[39m),\n",
       "  (\u001b[32m\"Customer_Age\"\u001b[39m, \u001b[32m\"Total_Revolving_Bal\"\u001b[39m),\n",
       "  (\u001b[32m\"Customer_Age\"\u001b[39m, \u001b[32m\"Avg_Open_To_Buy\"\u001b[39m),\n",
       "  (\u001b[32m\"Customer_Age\"\u001b[39m, \u001b[32m\"Total_Amt_Chng_Q4_Q1\"\u001b[39m),\n",
       "  (\u001b[32m\"Customer_Age\"\u001b[39m, \u001b[32m\"Total_Trans_Amt\"\u001b[39m),\n",
       "  (\u001b[32m\"Customer_Age\"\u001b[39m, \u001b[32m\"Total_Trans_Ct\"\u001b[39m),\n",
       "  (\u001b[32m\"Customer_Age\"\u001b[39m, \u001b[32m\"Total_Ct_Chng_Q4_Q1\"\u001b[39m),\n",
       "  (\u001b[32m\"Customer_Age\"\u001b[39m, \u001b[32m\"Avg_Utilization_Ratio\"\u001b[39m),\n",
       "  (\u001b[32m\"Dependent_count\"\u001b[39m, \u001b[32m\"Customer_Age\"\u001b[39m),\n",
       "  (\u001b[32m\"Dependent_count\"\u001b[39m, \u001b[32m\"Dependent_count\"\u001b[39m),\n",
       "  (\u001b[32m\"Dependent_count\"\u001b[39m, \u001b[32m\"Months_on_book\"\u001b[39m),\n",
       "  (\u001b[32m\"Dependent_count\"\u001b[39m, \u001b[32m\"Total_Relationship_Count\"\u001b[39m),\n",
       "  (\u001b[32m\"Dependent_count\"\u001b[39m, \u001b[32m\"Months_Inactive_12_mon\"\u001b[39m),\n",
       "  (\u001b[32m\"Dependent_count\"\u001b[39m, \u001b[32m\"Contacts_Count_12_mon\"\u001b[39m),\n",
       "  (\u001b[32m\"Dependent_count\"\u001b[39m, \u001b[32m\"Credit_Limit\"\u001b[39m),\n",
       "  (\u001b[32m\"Dependent_count\"\u001b[39m, \u001b[32m\"Total_Revolving_Bal\"\u001b[39m),\n",
       "  (\u001b[32m\"Dependent_count\"\u001b[39m, \u001b[32m\"Avg_Open_To_Buy\"\u001b[39m),\n",
       "  (\u001b[32m\"Dependent_count\"\u001b[39m, \u001b[32m\"Total_Amt_Chng_Q4_Q1\"\u001b[39m),\n",
       "  (\u001b[32m\"Dependent_count\"\u001b[39m, \u001b[32m\"Total_Trans_Amt\"\u001b[39m),\n",
       "  (\u001b[32m\"Dependent_count\"\u001b[39m, \u001b[32m\"Total_Trans_Ct\"\u001b[39m),\n",
       "  (\u001b[32m\"Dependent_count\"\u001b[39m, \u001b[32m\"Total_Ct_Chng_Q4_Q1\"\u001b[39m),\n",
       "  (\u001b[32m\"Dependent_count\"\u001b[39m, \u001b[32m\"Avg_Utilization_Ratio\"\u001b[39m),\n",
       "  (\u001b[32m\"Months_on_book\"\u001b[39m, \u001b[32m\"Customer_Age\"\u001b[39m),\n",
       "  (\u001b[32m\"Months_on_book\"\u001b[39m, \u001b[32m\"Dependent_count\"\u001b[39m),\n",
       "  (\u001b[32m\"Months_on_book\"\u001b[39m, \u001b[32m\"Months_on_book\"\u001b[39m),\n",
       "  (\u001b[32m\"Months_on_book\"\u001b[39m, \u001b[32m\"Total_Relationship_Count\"\u001b[39m),\n",
       "  (\u001b[32m\"Months_on_book\"\u001b[39m, \u001b[32m\"Months_Inactive_12_mon\"\u001b[39m),\n",
       "  (\u001b[32m\"Months_on_book\"\u001b[39m, \u001b[32m\"Contacts_Count_12_mon\"\u001b[39m),\n",
       "  (\u001b[32m\"Months_on_book\"\u001b[39m, \u001b[32m\"Credit_Limit\"\u001b[39m),\n",
       "  (\u001b[32m\"Months_on_book\"\u001b[39m, \u001b[32m\"Total_Revolving_Bal\"\u001b[39m),\n",
       "  (\u001b[32m\"Months_on_book\"\u001b[39m, \u001b[32m\"Avg_Open_To_Buy\"\u001b[39m),\n",
       "  (\u001b[32m\"Months_on_book\"\u001b[39m, \u001b[32m\"Total_Amt_Chng_Q4_Q1\"\u001b[39m),\n",
       "..."
      ]
     },
     "execution_count": 19,
     "metadata": {},
     "output_type": "execute_result"
    }
   ],
   "source": [
    "for {\n",
    "  x <- numericColumns\n",
    "  y <- numericColumns\n",
    "} yield (x, y)"
   ]
  },
  {
   "cell_type": "markdown",
   "id": "a1a60af6-0074-4395-a18c-0f79df0f9517",
   "metadata": {
    "tags": []
   },
   "source": [
    "#### Вариант 1: DataFrameStatFunctions"
   ]
  },
  {
   "cell_type": "code",
   "execution_count": 20,
   "id": "1d5efa48-d661-4bfd-89af-45fa019c0940",
   "metadata": {},
   "outputs": [
    {
     "data": {
      "text/plain": [
       "\u001b[36mpairs\u001b[39m: \u001b[32mArray\u001b[39m[(\u001b[32mString\u001b[39m, \u001b[32mString\u001b[39m)] = \u001b[33mArray\u001b[39m(\n",
       "  (\u001b[32m\"Customer_Age\"\u001b[39m, \u001b[32m\"Dependent_count\"\u001b[39m),\n",
       "  (\u001b[32m\"Customer_Age\"\u001b[39m, \u001b[32m\"Months_on_book\"\u001b[39m),\n",
       "  (\u001b[32m\"Customer_Age\"\u001b[39m, \u001b[32m\"Total_Relationship_Count\"\u001b[39m),\n",
       "  (\u001b[32m\"Customer_Age\"\u001b[39m, \u001b[32m\"Months_Inactive_12_mon\"\u001b[39m),\n",
       "  (\u001b[32m\"Contacts_Count_12_mon\"\u001b[39m, \u001b[32m\"Customer_Age\"\u001b[39m),\n",
       "  (\u001b[32m\"Credit_Limit\"\u001b[39m, \u001b[32m\"Customer_Age\"\u001b[39m),\n",
       "  (\u001b[32m\"Customer_Age\"\u001b[39m, \u001b[32m\"Total_Revolving_Bal\"\u001b[39m),\n",
       "  (\u001b[32m\"Avg_Open_To_Buy\"\u001b[39m, \u001b[32m\"Customer_Age\"\u001b[39m),\n",
       "  (\u001b[32m\"Customer_Age\"\u001b[39m, \u001b[32m\"Total_Amt_Chng_Q4_Q1\"\u001b[39m),\n",
       "  (\u001b[32m\"Customer_Age\"\u001b[39m, \u001b[32m\"Total_Trans_Amt\"\u001b[39m),\n",
       "  (\u001b[32m\"Customer_Age\"\u001b[39m, \u001b[32m\"Total_Trans_Ct\"\u001b[39m),\n",
       "  (\u001b[32m\"Customer_Age\"\u001b[39m, \u001b[32m\"Total_Ct_Chng_Q4_Q1\"\u001b[39m),\n",
       "  (\u001b[32m\"Avg_Utilization_Ratio\"\u001b[39m, \u001b[32m\"Customer_Age\"\u001b[39m),\n",
       "  (\u001b[32m\"Dependent_count\"\u001b[39m, \u001b[32m\"Months_on_book\"\u001b[39m),\n",
       "  (\u001b[32m\"Dependent_count\"\u001b[39m, \u001b[32m\"Total_Relationship_Count\"\u001b[39m),\n",
       "  (\u001b[32m\"Dependent_count\"\u001b[39m, \u001b[32m\"Months_Inactive_12_mon\"\u001b[39m),\n",
       "  (\u001b[32m\"Contacts_Count_12_mon\"\u001b[39m, \u001b[32m\"Dependent_count\"\u001b[39m),\n",
       "  (\u001b[32m\"Credit_Limit\"\u001b[39m, \u001b[32m\"Dependent_count\"\u001b[39m),\n",
       "  (\u001b[32m\"Dependent_count\"\u001b[39m, \u001b[32m\"Total_Revolving_Bal\"\u001b[39m),\n",
       "  (\u001b[32m\"Avg_Open_To_Buy\"\u001b[39m, \u001b[32m\"Dependent_count\"\u001b[39m),\n",
       "  (\u001b[32m\"Dependent_count\"\u001b[39m, \u001b[32m\"Total_Amt_Chng_Q4_Q1\"\u001b[39m),\n",
       "  (\u001b[32m\"Dependent_count\"\u001b[39m, \u001b[32m\"Total_Trans_Amt\"\u001b[39m),\n",
       "  (\u001b[32m\"Dependent_count\"\u001b[39m, \u001b[32m\"Total_Trans_Ct\"\u001b[39m),\n",
       "  (\u001b[32m\"Dependent_count\"\u001b[39m, \u001b[32m\"Total_Ct_Chng_Q4_Q1\"\u001b[39m),\n",
       "  (\u001b[32m\"Avg_Utilization_Ratio\"\u001b[39m, \u001b[32m\"Dependent_count\"\u001b[39m),\n",
       "  (\u001b[32m\"Months_on_book\"\u001b[39m, \u001b[32m\"Total_Relationship_Count\"\u001b[39m),\n",
       "  (\u001b[32m\"Months_Inactive_12_mon\"\u001b[39m, \u001b[32m\"Months_on_book\"\u001b[39m),\n",
       "  (\u001b[32m\"Contacts_Count_12_mon\"\u001b[39m, \u001b[32m\"Months_on_book\"\u001b[39m),\n",
       "  (\u001b[32m\"Credit_Limit\"\u001b[39m, \u001b[32m\"Months_on_book\"\u001b[39m),\n",
       "  (\u001b[32m\"Months_on_book\"\u001b[39m, \u001b[32m\"Total_Revolving_Bal\"\u001b[39m),\n",
       "  (\u001b[32m\"Avg_Open_To_Buy\"\u001b[39m, \u001b[32m\"Months_on_book\"\u001b[39m),\n",
       "  (\u001b[32m\"Months_on_book\"\u001b[39m, \u001b[32m\"Total_Amt_Chng_Q4_Q1\"\u001b[39m),\n",
       "  (\u001b[32m\"Months_on_book\"\u001b[39m, \u001b[32m\"Total_Trans_Amt\"\u001b[39m),\n",
       "  (\u001b[32m\"Months_on_book\"\u001b[39m, \u001b[32m\"Total_Trans_Ct\"\u001b[39m),\n",
       "  (\u001b[32m\"Months_on_book\"\u001b[39m, \u001b[32m\"Total_Ct_Chng_Q4_Q1\"\u001b[39m),\n",
       "  (\u001b[32m\"Avg_Utilization_Ratio\"\u001b[39m, \u001b[32m\"Months_on_book\"\u001b[39m),\n",
       "  (\u001b[32m\"Months_Inactive_12_mon\"\u001b[39m, \u001b[32m\"Total_Relationship_Count\"\u001b[39m),\n",
       "  (\u001b[32m\"Contacts_Count_12_mon\"\u001b[39m, \u001b[32m\"Total_Relationship_Count\"\u001b[39m),\n",
       "...\n",
       "\u001b[36mcorr\u001b[39m: \u001b[32mArray\u001b[39m[(\u001b[32mString\u001b[39m, \u001b[32mString\u001b[39m, \u001b[32mDouble\u001b[39m)] = \u001b[33mArray\u001b[39m(\n",
       "  (\u001b[32m\"Customer_Age\"\u001b[39m, \u001b[32m\"Months_on_book\"\u001b[39m, \u001b[32m0.7805047706891143\u001b[39m),\n",
       "  (\u001b[32m\"Avg_Open_To_Buy\"\u001b[39m, \u001b[32m\"Credit_Limit\"\u001b[39m, \u001b[32m0.9952040726156252\u001b[39m),\n",
       "  (\u001b[32m\"Total_Trans_Amt\"\u001b[39m, \u001b[32m\"Total_Trans_Ct\"\u001b[39m, \u001b[32m0.8053901681243807\u001b[39m)\n",
       ")"
      ]
     },
     "execution_count": 20,
     "metadata": {},
     "output_type": "execute_result"
    }
   ],
   "source": [
    "val pairs = numericColumnsPairs\n",
    "        .filter { p => !p._1.equals(p._2) }\n",
    "        .map { p => if (p._1 < p._2) (p._1, p._2) else (p._2, p._1) }\n",
    "        .distinct\n",
    "\n",
    "val corr = pairs\n",
    "        .map { p => (p._1, p._2, data.stat.corr(p._1, p._2)) }\n",
    "        .filter(p => math.abs(p._3) > 0.7)"
   ]
  },
  {
   "cell_type": "code",
   "execution_count": 21,
   "id": "167ff34d-b805-4ed9-9158-ab4efdc45abc",
   "metadata": {},
   "outputs": [
    {
     "name": "stdout",
     "output_type": "stream",
     "text": [
      "          Avg_Open_To_Buy             Credit_Limit\t0.9952040726156252\n",
      "          Total_Trans_Amt           Total_Trans_Ct\t0.8053901681243807\n",
      "             Customer_Age           Months_on_book\t0.7805047706891143\n"
     ]
    }
   ],
   "source": [
    "corr.sortBy(_._3).reverse.foreach { c => println(f\"${c._1}%25s${c._2}%25s\\t${c._3}\") }"
   ]
  },
  {
   "cell_type": "markdown",
   "id": "ba955e25-105f-41ee-bfa6-0149bdc96b05",
   "metadata": {},
   "source": [
    "#### Вариант 2: Correlation"
   ]
  },
  {
   "cell_type": "code",
   "execution_count": 22,
   "id": "6c778fbc-198b-4448-9d9f-1a69fce0a152",
   "metadata": {},
   "outputs": [
    {
     "name": "stderr",
     "output_type": "stream",
     "text": [
      "25/03/13 14:36:29 WARN InstanceBuilder: Failed to load implementation from:dev.ludovic.netlib.blas.JNIBLAS\n"
     ]
    },
    {
     "data": {
      "text/plain": [
       "\u001b[32mimport \u001b[39m\u001b[36morg.apache.spark.ml.feature.VectorAssembler\u001b[39m\n",
       "\u001b[32mimport \u001b[39m\u001b[36morg.apache.spark.ml.stat.Correlation\u001b[39m\n",
       "\u001b[32mimport \u001b[39m\u001b[36morg.apache.spark.ml.linalg.Matrix\u001b[39m\n",
       "\u001b[32mimport \u001b[39m\u001b[36morg.apache.spark.sql.Row\u001b[39m\n",
       "\u001b[36mnumericAssembler\u001b[39m: \u001b[32mVectorAssembler\u001b[39m = VectorAssembler: uid=vecAssembler_dbbbbf103394, handleInvalid=error, numInputCols=14\n",
       "\u001b[36mnumeric\u001b[39m: \u001b[32mDataFrame\u001b[39m = [Attrition_Flag: string, Customer_Age: int ... 20 more fields]\n",
       "\u001b[36mmatrix\u001b[39m: \u001b[32mMatrix\u001b[39m = 1.0                    -0.13575515707704905   ... (14 total)\n",
       "-0.13575515707704905   1.0                    ...\n",
       "0.780504770689084      -0.11728062823959522   ...\n",
       "-0.026525310066417403  -0.03266417786351196   ...\n",
       "0.13116552936201348    -0.010657501150598976  ...\n",
       "-0.019944405497176732  -0.02566496168277401   ...\n",
       "0.016657097778483475   0.06002070339266479    ...\n",
       "-0.002841536593767456  0.0018723592997836101  ...\n",
       "0.016929170875654043   0.05981512203616065    ...\n",
       "-0.020559135165498028  -0.04794367154504479   ...\n",
       "-0.06586475313340744   0.00700430540503166    ...\n",
       "-0.07815083273365253   0.025513406218718206   ...\n",
       "-0.016568818333932693  -0.019666216088456825  ...\n",
       "-0.010985827540562288  -0.03300255953641679   ..."
      ]
     },
     "execution_count": 22,
     "metadata": {},
     "output_type": "execute_result"
    }
   ],
   "source": [
    "import org.apache.spark.ml.feature.VectorAssembler\n",
    "import org.apache.spark.ml.stat.Correlation\n",
    "import org.apache.spark.ml.linalg.Matrix\n",
    "import org.apache.spark.sql.Row\n",
    "\n",
    "val numericAssembler = new VectorAssembler()\n",
    "  .setInputCols(numericColumns)\n",
    "  .setOutputCol(\"features\")\n",
    "\n",
    "val numeric = numericAssembler.transform(data)\n",
    "val Row(matrix: Matrix) = Correlation.corr(numeric, \"features\").head()"
   ]
  },
  {
   "cell_type": "code",
   "execution_count": 23,
   "id": "718c7e6f-b687-490c-95ab-0775f1250d00",
   "metadata": {},
   "outputs": [
    {
     "data": {
      "text/plain": [
       "\u001b[36mcorr2\u001b[39m: \u001b[32mArray\u001b[39m[(\u001b[32mString\u001b[39m, \u001b[32mString\u001b[39m, \u001b[32mDouble\u001b[39m)] = \u001b[33mArray\u001b[39m(\n",
       "  (\u001b[32m\"Customer_Age\"\u001b[39m, \u001b[32m\"Months_on_book\"\u001b[39m, \u001b[32m0.780504770689084\u001b[39m),\n",
       "  (\u001b[32m\"Avg_Open_To_Buy\"\u001b[39m, \u001b[32m\"Credit_Limit\"\u001b[39m, \u001b[32m0.9952040726156179\u001b[39m),\n",
       "  (\u001b[32m\"Total_Trans_Amt\"\u001b[39m, \u001b[32m\"Total_Trans_Ct\"\u001b[39m, \u001b[32m0.8053901681243786\u001b[39m)\n",
       ")"
      ]
     },
     "execution_count": 23,
     "metadata": {},
     "output_type": "execute_result"
    }
   ],
   "source": [
    "val corr2 = matrix.toArray\n",
    "        .zip(numericColumnsPairs)\n",
    "        .map(cnn => (cnn._2._1, cnn._2._2, cnn._1))\n",
    "        .filter(p => math.abs(p._3) > 0.7 && p._3 < 1.0)\n",
    "        .map { p => if (p._1 < p._2) (p._1, p._2, p._3) else (p._2, p._1, p._3) }\n",
    "        .distinct"
   ]
  },
  {
   "cell_type": "code",
   "execution_count": 24,
   "id": "5892ae26-42aa-4862-9f37-2049494929b6",
   "metadata": {},
   "outputs": [
    {
     "name": "stdout",
     "output_type": "stream",
     "text": [
      "          Avg_Open_To_Buy             Credit_Limit\t0.9952040726156179\n",
      "          Total_Trans_Amt           Total_Trans_Ct\t0.8053901681243786\n",
      "             Customer_Age           Months_on_book\t0.780504770689084\n"
     ]
    }
   ],
   "source": [
    "corr2.sortBy(_._3).reverse.foreach { c => println(f\"${c._1}%25s${c._2}%25s\\t${c._3}\") }"
   ]
  },
  {
   "cell_type": "code",
   "execution_count": 25,
   "id": "2b2f2ee7-e109-406c-841b-9063cbcd6867",
   "metadata": {},
   "outputs": [
    {
     "data": {
      "text/plain": [
       "\u001b[36mres25\u001b[39m: \u001b[32mSet\u001b[39m[(\u001b[32mString\u001b[39m, \u001b[32mString\u001b[39m, \u001b[32mDouble\u001b[39m)] = \u001b[33mSet\u001b[39m()"
      ]
     },
     "execution_count": 25,
     "metadata": {},
     "output_type": "execute_result"
    }
   ],
   "source": [
    "corr.toSet.intersect(corr2.toSet)"
   ]
  },
  {
   "cell_type": "markdown",
   "id": "8fc0c1bd-ab5c-4331-8ab2-c17d775a9b7e",
   "metadata": {},
   "source": [
    "#### Оставляем числовые колонки с низкой кореляцией"
   ]
  },
  {
   "cell_type": "code",
   "execution_count": 26,
   "id": "6c38d096-d2b8-4d33-8b79-02a4f4025d0e",
   "metadata": {},
   "outputs": [
    {
     "data": {
      "text/plain": [
       "\u001b[36mnumericColumnsFinal\u001b[39m: \u001b[32mArray\u001b[39m[\u001b[32mString\u001b[39m] = \u001b[33mArray\u001b[39m(\n",
       "  \u001b[32m\"Customer_Age\"\u001b[39m,\n",
       "  \u001b[32m\"Dependent_count\"\u001b[39m,\n",
       "  \u001b[32m\"Total_Relationship_Count\"\u001b[39m,\n",
       "  \u001b[32m\"Months_Inactive_12_mon\"\u001b[39m,\n",
       "  \u001b[32m\"Contacts_Count_12_mon\"\u001b[39m,\n",
       "  \u001b[32m\"Total_Revolving_Bal\"\u001b[39m,\n",
       "  \u001b[32m\"Avg_Open_To_Buy\"\u001b[39m,\n",
       "  \u001b[32m\"Total_Amt_Chng_Q4_Q1\"\u001b[39m,\n",
       "  \u001b[32m\"Total_Trans_Amt\"\u001b[39m,\n",
       "  \u001b[32m\"Total_Ct_Chng_Q4_Q1\"\u001b[39m,\n",
       "  \u001b[32m\"Avg_Utilization_Ratio\"\u001b[39m\n",
       ")"
      ]
     },
     "execution_count": 26,
     "metadata": {},
     "output_type": "execute_result"
    }
   ],
   "source": [
    "val numericColumnsFinal = numericColumns.diff(corr.map(_._2))"
   ]
  },
  {
   "cell_type": "markdown",
   "id": "6818fc8f-8556-4326-b438-926fca552859",
   "metadata": {},
   "source": [
    "### Категориальные признаки"
   ]
  },
  {
   "cell_type": "markdown",
   "id": "c92c9f2e-7991-42b6-b9dd-3bec068847eb",
   "metadata": {},
   "source": [
    "#### Индексируем строковые колонки"
   ]
  },
  {
   "cell_type": "code",
   "execution_count": 27,
   "id": "539967b2-4c5c-4a3d-a5ff-a936f3c95a38",
   "metadata": {},
   "outputs": [
    {
     "name": "stdout",
     "output_type": "stream",
     "text": [
      "+-----------------+------------+------+---------------+---------------+--------------+---------------+-------------+--------------+------------------------+----------------------+---------------------+------------+-------------------+---------------+--------------------+---------------+--------------+-------------------+---------------------+------+--------------+-----------------------+----------------------+-----------------------+---------------------+\n",
      "|   Attrition_Flag|Customer_Age|Gender|Dependent_count|Education_Level|Marital_Status|Income_Category|Card_Category|Months_on_book|Total_Relationship_Count|Months_Inactive_12_mon|Contacts_Count_12_mon|Credit_Limit|Total_Revolving_Bal|Avg_Open_To_Buy|Total_Amt_Chng_Q4_Q1|Total_Trans_Amt|Total_Trans_Ct|Total_Ct_Chng_Q4_Q1|Avg_Utilization_Ratio|target|Gender_Indexed|Education_Level_Indexed|Marital_Status_Indexed|Income_Category_Indexed|Card_Category_Indexed|\n",
      "+-----------------+------------+------+---------------+---------------+--------------+---------------+-------------+--------------+------------------------+----------------------+---------------------+------------+-------------------+---------------+--------------------+---------------+--------------+-------------------+---------------------+------+--------------+-----------------------+----------------------+-----------------------+---------------------+\n",
      "|Existing Customer|          45|     M|              3|    High School|       Married|    $60K - $80K|         Blue|            39|                       5|                     1|                    3|     12691.0|                777|        11914.0|               1.335|           1144|            42|              1.625|                0.061|     0|           1.0|                    1.0|                   0.0|                    3.0|                  0.0|\n",
      "|Existing Customer|          49|     F|              5|       Graduate|        Single| Less than $40K|         Blue|            44|                       6|                     1|                    2|      8256.0|                864|         7392.0|               1.541|           1291|            33|              3.714|                0.105|     0|           0.0|                    0.0|                   1.0|                    0.0|                  0.0|\n",
      "|Existing Customer|          51|     M|              3|       Graduate|       Married|   $80K - $120K|         Blue|            36|                       4|                     1|                    0|      3418.0|                  0|         3418.0|               2.594|           1887|            20|              2.333|                  0.0|     0|           1.0|                    0.0|                   0.0|                    2.0|                  0.0|\n",
      "|Existing Customer|          40|     F|              4|    High School|       Unknown| Less than $40K|         Blue|            34|                       3|                     4|                    1|      3313.0|               2517|          796.0|               1.405|           1171|            20|              2.333|                 0.76|     0|           0.0|                    1.0|                   2.0|                    0.0|                  0.0|\n",
      "|Existing Customer|          40|     M|              3|     Uneducated|       Married|    $60K - $80K|         Blue|            21|                       5|                     1|                    0|      4716.0|                  0|         4716.0|               2.175|            816|            28|                2.5|                  0.0|     0|           1.0|                    3.0|                   0.0|                    3.0|                  0.0|\n",
      "+-----------------+------------+------+---------------+---------------+--------------+---------------+-------------+--------------+------------------------+----------------------+---------------------+------------+-------------------+---------------+--------------------+---------------+--------------+-------------------+---------------------+------+--------------+-----------------------+----------------------+-----------------------+---------------------+\n",
      "only showing top 5 rows\n",
      "\n"
     ]
    },
    {
     "data": {
      "text/plain": [
       "\u001b[32mimport \u001b[39m\u001b[36morg.apache.spark.ml.feature.StringIndexer\u001b[39m\n",
       "\u001b[36mstringColumns\u001b[39m: \u001b[32mArray\u001b[39m[\u001b[32mString\u001b[39m] = \u001b[33mArray\u001b[39m(\n",
       "  \u001b[32m\"Gender\"\u001b[39m,\n",
       "  \u001b[32m\"Education_Level\"\u001b[39m,\n",
       "  \u001b[32m\"Marital_Status\"\u001b[39m,\n",
       "  \u001b[32m\"Income_Category\"\u001b[39m,\n",
       "  \u001b[32m\"Card_Category\"\u001b[39m\n",
       ")\n",
       "\u001b[36mstringColumnsIndexed\u001b[39m: \u001b[32mArray\u001b[39m[\u001b[32mString\u001b[39m] = \u001b[33mArray\u001b[39m(\n",
       "  \u001b[32m\"Gender_Indexed\"\u001b[39m,\n",
       "  \u001b[32m\"Education_Level_Indexed\"\u001b[39m,\n",
       "  \u001b[32m\"Marital_Status_Indexed\"\u001b[39m,\n",
       "  \u001b[32m\"Income_Category_Indexed\"\u001b[39m,\n",
       "  \u001b[32m\"Card_Category_Indexed\"\u001b[39m\n",
       ")\n",
       "\u001b[36mindexer\u001b[39m: \u001b[32mStringIndexer\u001b[39m = strIdx_1d467ef04a06\n",
       "\u001b[36mindexed\u001b[39m: \u001b[32mDataFrame\u001b[39m = [Attrition_Flag: string, Customer_Age: int ... 24 more fields]"
      ]
     },
     "execution_count": 27,
     "metadata": {},
     "output_type": "execute_result"
    }
   ],
   "source": [
    "import org.apache.spark.ml.feature.StringIndexer\n",
    "\n",
    "val stringColumns = data\n",
    "        .dtypes\n",
    "        .filter(_._2.equals(\"StringType\"))\n",
    "        .map(_._1)\n",
    "        .filter(!_.equals(\"Attrition_Flag\"))\n",
    "\n",
    "val stringColumnsIndexed = stringColumns.map(_ + \"_Indexed\")\n",
    "\n",
    "val indexer = new StringIndexer()\n",
    "        .setInputCols(stringColumns)\n",
    "        .setOutputCols(stringColumnsIndexed)\n",
    "\n",
    "val indexed = indexer.fit(data).transform(data)\n",
    "indexed.show(5)"
   ]
  },
  {
   "cell_type": "markdown",
   "id": "c273835f-45a2-477d-94d1-4db931a90ae3",
   "metadata": {},
   "source": [
    "#### Кодируем категориальные признаки"
   ]
  },
  {
   "cell_type": "code",
   "execution_count": 28,
   "id": "588a7046-74a0-47cb-8900-5ad24eee4d1a",
   "metadata": {},
   "outputs": [
    {
     "data": {
      "text/plain": [
       "\u001b[32mimport \u001b[39m\u001b[36morg.apache.spark.ml.feature.OneHotEncoder\u001b[39m\n",
       "\u001b[36mcatColumns\u001b[39m: \u001b[32mArray\u001b[39m[\u001b[32mString\u001b[39m] = \u001b[33mArray\u001b[39m(\n",
       "  \u001b[32m\"Gender_Indexed_Coded\"\u001b[39m,\n",
       "  \u001b[32m\"Education_Level_Indexed_Coded\"\u001b[39m,\n",
       "  \u001b[32m\"Marital_Status_Indexed_Coded\"\u001b[39m,\n",
       "  \u001b[32m\"Income_Category_Indexed_Coded\"\u001b[39m,\n",
       "  \u001b[32m\"Card_Category_Indexed_Coded\"\u001b[39m\n",
       ")\n",
       "\u001b[36mencoder\u001b[39m: \u001b[32mOneHotEncoder\u001b[39m = oneHotEncoder_45fb646fb011\n",
       "\u001b[36mencoderModel\u001b[39m: \u001b[32morg\u001b[39m.\u001b[32mapache\u001b[39m.\u001b[32mspark\u001b[39m.\u001b[32mml\u001b[39m.\u001b[32mfeature\u001b[39m.\u001b[32mOneHotEncoderModel\u001b[39m = OneHotEncoderModel: uid=oneHotEncoder_45fb646fb011, dropLast=true, handleInvalid=error, numInputCols=5, numOutputCols=5"
      ]
     },
     "execution_count": 28,
     "metadata": {},
     "output_type": "execute_result"
    }
   ],
   "source": [
    "import org.apache.spark.ml.feature.OneHotEncoder\n",
    "\n",
    "val catColumns = stringColumnsIndexed.map(_ + \"_Coded\")\n",
    "    \n",
    "val encoder = new OneHotEncoder()\n",
    "        .setInputCols(stringColumnsIndexed)\n",
    "        .setOutputCols(catColumns)\n",
    "\n",
    "val encoderModel = encoder.fit(indexed)"
   ]
  },
  {
   "cell_type": "code",
   "execution_count": 29,
   "id": "7c2f4f00",
   "metadata": {},
   "outputs": [
    {
     "data": {
      "text/plain": [
       "\u001b[36mcatSizes\u001b[39m: \u001b[32mArray\u001b[39m[\u001b[32mInt\u001b[39m] = \u001b[33mArray\u001b[39m(\u001b[32m2\u001b[39m, \u001b[32m7\u001b[39m, \u001b[32m4\u001b[39m, \u001b[32m6\u001b[39m, \u001b[32m4\u001b[39m)"
      ]
     },
     "execution_count": 29,
     "metadata": {},
     "output_type": "execute_result"
    }
   ],
   "source": [
    "val catSizes = encoderModel.categorySizes"
   ]
  },
  {
   "cell_type": "code",
   "execution_count": 30,
   "id": "9a103f73",
   "metadata": {},
   "outputs": [
    {
     "name": "stdout",
     "output_type": "stream",
     "text": [
      "+-----------------+------------+------+---------------+---------------+--------------+---------------+-------------+--------------+------------------------+----------------------+---------------------+------------+-------------------+---------------+--------------------+---------------+--------------+-------------------+---------------------+------+--------------+-----------------------+----------------------+-----------------------+---------------------+--------------------+-----------------------------+----------------------------+-----------------------------+---------------------------+\n",
      "|   Attrition_Flag|Customer_Age|Gender|Dependent_count|Education_Level|Marital_Status|Income_Category|Card_Category|Months_on_book|Total_Relationship_Count|Months_Inactive_12_mon|Contacts_Count_12_mon|Credit_Limit|Total_Revolving_Bal|Avg_Open_To_Buy|Total_Amt_Chng_Q4_Q1|Total_Trans_Amt|Total_Trans_Ct|Total_Ct_Chng_Q4_Q1|Avg_Utilization_Ratio|target|Gender_Indexed|Education_Level_Indexed|Marital_Status_Indexed|Income_Category_Indexed|Card_Category_Indexed|Gender_Indexed_Coded|Education_Level_Indexed_Coded|Marital_Status_Indexed_Coded|Income_Category_Indexed_Coded|Card_Category_Indexed_Coded|\n",
      "+-----------------+------------+------+---------------+---------------+--------------+---------------+-------------+--------------+------------------------+----------------------+---------------------+------------+-------------------+---------------+--------------------+---------------+--------------+-------------------+---------------------+------+--------------+-----------------------+----------------------+-----------------------+---------------------+--------------------+-----------------------------+----------------------------+-----------------------------+---------------------------+\n",
      "|Existing Customer|          45|     M|              3|    High School|       Married|    $60K - $80K|         Blue|            39|                       5|                     1|                    3|     12691.0|                777|        11914.0|               1.335|           1144|            42|              1.625|                0.061|     0|           1.0|                    1.0|                   0.0|                    3.0|                  0.0|           (1,[],[])|                (6,[1],[1.0])|               (3,[0],[1.0])|                (5,[3],[1.0])|              (3,[0],[1.0])|\n",
      "|Existing Customer|          49|     F|              5|       Graduate|        Single| Less than $40K|         Blue|            44|                       6|                     1|                    2|      8256.0|                864|         7392.0|               1.541|           1291|            33|              3.714|                0.105|     0|           0.0|                    0.0|                   1.0|                    0.0|                  0.0|       (1,[0],[1.0])|                (6,[0],[1.0])|               (3,[1],[1.0])|                (5,[0],[1.0])|              (3,[0],[1.0])|\n",
      "|Existing Customer|          51|     M|              3|       Graduate|       Married|   $80K - $120K|         Blue|            36|                       4|                     1|                    0|      3418.0|                  0|         3418.0|               2.594|           1887|            20|              2.333|                  0.0|     0|           1.0|                    0.0|                   0.0|                    2.0|                  0.0|           (1,[],[])|                (6,[0],[1.0])|               (3,[0],[1.0])|                (5,[2],[1.0])|              (3,[0],[1.0])|\n",
      "|Existing Customer|          40|     F|              4|    High School|       Unknown| Less than $40K|         Blue|            34|                       3|                     4|                    1|      3313.0|               2517|          796.0|               1.405|           1171|            20|              2.333|                 0.76|     0|           0.0|                    1.0|                   2.0|                    0.0|                  0.0|       (1,[0],[1.0])|                (6,[1],[1.0])|               (3,[2],[1.0])|                (5,[0],[1.0])|              (3,[0],[1.0])|\n",
      "|Existing Customer|          40|     M|              3|     Uneducated|       Married|    $60K - $80K|         Blue|            21|                       5|                     1|                    0|      4716.0|                  0|         4716.0|               2.175|            816|            28|                2.5|                  0.0|     0|           1.0|                    3.0|                   0.0|                    3.0|                  0.0|           (1,[],[])|                (6,[3],[1.0])|               (3,[0],[1.0])|                (5,[3],[1.0])|              (3,[0],[1.0])|\n",
      "+-----------------+------------+------+---------------+---------------+--------------+---------------+-------------+--------------+------------------------+----------------------+---------------------+------------+-------------------+---------------+--------------------+---------------+--------------+-------------------+---------------------+------+--------------+-----------------------+----------------------+-----------------------+---------------------+--------------------+-----------------------------+----------------------------+-----------------------------+---------------------------+\n",
      "only showing top 5 rows\n",
      "\n"
     ]
    },
    {
     "data": {
      "text/plain": [
       "\u001b[36mencoded\u001b[39m: \u001b[32mDataFrame\u001b[39m = [Attrition_Flag: string, Customer_Age: int ... 29 more fields]"
      ]
     },
     "execution_count": 30,
     "metadata": {},
     "output_type": "execute_result"
    }
   ],
   "source": [
    "val encoded = encoderModel.transform(indexed)\n",
    "encoded.show(5)"
   ]
  },
  {
   "cell_type": "code",
   "execution_count": 31,
   "id": "20e6d321",
   "metadata": {},
   "outputs": [
    {
     "data": {
      "text/plain": [
       "\u001b[36mcodedColumns\u001b[39m: \u001b[32mArray\u001b[39m[\u001b[32mString\u001b[39m] = \u001b[33mArray\u001b[39m(\n",
       "  \u001b[32m\"Gender_Indexed\"\u001b[39m,\n",
       "  \u001b[32m\"Education_Level_Indexed\"\u001b[39m,\n",
       "  \u001b[32m\"Education_Level_Indexed\"\u001b[39m,\n",
       "  \u001b[32m\"Education_Level_Indexed\"\u001b[39m,\n",
       "  \u001b[32m\"Education_Level_Indexed\"\u001b[39m,\n",
       "  \u001b[32m\"Education_Level_Indexed\"\u001b[39m,\n",
       "  \u001b[32m\"Education_Level_Indexed\"\u001b[39m,\n",
       "  \u001b[32m\"Marital_Status_Indexed\"\u001b[39m,\n",
       "  \u001b[32m\"Marital_Status_Indexed\"\u001b[39m,\n",
       "  \u001b[32m\"Marital_Status_Indexed\"\u001b[39m,\n",
       "  \u001b[32m\"Income_Category_Indexed\"\u001b[39m,\n",
       "  \u001b[32m\"Income_Category_Indexed\"\u001b[39m,\n",
       "  \u001b[32m\"Income_Category_Indexed\"\u001b[39m,\n",
       "  \u001b[32m\"Income_Category_Indexed\"\u001b[39m,\n",
       "  \u001b[32m\"Income_Category_Indexed\"\u001b[39m,\n",
       "  \u001b[32m\"Card_Category_Indexed\"\u001b[39m,\n",
       "  \u001b[32m\"Card_Category_Indexed\"\u001b[39m,\n",
       "  \u001b[32m\"Card_Category_Indexed\"\u001b[39m\n",
       ")"
      ]
     },
     "execution_count": 31,
     "metadata": {},
     "output_type": "execute_result"
    }
   ],
   "source": [
    "val codedColumns = stringColumnsIndexed.zip(catSizes.map(_ - 1)).flatMap(i => (1 to i._2).toList.map(a => i._1))"
   ]
  },
  {
   "cell_type": "markdown",
   "id": "906e5c47-49ac-4658-a96a-52564b094f98",
   "metadata": {},
   "source": [
    "### Собираем признаки в вектор"
   ]
  },
  {
   "cell_type": "code",
   "execution_count": 32,
   "id": "ac999c98-d1e7-4eca-8277-2776a634e6c8",
   "metadata": {},
   "outputs": [
    {
     "name": "stdout",
     "output_type": "stream",
     "text": [
      "+-----------------+------------+------+---------------+---------------+--------------+---------------+-------------+--------------+------------------------+----------------------+---------------------+------------+-------------------+---------------+--------------------+---------------+--------------+-------------------+---------------------+------+--------------+-----------------------+----------------------+-----------------------+---------------------+--------------------+-----------------------------+----------------------------+-----------------------------+---------------------------+-----------------------------------------------------------------------------------------------------------------------------+\n",
      "|Attrition_Flag   |Customer_Age|Gender|Dependent_count|Education_Level|Marital_Status|Income_Category|Card_Category|Months_on_book|Total_Relationship_Count|Months_Inactive_12_mon|Contacts_Count_12_mon|Credit_Limit|Total_Revolving_Bal|Avg_Open_To_Buy|Total_Amt_Chng_Q4_Q1|Total_Trans_Amt|Total_Trans_Ct|Total_Ct_Chng_Q4_Q1|Avg_Utilization_Ratio|target|Gender_Indexed|Education_Level_Indexed|Marital_Status_Indexed|Income_Category_Indexed|Card_Category_Indexed|Gender_Indexed_Coded|Education_Level_Indexed_Coded|Marital_Status_Indexed_Coded|Income_Category_Indexed_Coded|Card_Category_Indexed_Coded|features                                                                                                                     |\n",
      "+-----------------+------------+------+---------------+---------------+--------------+---------------+-------------+--------------+------------------------+----------------------+---------------------+------------+-------------------+---------------+--------------------+---------------+--------------+-------------------+---------------------+------+--------------+-----------------------+----------------------+-----------------------+---------------------+--------------------+-----------------------------+----------------------------+-----------------------------+---------------------------+-----------------------------------------------------------------------------------------------------------------------------+\n",
      "|Existing Customer|45          |M     |3              |High School    |Married       |$60K - $80K    |Blue         |39            |5                       |1                     |3                    |12691.0     |777                |11914.0        |1.335               |1144           |42            |1.625              |0.061                |0     |1.0           |1.0                    |0.0                   |3.0                    |0.0                  |(1,[],[])           |(6,[1],[1.0])                |(3,[0],[1.0])               |(5,[3],[1.0])                |(3,[0],[1.0])              |(29,[0,1,2,3,4,5,6,7,8,9,10,13,18,24,26],[45.0,3.0,5.0,1.0,3.0,777.0,11914.0,1.335,1144.0,1.625,0.061,1.0,1.0,1.0,1.0])      |\n",
      "|Existing Customer|49          |F     |5              |Graduate       |Single        |Less than $40K |Blue         |44            |6                       |1                     |2                    |8256.0      |864                |7392.0         |1.541               |1291           |33            |3.714              |0.105                |0     |0.0           |0.0                    |1.0                   |0.0                    |0.0                  |(1,[0],[1.0])       |(6,[0],[1.0])                |(3,[1],[1.0])               |(5,[0],[1.0])                |(3,[0],[1.0])              |(29,[0,1,2,3,4,5,6,7,8,9,10,11,12,19,21,26],[49.0,5.0,6.0,1.0,2.0,864.0,7392.0,1.541,1291.0,3.714,0.105,1.0,1.0,1.0,1.0,1.0])|\n",
      "|Existing Customer|51          |M     |3              |Graduate       |Married       |$80K - $120K   |Blue         |36            |4                       |1                     |0                    |3418.0      |0                  |3418.0         |2.594               |1887           |20            |2.333              |0.0                  |0     |1.0           |0.0                    |0.0                   |2.0                    |0.0                  |(1,[],[])           |(6,[0],[1.0])                |(3,[0],[1.0])               |(5,[2],[1.0])                |(3,[0],[1.0])              |(29,[0,1,2,3,6,7,8,9,12,18,23,26],[51.0,3.0,4.0,1.0,3418.0,2.594,1887.0,2.333,1.0,1.0,1.0,1.0])                              |\n",
      "|Existing Customer|40          |F     |4              |High School    |Unknown       |Less than $40K |Blue         |34            |3                       |4                     |1                    |3313.0      |2517               |796.0          |1.405               |1171           |20            |2.333              |0.76                 |0     |0.0           |1.0                    |2.0                   |0.0                    |0.0                  |(1,[0],[1.0])       |(6,[1],[1.0])                |(3,[2],[1.0])               |(5,[0],[1.0])                |(3,[0],[1.0])              |(29,[0,1,2,3,4,5,6,7,8,9,10,11,13,20,21,26],[40.0,4.0,3.0,4.0,1.0,2517.0,796.0,1.405,1171.0,2.333,0.76,1.0,1.0,1.0,1.0,1.0]) |\n",
      "|Existing Customer|40          |M     |3              |Uneducated     |Married       |$60K - $80K    |Blue         |21            |5                       |1                     |0                    |4716.0      |0                  |4716.0         |2.175               |816            |28            |2.5                |0.0                  |0     |1.0           |3.0                    |0.0                   |3.0                    |0.0                  |(1,[],[])           |(6,[3],[1.0])                |(3,[0],[1.0])               |(5,[3],[1.0])                |(3,[0],[1.0])              |(29,[0,1,2,3,6,7,8,9,15,18,24,26],[40.0,3.0,5.0,1.0,4716.0,2.175,816.0,2.5,1.0,1.0,1.0,1.0])                                 |\n",
      "+-----------------+------------+------+---------------+---------------+--------------+---------------+-------------+--------------+------------------------+----------------------+---------------------+------------+-------------------+---------------+--------------------+---------------+--------------+-------------------+---------------------+------+--------------+-----------------------+----------------------+-----------------------+---------------------+--------------------+-----------------------------+----------------------------+-----------------------------+---------------------------+-----------------------------------------------------------------------------------------------------------------------------+\n",
      "only showing top 5 rows\n",
      "\n"
     ]
    },
    {
     "data": {
      "text/plain": [
       "\u001b[36mfeatureColumns\u001b[39m: \u001b[32mArray\u001b[39m[\u001b[32mString\u001b[39m] = \u001b[33mArray\u001b[39m(\n",
       "  \u001b[32m\"Customer_Age\"\u001b[39m,\n",
       "  \u001b[32m\"Dependent_count\"\u001b[39m,\n",
       "  \u001b[32m\"Total_Relationship_Count\"\u001b[39m,\n",
       "  \u001b[32m\"Months_Inactive_12_mon\"\u001b[39m,\n",
       "  \u001b[32m\"Contacts_Count_12_mon\"\u001b[39m,\n",
       "  \u001b[32m\"Total_Revolving_Bal\"\u001b[39m,\n",
       "  \u001b[32m\"Avg_Open_To_Buy\"\u001b[39m,\n",
       "  \u001b[32m\"Total_Amt_Chng_Q4_Q1\"\u001b[39m,\n",
       "  \u001b[32m\"Total_Trans_Amt\"\u001b[39m,\n",
       "  \u001b[32m\"Total_Ct_Chng_Q4_Q1\"\u001b[39m,\n",
       "  \u001b[32m\"Avg_Utilization_Ratio\"\u001b[39m,\n",
       "  \u001b[32m\"Gender_Indexed_Coded\"\u001b[39m,\n",
       "  \u001b[32m\"Education_Level_Indexed_Coded\"\u001b[39m,\n",
       "  \u001b[32m\"Marital_Status_Indexed_Coded\"\u001b[39m,\n",
       "  \u001b[32m\"Income_Category_Indexed_Coded\"\u001b[39m,\n",
       "  \u001b[32m\"Card_Category_Indexed_Coded\"\u001b[39m\n",
       ")\n",
       "\u001b[36massembler\u001b[39m: \u001b[32mVectorAssembler\u001b[39m = VectorAssembler: uid=vecAssembler_0b1810205a39, handleInvalid=error, numInputCols=16\n",
       "\u001b[36massembled\u001b[39m: \u001b[32mDataFrame\u001b[39m = [Attrition_Flag: string, Customer_Age: int ... 30 more fields]"
      ]
     },
     "execution_count": 32,
     "metadata": {},
     "output_type": "execute_result"
    }
   ],
   "source": [
    "val featureColumns = numericColumnsFinal ++ catColumns\n",
    "\n",
    "val assembler = new VectorAssembler()\n",
    "  .setInputCols(featureColumns)\n",
    "  .setOutputCol(\"features\")\n",
    "\n",
    "val assembled = assembler.transform(encoded)\n",
    "assembled.show(5, truncate = false)"
   ]
  },
  {
   "cell_type": "code",
   "execution_count": 33,
   "id": "57bc8e40",
   "metadata": {},
   "outputs": [
    {
     "data": {
      "text/plain": [
       "\u001b[36mfeatureColumnsMap\u001b[39m: \u001b[32mMap\u001b[39m[\u001b[32mInt\u001b[39m, \u001b[32mString\u001b[39m] = \u001b[33mMap\u001b[39m(\n",
       "  \u001b[32m0\u001b[39m -> \u001b[32m\"Customer_Age\"\u001b[39m,\n",
       "  \u001b[32m5\u001b[39m -> \u001b[32m\"Total_Revolving_Bal\"\u001b[39m,\n",
       "  \u001b[32m10\u001b[39m -> \u001b[32m\"Avg_Utilization_Ratio\"\u001b[39m,\n",
       "  \u001b[32m24\u001b[39m -> \u001b[32m\"Income_Category_Indexed\"\u001b[39m,\n",
       "  \u001b[32m25\u001b[39m -> \u001b[32m\"Income_Category_Indexed\"\u001b[39m,\n",
       "  \u001b[32m14\u001b[39m -> \u001b[32m\"Education_Level_Indexed\"\u001b[39m,\n",
       "  \u001b[32m20\u001b[39m -> \u001b[32m\"Marital_Status_Indexed\"\u001b[39m,\n",
       "  \u001b[32m1\u001b[39m -> \u001b[32m\"Dependent_count\"\u001b[39m,\n",
       "  \u001b[32m6\u001b[39m -> \u001b[32m\"Avg_Open_To_Buy\"\u001b[39m,\n",
       "  \u001b[32m28\u001b[39m -> \u001b[32m\"Card_Category_Indexed\"\u001b[39m,\n",
       "  \u001b[32m21\u001b[39m -> \u001b[32m\"Income_Category_Indexed\"\u001b[39m,\n",
       "  \u001b[32m9\u001b[39m -> \u001b[32m\"Total_Ct_Chng_Q4_Q1\"\u001b[39m,\n",
       "  \u001b[32m13\u001b[39m -> \u001b[32m\"Education_Level_Indexed\"\u001b[39m,\n",
       "  \u001b[32m2\u001b[39m -> \u001b[32m\"Total_Relationship_Count\"\u001b[39m,\n",
       "  \u001b[32m17\u001b[39m -> \u001b[32m\"Education_Level_Indexed\"\u001b[39m,\n",
       "  \u001b[32m22\u001b[39m -> \u001b[32m\"Income_Category_Indexed\"\u001b[39m,\n",
       "  \u001b[32m27\u001b[39m -> \u001b[32m\"Card_Category_Indexed\"\u001b[39m,\n",
       "  \u001b[32m12\u001b[39m -> \u001b[32m\"Education_Level_Indexed\"\u001b[39m,\n",
       "  \u001b[32m7\u001b[39m -> \u001b[32m\"Total_Amt_Chng_Q4_Q1\"\u001b[39m,\n",
       "  \u001b[32m3\u001b[39m -> \u001b[32m\"Months_Inactive_12_mon\"\u001b[39m,\n",
       "  \u001b[32m18\u001b[39m -> \u001b[32m\"Marital_Status_Indexed\"\u001b[39m,\n",
       "  \u001b[32m16\u001b[39m -> \u001b[32m\"Education_Level_Indexed\"\u001b[39m,\n",
       "  \u001b[32m11\u001b[39m -> \u001b[32m\"Gender_Indexed\"\u001b[39m,\n",
       "  \u001b[32m26\u001b[39m -> \u001b[32m\"Card_Category_Indexed\"\u001b[39m,\n",
       "  \u001b[32m23\u001b[39m -> \u001b[32m\"Income_Category_Indexed\"\u001b[39m,\n",
       "  \u001b[32m8\u001b[39m -> \u001b[32m\"Total_Trans_Amt\"\u001b[39m,\n",
       "  \u001b[32m19\u001b[39m -> \u001b[32m\"Marital_Status_Indexed\"\u001b[39m,\n",
       "  \u001b[32m4\u001b[39m -> \u001b[32m\"Contacts_Count_12_mon\"\u001b[39m,\n",
       "  \u001b[32m15\u001b[39m -> \u001b[32m\"Education_Level_Indexed\"\u001b[39m\n",
       ")"
      ]
     },
     "execution_count": 33,
     "metadata": {},
     "output_type": "execute_result"
    }
   ],
   "source": [
    "val featureColumnsMap = (numericColumnsFinal ++ codedColumns).zipWithIndex.map(i => (i._2, i._1)).toMap"
   ]
  },
  {
   "cell_type": "code",
   "execution_count": 34,
   "id": "8b1ac36f-00e9-42e3-9ebb-c670e6ec20a4",
   "metadata": {},
   "outputs": [
    {
     "name": "stdout",
     "output_type": "stream",
     "text": [
      "+-----------------------------------------------------------------------------------------------------------------------------+\n",
      "|features                                                                                                                     |\n",
      "+-----------------------------------------------------------------------------------------------------------------------------+\n",
      "|(29,[0,1,2,3,4,5,6,7,8,9,10,13,18,24,26],[45.0,3.0,5.0,1.0,3.0,777.0,11914.0,1.335,1144.0,1.625,0.061,1.0,1.0,1.0,1.0])      |\n",
      "|(29,[0,1,2,3,4,5,6,7,8,9,10,11,12,19,21,26],[49.0,5.0,6.0,1.0,2.0,864.0,7392.0,1.541,1291.0,3.714,0.105,1.0,1.0,1.0,1.0,1.0])|\n",
      "|(29,[0,1,2,3,6,7,8,9,12,18,23,26],[51.0,3.0,4.0,1.0,3418.0,2.594,1887.0,2.333,1.0,1.0,1.0,1.0])                              |\n",
      "|(29,[0,1,2,3,4,5,6,7,8,9,10,11,13,20,21,26],[40.0,4.0,3.0,4.0,1.0,2517.0,796.0,1.405,1171.0,2.333,0.76,1.0,1.0,1.0,1.0,1.0]) |\n",
      "|(29,[0,1,2,3,6,7,8,9,15,18,24,26],[40.0,3.0,5.0,1.0,4716.0,2.175,816.0,2.5,1.0,1.0,1.0,1.0])                                 |\n",
      "+-----------------------------------------------------------------------------------------------------------------------------+\n",
      "only showing top 5 rows\n",
      "\n"
     ]
    }
   ],
   "source": [
    "assembled.select(\"features\").show(5, truncate = false)"
   ]
  },
  {
   "cell_type": "markdown",
   "id": "e27f6463-03b4-494b-9748-f1e289efa4f5",
   "metadata": {},
   "source": [
    "### Нормализация"
   ]
  },
  {
   "cell_type": "code",
   "execution_count": 35,
   "id": "37706b46-78c6-4f08-915d-20755ec964bb",
   "metadata": {},
   "outputs": [
    {
     "name": "stdout",
     "output_type": "stream",
     "text": [
      "+-----------------------------------------------------------------------------------------------------------------------------+------------------------------------------------------------------------------------------------------------------------------------------------------------------------------------------------------------------------------------------------------+\n",
      "|features                                                                                                                     |scaledFeatures                                                                                                                                                                                                                                        |\n",
      "+-----------------------------------------------------------------------------------------------------------------------------+------------------------------------------------------------------------------------------------------------------------------------------------------------------------------------------------------------------------------------------------------+\n",
      "|(29,[0,1,2,3,4,5,6,7,8,9,10,13,18,24,26],[45.0,3.0,5.0,1.0,3.0,777.0,11914.0,1.335,1144.0,1.625,0.061,1.0,1.0,1.0,1.0])      |(29,[0,1,2,3,4,5,6,7,8,9,10,13,18,24,26],[0.40425531914893614,0.6000000000000001,0.8,0.16666666666666666,0.5,0.30870083432657924,0.3451163329759801,0.39299381807477185,0.03527317236007566,0.43753365643511044,0.061061061061061066,1.0,1.0,1.0,1.0])|\n",
      "|(29,[0,1,2,3,4,5,6,7,8,9,10,11,12,19,21,26],[49.0,5.0,6.0,1.0,2.0,864.0,7392.0,1.541,1291.0,3.714,0.105,1.0,1.0,1.0,1.0,1.0])|(29,[0,1,2,3,4,5,6,7,8,9,10,11,12,19,21,26],[0.48936170212765956,1.0,1.0,0.16666666666666666,0.3333333333333333,0.3432657926102503,0.21409324022831977,0.4536355607889314,0.043451652386780906,1.0,0.10510510510510511,1.0,1.0,1.0,1.0,1.0])          |\n",
      "|(29,[0,1,2,3,6,7,8,9,12,18,23,26],[51.0,3.0,4.0,1.0,3418.0,2.594,1887.0,2.333,1.0,1.0,1.0,1.0])                              |(29,[0,1,2,3,6,7,8,9,12,18,23,26],[0.5319148936170213,0.6000000000000001,0.6000000000000001,0.16666666666666666,0.09894822240894735,0.7636149543715043,0.07661065984199399,0.6281637049003771,1.0,1.0,1.0,1.0])                                       |\n",
      "|(29,[0,1,2,3,4,5,6,7,8,9,10,11,13,20,21,26],[40.0,4.0,3.0,4.0,1.0,2517.0,796.0,1.405,1171.0,2.333,0.76,1.0,1.0,1.0,1.0,1.0]) |(29,[0,1,2,3,4,5,6,7,8,9,10,11,13,20,21,26],[0.2978723404255319,0.8,0.4,0.6666666666666666,0.16666666666666666,1.0,0.02297684930316113,0.41360023550191344,0.036775342160899074,0.6281637049003771,0.7607607607607608,1.0,1.0,1.0,1.0,1.0])           |\n",
      "|(29,[0,1,2,3,6,7,8,9,15,18,24,26],[40.0,3.0,5.0,1.0,4716.0,2.175,816.0,2.5,1.0,1.0,1.0,1.0])                                 |(29,[0,1,2,3,6,7,8,9,15,18,24,26],[0.2978723404255319,0.6000000000000001,0.8,0.16666666666666666,0.13655723930113292,0.6402708272004709,0.017024591075998664,0.6731287022078623,1.0,1.0,1.0,1.0])                                                     |\n",
      "+-----------------------------------------------------------------------------------------------------------------------------+------------------------------------------------------------------------------------------------------------------------------------------------------------------------------------------------------------------------------------------------------+\n",
      "only showing top 5 rows\n",
      "\n"
     ]
    },
    {
     "data": {
      "text/plain": [
       "\u001b[32mimport \u001b[39m\u001b[36morg.apache.spark.ml.feature.MinMaxScaler\u001b[39m\n",
       "\u001b[36mscaler\u001b[39m: \u001b[32mMinMaxScaler\u001b[39m = minMaxScal_caf0d549631e\n",
       "\u001b[36mscaled\u001b[39m: \u001b[32mDataFrame\u001b[39m = [Attrition_Flag: string, Customer_Age: int ... 31 more fields]"
      ]
     },
     "execution_count": 35,
     "metadata": {},
     "output_type": "execute_result"
    }
   ],
   "source": [
    "import org.apache.spark.ml.feature.MinMaxScaler\n",
    "\n",
    "val scaler = new MinMaxScaler()\n",
    "  .setInputCol(\"features\")\n",
    "  .setOutputCol(\"scaledFeatures\")\n",
    "\n",
    "val scaled = scaler.fit(assembled).transform(assembled)\n",
    "\n",
    "scaled.select(\"features\", \"scaledFeatures\").show(5, truncate = false)"
   ]
  },
  {
   "cell_type": "markdown",
   "id": "e6d59fbc-de15-4779-a572-a03d83ee7120",
   "metadata": {},
   "source": [
    "## Feature Selection (отбор признаков)"
   ]
  },
  {
   "cell_type": "code",
   "execution_count": 36,
   "id": "f8dc8b56-b2fc-440c-a02c-ee3fe6ab6539",
   "metadata": {},
   "outputs": [
    {
     "data": {
      "text/plain": [
       "\u001b[32mimport \u001b[39m\u001b[36morg.apache.spark.ml.feature.UnivariateFeatureSelector\u001b[39m\n",
       "\u001b[36mselector\u001b[39m: \u001b[32mUnivariateFeatureSelector\u001b[39m = UnivariateFeatureSelector_fd762899cdef\n",
       "\u001b[36mselectModel\u001b[39m: \u001b[32morg\u001b[39m.\u001b[32mapache\u001b[39m.\u001b[32mspark\u001b[39m.\u001b[32mml\u001b[39m.\u001b[32mfeature\u001b[39m.\u001b[32mUnivariateFeatureSelectorModel\u001b[39m = UnivariateFeatureSelectorModel: uid=UnivariateFeatureSelector_fd762899cdef, numSelectedFeatures=21"
      ]
     },
     "execution_count": 36,
     "metadata": {},
     "output_type": "execute_result"
    }
   ],
   "source": [
    "import org.apache.spark.ml.feature.UnivariateFeatureSelector\n",
    "\n",
    "val selector = new UnivariateFeatureSelector()\n",
    "  .setFeatureType(\"continuous\")\n",
    "  .setLabelType(\"categorical\")\n",
    "  .setSelectionMode(\"percentile\")\n",
    "  .setSelectionThreshold(0.75)\n",
    "  .setFeaturesCol(\"scaledFeatures\")\n",
    "  .setLabelCol(\"target\")\n",
    "  .setOutputCol(\"selectedFeatures\")\n",
    "\n",
    "val selectModel = selector.fit(scaled)"
   ]
  },
  {
   "cell_type": "code",
   "execution_count": 37,
   "id": "108b7cf4",
   "metadata": {},
   "outputs": [
    {
     "data": {
      "text/plain": [
       "\u001b[36mres37\u001b[39m: \u001b[32mArray\u001b[39m[\u001b[32mInt\u001b[39m] = \u001b[33mArray\u001b[39m(\n",
       "  \u001b[32m0\u001b[39m,\n",
       "  \u001b[32m1\u001b[39m,\n",
       "  \u001b[32m2\u001b[39m,\n",
       "  \u001b[32m3\u001b[39m,\n",
       "  \u001b[32m4\u001b[39m,\n",
       "  \u001b[32m5\u001b[39m,\n",
       "  \u001b[32m7\u001b[39m,\n",
       "  \u001b[32m8\u001b[39m,\n",
       "  \u001b[32m9\u001b[39m,\n",
       "  \u001b[32m10\u001b[39m,\n",
       "  \u001b[32m11\u001b[39m,\n",
       "  \u001b[32m12\u001b[39m,\n",
       "  \u001b[32m13\u001b[39m,\n",
       "  \u001b[32m14\u001b[39m,\n",
       "  \u001b[32m17\u001b[39m,\n",
       "  \u001b[32m18\u001b[39m,\n",
       "  \u001b[32m19\u001b[39m,\n",
       "  \u001b[32m20\u001b[39m,\n",
       "  \u001b[32m21\u001b[39m,\n",
       "  \u001b[32m22\u001b[39m,\n",
       "  \u001b[32m24\u001b[39m\n",
       ")"
      ]
     },
     "execution_count": 37,
     "metadata": {},
     "output_type": "execute_result"
    }
   ],
   "source": [
    "selectModel.selectedFeatures.sorted"
   ]
  },
  {
   "cell_type": "code",
   "execution_count": 38,
   "id": "317317b9",
   "metadata": {},
   "outputs": [
    {
     "data": {
      "text/plain": [
       "\u001b[36mres38\u001b[39m: \u001b[32mInt\u001b[39m = \u001b[32m21\u001b[39m"
      ]
     },
     "execution_count": 38,
     "metadata": {},
     "output_type": "execute_result"
    }
   ],
   "source": [
    "selectModel.selectedFeatures.length"
   ]
  },
  {
   "cell_type": "code",
   "execution_count": 39,
   "id": "4a13a628",
   "metadata": {},
   "outputs": [
    {
     "data": {
      "text/plain": [
       "\u001b[36mselectedFeaturesMap\u001b[39m: \u001b[32mMap\u001b[39m[\u001b[32mInt\u001b[39m, \u001b[32mString\u001b[39m] = \u001b[33mMap\u001b[39m(\n",
       "  \u001b[32m0\u001b[39m -> \u001b[32m\"Total_Relationship_Count\"\u001b[39m,\n",
       "  \u001b[32m5\u001b[39m -> \u001b[32m\"Total_Trans_Amt\"\u001b[39m,\n",
       "  \u001b[32m10\u001b[39m -> \u001b[32m\"Marital_Status_Indexed\"\u001b[39m,\n",
       "  \u001b[32m14\u001b[39m -> \u001b[32m\"Customer_Age\"\u001b[39m,\n",
       "  \u001b[32m20\u001b[39m -> \u001b[32m\"Marital_Status_Indexed\"\u001b[39m,\n",
       "  \u001b[32m1\u001b[39m -> \u001b[32m\"Months_Inactive_12_mon\"\u001b[39m,\n",
       "  \u001b[32m6\u001b[39m -> \u001b[32m\"Total_Ct_Chng_Q4_Q1\"\u001b[39m,\n",
       "  \u001b[32m9\u001b[39m -> \u001b[32m\"Income_Category_Indexed\"\u001b[39m,\n",
       "  \u001b[32m13\u001b[39m -> \u001b[32m\"Marital_Status_Indexed\"\u001b[39m,\n",
       "  \u001b[32m2\u001b[39m -> \u001b[32m\"Contacts_Count_12_mon\"\u001b[39m,\n",
       "  \u001b[32m17\u001b[39m -> \u001b[32m\"Education_Level_Indexed\"\u001b[39m,\n",
       "  \u001b[32m12\u001b[39m -> \u001b[32m\"Dependent_count\"\u001b[39m,\n",
       "  \u001b[32m7\u001b[39m -> \u001b[32m\"Avg_Utilization_Ratio\"\u001b[39m,\n",
       "  \u001b[32m3\u001b[39m -> \u001b[32m\"Total_Revolving_Bal\"\u001b[39m,\n",
       "  \u001b[32m18\u001b[39m -> \u001b[32m\"Education_Level_Indexed\"\u001b[39m,\n",
       "  \u001b[32m16\u001b[39m -> \u001b[32m\"Income_Category_Indexed\"\u001b[39m,\n",
       "  \u001b[32m11\u001b[39m -> \u001b[32m\"Income_Category_Indexed\"\u001b[39m,\n",
       "  \u001b[32m8\u001b[39m -> \u001b[32m\"Gender_Indexed\"\u001b[39m,\n",
       "  \u001b[32m19\u001b[39m -> \u001b[32m\"Education_Level_Indexed\"\u001b[39m,\n",
       "  \u001b[32m4\u001b[39m -> \u001b[32m\"Total_Amt_Chng_Q4_Q1\"\u001b[39m,\n",
       "  \u001b[32m15\u001b[39m -> \u001b[32m\"Education_Level_Indexed\"\u001b[39m\n",
       ")"
      ]
     },
     "execution_count": 39,
     "metadata": {},
     "output_type": "execute_result"
    }
   ],
   "source": [
    "val selectedFeaturesMap = selectModel.selectedFeatures.map(featureColumnsMap.getOrElse(_, \"\")).zipWithIndex.map(i => (i._2, i._1)).toMap"
   ]
  },
  {
   "cell_type": "code",
   "execution_count": 40,
   "id": "2a4dc9c2",
   "metadata": {},
   "outputs": [
    {
     "name": "stdout",
     "output_type": "stream",
     "text": [
      "+------------------------------------------------------------------------------------------------------------------------------------------------------------------------------------------------------------------------------------------------------+-------------------------------------------------------------------------------------------------------------------------------------------------------------------------------------------------------------------------+\n",
      "|scaledFeatures                                                                                                                                                                                                                                        |selectedFeatures                                                                                                                                                                                                         |\n",
      "+------------------------------------------------------------------------------------------------------------------------------------------------------------------------------------------------------------------------------------------------------+-------------------------------------------------------------------------------------------------------------------------------------------------------------------------------------------------------------------------+\n",
      "|(29,[0,1,2,3,4,5,6,7,8,9,10,13,18,24,26],[0.40425531914893614,0.6000000000000001,0.8,0.16666666666666666,0.5,0.30870083432657924,0.3451163329759801,0.39299381807477185,0.03527317236007566,0.43753365643511044,0.061061061061061066,1.0,1.0,1.0,1.0])|(21,[0,1,2,3,4,5,6,7,8,9,12,15,20],[0.40425531914893614,0.6000000000000001,0.8,0.16666666666666666,0.5,0.30870083432657924,0.39299381807477185,0.03527317236007566,0.43753365643511044,0.061061061061061066,1.0,1.0,1.0])|\n",
      "|(29,[0,1,2,3,4,5,6,7,8,9,10,11,12,19,21,26],[0.48936170212765956,1.0,1.0,0.16666666666666666,0.3333333333333333,0.3432657926102503,0.21409324022831977,0.4536355607889314,0.043451652386780906,1.0,0.10510510510510511,1.0,1.0,1.0,1.0,1.0])          |(21,[0,1,2,3,4,5,6,7,8,9,10,11,16,18],[0.48936170212765956,1.0,1.0,0.16666666666666666,0.3333333333333333,0.3432657926102503,0.4536355607889314,0.043451652386780906,1.0,0.10510510510510511,1.0,1.0,1.0,1.0])           |\n",
      "|(29,[0,1,2,3,6,7,8,9,12,18,23,26],[0.5319148936170213,0.6000000000000001,0.6000000000000001,0.16666666666666666,0.09894822240894735,0.7636149543715043,0.07661065984199399,0.6281637049003771,1.0,1.0,1.0,1.0])                                       |(21,[0,1,2,3,6,7,8,11,15],[0.5319148936170213,0.6000000000000001,0.6000000000000001,0.16666666666666666,0.7636149543715043,0.07661065984199399,0.6281637049003771,1.0,1.0])                                              |\n",
      "|(29,[0,1,2,3,4,5,6,7,8,9,10,11,13,20,21,26],[0.2978723404255319,0.8,0.4,0.6666666666666666,0.16666666666666666,1.0,0.02297684930316113,0.41360023550191344,0.036775342160899074,0.6281637049003771,0.7607607607607608,1.0,1.0,1.0,1.0,1.0])           |(21,[0,1,2,3,4,5,6,7,8,9,10,12,17,18],[0.2978723404255319,0.8,0.4,0.6666666666666666,0.16666666666666666,1.0,0.41360023550191344,0.036775342160899074,0.6281637049003771,0.7607607607607608,1.0,1.0,1.0,1.0])            |\n",
      "|(29,[0,1,2,3,6,7,8,9,15,18,24,26],[0.2978723404255319,0.6000000000000001,0.8,0.16666666666666666,0.13655723930113292,0.6402708272004709,0.017024591075998664,0.6731287022078623,1.0,1.0,1.0,1.0])                                                     |(21,[0,1,2,3,6,7,8,15,20],[0.2978723404255319,0.6000000000000001,0.8,0.16666666666666666,0.6402708272004709,0.017024591075998664,0.6731287022078623,1.0,1.0])                                                            |\n",
      "+------------------------------------------------------------------------------------------------------------------------------------------------------------------------------------------------------------------------------------------------------+-------------------------------------------------------------------------------------------------------------------------------------------------------------------------------------------------------------------------+\n",
      "only showing top 5 rows\n",
      "\n"
     ]
    },
    {
     "data": {
      "text/plain": [
       "\u001b[36mdataF\u001b[39m: \u001b[32mDataFrame\u001b[39m = [Attrition_Flag: string, Customer_Age: int ... 32 more fields]"
      ]
     },
     "execution_count": 40,
     "metadata": {},
     "output_type": "execute_result"
    }
   ],
   "source": [
    "val dataF = selectModel.transform(scaled)\n",
    "\n",
    "dataF.select(\"scaledFeatures\", \"selectedFeatures\").show(5, truncate = false)"
   ]
  },
  {
   "cell_type": "markdown",
   "id": "60bb5508-b12a-4bb6-8711-411b5199dc15",
   "metadata": {},
   "source": [
    "## Моделирование"
   ]
  },
  {
   "cell_type": "markdown",
   "id": "09f619f0-7bbf-4856-8f19-bf48e9c4a513",
   "metadata": {},
   "source": [
    "### Обучающая и тестовая выборки"
   ]
  },
  {
   "cell_type": "code",
   "execution_count": 41,
   "id": "ff2a780d-d6ac-4bb8-b04c-60e54e160490",
   "metadata": {},
   "outputs": [
    {
     "name": "stdout",
     "output_type": "stream",
     "text": [
      "training\t11614\n",
      "test\t\t5021\n"
     ]
    },
    {
     "data": {
      "text/plain": [
       "\u001b[36mtt\u001b[39m: \u001b[32mArray\u001b[39m[\u001b[32mDataset\u001b[39m[\u001b[32mRow\u001b[39m]] = \u001b[33mArray\u001b[39m(\n",
       "  [Attrition_Flag: string, Customer_Age: int ... 32 more fields],\n",
       "  [Attrition_Flag: string, Customer_Age: int ... 32 more fields]\n",
       ")\n",
       "\u001b[36mtraining\u001b[39m: \u001b[32mDataset\u001b[39m[\u001b[32mRow\u001b[39m] = [Attrition_Flag: string, Customer_Age: int ... 32 more fields]\n",
       "\u001b[36mtest\u001b[39m: \u001b[32mDataset\u001b[39m[\u001b[32mRow\u001b[39m] = [Attrition_Flag: string, Customer_Age: int ... 32 more fields]"
      ]
     },
     "execution_count": 41,
     "metadata": {},
     "output_type": "execute_result"
    }
   ],
   "source": [
    "val tt: Array[Dataset[Row]] = dataF.randomSplit(Array(0.7, 0.3))\n",
    "val training = tt(0)\n",
    "val test = tt(1)\n",
    "\n",
    "println(s\"training\\t${training.count()}\\ntest\\t\\t${test.count()}\")"
   ]
  },
  {
   "cell_type": "markdown",
   "id": "ac926905-6ead-43d2-a794-9e8628d992dd",
   "metadata": {},
   "source": [
    "### Логистическая регрессия"
   ]
  },
  {
   "cell_type": "code",
   "execution_count": 42,
   "id": "5dd9f5bf-2b6b-4d49-9908-16eefa343232",
   "metadata": {},
   "outputs": [
    {
     "name": "stdout",
     "output_type": "stream",
     "text": [
      "Coefficients: (21,[8],[-1.828394327484724]) Intercept: 0.25308316482300813\n"
     ]
    },
    {
     "data": {
      "text/plain": [
       "\u001b[32mimport \u001b[39m\u001b[36morg.apache.spark.ml.classification.LogisticRegression\u001b[39m\n",
       "\u001b[36mlr\u001b[39m: \u001b[32mLogisticRegression\u001b[39m = logreg_d10f0f8d8308\n",
       "\u001b[36mlrModel\u001b[39m: \u001b[32morg\u001b[39m.\u001b[32mapache\u001b[39m.\u001b[32mspark\u001b[39m.\u001b[32mml\u001b[39m.\u001b[32mclassification\u001b[39m.\u001b[32mLogisticRegressionModel\u001b[39m = LogisticRegressionModel: uid=logreg_d10f0f8d8308, numClasses=2, numFeatures=21"
      ]
     },
     "execution_count": 42,
     "metadata": {},
     "output_type": "execute_result"
    }
   ],
   "source": [
    "import org.apache.spark.ml.classification.LogisticRegression\n",
    "\n",
    "val lr = new LogisticRegression()\n",
    "        .setMaxIter(1000)\n",
    "        .setRegParam(0.2)\n",
    "        .setElasticNetParam(0.8)\n",
    "        .setFamily(\"binomial\")\n",
    "        .setFeaturesCol(\"selectedFeatures\")\n",
    "        .setLabelCol(\"target\")\n",
    "\n",
    "val lrModel = lr.fit(training)\n",
    "\n",
    "println(s\"Coefficients: ${lrModel.coefficients} Intercept: ${lrModel.intercept}\")"
   ]
  },
  {
   "cell_type": "code",
   "execution_count": 43,
   "id": "f5fc5916",
   "metadata": {},
   "outputs": [
    {
     "data": {
      "text/plain": [
       "\u001b[36mcoefficientsIndices\u001b[39m: \u001b[32mList\u001b[39m[\u001b[32mInt\u001b[39m] = \u001b[33mList\u001b[39m(\u001b[32m8\u001b[39m)\n",
       "\u001b[36mres43_1\u001b[39m: \u001b[32mList\u001b[39m[\u001b[32mString\u001b[39m] = \u001b[33mList\u001b[39m(\u001b[32m\"Gender_Indexed\"\u001b[39m)"
      ]
     },
     "execution_count": 43,
     "metadata": {},
     "output_type": "execute_result"
    }
   ],
   "source": [
    "val coefficientsIndices = lrModel.coefficients.toSparse.indices.toList\n",
    "coefficientsIndices.map(i => selectedFeaturesMap.getOrElse(i, \"\"))"
   ]
  },
  {
   "cell_type": "markdown",
   "id": "4b9b5499-19aa-4b81-b223-52c27e54d035",
   "metadata": {},
   "source": [
    "### Training Summary"
   ]
  },
  {
   "cell_type": "code",
   "execution_count": 44,
   "id": "1dde82fa-c440-44d0-8de1-f7b5d74479f9",
   "metadata": {},
   "outputs": [
    {
     "name": "stdout",
     "output_type": "stream",
     "text": [
      "accuracy: 0.6915791286378509\n",
      "areaUnderROC: 0.7502842702770632\n"
     ]
    },
    {
     "data": {
      "text/plain": [
       "\u001b[36mtrainingSummary\u001b[39m: \u001b[32morg\u001b[39m.\u001b[32mapache\u001b[39m.\u001b[32mspark\u001b[39m.\u001b[32mml\u001b[39m.\u001b[32mclassification\u001b[39m.\u001b[32mBinaryLogisticRegressionTrainingSummary\u001b[39m = org.apache.spark.ml.classification.BinaryLogisticRegressionTrainingSummaryImpl@2e4e56b7"
      ]
     },
     "execution_count": 44,
     "metadata": {},
     "output_type": "execute_result"
    }
   ],
   "source": [
    "val trainingSummary = lrModel.binarySummary\n",
    "\n",
    "println(s\"accuracy: ${trainingSummary.accuracy}\")\n",
    "println(s\"areaUnderROC: ${trainingSummary.areaUnderROC}\")"
   ]
  },
  {
   "cell_type": "markdown",
   "id": "757791b3-9eec-4c88-8272-cc2c23e855b2",
   "metadata": {},
   "source": [
    "### Проверяем модель на тестовой выборке"
   ]
  },
  {
   "cell_type": "code",
   "execution_count": 45,
   "id": "ff420e42-b7dc-444a-96bd-84b677e14a3f",
   "metadata": {},
   "outputs": [
    {
     "name": "stdout",
     "output_type": "stream",
     "text": [
      "+------+--------------------------------------------+----------------------------------------+----------+\n",
      "|target|rawPrediction                               |probability                             |prediction|\n",
      "+------+--------------------------------------------+----------------------------------------+----------+\n",
      "|0     |[-0.021210863195300772,0.021210863195300772]|[0.494697483000201,0.505302516999799]   |1.0       |\n",
      "|0     |[0.19343101262143048,-0.19343101262143048]  |[0.5482075374829377,0.4517924625170623] |0.0       |\n",
      "|0     |[0.1314014797019164,-0.1314014797019164]    |[0.5328031842339682,0.4671968157660318] |0.0       |\n",
      "|0     |[-0.006934224666206273,0.006934224666206273]|[0.4982664507796982,0.5017335492203018] |1.0       |\n",
      "|0     |[-0.025641544118123194,0.025641544118123194]|[0.49358996517712117,0.5064100348228788]|1.0       |\n",
      "|0     |[-0.05124103389443063,0.05124103389443063]  |[0.4871925437216875,0.5128074562783125] |1.0       |\n",
      "|0     |[0.1776774804513951,-0.1776774804513951]    |[0.5443028805278395,0.4556971194721605] |0.0       |\n",
      "|0     |[0.14075513942787488,-0.14075513942787488]  |[0.5351308030169373,0.4648691969830627] |0.0       |\n",
      "|0     |[-0.0502564381338034,0.0502564381338034]    |[0.48743853423978883,0.5125614657602111]|1.0       |\n",
      "|0     |[-0.006934224666206273,0.006934224666206273]|[0.4982664507796982,0.5017335492203018] |1.0       |\n",
      "+------+--------------------------------------------+----------------------------------------+----------+\n",
      "only showing top 10 rows\n",
      "\n"
     ]
    },
    {
     "data": {
      "text/plain": [
       "\u001b[36mpredicted\u001b[39m: \u001b[32mDataFrame\u001b[39m = [Attrition_Flag: string, Customer_Age: int ... 35 more fields]"
      ]
     },
     "execution_count": 45,
     "metadata": {},
     "output_type": "execute_result"
    }
   ],
   "source": [
    "val predicted = lrModel.transform(test)\n",
    "\n",
    "predicted.select(\"target\", \"rawPrediction\", \"probability\", \"prediction\").show(10, truncate = false)"
   ]
  },
  {
   "cell_type": "code",
   "execution_count": 46,
   "id": "6a63183b-e900-4502-8a09-3102d06ef3c7",
   "metadata": {},
   "outputs": [
    {
     "name": "stdout",
     "output_type": "stream",
     "text": [
      "areaUnderROC: 0.7341037921909442\n",
      "\n"
     ]
    },
    {
     "data": {
      "text/plain": [
       "\u001b[32mimport \u001b[39m\u001b[36morg.apache.spark.ml.evaluation.BinaryClassificationEvaluator\u001b[39m\n",
       "\u001b[36mevaluator\u001b[39m: \u001b[32mBinaryClassificationEvaluator\u001b[39m = BinaryClassificationEvaluator: uid=binEval_14f9150b9693, metricName=areaUnderROC, numBins=1000"
      ]
     },
     "execution_count": 46,
     "metadata": {},
     "output_type": "execute_result"
    }
   ],
   "source": [
    "import org.apache.spark.ml.evaluation.BinaryClassificationEvaluator\n",
    "\n",
    "val evaluator = new BinaryClassificationEvaluator().setLabelCol(\"target\")\n",
    "\n",
    "println(s\"areaUnderROC: ${evaluator.evaluate(predicted)}\\n\")"
   ]
  },
  {
   "cell_type": "markdown",
   "id": "95d6c913-426c-4198-8e06-05820721c753",
   "metadata": {},
   "source": [
    "#### Confusion Matrix (матрица ошибок)\n",
    "\n",
    "* True Positive (TP) - label is positive and prediction is also positive\n",
    "* True Negative (TN) - label is negative and prediction is also negative\n",
    "* False Positive (FP) - label is negative but prediction is positive\n",
    "* False Negative (FN) - label is positive but prediction is negative"
   ]
  },
  {
   "cell_type": "code",
   "execution_count": 47,
   "id": "aff1e1e3-157e-4b5e-9828-2aa5c886e612",
   "metadata": {},
   "outputs": [
    {
     "name": "stdout",
     "output_type": "stream",
     "text": [
      "Confusion Matrix:\n",
      "1169\t258\n",
      "1353\t2241\n",
      "\n"
     ]
    },
    {
     "data": {
      "text/plain": [
       "\u001b[36mtp\u001b[39m: \u001b[32mLong\u001b[39m = \u001b[32m1169L\u001b[39m\n",
       "\u001b[36mtn\u001b[39m: \u001b[32mLong\u001b[39m = \u001b[32m2241L\u001b[39m\n",
       "\u001b[36mfp\u001b[39m: \u001b[32mLong\u001b[39m = \u001b[32m258L\u001b[39m\n",
       "\u001b[36mfn\u001b[39m: \u001b[32mLong\u001b[39m = \u001b[32m1353L\u001b[39m"
      ]
     },
     "execution_count": 47,
     "metadata": {},
     "output_type": "execute_result"
    }
   ],
   "source": [
    "val tp = predicted.filter(($\"target\" === 1) and ($\"prediction\" === 1)).count()\n",
    "val tn = predicted.filter(($\"target\" === 0) and ($\"prediction\" === 0)).count()\n",
    "val fp = predicted.filter(($\"target\" === 0) and ($\"prediction\" === 1)).count()\n",
    "val fn = predicted.filter(($\"target\" === 1) and ($\"prediction\" === 0)).count()\n",
    "\n",
    "println(s\"Confusion Matrix:\\n$tp\\t$fp\\n$fn\\t$tn\\n\")"
   ]
  },
  {
   "cell_type": "markdown",
   "id": "c94ee248-bb40-48c4-bd2b-11ce80ce2468",
   "metadata": {},
   "source": [
    "#### Accuracy, Precision, Recall\n",
    "\n",
    "* Accuracy (доля правильных ответов) = TP + TN / TP + TN + FP + FN\n",
    "* Precision (точность) = TP / TP + FP\n",
    "* Recall (полнота) = TP / TP + FN"
   ]
  },
  {
   "cell_type": "code",
   "execution_count": 48,
   "id": "a8a96284-0f9d-42bb-8093-6bc2abf6905a",
   "metadata": {},
   "outputs": [
    {
     "name": "stdout",
     "output_type": "stream",
     "text": [
      "Accuracy = 0.6791475801633141\n",
      "Precision = 0.8192011212333566\n",
      "Recall = 0.46352101506740684\n",
      "\n"
     ]
    },
    {
     "data": {
      "text/plain": [
       "\u001b[36maccuracy\u001b[39m: \u001b[32mDouble\u001b[39m = \u001b[32m0.6791475801633141\u001b[39m\n",
       "\u001b[36mprecision\u001b[39m: \u001b[32mDouble\u001b[39m = \u001b[32m0.8192011212333566\u001b[39m\n",
       "\u001b[36mrecall\u001b[39m: \u001b[32mDouble\u001b[39m = \u001b[32m0.46352101506740684\u001b[39m"
      ]
     },
     "execution_count": 48,
     "metadata": {},
     "output_type": "execute_result"
    }
   ],
   "source": [
    "val accuracy = (tp + tn) / (tp + tn + fp + fn).toDouble\n",
    "val precision = tp / (tp + fp).toDouble\n",
    "val recall = tp / (tp + fn).toDouble\n",
    "\n",
    "println(s\"Accuracy = $accuracy\")\n",
    "println(s\"Precision = $precision\")\n",
    "println(s\"Recall = $recall\\n\")"
   ]
  },
  {
   "cell_type": "markdown",
   "id": "1c224c31-47c1-41ff-988c-759b4b21b1a2",
   "metadata": {},
   "source": [
    "## Настраиваем модель (подбираем гиперпараметры)"
   ]
  },
  {
   "cell_type": "code",
   "execution_count": 49,
   "id": "75151856-41e6-4147-ba78-1a05f9184579",
   "metadata": {},
   "outputs": [
    {
     "data": {
      "text/plain": [
       "\u001b[32mimport \u001b[39m\u001b[36morg.apache.spark.ml.tuning.{ParamGridBuilder, TrainValidationSplit}\u001b[39m\n",
       "\u001b[36mparamGrid\u001b[39m: \u001b[32mArray\u001b[39m[\u001b[32morg\u001b[39m.\u001b[32mapache\u001b[39m.\u001b[32mspark\u001b[39m.\u001b[32mml\u001b[39m.\u001b[32mparam\u001b[39m.\u001b[32mParamMap\u001b[39m] = \u001b[33mArray\u001b[39m(\n",
       "  {\n",
       "\tlogreg_d10f0f8d8308-elasticNetParam: 0.0,\n",
       "\tlogreg_d10f0f8d8308-fitIntercept: true,\n",
       "\tlogreg_d10f0f8d8308-regParam: 0.01\n",
       "},\n",
       "  {\n",
       "\tlogreg_d10f0f8d8308-elasticNetParam: 0.5,\n",
       "\tlogreg_d10f0f8d8308-fitIntercept: true,\n",
       "\tlogreg_d10f0f8d8308-regParam: 0.01\n",
       "},\n",
       "  {\n",
       "\tlogreg_d10f0f8d8308-elasticNetParam: 1.0,\n",
       "\tlogreg_d10f0f8d8308-fitIntercept: true,\n",
       "\tlogreg_d10f0f8d8308-regParam: 0.01\n",
       "},\n",
       "  {\n",
       "\tlogreg_d10f0f8d8308-elasticNetParam: 0.0,\n",
       "\tlogreg_d10f0f8d8308-fitIntercept: false,\n",
       "\tlogreg_d10f0f8d8308-regParam: 0.01\n",
       "},\n",
       "  {\n",
       "\tlogreg_d10f0f8d8308-elasticNetParam: 0.5,\n",
       "\tlogreg_d10f0f8d8308-fitIntercept: false,\n",
       "\tlogreg_d10f0f8d8308-regParam: 0.01\n",
       "},\n",
       "  {\n",
       "\tlogreg_d10f0f8d8308-elasticNetParam: 1.0,\n",
       "\tlogreg_d10f0f8d8308-fitIntercept: false,\n",
       "\tlogreg_d10f0f8d8308-regParam: 0.01\n",
       "},\n",
       "  {\n",
       "\tlogreg_d10f0f8d8308-elasticNetParam: 0.0,\n",
       "\tlogreg_d10f0f8d8308-fitIntercept: true,\n",
       "\tlogreg_d10f0f8d8308-regParam: 0.1\n",
       "},\n",
       "  {\n",
       "\tlogreg_d10f0f8d8308-elasticNetParam: 0.5,\n",
       "\tlogreg_d10f0f8d8308-fitIntercept: true,\n",
       "...\n",
       "\u001b[36mtrainValidationSplit\u001b[39m: \u001b[32mTrainValidationSplit\u001b[39m = tvs_e2841df8535b\n",
       "\u001b[36mmodel\u001b[39m: \u001b[32morg\u001b[39m.\u001b[32mapache\u001b[39m.\u001b[32mspark\u001b[39m.\u001b[32mml\u001b[39m.\u001b[32mtuning\u001b[39m.\u001b[32mTrainValidationSplitModel\u001b[39m = TrainValidationSplitModel: uid=tvs_e2841df8535b, bestModel=LogisticRegressionModel: uid=logreg_d10f0f8d8308, numClasses=2, numFeatures=21, trainRatio=0.7"
      ]
     },
     "execution_count": 49,
     "metadata": {},
     "output_type": "execute_result"
    }
   ],
   "source": [
    "import org.apache.spark.ml.tuning.{ParamGridBuilder, TrainValidationSplit}\n",
    "\n",
    "val paramGrid = new ParamGridBuilder()\n",
    "  .addGrid(lr.regParam, Array(0.01, 0.1, 0.5))\n",
    "  .addGrid(lr.fitIntercept)\n",
    "  .addGrid(lr.elasticNetParam, Array(0.0, 0.5, 1.0))\n",
    "  .build()\n",
    "\n",
    "val trainValidationSplit = new TrainValidationSplit()\n",
    "  .setEstimator(lr)\n",
    "  .setEvaluator(evaluator)\n",
    "  .setEstimatorParamMaps(paramGrid)\n",
    "  .setTrainRatio(0.7)\n",
    "  .setParallelism(2)\n",
    "\n",
    "val model = trainValidationSplit.fit(dataF)"
   ]
  },
  {
   "cell_type": "code",
   "execution_count": 50,
   "id": "2efc80a3-f16b-42be-ac17-0b38e6b41f79",
   "metadata": {},
   "outputs": [
    {
     "data": {
      "text/plain": [
       "\u001b[36mres50\u001b[39m: \u001b[32morg\u001b[39m.\u001b[32mapache\u001b[39m.\u001b[32mspark\u001b[39m.\u001b[32mml\u001b[39m.\u001b[32mparam\u001b[39m.\u001b[32mParamMap\u001b[39m = {\n",
       "\tlogreg_d10f0f8d8308-aggregationDepth: 2,\n",
       "\tlogreg_d10f0f8d8308-elasticNetParam: 0.0,\n",
       "\tlogreg_d10f0f8d8308-family: binomial,\n",
       "\tlogreg_d10f0f8d8308-featuresCol: selectedFeatures,\n",
       "\tlogreg_d10f0f8d8308-fitIntercept: true,\n",
       "\tlogreg_d10f0f8d8308-labelCol: target,\n",
       "\tlogreg_d10f0f8d8308-maxBlockSizeInMB: 0.0,\n",
       "\tlogreg_d10f0f8d8308-maxIter: 1000,\n",
       "\tlogreg_d10f0f8d8308-predictionCol: prediction,\n",
       "\tlogreg_d10f0f8d8308-probabilityCol: probability,\n",
       "\tlogreg_d10f0f8d8308-rawPredictionCol: rawPrediction,\n",
       "\tlogreg_d10f0f8d8308-regParam: 0.01,\n",
       "\tlogreg_d10f0f8d8308-standardization: true,\n",
       "\tlogreg_d10f0f8d8308-threshold: 0.5,\n",
       "\tlogreg_d10f0f8d8308-tol: 1.0E-6\n",
       "}"
      ]
     },
     "execution_count": 50,
     "metadata": {},
     "output_type": "execute_result"
    }
   ],
   "source": [
    "model.bestModel.extractParamMap()"
   ]
  },
  {
   "cell_type": "markdown",
   "id": "b3fb4e5b-27e2-42f8-a644-d7375a221344",
   "metadata": {},
   "source": [
    "## Собираем всё вместе (Pipeline)\n",
    "\n",
    "1. Отобрали числовые признаки: numericColumnsFinal\n",
    "2. Проиндексировали строковые признаки: indexer\n",
    "3. Закодировали категориальные признки: encoder\n",
    "4. Собрали признаки в вектор: assembler\n",
    "5. Нормализовали признаки: scaler\n",
    "6. Провели отбор признаков: selector\n",
    "7. Рассчитали модель: bestML "
   ]
  },
  {
   "cell_type": "code",
   "execution_count": 51,
   "id": "40e15077-5834-404b-9e35-1bd71db981f0",
   "metadata": {},
   "outputs": [
    {
     "data": {
      "text/plain": [
       "\u001b[32mimport \u001b[39m\u001b[36morg.apache.spark.ml.Pipeline\u001b[39m\n",
       "\u001b[36mpipeline\u001b[39m: \u001b[32mPipeline\u001b[39m = pipeline_1689ca306aa8"
      ]
     },
     "execution_count": 51,
     "metadata": {},
     "output_type": "execute_result"
    }
   ],
   "source": [
    "import org.apache.spark.ml.Pipeline\n",
    "\n",
    "val pipeline = new Pipeline().setStages(Array(indexer, encoder, assembler, scaler, selector, model.bestModel))"
   ]
  },
  {
   "cell_type": "code",
   "execution_count": 52,
   "id": "3ea3268f-db9a-49ad-b95f-e06e9ef7c841",
   "metadata": {},
   "outputs": [
    {
     "data": {
      "text/plain": [
       "\u001b[36mtrainingData\u001b[39m: \u001b[32mDataset\u001b[39m[\u001b[32mRow\u001b[39m] = [Attrition_Flag: string, Customer_Age: int ... 19 more fields]\n",
       "\u001b[36mtestData\u001b[39m: \u001b[32mDataset\u001b[39m[\u001b[32mRow\u001b[39m] = [Attrition_Flag: string, Customer_Age: int ... 19 more fields]\n",
       "\u001b[36mpipelineModel\u001b[39m: \u001b[32morg\u001b[39m.\u001b[32mapache\u001b[39m.\u001b[32mspark\u001b[39m.\u001b[32mml\u001b[39m.\u001b[32mPipelineModel\u001b[39m = pipeline_1689ca306aa8"
      ]
     },
     "execution_count": 52,
     "metadata": {},
     "output_type": "execute_result"
    }
   ],
   "source": [
    "val Array(trainingData, testData) = data.randomSplit(Array(0.7, 0.3))\n",
    "\n",
    "val pipelineModel = pipeline.fit(trainingData)"
   ]
  },
  {
   "cell_type": "markdown",
   "id": "2650a672-b2c3-4c9b-8e77-de3035267d22",
   "metadata": {},
   "source": [
    "## Сохраняем модель"
   ]
  },
  {
   "cell_type": "code",
   "execution_count": 53,
   "id": "c8d4e858-94f3-4cda-aeaf-745691563efc",
   "metadata": {
    "scrolled": true
   },
   "outputs": [],
   "source": [
    "pipelineModel.write.overwrite().save(s\"pipelineModel\")"
   ]
  },
  {
   "cell_type": "code",
   "execution_count": null,
   "id": "865c12cf-5b41-4042-be6f-96cd0e89693f",
   "metadata": {},
   "outputs": [],
   "source": []
  }
 ],
 "metadata": {
  "kernelspec": {
   "display_name": "Scala (2.12)",
   "language": "scala",
   "name": "scala212"
  },
  "language_info": {
   "codemirror_mode": "text/x-scala",
   "file_extension": ".sc",
   "mimetype": "text/x-scala",
   "name": "scala",
   "nbconvert_exporter": "script",
   "version": "2.12.18"
  }
 },
 "nbformat": 4,
 "nbformat_minor": 5
}
