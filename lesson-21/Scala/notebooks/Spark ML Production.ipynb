{
 "cells": [
  {
   "cell_type": "code",
   "execution_count": 1,
   "id": "616caf56-4a97-4d23-8e09-c1eab9f07e2a",
   "metadata": {},
   "outputs": [
    {
     "data": {
      "text/plain": [
       "\u001b[32mimport \u001b[39m\u001b[36m$ivy.$\u001b[39m\n",
       "\u001b[32mimport \u001b[39m\u001b[36m$ivy.$\u001b[39m\n",
       "\u001b[32mimport \u001b[39m\u001b[36morg.apache.log4j.{Level, Logger}\u001b[39m"
      ]
     },
     "execution_count": 1,
     "metadata": {},
     "output_type": "execute_result"
    }
   ],
   "source": [
    "import $ivy.`org.apache.spark::spark-sql:3.5.5`\n",
    "import $ivy.`org.apache.spark::spark-mllib:3.5.5`\n",
    "import org.apache.log4j.{Level, Logger}\n",
    "Logger.getLogger(\"org\").setLevel(Level.WARN)"
   ]
  },
  {
   "cell_type": "markdown",
   "id": "0265f45b-bb74-43a8-88bb-dc1b0eefe9e7",
   "metadata": {},
   "source": [
    "# Spark ML Production"
   ]
  },
  {
   "cell_type": "code",
   "execution_count": 2,
   "id": "a91c427f-0fe8-4594-8a38-e47f8ea5c907",
   "metadata": {
    "scrolled": true
   },
   "outputs": [
    {
     "name": "stderr",
     "output_type": "stream",
     "text": [
      "Using Spark's default log4j profile: org/apache/spark/log4j2-defaults.properties\n",
      "25/03/13 14:45:04 INFO SparkContext: Running Spark version 3.5.5\n",
      "25/03/13 14:45:04 INFO SparkContext: OS info Mac OS X, 15.3.2, aarch64\n",
      "25/03/13 14:45:04 INFO SparkContext: Java version 11.0.26\n",
      "25/03/13 14:45:04 WARN NativeCodeLoader: Unable to load native-hadoop library for your platform... using builtin-java classes where applicable\n",
      "Setting Spark log level to \"WARN\".\n",
      "25/03/13 14:45:05 WARN Utils: Service 'SparkUI' could not bind on port 4040. Attempting port 4041.\n"
     ]
    },
    {
     "data": {
      "text/plain": [
       "\u001b[32mimport \u001b[39m\u001b[36morg.apache.spark.sql._\u001b[39m\n",
       "\u001b[32mimport \u001b[39m\u001b[36morg.apache.spark.sql.functions._\u001b[39m\n",
       "\u001b[36mspark\u001b[39m: \u001b[32mSparkSession\u001b[39m = org.apache.spark.sql.SparkSession@33d1ef23\n",
       "\u001b[32mimport \u001b[39m\u001b[36mspark.implicits._\u001b[39m"
      ]
     },
     "execution_count": 2,
     "metadata": {},
     "output_type": "execute_result"
    }
   ],
   "source": [
    "import org.apache.spark.sql._\n",
    "import org.apache.spark.sql.functions._\n",
    "\n",
    "val spark = SparkSession\n",
    "                .builder()\n",
    "                .master(\"local[*]\")\n",
    "                .appName(\"Spark ML Production\")\n",
    "                .config(\"spark.sql.debug.maxToStringFields\", 1024)\n",
    "                .config(\"spark.log.level\", \"WARN\")\n",
    "                .getOrCreate()\n",
    "\n",
    "import spark.implicits._\n",
    "\n",
    "spark.sparkContext.setLogLevel(\"WARN\")"
   ]
  },
  {
   "cell_type": "markdown",
   "id": "bfad6bd9-d7ba-4ac7-b6a7-cbca56edb3fc",
   "metadata": {},
   "source": [
    "## Загружаем данные"
   ]
  },
  {
   "cell_type": "code",
   "execution_count": 3,
   "id": "f4718b09-7c03-46f4-86d6-623a4b50c232",
   "metadata": {},
   "outputs": [
    {
     "data": {
      "text/plain": [
       "\u001b[36mdata\u001b[39m: \u001b[32mDataFrame\u001b[39m = [CLIENTNUM: int, Attrition_Flag: string ... 21 more fields]"
      ]
     },
     "execution_count": 3,
     "metadata": {},
     "output_type": "execute_result"
    }
   ],
   "source": [
    "val data = spark\n",
    "        .read\n",
    "        .option(\"header\", \"true\")\n",
    "        .option(\"inferSchema\", \"true\")\n",
    "        .csv(s\"../../data/BankChurners.csv\")"
   ]
  },
  {
   "cell_type": "markdown",
   "id": "015a2815-7bbe-42b6-82c0-62e2770bb06c",
   "metadata": {},
   "source": [
    "## Загружаем модель"
   ]
  },
  {
   "cell_type": "code",
   "execution_count": 4,
   "id": "8b34c59c-39dc-495a-a188-7e009b8ba46d",
   "metadata": {},
   "outputs": [
    {
     "data": {
      "text/plain": [
       "\u001b[32mimport \u001b[39m\u001b[36morg.apache.spark.ml.PipelineModel\u001b[39m\n",
       "\u001b[36mmodel\u001b[39m: \u001b[32mPipelineModel\u001b[39m = pipeline_1689ca306aa8"
      ]
     },
     "execution_count": 4,
     "metadata": {},
     "output_type": "execute_result"
    }
   ],
   "source": [
    "import org.apache.spark.ml.PipelineModel\n",
    "\n",
    "val model = PipelineModel.load(s\"pipelineModel\")"
   ]
  },
  {
   "cell_type": "markdown",
   "id": "6f0be055-3fee-4edb-b940-b1b174925a7a",
   "metadata": {},
   "source": [
    "## Вычисляем"
   ]
  },
  {
   "cell_type": "code",
   "execution_count": 5,
   "id": "d588c941-1dc1-43f8-b345-863772dcebbe",
   "metadata": {},
   "outputs": [
    {
     "data": {
      "text/plain": [
       "\u001b[36mpredicted\u001b[39m: \u001b[32mDataFrame\u001b[39m = [CLIENTNUM: int, Attrition_Flag: string ... 37 more fields]"
      ]
     },
     "execution_count": 5,
     "metadata": {},
     "output_type": "execute_result"
    }
   ],
   "source": [
    "val predicted = model.transform(data)"
   ]
  },
  {
   "cell_type": "code",
   "execution_count": 6,
   "id": "74f65096-5cf1-4445-b853-63ffe56630db",
   "metadata": {},
   "outputs": [
    {
     "name": "stdout",
     "output_type": "stream",
     "text": [
      "+---------+-----------------+------------+------+---------------+---------------+--------------+---------------+-------------+--------------+------------------------+----------------------+---------------------+------------+-------------------+---------------+--------------------+---------------+--------------+-------------------+---------------------+----------------------------------------------------------------------------------------------------------------------------------+----------------------------------------------------------------------------------------------------------------------------------+--------------+-----------------------+----------------------+-----------------------+---------------------+--------------------+-----------------------------+----------------------------+-----------------------------+---------------------------+--------------------+--------------------+--------------------+--------------------+--------------------+----------+\n",
      "|CLIENTNUM|   Attrition_Flag|Customer_Age|Gender|Dependent_count|Education_Level|Marital_Status|Income_Category|Card_Category|Months_on_book|Total_Relationship_Count|Months_Inactive_12_mon|Contacts_Count_12_mon|Credit_Limit|Total_Revolving_Bal|Avg_Open_To_Buy|Total_Amt_Chng_Q4_Q1|Total_Trans_Amt|Total_Trans_Ct|Total_Ct_Chng_Q4_Q1|Avg_Utilization_Ratio|Naive_Bayes_Classifier_Attrition_Flag_Card_Category_Contacts_Count_12_mon_Dependent_count_Education_Level_Months_Inactive_12_mon_1|Naive_Bayes_Classifier_Attrition_Flag_Card_Category_Contacts_Count_12_mon_Dependent_count_Education_Level_Months_Inactive_12_mon_2|Gender_Indexed|Education_Level_Indexed|Marital_Status_Indexed|Income_Category_Indexed|Card_Category_Indexed|Gender_Indexed_Coded|Education_Level_Indexed_Coded|Marital_Status_Indexed_Coded|Income_Category_Indexed_Coded|Card_Category_Indexed_Coded|            features|      scaledFeatures|    selectedFeatures|       rawPrediction|         probability|prediction|\n",
      "+---------+-----------------+------------+------+---------------+---------------+--------------+---------------+-------------+--------------+------------------------+----------------------+---------------------+------------+-------------------+---------------+--------------------+---------------+--------------+-------------------+---------------------+----------------------------------------------------------------------------------------------------------------------------------+----------------------------------------------------------------------------------------------------------------------------------+--------------+-----------------------+----------------------+-----------------------+---------------------+--------------------+-----------------------------+----------------------------+-----------------------------+---------------------------+--------------------+--------------------+--------------------+--------------------+--------------------+----------+\n",
      "|768805383|Existing Customer|          45|     M|              3|    High School|       Married|    $60K - $80K|         Blue|            39|                       5|                     1|                    3|     12691.0|                777|        11914.0|               1.335|           1144|            42|              1.625|                0.061|                                                                                                                         9.3448E-5|                                                                                                                           0.99991|           1.0|                    1.0|                   0.0|                    3.0|                  0.0|           (1,[],[])|                (6,[1],[1.0])|               (3,[0],[1.0])|                (5,[3],[1.0])|              (3,[0],[1.0])|(29,[0,1,2,3,4,5,...|(29,[0,1,2,3,4,5,...|(21,[0,1,2,3,4,5,...|[3.41355590825449...|[0.96812551535835...|       0.0|\n",
      "|818770008|Existing Customer|          49|     F|              5|       Graduate|        Single| Less than $40K|         Blue|            44|                       6|                     1|                    2|      8256.0|                864|         7392.0|               1.541|           1291|            33|              3.714|                0.105|                                                                                                                         5.6861E-5|                                                                                                                           0.99994|           0.0|                    0.0|                   1.0|                    0.0|                  0.0|       (1,[0],[1.0])|                (6,[0],[1.0])|               (3,[1],[1.0])|                (5,[0],[1.0])|              (3,[0],[1.0])|(29,[0,1,2,3,4,5,...|(29,[0,1,2,3,4,5,...|(21,[0,1,2,3,4,5,...|[10.5232521344028...|[0.99997309716906...|       0.0|\n",
      "|713982108|Existing Customer|          51|     M|              3|       Graduate|       Married|   $80K - $120K|         Blue|            36|                       4|                     1|                    0|      3418.0|                  0|         3418.0|               2.594|           1887|            20|              2.333|                  0.0|                                                                                                                         2.1081E-5|                                                                                                                           0.99998|           1.0|                    0.0|                   0.0|                    2.0|                  0.0|           (1,[],[])|                (6,[0],[1.0])|               (3,[0],[1.0])|                (5,[2],[1.0])|              (3,[0],[1.0])|(29,[0,1,2,3,6,7,...|(29,[0,1,2,3,6,7,...|(21,[0,1,2,3,6,7,...|[6.56596012486076...|[0.99859450623989...|       0.0|\n",
      "|769911858|Existing Customer|          40|     F|              4|    High School|       Unknown| Less than $40K|         Blue|            34|                       3|                     4|                    1|      3313.0|               2517|          796.0|               1.405|           1171|            20|              2.333|                 0.76|                                                                                                                         1.3366E-4|                                                                                                                           0.99987|           0.0|                    1.0|                   2.0|                    0.0|                  0.0|       (1,[0],[1.0])|                (6,[1],[1.0])|               (3,[2],[1.0])|                (5,[0],[1.0])|              (3,[0],[1.0])|(29,[0,1,2,3,4,5,...|(29,[0,1,2,3,4,5,...|(21,[0,1,2,3,4,5,...|[6.09575858042956...|[0.99775266104294...|       0.0|\n",
      "|709106358|Existing Customer|          40|     M|              3|     Uneducated|       Married|    $60K - $80K|         Blue|            21|                       5|                     1|                    0|      4716.0|                  0|         4716.0|               2.175|            816|            28|                2.5|                  0.0|                                                                                                                         2.1676E-5|                                                                                                                           0.99998|           1.0|                    3.0|                   0.0|                    3.0|                  0.0|           (1,[],[])|                (6,[3],[1.0])|               (3,[0],[1.0])|                (5,[3],[1.0])|              (3,[0],[1.0])|(29,[0,1,2,3,6,7,...|(29,[0,1,2,3,6,7,...|(21,[0,1,2,3,6,7,...|[7.06921678564040...|[0.99914982412924...|       0.0|\n",
      "|713061558|Existing Customer|          44|     M|              2|       Graduate|       Married|    $40K - $60K|         Blue|            36|                       3|                     1|                    2|      4010.0|               1247|         2763.0|               1.376|           1088|            24|              0.846|                0.311|                                                                                                                         5.5077E-5|                                                                                                                           0.99994|           1.0|                    0.0|                   0.0|                    1.0|                  0.0|           (1,[],[])|                (6,[0],[1.0])|               (3,[0],[1.0])|                (5,[1],[1.0])|              (3,[0],[1.0])|(29,[0,1,2,3,4,5,...|(29,[0,1,2,3,4,5,...|(21,[0,1,2,3,4,5,...|[1.12050792454340...|[0.75408291908150...|       0.0|\n",
      "|810347208|Existing Customer|          51|     M|              4|        Unknown|       Married|        $120K +|         Gold|            46|                       6|                     1|                    3|     34516.0|               2264|        32252.0|               1.975|           1330|            31|              0.722|                0.066|                                                                                                                         1.2303E-4|                                                                                                                           0.99988|           1.0|                    2.0|                   0.0|                    5.0|                  2.0|           (1,[],[])|                (6,[2],[1.0])|               (3,[0],[1.0])|                    (5,[],[])|              (3,[2],[1.0])|(29,[0,1,2,3,4,5,...|(29,[0,1,2,3,4,5,...|(21,[0,1,2,3,4,5,...|[2.02930088249577...|[0.88383932063028...|       0.0|\n",
      "|818906208|Existing Customer|          32|     M|              0|    High School|       Unknown|    $60K - $80K|       Silver|            27|                       2|                     2|                    2|     29081.0|               1396|        27685.0|               2.204|           1538|            36|              0.714|                0.048|                                                                                                                         8.5795E-5|                                                                                                                           0.99991|           1.0|                    1.0|                   2.0|                    3.0|                  1.0|           (1,[],[])|                (6,[1],[1.0])|               (3,[2],[1.0])|                (5,[3],[1.0])|              (3,[1],[1.0])|(29,[0,2,3,4,5,6,...|(29,[0,2,3,4,5,6,...|(21,[0,2,3,4,5,6,...|[0.38994847435299...|[0.59627029548470...|       0.0|\n",
      "|710930508|Existing Customer|          37|     M|              3|     Uneducated|        Single|    $60K - $80K|         Blue|            36|                       5|                     2|                    0|     22352.0|               2517|        19835.0|               3.355|           1350|            24|              1.182|                0.113|                                                                                                                         4.4796E-5|                                                                                                                           0.99996|           1.0|                    3.0|                   1.0|                    3.0|                  0.0|           (1,[],[])|                (6,[3],[1.0])|               (3,[1],[1.0])|                (5,[3],[1.0])|              (3,[0],[1.0])|(29,[0,1,2,3,5,6,...|(29,[0,1,2,3,5,6,...|(21,[0,1,2,3,5,6,...|[3.98598767212443...|[0.98176461552592...|       0.0|\n",
      "|719661558|Existing Customer|          48|     M|              2|       Graduate|        Single|   $80K - $120K|         Blue|            36|                       6|                     3|                    3|     11656.0|               1677|         9979.0|               1.524|           1441|            32|              0.882|                0.144|                                                                                                                         3.0251E-4|                                                                                                                            0.9997|           1.0|                    0.0|                   1.0|                    2.0|                  0.0|           (1,[],[])|                (6,[0],[1.0])|               (3,[1],[1.0])|                (5,[2],[1.0])|              (3,[0],[1.0])|(29,[0,1,2,3,4,5,...|(29,[0,1,2,3,4,5,...|(21,[0,1,2,3,4,5,...|[1.13839298707411...|[0.75738446733079...|       0.0|\n",
      "+---------+-----------------+------------+------+---------------+---------------+--------------+---------------+-------------+--------------+------------------------+----------------------+---------------------+------------+-------------------+---------------+--------------------+---------------+--------------+-------------------+---------------------+----------------------------------------------------------------------------------------------------------------------------------+----------------------------------------------------------------------------------------------------------------------------------+--------------+-----------------------+----------------------+-----------------------+---------------------+--------------------+-----------------------------+----------------------------+-----------------------------+---------------------------+--------------------+--------------------+--------------------+--------------------+--------------------+----------+\n",
      "only showing top 10 rows\n",
      "\n"
     ]
    }
   ],
   "source": [
    "predicted.show(10)"
   ]
  },
  {
   "cell_type": "markdown",
   "id": "b77fce44-8fca-4175-8b2c-0271acdb93df",
   "metadata": {},
   "source": [
    "## Проверяем результат"
   ]
  },
  {
   "cell_type": "code",
   "execution_count": 7,
   "id": "abcc04ab-65bc-42f6-9120-2b77ae2d8c09",
   "metadata": {},
   "outputs": [
    {
     "name": "stdout",
     "output_type": "stream",
     "text": [
      "Confusion Matrix:\n",
      "1271\t2072\n",
      "356\t6428\n",
      "\n"
     ]
    },
    {
     "data": {
      "text/plain": [
       "\u001b[36mtp\u001b[39m: \u001b[32mLong\u001b[39m = \u001b[32m1271L\u001b[39m\n",
       "\u001b[36mtn\u001b[39m: \u001b[32mLong\u001b[39m = \u001b[32m6428L\u001b[39m\n",
       "\u001b[36mfp\u001b[39m: \u001b[32mLong\u001b[39m = \u001b[32m2072L\u001b[39m\n",
       "\u001b[36mfn\u001b[39m: \u001b[32mLong\u001b[39m = \u001b[32m356L\u001b[39m"
      ]
     },
     "execution_count": 7,
     "metadata": {},
     "output_type": "execute_result"
    }
   ],
   "source": [
    "val tp = predicted.filter(($\"Attrition_Flag\" === \"Attrited Customer\") and ($\"prediction\" === 1)).count()\n",
    "val tn = predicted.filter(($\"Attrition_Flag\" === \"Existing Customer\") and ($\"prediction\" === 0)).count()\n",
    "val fp = predicted.filter(($\"Attrition_Flag\" === \"Existing Customer\") and ($\"prediction\" === 1)).count()\n",
    "val fn = predicted.filter(($\"Attrition_Flag\" === \"Attrited Customer\") and ($\"prediction\" === 0)).count()\n",
    "\n",
    "println(s\"Confusion Matrix:\\n$tp\\t$fp\\n$fn\\t$tn\\n\")"
   ]
  },
  {
   "cell_type": "code",
   "execution_count": 8,
   "id": "ed0184c4-887e-4319-b763-9a7b20eef173",
   "metadata": {},
   "outputs": [
    {
     "name": "stdout",
     "output_type": "stream",
     "text": [
      "Accuracy = 0.7602448898982916\n",
      "Precision = 0.38019742746036495\n",
      "Recall = 0.7811923786109404\n",
      "\n"
     ]
    },
    {
     "data": {
      "text/plain": [
       "\u001b[36maccuracy\u001b[39m: \u001b[32mDouble\u001b[39m = \u001b[32m0.7602448898982916\u001b[39m\n",
       "\u001b[36mprecision\u001b[39m: \u001b[32mDouble\u001b[39m = \u001b[32m0.38019742746036495\u001b[39m\n",
       "\u001b[36mrecall\u001b[39m: \u001b[32mDouble\u001b[39m = \u001b[32m0.7811923786109404\u001b[39m"
      ]
     },
     "execution_count": 8,
     "metadata": {},
     "output_type": "execute_result"
    }
   ],
   "source": [
    "val accuracy = (tp + tn) / (tp + tn + fp + fn).toDouble\n",
    "val precision = tp / (tp + fp).toDouble\n",
    "val recall = tp / (tp + fn).toDouble\n",
    "\n",
    "println(s\"Accuracy = $accuracy\")\n",
    "println(s\"Precision = $precision\")\n",
    "println(s\"Recall = $recall\\n\")"
   ]
  },
  {
   "cell_type": "code",
   "execution_count": null,
   "id": "7a28e275-20fc-47a9-a902-f68e77cc504f",
   "metadata": {},
   "outputs": [],
   "source": []
  }
 ],
 "metadata": {
  "kernelspec": {
   "display_name": "Scala (2.12)",
   "language": "scala",
   "name": "scala212"
  },
  "language_info": {
   "codemirror_mode": "text/x-scala",
   "file_extension": ".sc",
   "mimetype": "text/x-scala",
   "name": "scala",
   "nbconvert_exporter": "script",
   "version": "2.12.18"
  }
 },
 "nbformat": 4,
 "nbformat_minor": 5
}
