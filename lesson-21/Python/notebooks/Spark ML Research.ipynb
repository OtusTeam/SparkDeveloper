{
 "cells": [
  {
   "cell_type": "markdown",
   "metadata": {},
   "source": [
    "# Spark ML для задачи оттока\n",
    "\n",
    "Источник данных: [Kaggle](https://www.kaggle.com/sakshigoyal7/credit-card-customers)\n",
    "\n",
    "Описания полей:\n",
    "\n",
    " | Название        | Описание                                                                                                                            |\n",
    " |:----------------|:------------------------------------------------------------------------------------------------------------------------------------|\n",
    " | CLIENTNUM       | Client number. Unique identifier for the customer holding the account                                                               |\n",
    " | Attrition_Flag  | Internal event (customer activity) variable                                                                                         |\n",
    " | Customer_Age    | Demographic variable - Customer's Age in Years                                                                                      |\n",
    " | Gender          | Demographic variable - M=Male, F=Female                                                                                             |\n",
    " | Dependent_count | Demographic variable - Number of dependents                                                                                         |\n",
    " | Education_Level | Demographic variable - Educational Qualification of the account holder (example: high school, college graduate, etc.)               |\n",
    " | Marital_Status  | Demographic variable - Married, Single, Divorced, Unknown                                                                           |\n",
    " | Income_Category | Demographic variable - Annual Income Category of the account holder (< $40K, $40K - 60K, $60K - $80K, $80K-$120K, > $120K, Unknown) |\n",
    " | Card_Category   | Product Variable - Type of Card (Blue, Silver, Gold, Platinum)                                                                      |\n",
    " | Months_on_book  | Period of relationship with bank                                                                                                    |"
   ]
  },
  {
   "cell_type": "code",
   "execution_count": 1,
   "metadata": {
    "collapsed": false,
    "jupyter": {
     "outputs_hidden": false
    }
   },
   "outputs": [
    {
     "name": "stderr",
     "output_type": "stream",
     "text": [
      "23/07/27 12:24:06 WARN Utils: Your hostname, Air.local resolves to a loopback address: 127.0.0.1; using 192.168.88.21 instead (on interface en5)\n",
      "23/07/27 12:24:06 WARN Utils: Set SPARK_LOCAL_IP if you need to bind to another address\n",
      "23/07/27 12:24:06 WARN NativeCodeLoader: Unable to load native-hadoop library for your platform... using builtin-java classes where applicable\n"
     ]
    }
   ],
   "source": [
    "from pyspark.sql import SparkSession\n",
    "from pyspark.sql import functions as f\n",
    "\n",
    "spark = SparkSession\\\n",
    "    .builder\\\n",
    "    .master(\"local[*]\")\\\n",
    "    .appName(\"Spark ML Research\")\\\n",
    "    .getOrCreate()"
   ]
  },
  {
   "cell_type": "markdown",
   "metadata": {},
   "source": [
    "## Загрузка и знакомство с данными"
   ]
  },
  {
   "cell_type": "code",
   "execution_count": null,
   "metadata": {
    "collapsed": false,
    "jupyter": {
     "outputs_hidden": false
    }
   },
   "outputs": [],
   "source": [
    "raw = spark\\\n",
    "    .read\\\n",
    "    .option(\"header\", \"true\")\\\n",
    "    .option(\"inferSchema\", \"true\")\\\n",
    "    .config(\"spark.log.level\", \"WARN\")\\\n",
    "    .csv(\"../../data/BankChurners.csv\")"
   ]
  },
  {
   "cell_type": "markdown",
   "metadata": {},
   "source": [
    "### Убираем первую и последние две колонки"
   ]
  },
  {
   "cell_type": "code",
   "execution_count": 3,
   "metadata": {
    "collapsed": false,
    "jupyter": {
     "outputs_hidden": false
    }
   },
   "outputs": [
    {
     "name": "stdout",
     "output_type": "stream",
     "text": [
      "+-----------------+------------+------+---------------+---------------+--------------+---------------+-------------+--------------+------------------------+----------------------+---------------------+------------+-------------------+---------------+--------------------+---------------+--------------+-------------------+---------------------+\n",
      "|Attrition_Flag   |Customer_Age|Gender|Dependent_count|Education_Level|Marital_Status|Income_Category|Card_Category|Months_on_book|Total_Relationship_Count|Months_Inactive_12_mon|Contacts_Count_12_mon|Credit_Limit|Total_Revolving_Bal|Avg_Open_To_Buy|Total_Amt_Chng_Q4_Q1|Total_Trans_Amt|Total_Trans_Ct|Total_Ct_Chng_Q4_Q1|Avg_Utilization_Ratio|\n",
      "+-----------------+------------+------+---------------+---------------+--------------+---------------+-------------+--------------+------------------------+----------------------+---------------------+------------+-------------------+---------------+--------------------+---------------+--------------+-------------------+---------------------+\n",
      "|Existing Customer|45          |M     |3              |High School    |Married       |$60K - $80K    |Blue         |39            |5                       |1                     |3                    |12691.0     |777                |11914.0        |1.335               |1144           |42            |1.625              |0.061                |\n",
      "|Existing Customer|49          |F     |5              |Graduate       |Single        |Less than $40K |Blue         |44            |6                       |1                     |2                    |8256.0      |864                |7392.0         |1.541               |1291           |33            |3.714              |0.105                |\n",
      "|Existing Customer|51          |M     |3              |Graduate       |Married       |$80K - $120K   |Blue         |36            |4                       |1                     |0                    |3418.0      |0                  |3418.0         |2.594               |1887           |20            |2.333              |0.0                  |\n",
      "|Existing Customer|40          |F     |4              |High School    |Unknown       |Less than $40K |Blue         |34            |3                       |4                     |1                    |3313.0      |2517               |796.0          |1.405               |1171           |20            |2.333              |0.76                 |\n",
      "|Existing Customer|40          |M     |3              |Uneducated     |Married       |$60K - $80K    |Blue         |21            |5                       |1                     |0                    |4716.0      |0                  |4716.0         |2.175               |816            |28            |2.5                |0.0                  |\n",
      "+-----------------+------------+------+---------------+---------------+--------------+---------------+-------------+--------------+------------------------+----------------------+---------------------+------------+-------------------+---------------+--------------------+---------------+--------------+-------------------+---------------------+\n",
      "only showing top 5 rows\n",
      "\n"
     ]
    }
   ],
   "source": [
    "columns = raw.columns\n",
    "columnsLen = len(columns)\n",
    "colsToDrop = columns[0].split() + columns[columnsLen-2:columnsLen]\n",
    "\n",
    "df = raw.drop(*colsToDrop)\n",
    "\n",
    "df.show(5, False)"
   ]
  },
  {
   "cell_type": "markdown",
   "metadata": {},
   "source": [
    "### Определяем типы колонок"
   ]
  },
  {
   "cell_type": "code",
   "execution_count": 4,
   "metadata": {
    "collapsed": false,
    "jupyter": {
     "outputs_hidden": false
    }
   },
   "outputs": [
    {
     "name": "stdout",
     "output_type": "stream",
     "text": [
      "root\n",
      " |-- Attrition_Flag: string (nullable = true)\n",
      " |-- Customer_Age: integer (nullable = true)\n",
      " |-- Gender: string (nullable = true)\n",
      " |-- Dependent_count: integer (nullable = true)\n",
      " |-- Education_Level: string (nullable = true)\n",
      " |-- Marital_Status: string (nullable = true)\n",
      " |-- Income_Category: string (nullable = true)\n",
      " |-- Card_Category: string (nullable = true)\n",
      " |-- Months_on_book: integer (nullable = true)\n",
      " |-- Total_Relationship_Count: integer (nullable = true)\n",
      " |-- Months_Inactive_12_mon: integer (nullable = true)\n",
      " |-- Contacts_Count_12_mon: integer (nullable = true)\n",
      " |-- Credit_Limit: double (nullable = true)\n",
      " |-- Total_Revolving_Bal: integer (nullable = true)\n",
      " |-- Avg_Open_To_Buy: double (nullable = true)\n",
      " |-- Total_Amt_Chng_Q4_Q1: double (nullable = true)\n",
      " |-- Total_Trans_Amt: integer (nullable = true)\n",
      " |-- Total_Trans_Ct: integer (nullable = true)\n",
      " |-- Total_Ct_Chng_Q4_Q1: double (nullable = true)\n",
      " |-- Avg_Utilization_Ratio: double (nullable = true)\n",
      "\n"
     ]
    }
   ],
   "source": [
    "df.printSchema()"
   ]
  },
  {
   "cell_type": "code",
   "execution_count": 5,
   "metadata": {
    "collapsed": false,
    "jupyter": {
     "outputs_hidden": false
    }
   },
   "outputs": [
    {
     "name": "stdout",
     "output_type": "stream",
     "text": [
      "           Attrition_Flag\tstring\n",
      "             Customer_Age\tint\n",
      "                   Gender\tstring\n",
      "          Dependent_count\tint\n",
      "          Education_Level\tstring\n",
      "           Marital_Status\tstring\n",
      "          Income_Category\tstring\n",
      "            Card_Category\tstring\n",
      "           Months_on_book\tint\n",
      " Total_Relationship_Count\tint\n",
      "   Months_Inactive_12_mon\tint\n",
      "    Contacts_Count_12_mon\tint\n",
      "             Credit_Limit\tdouble\n",
      "      Total_Revolving_Bal\tint\n",
      "          Avg_Open_To_Buy\tdouble\n",
      "     Total_Amt_Chng_Q4_Q1\tdouble\n",
      "          Total_Trans_Amt\tint\n",
      "           Total_Trans_Ct\tint\n",
      "      Total_Ct_Chng_Q4_Q1\tdouble\n",
      "    Avg_Utilization_Ratio\tdouble\n"
     ]
    }
   ],
   "source": [
    "dt = df.dtypes\n",
    "for r in dt:\n",
    "    print(f\"{r[0]:>25}\\t{r[1]}\")"
   ]
  },
  {
   "cell_type": "code",
   "execution_count": 6,
   "metadata": {
    "collapsed": false,
    "jupyter": {
     "outputs_hidden": false
    }
   },
   "outputs": [
    {
     "name": "stdout",
     "output_type": "stream",
     "text": [
      "double 5\n",
      "int 9\n",
      "string 6\n"
     ]
    }
   ],
   "source": [
    "from itertools import groupby\n",
    "\n",
    "dt.sort(key=lambda x: x[1])\n",
    "\n",
    "for k, g in groupby(dt, lambda x: x[1]):\n",
    "    print(k, len(list(g)))"
   ]
  },
  {
   "cell_type": "markdown",
   "metadata": {},
   "source": [
    "### Проверим числовые колонки"
   ]
  },
  {
   "cell_type": "code",
   "execution_count": 7,
   "metadata": {
    "collapsed": false,
    "jupyter": {
     "outputs_hidden": false
    }
   },
   "outputs": [],
   "source": [
    "numericColumns = list(\n",
    "    map(lambda x: x[0], \n",
    "        filter(lambda x: x[1] == \"double\" or x[1] == \"int\", \n",
    "               df.dtypes)))"
   ]
  },
  {
   "cell_type": "code",
   "execution_count": 8,
   "metadata": {
    "collapsed": false,
    "jupyter": {
     "outputs_hidden": false
    }
   },
   "outputs": [
    {
     "name": "stderr",
     "output_type": "stream",
     "text": [
      "23/07/27 12:24:11 WARN package: Truncated the string representation of a plan since it was too large. This behavior can be adjusted by setting 'spark.sql.debug.maxToStringFields'.\n",
      "[Stage 3:>                                                          (0 + 1) / 1]\r"
     ]
    },
    {
     "name": "stdout",
     "output_type": "stream",
     "text": [
      "+-------+-----------------+------------------+------------------+------------------------+----------------------+---------------------+-----------------+-------------------+-----------------+--------------------+-----------------+-----------------+-------------------+---------------------+\n",
      "|summary|     Customer_Age|   Dependent_count|    Months_on_book|Total_Relationship_Count|Months_Inactive_12_mon|Contacts_Count_12_mon|     Credit_Limit|Total_Revolving_Bal|  Avg_Open_To_Buy|Total_Amt_Chng_Q4_Q1|  Total_Trans_Amt|   Total_Trans_Ct|Total_Ct_Chng_Q4_Q1|Avg_Utilization_Ratio|\n",
      "+-------+-----------------+------------------+------------------+------------------------+----------------------+---------------------+-----------------+-------------------+-----------------+--------------------+-----------------+-----------------+-------------------+---------------------+\n",
      "|  count|            10127|             10127|             10127|                   10127|                 10127|                10127|            10127|              10127|            10127|               10127|            10127|            10127|              10127|                10127|\n",
      "|   mean|46.32596030413745|2.3462032191172115|35.928409203120374|      3.8125802310654686|    2.3411671768539546|   2.4553174681544387|8631.953698034848| 1162.8140614199665|7469.139636614887|  0.7599406536980376|4404.086303939963|64.85869457884863| 0.7122223758269962|   0.2748935518909845|\n",
      "| stddev|8.016814032549046|  1.29890834890379|  7.98641633087208|        1.55440786533883|    1.0106223994182844|   1.1062251426359249|9088.776650223148|  814.9873352357533|9090.685323679114|  0.2192067692307027|3397.129253557085|23.47257044923301|0.23808609133294137|  0.27569146925238736|\n",
      "|    min|               26|                 0|                13|                       1|                     0|                    0|           1438.3|                  0|              3.0|                 0.0|              510|               10|                0.0|                  0.0|\n",
      "|    25%|               41|                 1|                31|                       3|                     2|                    2|           2555.0|                357|           1322.0|               0.631|             2155|               45|              0.581|                0.022|\n",
      "|    50%|               46|                 2|                36|                       4|                     2|                    2|           4549.0|               1276|           3472.0|               0.736|             3899|               67|              0.702|                0.175|\n",
      "|    75%|               52|                 3|                40|                       5|                     3|                    3|          11067.0|               1784|           9857.0|               0.859|             4741|               81|              0.818|                0.503|\n",
      "|    max|               73|                 5|                56|                       6|                     6|                    6|          34516.0|               2517|          34516.0|               3.397|            18484|              139|              3.714|                0.999|\n",
      "+-------+-----------------+------------------+------------------+------------------------+----------------------+---------------------+-----------------+-------------------+-----------------+--------------------+-----------------+-----------------+-------------------+---------------------+\n",
      "\n"
     ]
    },
    {
     "name": "stderr",
     "output_type": "stream",
     "text": [
      "                                                                                \r"
     ]
    }
   ],
   "source": [
    "df.select(*numericColumns).summary().show()"
   ]
  },
  {
   "cell_type": "code",
   "execution_count": 9,
   "metadata": {
    "collapsed": false,
    "jupyter": {
     "outputs_hidden": false
    }
   },
   "outputs": [
    {
     "data": {
      "image/png": "[encoded data removed]",
      "text/plain": [
       "<Figure size 640x480 with 1 Axes>"
      ]
     },
     "metadata": {},
     "output_type": "display_data"
    }
   ],
   "source": [
    "import matplotlib.pyplot as plt\n",
    "\n",
    "age = df.groupBy(\"Customer_Age\").count().orderBy(\"Customer_Age\")\n",
    "x_val = [val[\"Customer_Age\"] for val in age.select(\"Customer_Age\").collect()]\n",
    "y_val = [val[\"count\"] for val in age.select(\"count\").collect()]\n",
    "\n",
    "plt.plot(x_val, y_val)\n",
    "\n",
    "plt.xlabel(\"Customer_Age\")\n",
    "plt.ylabel(\"count\")\n",
    "plt.title(\"Customer Age Distribution\")\n",
    "\n",
    "plt.show()"
   ]
  },
  {
   "cell_type": "markdown",
   "metadata": {},
   "source": [
    "## Целевая колонка"
   ]
  },
  {
   "cell_type": "code",
   "execution_count": 10,
   "metadata": {
    "collapsed": false,
    "jupyter": {
     "outputs_hidden": false
    }
   },
   "outputs": [
    {
     "name": "stdout",
     "output_type": "stream",
     "text": [
      "+-----------------+------+\n",
      "|Attrition_Flag   |target|\n",
      "+-----------------+------+\n",
      "|Existing Customer|0     |\n",
      "|Existing Customer|0     |\n",
      "|Existing Customer|0     |\n",
      "|Existing Customer|0     |\n",
      "|Existing Customer|0     |\n",
      "+-----------------+------+\n",
      "only showing top 5 rows\n",
      "\n"
     ]
    }
   ],
   "source": [
    "dft = df\\\n",
    "    .withColumn(\"target\", \n",
    "                f.when(df[\"Attrition_Flag\"] == \"Existing Customer\",\n",
    "                       0).otherwise(1))\n",
    "\n",
    "dft.select(\"Attrition_Flag\", \"target\").show(5, False)"
   ]
  },
  {
   "cell_type": "markdown",
   "metadata": {},
   "source": [
    "### Проверка сбалансированности данных"
   ]
  },
  {
   "cell_type": "code",
   "execution_count": 11,
   "metadata": {
    "collapsed": false,
    "jupyter": {
     "outputs_hidden": false
    }
   },
   "outputs": [
    {
     "name": "stdout",
     "output_type": "stream",
     "text": [
      "+------+-----+\n",
      "|target|count|\n",
      "+------+-----+\n",
      "|     1| 1627|\n",
      "|     0| 8500|\n",
      "+------+-----+\n",
      "\n"
     ]
    }
   ],
   "source": [
    "dft.groupBy(\"target\").count().show()"
   ]
  },
  {
   "cell_type": "markdown",
   "metadata": {},
   "source": [
    "### Oversampling"
   ]
  },
  {
   "cell_type": "code",
   "execution_count": 12,
   "metadata": {
    "collapsed": false,
    "jupyter": {
     "outputs_hidden": false
    }
   },
   "outputs": [
    {
     "data": {
      "text/plain": [
       "5"
      ]
     },
     "execution_count": 12,
     "metadata": {},
     "output_type": "execute_result"
    }
   ],
   "source": [
    "df1 = dft.filter(dft[\"target\"] == 1)\n",
    "df0 = dft.filter(dft[\"target\"] == 0)\n",
    "\n",
    "df1count = df1.count()\n",
    "df0count = df0.count()\n",
    "\n",
    "int(df0count / df1count)"
   ]
  },
  {
   "cell_type": "code",
   "execution_count": 13,
   "metadata": {
    "collapsed": false,
    "jupyter": {
     "outputs_hidden": false
    }
   },
   "outputs": [
    {
     "name": "stdout",
     "output_type": "stream",
     "text": [
      "+-----------------+------------+------+---------------+---------------+--------------+---------------+-------------+--------------+------------------------+----------------------+---------------------+------------+-------------------+---------------+--------------------+---------------+--------------+-------------------+---------------------+------+\n",
      "|Attrition_Flag   |Customer_Age|Gender|Dependent_count|Education_Level|Marital_Status|Income_Category|Card_Category|Months_on_book|Total_Relationship_Count|Months_Inactive_12_mon|Contacts_Count_12_mon|Credit_Limit|Total_Revolving_Bal|Avg_Open_To_Buy|Total_Amt_Chng_Q4_Q1|Total_Trans_Amt|Total_Trans_Ct|Total_Ct_Chng_Q4_Q1|Avg_Utilization_Ratio|target|\n",
      "+-----------------+------------+------+---------------+---------------+--------------+---------------+-------------+--------------+------------------------+----------------------+---------------------+------------+-------------------+---------------+--------------------+---------------+--------------+-------------------+---------------------+------+\n",
      "|Attrited Customer|62          |F     |0              |Graduate       |Married       |Less than $40K |Blue         |49            |2                       |3                     |3                    |1438.3      |0                  |1438.3         |1.047               |692            |16            |0.6                |0.0                  |1     |\n",
      "|Attrited Customer|62          |F     |0              |Graduate       |Married       |Less than $40K |Blue         |49            |2                       |3                     |3                    |1438.3      |0                  |1438.3         |1.047               |692            |16            |0.6                |0.0                  |1     |\n",
      "|Attrited Customer|62          |F     |0              |Graduate       |Married       |Less than $40K |Blue         |49            |2                       |3                     |3                    |1438.3      |0                  |1438.3         |1.047               |692            |16            |0.6                |0.0                  |1     |\n",
      "|Attrited Customer|62          |F     |0              |Graduate       |Married       |Less than $40K |Blue         |49            |2                       |3                     |3                    |1438.3      |0                  |1438.3         |1.047               |692            |16            |0.6                |0.0                  |1     |\n",
      "|Attrited Customer|62          |F     |0              |Graduate       |Married       |Less than $40K |Blue         |49            |2                       |3                     |3                    |1438.3      |0                  |1438.3         |1.047               |692            |16            |0.6                |0.0                  |1     |\n",
      "|Attrited Customer|66          |F     |0              |Doctorate      |Married       |Unknown        |Blue         |56            |5                       |4                     |3                    |7882.0      |605                |7277.0         |1.052               |704            |16            |0.143              |0.077                |1     |\n",
      "|Attrited Customer|66          |F     |0              |Doctorate      |Married       |Unknown        |Blue         |56            |5                       |4                     |3                    |7882.0      |605                |7277.0         |1.052               |704            |16            |0.143              |0.077                |1     |\n",
      "|Attrited Customer|66          |F     |0              |Doctorate      |Married       |Unknown        |Blue         |56            |5                       |4                     |3                    |7882.0      |605                |7277.0         |1.052               |704            |16            |0.143              |0.077                |1     |\n",
      "|Attrited Customer|66          |F     |0              |Doctorate      |Married       |Unknown        |Blue         |56            |5                       |4                     |3                    |7882.0      |605                |7277.0         |1.052               |704            |16            |0.143              |0.077                |1     |\n",
      "|Attrited Customer|66          |F     |0              |Doctorate      |Married       |Unknown        |Blue         |56            |5                       |4                     |3                    |7882.0      |605                |7277.0         |1.052               |704            |16            |0.143              |0.077                |1     |\n",
      "+-----------------+------------+------+---------------+---------------+--------------+---------------+-------------+--------------+------------------------+----------------------+---------------------+------------+-------------------+---------------+--------------------+---------------+--------------+-------------------+---------------------+------+\n",
      "only showing top 10 rows\n",
      "\n"
     ]
    }
   ],
   "source": [
    "df1Over = df1\\\n",
    "    .withColumn(\"dummy\", \n",
    "                f.explode(\n",
    "                    f.array(*[f.lit(x)\n",
    "                              for x in range(int(df0count / df1count))])))\\\n",
    "    .drop(\"dummy\")\n",
    "\n",
    "df1Over.show(10, False)"
   ]
  },
  {
   "cell_type": "code",
   "execution_count": 14,
   "metadata": {
    "collapsed": false,
    "jupyter": {
     "outputs_hidden": false
    }
   },
   "outputs": [
    {
     "name": "stdout",
     "output_type": "stream",
     "text": [
      "+------+-----+\n",
      "|target|count|\n",
      "+------+-----+\n",
      "|     0| 8500|\n",
      "|     1| 8135|\n",
      "+------+-----+\n",
      "\n"
     ]
    }
   ],
   "source": [
    "data = df0.unionAll(df1Over)\n",
    "data.groupBy(\"target\").count().show()"
   ]
  },
  {
   "cell_type": "markdown",
   "metadata": {},
   "source": [
    "## Работа с признаками"
   ]
  },
  {
   "cell_type": "markdown",
   "metadata": {},
   "source": [
    "### Проверим корреляции числовых признаков"
   ]
  },
  {
   "cell_type": "markdown",
   "metadata": {},
   "source": [
    "#### Вариант 1: DataFrameStatFunctions"
   ]
  },
  {
   "cell_type": "code",
   "execution_count": 15,
   "metadata": {
    "collapsed": false,
    "jupyter": {
     "outputs_hidden": false
    }
   },
   "outputs": [
    {
     "data": {
      "text/plain": [
       "[('Customer_Age', 'Dependent_count'),\n",
       " ('Customer_Age', 'Months_on_book'),\n",
       " ('Customer_Age', 'Total_Relationship_Count'),\n",
       " ('Customer_Age', 'Months_Inactive_12_mon'),\n",
       " ('Customer_Age', 'Contacts_Count_12_mon'),\n",
       " ('Customer_Age', 'Credit_Limit'),\n",
       " ('Customer_Age', 'Total_Revolving_Bal'),\n",
       " ('Customer_Age', 'Avg_Open_To_Buy'),\n",
       " ('Customer_Age', 'Total_Amt_Chng_Q4_Q1'),\n",
       " ('Customer_Age', 'Total_Trans_Amt'),\n",
       " ('Customer_Age', 'Total_Trans_Ct'),\n",
       " ('Customer_Age', 'Total_Ct_Chng_Q4_Q1'),\n",
       " ('Customer_Age', 'Avg_Utilization_Ratio'),\n",
       " ('Dependent_count', 'Months_on_book'),\n",
       " ('Dependent_count', 'Total_Relationship_Count'),\n",
       " ('Dependent_count', 'Months_Inactive_12_mon'),\n",
       " ('Dependent_count', 'Contacts_Count_12_mon'),\n",
       " ('Dependent_count', 'Credit_Limit'),\n",
       " ('Dependent_count', 'Total_Revolving_Bal'),\n",
       " ('Dependent_count', 'Avg_Open_To_Buy'),\n",
       " ('Dependent_count', 'Total_Amt_Chng_Q4_Q1'),\n",
       " ('Dependent_count', 'Total_Trans_Amt'),\n",
       " ('Dependent_count', 'Total_Trans_Ct'),\n",
       " ('Dependent_count', 'Total_Ct_Chng_Q4_Q1'),\n",
       " ('Dependent_count', 'Avg_Utilization_Ratio'),\n",
       " ('Months_on_book', 'Total_Relationship_Count'),\n",
       " ('Months_on_book', 'Months_Inactive_12_mon'),\n",
       " ('Months_on_book', 'Contacts_Count_12_mon'),\n",
       " ('Months_on_book', 'Credit_Limit'),\n",
       " ('Months_on_book', 'Total_Revolving_Bal'),\n",
       " ('Months_on_book', 'Avg_Open_To_Buy'),\n",
       " ('Months_on_book', 'Total_Amt_Chng_Q4_Q1'),\n",
       " ('Months_on_book', 'Total_Trans_Amt'),\n",
       " ('Months_on_book', 'Total_Trans_Ct'),\n",
       " ('Months_on_book', 'Total_Ct_Chng_Q4_Q1'),\n",
       " ('Months_on_book', 'Avg_Utilization_Ratio'),\n",
       " ('Total_Relationship_Count', 'Months_Inactive_12_mon'),\n",
       " ('Total_Relationship_Count', 'Contacts_Count_12_mon'),\n",
       " ('Total_Relationship_Count', 'Credit_Limit'),\n",
       " ('Total_Relationship_Count', 'Total_Revolving_Bal'),\n",
       " ('Total_Relationship_Count', 'Avg_Open_To_Buy'),\n",
       " ('Total_Relationship_Count', 'Total_Amt_Chng_Q4_Q1'),\n",
       " ('Total_Relationship_Count', 'Total_Trans_Amt'),\n",
       " ('Total_Relationship_Count', 'Total_Trans_Ct'),\n",
       " ('Total_Relationship_Count', 'Total_Ct_Chng_Q4_Q1'),\n",
       " ('Total_Relationship_Count', 'Avg_Utilization_Ratio'),\n",
       " ('Months_Inactive_12_mon', 'Contacts_Count_12_mon'),\n",
       " ('Months_Inactive_12_mon', 'Credit_Limit'),\n",
       " ('Months_Inactive_12_mon', 'Total_Revolving_Bal'),\n",
       " ('Months_Inactive_12_mon', 'Avg_Open_To_Buy'),\n",
       " ('Months_Inactive_12_mon', 'Total_Amt_Chng_Q4_Q1'),\n",
       " ('Months_Inactive_12_mon', 'Total_Trans_Amt'),\n",
       " ('Months_Inactive_12_mon', 'Total_Trans_Ct'),\n",
       " ('Months_Inactive_12_mon', 'Total_Ct_Chng_Q4_Q1'),\n",
       " ('Months_Inactive_12_mon', 'Avg_Utilization_Ratio'),\n",
       " ('Contacts_Count_12_mon', 'Credit_Limit'),\n",
       " ('Contacts_Count_12_mon', 'Total_Revolving_Bal'),\n",
       " ('Contacts_Count_12_mon', 'Avg_Open_To_Buy'),\n",
       " ('Contacts_Count_12_mon', 'Total_Amt_Chng_Q4_Q1'),\n",
       " ('Contacts_Count_12_mon', 'Total_Trans_Amt'),\n",
       " ('Contacts_Count_12_mon', 'Total_Trans_Ct'),\n",
       " ('Contacts_Count_12_mon', 'Total_Ct_Chng_Q4_Q1'),\n",
       " ('Contacts_Count_12_mon', 'Avg_Utilization_Ratio'),\n",
       " ('Credit_Limit', 'Total_Revolving_Bal'),\n",
       " ('Credit_Limit', 'Avg_Open_To_Buy'),\n",
       " ('Credit_Limit', 'Total_Amt_Chng_Q4_Q1'),\n",
       " ('Credit_Limit', 'Total_Trans_Amt'),\n",
       " ('Credit_Limit', 'Total_Trans_Ct'),\n",
       " ('Credit_Limit', 'Total_Ct_Chng_Q4_Q1'),\n",
       " ('Credit_Limit', 'Avg_Utilization_Ratio'),\n",
       " ('Total_Revolving_Bal', 'Avg_Open_To_Buy'),\n",
       " ('Total_Revolving_Bal', 'Total_Amt_Chng_Q4_Q1'),\n",
       " ('Total_Revolving_Bal', 'Total_Trans_Amt'),\n",
       " ('Total_Revolving_Bal', 'Total_Trans_Ct'),\n",
       " ('Total_Revolving_Bal', 'Total_Ct_Chng_Q4_Q1'),\n",
       " ('Total_Revolving_Bal', 'Avg_Utilization_Ratio'),\n",
       " ('Avg_Open_To_Buy', 'Total_Amt_Chng_Q4_Q1'),\n",
       " ('Avg_Open_To_Buy', 'Total_Trans_Amt'),\n",
       " ('Avg_Open_To_Buy', 'Total_Trans_Ct'),\n",
       " ('Avg_Open_To_Buy', 'Total_Ct_Chng_Q4_Q1'),\n",
       " ('Avg_Open_To_Buy', 'Avg_Utilization_Ratio'),\n",
       " ('Total_Amt_Chng_Q4_Q1', 'Total_Trans_Amt'),\n",
       " ('Total_Amt_Chng_Q4_Q1', 'Total_Trans_Ct'),\n",
       " ('Total_Amt_Chng_Q4_Q1', 'Total_Ct_Chng_Q4_Q1'),\n",
       " ('Total_Amt_Chng_Q4_Q1', 'Avg_Utilization_Ratio'),\n",
       " ('Total_Trans_Amt', 'Total_Trans_Ct'),\n",
       " ('Total_Trans_Amt', 'Total_Ct_Chng_Q4_Q1'),\n",
       " ('Total_Trans_Amt', 'Avg_Utilization_Ratio'),\n",
       " ('Total_Trans_Ct', 'Total_Ct_Chng_Q4_Q1'),\n",
       " ('Total_Trans_Ct', 'Avg_Utilization_Ratio'),\n",
       " ('Total_Ct_Chng_Q4_Q1', 'Avg_Utilization_Ratio')]"
      ]
     },
     "execution_count": 15,
     "metadata": {},
     "output_type": "execute_result"
    }
   ],
   "source": [
    "from itertools import combinations\n",
    "\n",
    "numericColumnsPairs = list(combinations(numericColumns, 2))\n",
    "numericColumnsPairs"
   ]
  },
  {
   "cell_type": "code",
   "execution_count": 16,
   "metadata": {
    "collapsed": false,
    "jupyter": {
     "outputs_hidden": false
    }
   },
   "outputs": [],
   "source": [
    "corr = list(\n",
    "    filter(\n",
    "        lambda x: abs(x[2]) > 0.6, \n",
    "        map(lambda x: (x[0], x[1], data.stat.corr(x[0], x[1])), numericColumnsPairs)))"
   ]
  },
  {
   "cell_type": "code",
   "execution_count": 17,
   "metadata": {
    "collapsed": false,
    "jupyter": {
     "outputs_hidden": false
    }
   },
   "outputs": [
    {
     "name": "stdout",
     "output_type": "stream",
     "text": [
      "             Credit_Limit           Avg_Open_To_Buy\t0.9952040726156252\n",
      "          Total_Trans_Amt            Total_Trans_Ct\t0.8053901681243807\n",
      "             Customer_Age            Months_on_book\t0.7805047706891143\n",
      "      Total_Revolving_Bal     Avg_Utilization_Ratio\t0.6946855441968229\n"
     ]
    }
   ],
   "source": [
    "corr.sort(key=lambda x: x[2])\n",
    "for i in reversed(corr):\n",
    "    print(f\"{i[0]:>25} {i[1]:>25}\\t{i[2]}\")"
   ]
  },
  {
   "cell_type": "markdown",
   "metadata": {},
   "source": [
    "#### Вариант 2: Correlation"
   ]
  },
  {
   "cell_type": "code",
   "execution_count": 18,
   "metadata": {},
   "outputs": [
    {
     "data": {
      "text/plain": [
       "[[('Customer_Age', 'Customer_Age'),\n",
       "  ('Customer_Age', 'Dependent_count'),\n",
       "  ('Customer_Age', 'Months_on_book'),\n",
       "  ('Customer_Age', 'Total_Relationship_Count'),\n",
       "  ('Customer_Age', 'Months_Inactive_12_mon'),\n",
       "  ('Customer_Age', 'Contacts_Count_12_mon'),\n",
       "  ('Customer_Age', 'Credit_Limit'),\n",
       "  ('Customer_Age', 'Total_Revolving_Bal'),\n",
       "  ('Customer_Age', 'Avg_Open_To_Buy'),\n",
       "  ('Customer_Age', 'Total_Amt_Chng_Q4_Q1'),\n",
       "  ('Customer_Age', 'Total_Trans_Amt'),\n",
       "  ('Customer_Age', 'Total_Trans_Ct'),\n",
       "  ('Customer_Age', 'Total_Ct_Chng_Q4_Q1'),\n",
       "  ('Customer_Age', 'Avg_Utilization_Ratio')],\n",
       " [('Dependent_count', 'Customer_Age'),\n",
       "  ('Dependent_count', 'Dependent_count'),\n",
       "  ('Dependent_count', 'Months_on_book'),\n",
       "  ('Dependent_count', 'Total_Relationship_Count'),\n",
       "  ('Dependent_count', 'Months_Inactive_12_mon'),\n",
       "  ('Dependent_count', 'Contacts_Count_12_mon'),\n",
       "  ('Dependent_count', 'Credit_Limit'),\n",
       "  ('Dependent_count', 'Total_Revolving_Bal'),\n",
       "  ('Dependent_count', 'Avg_Open_To_Buy'),\n",
       "  ('Dependent_count', 'Total_Amt_Chng_Q4_Q1'),\n",
       "  ('Dependent_count', 'Total_Trans_Amt'),\n",
       "  ('Dependent_count', 'Total_Trans_Ct'),\n",
       "  ('Dependent_count', 'Total_Ct_Chng_Q4_Q1'),\n",
       "  ('Dependent_count', 'Avg_Utilization_Ratio')],\n",
       " [('Months_on_book', 'Customer_Age'),\n",
       "  ('Months_on_book', 'Dependent_count'),\n",
       "  ('Months_on_book', 'Months_on_book'),\n",
       "  ('Months_on_book', 'Total_Relationship_Count'),\n",
       "  ('Months_on_book', 'Months_Inactive_12_mon'),\n",
       "  ('Months_on_book', 'Contacts_Count_12_mon'),\n",
       "  ('Months_on_book', 'Credit_Limit'),\n",
       "  ('Months_on_book', 'Total_Revolving_Bal'),\n",
       "  ('Months_on_book', 'Avg_Open_To_Buy'),\n",
       "  ('Months_on_book', 'Total_Amt_Chng_Q4_Q1'),\n",
       "  ('Months_on_book', 'Total_Trans_Amt'),\n",
       "  ('Months_on_book', 'Total_Trans_Ct'),\n",
       "  ('Months_on_book', 'Total_Ct_Chng_Q4_Q1'),\n",
       "  ('Months_on_book', 'Avg_Utilization_Ratio')],\n",
       " [('Total_Relationship_Count', 'Customer_Age'),\n",
       "  ('Total_Relationship_Count', 'Dependent_count'),\n",
       "  ('Total_Relationship_Count', 'Months_on_book'),\n",
       "  ('Total_Relationship_Count', 'Total_Relationship_Count'),\n",
       "  ('Total_Relationship_Count', 'Months_Inactive_12_mon'),\n",
       "  ('Total_Relationship_Count', 'Contacts_Count_12_mon'),\n",
       "  ('Total_Relationship_Count', 'Credit_Limit'),\n",
       "  ('Total_Relationship_Count', 'Total_Revolving_Bal'),\n",
       "  ('Total_Relationship_Count', 'Avg_Open_To_Buy'),\n",
       "  ('Total_Relationship_Count', 'Total_Amt_Chng_Q4_Q1'),\n",
       "  ('Total_Relationship_Count', 'Total_Trans_Amt'),\n",
       "  ('Total_Relationship_Count', 'Total_Trans_Ct'),\n",
       "  ('Total_Relationship_Count', 'Total_Ct_Chng_Q4_Q1'),\n",
       "  ('Total_Relationship_Count', 'Avg_Utilization_Ratio')],\n",
       " [('Months_Inactive_12_mon', 'Customer_Age'),\n",
       "  ('Months_Inactive_12_mon', 'Dependent_count'),\n",
       "  ('Months_Inactive_12_mon', 'Months_on_book'),\n",
       "  ('Months_Inactive_12_mon', 'Total_Relationship_Count'),\n",
       "  ('Months_Inactive_12_mon', 'Months_Inactive_12_mon'),\n",
       "  ('Months_Inactive_12_mon', 'Contacts_Count_12_mon'),\n",
       "  ('Months_Inactive_12_mon', 'Credit_Limit'),\n",
       "  ('Months_Inactive_12_mon', 'Total_Revolving_Bal'),\n",
       "  ('Months_Inactive_12_mon', 'Avg_Open_To_Buy'),\n",
       "  ('Months_Inactive_12_mon', 'Total_Amt_Chng_Q4_Q1'),\n",
       "  ('Months_Inactive_12_mon', 'Total_Trans_Amt'),\n",
       "  ('Months_Inactive_12_mon', 'Total_Trans_Ct'),\n",
       "  ('Months_Inactive_12_mon', 'Total_Ct_Chng_Q4_Q1'),\n",
       "  ('Months_Inactive_12_mon', 'Avg_Utilization_Ratio')],\n",
       " [('Contacts_Count_12_mon', 'Customer_Age'),\n",
       "  ('Contacts_Count_12_mon', 'Dependent_count'),\n",
       "  ('Contacts_Count_12_mon', 'Months_on_book'),\n",
       "  ('Contacts_Count_12_mon', 'Total_Relationship_Count'),\n",
       "  ('Contacts_Count_12_mon', 'Months_Inactive_12_mon'),\n",
       "  ('Contacts_Count_12_mon', 'Contacts_Count_12_mon'),\n",
       "  ('Contacts_Count_12_mon', 'Credit_Limit'),\n",
       "  ('Contacts_Count_12_mon', 'Total_Revolving_Bal'),\n",
       "  ('Contacts_Count_12_mon', 'Avg_Open_To_Buy'),\n",
       "  ('Contacts_Count_12_mon', 'Total_Amt_Chng_Q4_Q1'),\n",
       "  ('Contacts_Count_12_mon', 'Total_Trans_Amt'),\n",
       "  ('Contacts_Count_12_mon', 'Total_Trans_Ct'),\n",
       "  ('Contacts_Count_12_mon', 'Total_Ct_Chng_Q4_Q1'),\n",
       "  ('Contacts_Count_12_mon', 'Avg_Utilization_Ratio')],\n",
       " [('Credit_Limit', 'Customer_Age'),\n",
       "  ('Credit_Limit', 'Dependent_count'),\n",
       "  ('Credit_Limit', 'Months_on_book'),\n",
       "  ('Credit_Limit', 'Total_Relationship_Count'),\n",
       "  ('Credit_Limit', 'Months_Inactive_12_mon'),\n",
       "  ('Credit_Limit', 'Contacts_Count_12_mon'),\n",
       "  ('Credit_Limit', 'Credit_Limit'),\n",
       "  ('Credit_Limit', 'Total_Revolving_Bal'),\n",
       "  ('Credit_Limit', 'Avg_Open_To_Buy'),\n",
       "  ('Credit_Limit', 'Total_Amt_Chng_Q4_Q1'),\n",
       "  ('Credit_Limit', 'Total_Trans_Amt'),\n",
       "  ('Credit_Limit', 'Total_Trans_Ct'),\n",
       "  ('Credit_Limit', 'Total_Ct_Chng_Q4_Q1'),\n",
       "  ('Credit_Limit', 'Avg_Utilization_Ratio')],\n",
       " [('Total_Revolving_Bal', 'Customer_Age'),\n",
       "  ('Total_Revolving_Bal', 'Dependent_count'),\n",
       "  ('Total_Revolving_Bal', 'Months_on_book'),\n",
       "  ('Total_Revolving_Bal', 'Total_Relationship_Count'),\n",
       "  ('Total_Revolving_Bal', 'Months_Inactive_12_mon'),\n",
       "  ('Total_Revolving_Bal', 'Contacts_Count_12_mon'),\n",
       "  ('Total_Revolving_Bal', 'Credit_Limit'),\n",
       "  ('Total_Revolving_Bal', 'Total_Revolving_Bal'),\n",
       "  ('Total_Revolving_Bal', 'Avg_Open_To_Buy'),\n",
       "  ('Total_Revolving_Bal', 'Total_Amt_Chng_Q4_Q1'),\n",
       "  ('Total_Revolving_Bal', 'Total_Trans_Amt'),\n",
       "  ('Total_Revolving_Bal', 'Total_Trans_Ct'),\n",
       "  ('Total_Revolving_Bal', 'Total_Ct_Chng_Q4_Q1'),\n",
       "  ('Total_Revolving_Bal', 'Avg_Utilization_Ratio')],\n",
       " [('Avg_Open_To_Buy', 'Customer_Age'),\n",
       "  ('Avg_Open_To_Buy', 'Dependent_count'),\n",
       "  ('Avg_Open_To_Buy', 'Months_on_book'),\n",
       "  ('Avg_Open_To_Buy', 'Total_Relationship_Count'),\n",
       "  ('Avg_Open_To_Buy', 'Months_Inactive_12_mon'),\n",
       "  ('Avg_Open_To_Buy', 'Contacts_Count_12_mon'),\n",
       "  ('Avg_Open_To_Buy', 'Credit_Limit'),\n",
       "  ('Avg_Open_To_Buy', 'Total_Revolving_Bal'),\n",
       "  ('Avg_Open_To_Buy', 'Avg_Open_To_Buy'),\n",
       "  ('Avg_Open_To_Buy', 'Total_Amt_Chng_Q4_Q1'),\n",
       "  ('Avg_Open_To_Buy', 'Total_Trans_Amt'),\n",
       "  ('Avg_Open_To_Buy', 'Total_Trans_Ct'),\n",
       "  ('Avg_Open_To_Buy', 'Total_Ct_Chng_Q4_Q1'),\n",
       "  ('Avg_Open_To_Buy', 'Avg_Utilization_Ratio')],\n",
       " [('Total_Amt_Chng_Q4_Q1', 'Customer_Age'),\n",
       "  ('Total_Amt_Chng_Q4_Q1', 'Dependent_count'),\n",
       "  ('Total_Amt_Chng_Q4_Q1', 'Months_on_book'),\n",
       "  ('Total_Amt_Chng_Q4_Q1', 'Total_Relationship_Count'),\n",
       "  ('Total_Amt_Chng_Q4_Q1', 'Months_Inactive_12_mon'),\n",
       "  ('Total_Amt_Chng_Q4_Q1', 'Contacts_Count_12_mon'),\n",
       "  ('Total_Amt_Chng_Q4_Q1', 'Credit_Limit'),\n",
       "  ('Total_Amt_Chng_Q4_Q1', 'Total_Revolving_Bal'),\n",
       "  ('Total_Amt_Chng_Q4_Q1', 'Avg_Open_To_Buy'),\n",
       "  ('Total_Amt_Chng_Q4_Q1', 'Total_Amt_Chng_Q4_Q1'),\n",
       "  ('Total_Amt_Chng_Q4_Q1', 'Total_Trans_Amt'),\n",
       "  ('Total_Amt_Chng_Q4_Q1', 'Total_Trans_Ct'),\n",
       "  ('Total_Amt_Chng_Q4_Q1', 'Total_Ct_Chng_Q4_Q1'),\n",
       "  ('Total_Amt_Chng_Q4_Q1', 'Avg_Utilization_Ratio')],\n",
       " [('Total_Trans_Amt', 'Customer_Age'),\n",
       "  ('Total_Trans_Amt', 'Dependent_count'),\n",
       "  ('Total_Trans_Amt', 'Months_on_book'),\n",
       "  ('Total_Trans_Amt', 'Total_Relationship_Count'),\n",
       "  ('Total_Trans_Amt', 'Months_Inactive_12_mon'),\n",
       "  ('Total_Trans_Amt', 'Contacts_Count_12_mon'),\n",
       "  ('Total_Trans_Amt', 'Credit_Limit'),\n",
       "  ('Total_Trans_Amt', 'Total_Revolving_Bal'),\n",
       "  ('Total_Trans_Amt', 'Avg_Open_To_Buy'),\n",
       "  ('Total_Trans_Amt', 'Total_Amt_Chng_Q4_Q1'),\n",
       "  ('Total_Trans_Amt', 'Total_Trans_Amt'),\n",
       "  ('Total_Trans_Amt', 'Total_Trans_Ct'),\n",
       "  ('Total_Trans_Amt', 'Total_Ct_Chng_Q4_Q1'),\n",
       "  ('Total_Trans_Amt', 'Avg_Utilization_Ratio')],\n",
       " [('Total_Trans_Ct', 'Customer_Age'),\n",
       "  ('Total_Trans_Ct', 'Dependent_count'),\n",
       "  ('Total_Trans_Ct', 'Months_on_book'),\n",
       "  ('Total_Trans_Ct', 'Total_Relationship_Count'),\n",
       "  ('Total_Trans_Ct', 'Months_Inactive_12_mon'),\n",
       "  ('Total_Trans_Ct', 'Contacts_Count_12_mon'),\n",
       "  ('Total_Trans_Ct', 'Credit_Limit'),\n",
       "  ('Total_Trans_Ct', 'Total_Revolving_Bal'),\n",
       "  ('Total_Trans_Ct', 'Avg_Open_To_Buy'),\n",
       "  ('Total_Trans_Ct', 'Total_Amt_Chng_Q4_Q1'),\n",
       "  ('Total_Trans_Ct', 'Total_Trans_Amt'),\n",
       "  ('Total_Trans_Ct', 'Total_Trans_Ct'),\n",
       "  ('Total_Trans_Ct', 'Total_Ct_Chng_Q4_Q1'),\n",
       "  ('Total_Trans_Ct', 'Avg_Utilization_Ratio')],\n",
       " [('Total_Ct_Chng_Q4_Q1', 'Customer_Age'),\n",
       "  ('Total_Ct_Chng_Q4_Q1', 'Dependent_count'),\n",
       "  ('Total_Ct_Chng_Q4_Q1', 'Months_on_book'),\n",
       "  ('Total_Ct_Chng_Q4_Q1', 'Total_Relationship_Count'),\n",
       "  ('Total_Ct_Chng_Q4_Q1', 'Months_Inactive_12_mon'),\n",
       "  ('Total_Ct_Chng_Q4_Q1', 'Contacts_Count_12_mon'),\n",
       "  ('Total_Ct_Chng_Q4_Q1', 'Credit_Limit'),\n",
       "  ('Total_Ct_Chng_Q4_Q1', 'Total_Revolving_Bal'),\n",
       "  ('Total_Ct_Chng_Q4_Q1', 'Avg_Open_To_Buy'),\n",
       "  ('Total_Ct_Chng_Q4_Q1', 'Total_Amt_Chng_Q4_Q1'),\n",
       "  ('Total_Ct_Chng_Q4_Q1', 'Total_Trans_Amt'),\n",
       "  ('Total_Ct_Chng_Q4_Q1', 'Total_Trans_Ct'),\n",
       "  ('Total_Ct_Chng_Q4_Q1', 'Total_Ct_Chng_Q4_Q1'),\n",
       "  ('Total_Ct_Chng_Q4_Q1', 'Avg_Utilization_Ratio')],\n",
       " [('Avg_Utilization_Ratio', 'Customer_Age'),\n",
       "  ('Avg_Utilization_Ratio', 'Dependent_count'),\n",
       "  ('Avg_Utilization_Ratio', 'Months_on_book'),\n",
       "  ('Avg_Utilization_Ratio', 'Total_Relationship_Count'),\n",
       "  ('Avg_Utilization_Ratio', 'Months_Inactive_12_mon'),\n",
       "  ('Avg_Utilization_Ratio', 'Contacts_Count_12_mon'),\n",
       "  ('Avg_Utilization_Ratio', 'Credit_Limit'),\n",
       "  ('Avg_Utilization_Ratio', 'Total_Revolving_Bal'),\n",
       "  ('Avg_Utilization_Ratio', 'Avg_Open_To_Buy'),\n",
       "  ('Avg_Utilization_Ratio', 'Total_Amt_Chng_Q4_Q1'),\n",
       "  ('Avg_Utilization_Ratio', 'Total_Trans_Amt'),\n",
       "  ('Avg_Utilization_Ratio', 'Total_Trans_Ct'),\n",
       "  ('Avg_Utilization_Ratio', 'Total_Ct_Chng_Q4_Q1'),\n",
       "  ('Avg_Utilization_Ratio', 'Avg_Utilization_Ratio')]]"
      ]
     },
     "execution_count": 18,
     "metadata": {},
     "output_type": "execute_result"
    }
   ],
   "source": [
    "numericColumnsPairsFull = list(map(lambda z: z[1], map(lambda x: [x, list(map(lambda y: (x, y), numericColumns))], numericColumns)))\n",
    "numericColumnsPairsFull"
   ]
  },
  {
   "cell_type": "code",
   "execution_count": 19,
   "metadata": {},
   "outputs": [
    {
     "name": "stderr",
     "output_type": "stream",
     "text": [
      "23/07/27 12:24:25 WARN InstanceBuilder: Failed to load implementation from:dev.ludovic.netlib.blas.JNIBLAS\n",
      "                                                                                \r"
     ]
    }
   ],
   "source": [
    "from pyspark.ml.feature import VectorAssembler\n",
    "from pyspark.ml.stat import Correlation\n",
    "\n",
    "numericAssembler = VectorAssembler()\\\n",
    "    .setInputCols(numericColumns)\\\n",
    "    .setOutputCol(\"features\")\n",
    "\n",
    "numeric = numericAssembler.transform(data)\n",
    "matrix = Correlation.corr(numeric, \"features\").head().asDict()['pearson(features)'].toArray().tolist()"
   ]
  },
  {
   "cell_type": "code",
   "execution_count": 20,
   "metadata": {},
   "outputs": [
    {
     "data": {
      "text/plain": [
       "[[1.0,\n",
       "  -0.13575515707704905,\n",
       "  0.780504770689084,\n",
       "  -0.026525310066417403,\n",
       "  0.13116552936201348,\n",
       "  -0.019944405497176732,\n",
       "  0.016657097778483475,\n",
       "  -0.002841536593767456,\n",
       "  0.016929170875654043,\n",
       "  -0.020559135165498028,\n",
       "  -0.06586475313340744,\n",
       "  -0.07815083273365253,\n",
       "  -0.016568818333932693,\n",
       "  -0.010985827540562288],\n",
       " [-0.13575515707704905,\n",
       "  1.0,\n",
       "  -0.11728062823959522,\n",
       "  -0.03266417786351196,\n",
       "  -0.010657501150598976,\n",
       "  -0.02566496168277401,\n",
       "  0.06002070339266479,\n",
       "  0.0018723592997836101,\n",
       "  0.05981512203616065,\n",
       "  -0.04794367154504479,\n",
       "  0.00700430540503166,\n",
       "  0.025513406218718206,\n",
       "  -0.019666216088456825,\n",
       "  -0.03300255953641679],\n",
       " [0.780504770689084,\n",
       "  -0.11728062823959522,\n",
       "  1.0,\n",
       "  -0.017395648588812672,\n",
       "  0.17573226369307368,\n",
       "  -0.018581210990133486,\n",
       "  0.01736017181943523,\n",
       "  0.002027784037740437,\n",
       "  0.017155177760641748,\n",
       "  -0.016079093535360012,\n",
       "  -0.05568529445298156,\n",
       "  -0.05906597721356735,\n",
       "  -0.021148786215887182,\n",
       "  -0.018757073876222614],\n",
       " [-0.026525310066417403,\n",
       "  -0.03266417786351196,\n",
       "  -0.017395648588812672,\n",
       "  1.0,\n",
       "  -0.04657024514333715,\n",
       "  -0.0018861199977871894,\n",
       "  -0.061891504399372056,\n",
       "  0.05068934288183215,\n",
       "  -0.06683210172541643,\n",
       "  0.05214659054081495,\n",
       "  -0.2062946623631383,\n",
       "  -0.07617337053720165,\n",
       "  0.0742002766082559,\n",
       "  0.08047531726783236],\n",
       " [0.13116552936201348,\n",
       "  -0.010657501150598976,\n",
       "  0.17573226369307368,\n",
       "  -0.04657024514333715,\n",
       "  1.0,\n",
       "  0.06129748093625063,\n",
       "  -0.016271573522739585,\n",
       "  -0.06607607563681125,\n",
       "  -0.00979533757358583,\n",
       "  -0.04411755633518258,\n",
       "  -0.06669529888196893,\n",
       "  -0.10091654798105806,\n",
       "  -0.08107790496754748,\n",
       "  -0.04221830268382151],\n",
       " [-0.019944405497176732,\n",
       "  -0.02566496168277401,\n",
       "  -0.018581210990133486,\n",
       "  -0.0018861199977871894,\n",
       "  0.06129748093625063,\n",
       "  1.0,\n",
       "  0.02149246970622963,\n",
       "  -0.10610311155210438,\n",
       "  0.03187418350789977,\n",
       "  -0.07203855812831873,\n",
       "  -0.12417607461224629,\n",
       "  -0.1859995492541805,\n",
       "  -0.12059410060346155,\n",
       "  -0.09522390178045415],\n",
       " [0.016657097778483475,\n",
       "  0.06002070339266479,\n",
       "  0.01736017181943523,\n",
       "  -0.061891504399372056,\n",
       "  -0.016271573522739585,\n",
       "  0.02149246970622963,\n",
       "  1.0,\n",
       "  0.04519384899361391,\n",
       "  0.9952040726156179,\n",
       "  0.041423342522484516,\n",
       "  0.1980983868105364,\n",
       "  0.10889218239906147,\n",
       "  0.033853339728644245,\n",
       "  -0.38827429681219416],\n",
       " [-0.002841536593767456,\n",
       "  0.0018723592997836101,\n",
       "  0.002027784037740437,\n",
       "  0.05068934288183215,\n",
       "  -0.06607607563681125,\n",
       "  -0.10610311155210438,\n",
       "  0.04519384899361391,\n",
       "  1.0,\n",
       "  -0.05274346649002461,\n",
       "  0.07340046611212676,\n",
       "  0.1055959291780608,\n",
       "  0.15429479088385864,\n",
       "  0.1381859973784156,\n",
       "  0.6946855441968222],\n",
       " [0.016929170875654043,\n",
       "  0.05981512203616065,\n",
       "  0.017155177760641748,\n",
       "  -0.06683210172541643,\n",
       "  -0.00979533757358583,\n",
       "  0.03187418350789977,\n",
       "  0.9952040726156179,\n",
       "  -0.05274346649002461,\n",
       "  1.0,\n",
       "  0.034220578849762054,\n",
       "  0.18768497380988472,\n",
       "  0.09374320176464357,\n",
       "  0.020309544726394395,\n",
       "  -0.4561544380921445],\n",
       " [-0.020559135165498028,\n",
       "  -0.04794367154504479,\n",
       "  -0.016079093535360012,\n",
       "  0.05214659054081495,\n",
       "  -0.04411755633518258,\n",
       "  -0.07203855812831873,\n",
       "  0.041423342522484516,\n",
       "  0.07340046611212676,\n",
       "  0.034220578849762054,\n",
       "  1.0,\n",
       "  0.17200852628802601,\n",
       "  0.13574915547211577,\n",
       "  0.3975885236609694,\n",
       "  0.03619767788610206],\n",
       " [-0.06586475313340744,\n",
       "  0.00700430540503166,\n",
       "  -0.05568529445298156,\n",
       "  -0.2062946623631383,\n",
       "  -0.06669529888196893,\n",
       "  -0.12417607461224629,\n",
       "  0.1980983868105364,\n",
       "  0.1055959291780608,\n",
       "  0.18768497380988472,\n",
       "  0.17200852628802601,\n",
       "  1.0,\n",
       "  0.8053901681243786,\n",
       "  0.24166276221301636,\n",
       "  -0.044831255976228356],\n",
       " [-0.07815083273365253,\n",
       "  0.025513406218718206,\n",
       "  -0.05906597721356735,\n",
       "  -0.07617337053720165,\n",
       "  -0.10091654798105806,\n",
       "  -0.1859995492541805,\n",
       "  0.10889218239906147,\n",
       "  0.15429479088385864,\n",
       "  0.09374320176464357,\n",
       "  0.13574915547211577,\n",
       "  0.8053901681243786,\n",
       "  1.0,\n",
       "  0.311691525419072,\n",
       "  0.06729518237548897],\n",
       " [-0.016568818333932693,\n",
       "  -0.019666216088456825,\n",
       "  -0.021148786215887182,\n",
       "  0.0742002766082559,\n",
       "  -0.08107790496754748,\n",
       "  -0.12059410060346155,\n",
       "  0.033853339728644245,\n",
       "  0.1381859973784156,\n",
       "  0.020309544726394395,\n",
       "  0.3975885236609694,\n",
       "  0.24166276221301636,\n",
       "  0.311691525419072,\n",
       "  1.0,\n",
       "  0.09629595189736043],\n",
       " [-0.010985827540562288,\n",
       "  -0.03300255953641679,\n",
       "  -0.018757073876222614,\n",
       "  0.08047531726783236,\n",
       "  -0.04221830268382151,\n",
       "  -0.09522390178045415,\n",
       "  -0.38827429681219416,\n",
       "  0.6946855441968222,\n",
       "  -0.4561544380921445,\n",
       "  0.03619767788610206,\n",
       "  -0.044831255976228356,\n",
       "  0.06729518237548897,\n",
       "  0.09629595189736043,\n",
       "  1.0]]"
      ]
     },
     "execution_count": 20,
     "metadata": {},
     "output_type": "execute_result"
    }
   ],
   "source": [
    "matrix"
   ]
  },
  {
   "cell_type": "code",
   "execution_count": 21,
   "metadata": {},
   "outputs": [],
   "source": [
    "def generate_cor_pairs(m, n):\n",
    "    for x in range(0, len(m)):\n",
    "        for y in range(0, len(m[0])):\n",
    "            yield abs(matrix[x][y]), n[x][y]\n",
    "            \n",
    "cor_pairs = list(generate_cor_pairs(matrix, numericColumnsPairsFull))"
   ]
  },
  {
   "cell_type": "code",
   "execution_count": 22,
   "metadata": {},
   "outputs": [],
   "source": [
    "corr2 = list(\n",
    "    set(\n",
    "        map(lambda x: (x[0], x[1][0], x[1][1]) if x[1][0] < x[1][1] else (x[0], x[1][1], x[1][0]),\n",
    "            (filter(lambda x: 0.6 < x[0] < 1, cor_pairs)))))"
   ]
  },
  {
   "cell_type": "code",
   "execution_count": 23,
   "metadata": {},
   "outputs": [
    {
     "name": "stdout",
     "output_type": "stream",
     "text": [
      "          Avg_Open_To_Buy              Credit_Limit\t0.9952040726156179\n",
      "          Total_Trans_Amt            Total_Trans_Ct\t0.8053901681243786\n",
      "             Customer_Age            Months_on_book\t0.780504770689084\n",
      "    Avg_Utilization_Ratio       Total_Revolving_Bal\t0.6946855441968222\n"
     ]
    }
   ],
   "source": [
    "corr2.sort(key=lambda x: x[0])\n",
    "for i in reversed(corr2):\n",
    "    print(f\"{i[1]:>25} {i[2]:>25}\\t{i[0]}\")"
   ]
  },
  {
   "cell_type": "code",
   "execution_count": 24,
   "metadata": {},
   "outputs": [
    {
     "data": {
      "text/plain": [
       "set()"
      ]
     },
     "execution_count": 24,
     "metadata": {},
     "output_type": "execute_result"
    }
   ],
   "source": [
    "set(corr).intersection(set(corr2))"
   ]
  },
  {
   "cell_type": "markdown",
   "metadata": {},
   "source": [
    "#### Оставляем числовые колонки с низкой кореляцией"
   ]
  },
  {
   "cell_type": "code",
   "execution_count": 25,
   "metadata": {},
   "outputs": [
    {
     "data": {
      "text/plain": [
       "['Months_Inactive_12_mon',\n",
       " 'Contacts_Count_12_mon',\n",
       " 'Customer_Age',\n",
       " 'Total_Revolving_Bal',\n",
       " 'Total_Amt_Chng_Q4_Q1',\n",
       " 'Total_Relationship_Count',\n",
       " 'Credit_Limit',\n",
       " 'Total_Trans_Amt',\n",
       " 'Dependent_count',\n",
       " 'Total_Ct_Chng_Q4_Q1']"
      ]
     },
     "execution_count": 25,
     "metadata": {},
     "output_type": "execute_result"
    }
   ],
   "source": [
    "numericColumnsFinal = list(\n",
    "    set(numericColumns) - set(map(lambda x: x[1], corr)))\n",
    "\n",
    "numericColumnsFinal"
   ]
  },
  {
   "cell_type": "markdown",
   "metadata": {},
   "source": [
    "### Категориальные признаки"
   ]
  },
  {
   "cell_type": "markdown",
   "metadata": {},
   "source": [
    "#### Индексируем строковые колонки"
   ]
  },
  {
   "cell_type": "code",
   "execution_count": 26,
   "metadata": {},
   "outputs": [
    {
     "name": "stdout",
     "output_type": "stream",
     "text": [
      "+-----------------+------------+------+---------------+---------------+--------------+---------------+-------------+--------------+------------------------+----------------------+---------------------+------------+-------------------+---------------+--------------------+---------------+--------------+-------------------+---------------------+------+--------------+-----------------------+----------------------+-----------------------+---------------------+\n",
      "|   Attrition_Flag|Customer_Age|Gender|Dependent_count|Education_Level|Marital_Status|Income_Category|Card_Category|Months_on_book|Total_Relationship_Count|Months_Inactive_12_mon|Contacts_Count_12_mon|Credit_Limit|Total_Revolving_Bal|Avg_Open_To_Buy|Total_Amt_Chng_Q4_Q1|Total_Trans_Amt|Total_Trans_Ct|Total_Ct_Chng_Q4_Q1|Avg_Utilization_Ratio|target|Gender_Indexed|Education_Level_Indexed|Marital_Status_Indexed|Income_Category_Indexed|Card_Category_Indexed|\n",
      "+-----------------+------------+------+---------------+---------------+--------------+---------------+-------------+--------------+------------------------+----------------------+---------------------+------------+-------------------+---------------+--------------------+---------------+--------------+-------------------+---------------------+------+--------------+-----------------------+----------------------+-----------------------+---------------------+\n",
      "|Existing Customer|          45|     M|              3|    High School|       Married|    $60K - $80K|         Blue|            39|                       5|                     1|                    3|     12691.0|                777|        11914.0|               1.335|           1144|            42|              1.625|                0.061|     0|           1.0|                    1.0|                   0.0|                    3.0|                  0.0|\n",
      "|Existing Customer|          49|     F|              5|       Graduate|        Single| Less than $40K|         Blue|            44|                       6|                     1|                    2|      8256.0|                864|         7392.0|               1.541|           1291|            33|              3.714|                0.105|     0|           0.0|                    0.0|                   1.0|                    0.0|                  0.0|\n",
      "|Existing Customer|          51|     M|              3|       Graduate|       Married|   $80K - $120K|         Blue|            36|                       4|                     1|                    0|      3418.0|                  0|         3418.0|               2.594|           1887|            20|              2.333|                  0.0|     0|           1.0|                    0.0|                   0.0|                    2.0|                  0.0|\n",
      "|Existing Customer|          40|     F|              4|    High School|       Unknown| Less than $40K|         Blue|            34|                       3|                     4|                    1|      3313.0|               2517|          796.0|               1.405|           1171|            20|              2.333|                 0.76|     0|           0.0|                    1.0|                   2.0|                    0.0|                  0.0|\n",
      "|Existing Customer|          40|     M|              3|     Uneducated|       Married|    $60K - $80K|         Blue|            21|                       5|                     1|                    0|      4716.0|                  0|         4716.0|               2.175|            816|            28|                2.5|                  0.0|     0|           1.0|                    3.0|                   0.0|                    3.0|                  0.0|\n",
      "+-----------------+------------+------+---------------+---------------+--------------+---------------+-------------+--------------+------------------------+----------------------+---------------------+------------+-------------------+---------------+--------------------+---------------+--------------+-------------------+---------------------+------+--------------+-----------------------+----------------------+-----------------------+---------------------+\n",
      "only showing top 5 rows\n",
      "\n"
     ]
    }
   ],
   "source": [
    "from pyspark.ml.feature import StringIndexer\n",
    "\n",
    "stringColumns = list(\n",
    "    filter(\n",
    "        lambda x: x != \"Attrition_Flag\",\n",
    "        map(lambda x: x[0], \n",
    "            filter(lambda x: x[1] == \"string\", data.dtypes))))\n",
    "\n",
    "stringColumnsIndexed = list(map(lambda x: x + \"_Indexed\", stringColumns))\n",
    "\n",
    "indexer = StringIndexer()\\\n",
    "    .setInputCols(stringColumns)\\\n",
    "    .setOutputCols(stringColumnsIndexed)\n",
    "\n",
    "indexed = indexer.fit(data).transform(data)\n",
    "indexed.show(5)"
   ]
  },
  {
   "cell_type": "markdown",
   "metadata": {},
   "source": [
    "#### Кодируем категориальные признаки"
   ]
  },
  {
   "cell_type": "code",
   "execution_count": 27,
   "metadata": {},
   "outputs": [
    {
     "name": "stdout",
     "output_type": "stream",
     "text": [
      "+-----------------+------------+------+---------------+---------------+--------------+---------------+-------------+--------------+------------------------+----------------------+---------------------+------------+-------------------+---------------+--------------------+---------------+--------------+-------------------+---------------------+------+--------------+-----------------------+----------------------+-----------------------+---------------------+--------------------+-----------------------------+----------------------------+-----------------------------+---------------------------+\n",
      "|   Attrition_Flag|Customer_Age|Gender|Dependent_count|Education_Level|Marital_Status|Income_Category|Card_Category|Months_on_book|Total_Relationship_Count|Months_Inactive_12_mon|Contacts_Count_12_mon|Credit_Limit|Total_Revolving_Bal|Avg_Open_To_Buy|Total_Amt_Chng_Q4_Q1|Total_Trans_Amt|Total_Trans_Ct|Total_Ct_Chng_Q4_Q1|Avg_Utilization_Ratio|target|Gender_Indexed|Education_Level_Indexed|Marital_Status_Indexed|Income_Category_Indexed|Card_Category_Indexed|Gender_Indexed_Coded|Education_Level_Indexed_Coded|Marital_Status_Indexed_Coded|Income_Category_Indexed_Coded|Card_Category_Indexed_Coded|\n",
      "+-----------------+------------+------+---------------+---------------+--------------+---------------+-------------+--------------+------------------------+----------------------+---------------------+------------+-------------------+---------------+--------------------+---------------+--------------+-------------------+---------------------+------+--------------+-----------------------+----------------------+-----------------------+---------------------+--------------------+-----------------------------+----------------------------+-----------------------------+---------------------------+\n",
      "|Existing Customer|          45|     M|              3|    High School|       Married|    $60K - $80K|         Blue|            39|                       5|                     1|                    3|     12691.0|                777|        11914.0|               1.335|           1144|            42|              1.625|                0.061|     0|           1.0|                    1.0|                   0.0|                    3.0|                  0.0|           (1,[],[])|                (6,[1],[1.0])|               (3,[0],[1.0])|                (5,[3],[1.0])|              (3,[0],[1.0])|\n",
      "|Existing Customer|          49|     F|              5|       Graduate|        Single| Less than $40K|         Blue|            44|                       6|                     1|                    2|      8256.0|                864|         7392.0|               1.541|           1291|            33|              3.714|                0.105|     0|           0.0|                    0.0|                   1.0|                    0.0|                  0.0|       (1,[0],[1.0])|                (6,[0],[1.0])|               (3,[1],[1.0])|                (5,[0],[1.0])|              (3,[0],[1.0])|\n",
      "|Existing Customer|          51|     M|              3|       Graduate|       Married|   $80K - $120K|         Blue|            36|                       4|                     1|                    0|      3418.0|                  0|         3418.0|               2.594|           1887|            20|              2.333|                  0.0|     0|           1.0|                    0.0|                   0.0|                    2.0|                  0.0|           (1,[],[])|                (6,[0],[1.0])|               (3,[0],[1.0])|                (5,[2],[1.0])|              (3,[0],[1.0])|\n",
      "|Existing Customer|          40|     F|              4|    High School|       Unknown| Less than $40K|         Blue|            34|                       3|                     4|                    1|      3313.0|               2517|          796.0|               1.405|           1171|            20|              2.333|                 0.76|     0|           0.0|                    1.0|                   2.0|                    0.0|                  0.0|       (1,[0],[1.0])|                (6,[1],[1.0])|               (3,[2],[1.0])|                (5,[0],[1.0])|              (3,[0],[1.0])|\n",
      "|Existing Customer|          40|     M|              3|     Uneducated|       Married|    $60K - $80K|         Blue|            21|                       5|                     1|                    0|      4716.0|                  0|         4716.0|               2.175|            816|            28|                2.5|                  0.0|     0|           1.0|                    3.0|                   0.0|                    3.0|                  0.0|           (1,[],[])|                (6,[3],[1.0])|               (3,[0],[1.0])|                (5,[3],[1.0])|              (3,[0],[1.0])|\n",
      "+-----------------+------------+------+---------------+---------------+--------------+---------------+-------------+--------------+------------------------+----------------------+---------------------+------------+-------------------+---------------+--------------------+---------------+--------------+-------------------+---------------------+------+--------------+-----------------------+----------------------+-----------------------+---------------------+--------------------+-----------------------------+----------------------------+-----------------------------+---------------------------+\n",
      "only showing top 5 rows\n",
      "\n"
     ]
    }
   ],
   "source": [
    "from pyspark.ml.feature import OneHotEncoder\n",
    "\n",
    "catColumns = list(map(lambda x: x + \"_Coded\", stringColumnsIndexed))\n",
    "    \n",
    "encoder = OneHotEncoder()\\\n",
    "    .setInputCols(stringColumnsIndexed)\\\n",
    "    .setOutputCols(catColumns)\n",
    "\n",
    "encoded = encoder.fit(indexed).transform(indexed)\n",
    "encoded.show(5)"
   ]
  },
  {
   "cell_type": "markdown",
   "metadata": {},
   "source": [
    "### Собираем признаки в вектор"
   ]
  },
  {
   "cell_type": "code",
   "execution_count": 28,
   "metadata": {},
   "outputs": [
    {
     "name": "stdout",
     "output_type": "stream",
     "text": [
      "+-----------------+------------+------+---------------+---------------+--------------+---------------+-------------+--------------+------------------------+----------------------+---------------------+------------+-------------------+---------------+--------------------+---------------+--------------+-------------------+---------------------+------+--------------+-----------------------+----------------------+-----------------------+---------------------+--------------------+-----------------------------+----------------------------+-----------------------------+---------------------------+---------------------------------------------------------------------------------------------------------------------+\n",
      "|Attrition_Flag   |Customer_Age|Gender|Dependent_count|Education_Level|Marital_Status|Income_Category|Card_Category|Months_on_book|Total_Relationship_Count|Months_Inactive_12_mon|Contacts_Count_12_mon|Credit_Limit|Total_Revolving_Bal|Avg_Open_To_Buy|Total_Amt_Chng_Q4_Q1|Total_Trans_Amt|Total_Trans_Ct|Total_Ct_Chng_Q4_Q1|Avg_Utilization_Ratio|target|Gender_Indexed|Education_Level_Indexed|Marital_Status_Indexed|Income_Category_Indexed|Card_Category_Indexed|Gender_Indexed_Coded|Education_Level_Indexed_Coded|Marital_Status_Indexed_Coded|Income_Category_Indexed_Coded|Card_Category_Indexed_Coded|features                                                                                                             |\n",
      "+-----------------+------------+------+---------------+---------------+--------------+---------------+-------------+--------------+------------------------+----------------------+---------------------+------------+-------------------+---------------+--------------------+---------------+--------------+-------------------+---------------------+------+--------------+-----------------------+----------------------+-----------------------+---------------------+--------------------+-----------------------------+----------------------------+-----------------------------+---------------------------+---------------------------------------------------------------------------------------------------------------------+\n",
      "|Existing Customer|45          |M     |3              |High School    |Married       |$60K - $80K    |Blue         |39            |5                       |1                     |3                    |12691.0     |777                |11914.0        |1.335               |1144           |42            |1.625              |0.061                |0     |1.0           |1.0                    |0.0                   |3.0                    |0.0                  |(1,[],[])           |(6,[1],[1.0])                |(3,[0],[1.0])               |(5,[3],[1.0])                |(3,[0],[1.0])              |(28,[0,1,2,3,4,5,6,7,8,9,12,17,23,25],[1.0,3.0,45.0,777.0,1.335,5.0,12691.0,1144.0,3.0,1.625,1.0,1.0,1.0,1.0])       |\n",
      "|Existing Customer|49          |F     |5              |Graduate       |Single        |Less than $40K |Blue         |44            |6                       |1                     |2                    |8256.0      |864                |7392.0         |1.541               |1291           |33            |3.714              |0.105                |0     |0.0           |0.0                    |1.0                   |0.0                    |0.0                  |(1,[0],[1.0])       |(6,[0],[1.0])                |(3,[1],[1.0])               |(5,[0],[1.0])                |(3,[0],[1.0])              |(28,[0,1,2,3,4,5,6,7,8,9,10,11,18,20,25],[1.0,2.0,49.0,864.0,1.541,6.0,8256.0,1291.0,5.0,3.714,1.0,1.0,1.0,1.0,1.0]) |\n",
      "|Existing Customer|51          |M     |3              |Graduate       |Married       |$80K - $120K   |Blue         |36            |4                       |1                     |0                    |3418.0      |0                  |3418.0         |2.594               |1887           |20            |2.333              |0.0                  |0     |1.0           |0.0                    |0.0                   |2.0                    |0.0                  |(1,[],[])           |(6,[0],[1.0])                |(3,[0],[1.0])               |(5,[2],[1.0])                |(3,[0],[1.0])              |(28,[0,2,4,5,6,7,8,9,11,17,22,25],[1.0,51.0,2.594,4.0,3418.0,1887.0,3.0,2.333,1.0,1.0,1.0,1.0])                      |\n",
      "|Existing Customer|40          |F     |4              |High School    |Unknown       |Less than $40K |Blue         |34            |3                       |4                     |1                    |3313.0      |2517               |796.0          |1.405               |1171           |20            |2.333              |0.76                 |0     |0.0           |1.0                    |2.0                   |0.0                    |0.0                  |(1,[0],[1.0])       |(6,[1],[1.0])                |(3,[2],[1.0])               |(5,[0],[1.0])                |(3,[0],[1.0])              |(28,[0,1,2,3,4,5,6,7,8,9,10,12,19,20,25],[4.0,1.0,40.0,2517.0,1.405,3.0,3313.0,1171.0,4.0,2.333,1.0,1.0,1.0,1.0,1.0])|\n",
      "|Existing Customer|40          |M     |3              |Uneducated     |Married       |$60K - $80K    |Blue         |21            |5                       |1                     |0                    |4716.0      |0                  |4716.0         |2.175               |816            |28            |2.5                |0.0                  |0     |1.0           |3.0                    |0.0                   |3.0                    |0.0                  |(1,[],[])           |(6,[3],[1.0])                |(3,[0],[1.0])               |(5,[3],[1.0])                |(3,[0],[1.0])              |(28,[0,2,4,5,6,7,8,9,14,17,23,25],[1.0,40.0,2.175,5.0,4716.0,816.0,3.0,2.5,1.0,1.0,1.0,1.0])                         |\n",
      "+-----------------+------------+------+---------------+---------------+--------------+---------------+-------------+--------------+------------------------+----------------------+---------------------+------------+-------------------+---------------+--------------------+---------------+--------------+-------------------+---------------------+------+--------------+-----------------------+----------------------+-----------------------+---------------------+--------------------+-----------------------------+----------------------------+-----------------------------+---------------------------+---------------------------------------------------------------------------------------------------------------------+\n",
      "only showing top 5 rows\n",
      "\n"
     ]
    }
   ],
   "source": [
    "from pyspark.ml.feature import VectorAssembler\n",
    "\n",
    "featureColumns = numericColumnsFinal + catColumns\n",
    "\n",
    "assembler = VectorAssembler()\\\n",
    "    .setInputCols(featureColumns)\\\n",
    "    .setOutputCol(\"features\")\n",
    "\n",
    "assembled = assembler.transform(encoded)\n",
    "assembled.show(5, truncate=False)"
   ]
  },
  {
   "cell_type": "code",
   "execution_count": 29,
   "metadata": {},
   "outputs": [
    {
     "name": "stdout",
     "output_type": "stream",
     "text": [
      "+---------------------------------------------------------------------------------------------------------------------+\n",
      "|features                                                                                                             |\n",
      "+---------------------------------------------------------------------------------------------------------------------+\n",
      "|(28,[0,1,2,3,4,5,6,7,8,9,12,17,23,25],[1.0,3.0,45.0,777.0,1.335,5.0,12691.0,1144.0,3.0,1.625,1.0,1.0,1.0,1.0])       |\n",
      "|(28,[0,1,2,3,4,5,6,7,8,9,10,11,18,20,25],[1.0,2.0,49.0,864.0,1.541,6.0,8256.0,1291.0,5.0,3.714,1.0,1.0,1.0,1.0,1.0]) |\n",
      "|(28,[0,2,4,5,6,7,8,9,11,17,22,25],[1.0,51.0,2.594,4.0,3418.0,1887.0,3.0,2.333,1.0,1.0,1.0,1.0])                      |\n",
      "|(28,[0,1,2,3,4,5,6,7,8,9,10,12,19,20,25],[4.0,1.0,40.0,2517.0,1.405,3.0,3313.0,1171.0,4.0,2.333,1.0,1.0,1.0,1.0,1.0])|\n",
      "|(28,[0,2,4,5,6,7,8,9,14,17,23,25],[1.0,40.0,2.175,5.0,4716.0,816.0,3.0,2.5,1.0,1.0,1.0,1.0])                         |\n",
      "+---------------------------------------------------------------------------------------------------------------------+\n",
      "only showing top 5 rows\n",
      "\n"
     ]
    }
   ],
   "source": [
    "assembled.select(\"features\").show(5, False)"
   ]
  },
  {
   "cell_type": "markdown",
   "metadata": {},
   "source": [
    "### Нормализация"
   ]
  },
  {
   "cell_type": "code",
   "execution_count": 30,
   "metadata": {},
   "outputs": [
    {
     "name": "stdout",
     "output_type": "stream",
     "text": [
      "+---------------------------------------------------------------------------------------------------------------------+------------------------------------------------------------------------------------------------------------------------------------------------------------------------------------------------------------------------------+\n",
      "|features                                                                                                             |scaledFeatures                                                                                                                                                                                                                |\n",
      "+---------------------------------------------------------------------------------------------------------------------+------------------------------------------------------------------------------------------------------------------------------------------------------------------------------------------------------------------------------+\n",
      "|(28,[0,1,2,3,4,5,6,7,8,9,12,17,23,25],[1.0,3.0,45.0,777.0,1.335,5.0,12691.0,1144.0,3.0,1.625,1.0,1.0,1.0,1.0])       |(28,[0,1,2,3,4,5,6,7,8,9,12,17,23,25],[0.16666666666666666,0.5,0.40425531914893614,0.30870083432657924,0.39299381807477185,0.8,0.3401899164694039,0.03527317236007566,0.6000000000000001,0.43753365643511044,1.0,1.0,1.0,1.0])|\n",
      "|(28,[0,1,2,3,4,5,6,7,8,9,10,11,18,20,25],[1.0,2.0,49.0,864.0,1.541,6.0,8256.0,1291.0,5.0,3.714,1.0,1.0,1.0,1.0,1.0]) |(28,[0,1,2,3,4,5,6,7,8,9,10,11,18,20,25],[0.16666666666666666,0.3333333333333333,0.48936170212765956,0.3432657926102503,0.4536355607889314,1.0,0.2061116704002999,0.043451652386780906,1.0,1.0,1.0,1.0,1.0,1.0,1.0])          |\n",
      "|(28,[0,2,4,5,6,7,8,9,11,17,22,25],[1.0,51.0,2.594,4.0,3418.0,1887.0,3.0,2.333,1.0,1.0,1.0,1.0])                      |(28,[0,2,4,5,6,7,8,9,11,17,22,25],[0.16666666666666666,0.5319148936170213,0.7636149543715043,0.6000000000000001,0.05984998957001243,0.07661065984199399,0.6000000000000001,0.6281637049003771,1.0,1.0,1.0,1.0])               |\n",
      "|(28,[0,1,2,3,4,5,6,7,8,9,10,12,19,20,25],[4.0,1.0,40.0,2517.0,1.405,3.0,3313.0,1171.0,4.0,2.333,1.0,1.0,1.0,1.0,1.0])|(28,[0,1,2,3,4,5,6,7,8,9,10,12,19,20,25],[0.6666666666666666,0.16666666666666666,0.2978723404255319,1.0,0.41360023550191344,0.4,0.056675645525535334,0.036775342160899074,0.8,0.6281637049003771,1.0,1.0,1.0,1.0,1.0])        |\n",
      "|(28,[0,2,4,5,6,7,8,9,14,17,23,25],[1.0,40.0,2.175,5.0,4716.0,816.0,3.0,2.5,1.0,1.0,1.0,1.0])                         |(28,[0,2,4,5,6,7,8,9,14,17,23,25],[0.16666666666666666,0.2978723404255319,0.6402708272004709,0.8,0.09909092832935784,0.017024591075998664,0.6000000000000001,0.6731287022078623,1.0,1.0,1.0,1.0])                             |\n",
      "+---------------------------------------------------------------------------------------------------------------------+------------------------------------------------------------------------------------------------------------------------------------------------------------------------------------------------------------------------------+\n",
      "only showing top 5 rows\n",
      "\n"
     ]
    }
   ],
   "source": [
    "from pyspark.ml.feature import MinMaxScaler\n",
    "\n",
    "scaler = MinMaxScaler()\\\n",
    "    .setInputCol(\"features\")\\\n",
    "    .setOutputCol(\"scaledFeatures\")\n",
    "\n",
    "scaled = scaler.fit(assembled).transform(assembled)\n",
    "\n",
    "scaled.select(\"features\", \"scaledFeatures\").show(5, False)"
   ]
  },
  {
   "cell_type": "markdown",
   "metadata": {},
   "source": [
    "## Feature Selection (отбор признаков)"
   ]
  },
  {
   "cell_type": "code",
   "execution_count": 31,
   "metadata": {},
   "outputs": [
    {
     "name": "stdout",
     "output_type": "stream",
     "text": [
      "+------------------------------------------------------------------------------------------------------------------------------------------------------------------------------------------------------------------------------+-----------------------------------------------------------------------------------------------------------------------------------------------------------------------------------------------------------------------+\n",
      "|scaledFeatures                                                                                                                                                                                                                |selectedFeatures                                                                                                                                                                                                       |\n",
      "+------------------------------------------------------------------------------------------------------------------------------------------------------------------------------------------------------------------------------+-----------------------------------------------------------------------------------------------------------------------------------------------------------------------------------------------------------------------+\n",
      "|(28,[0,1,2,3,4,5,6,7,8,9,12,17,23,25],[0.16666666666666666,0.5,0.40425531914893614,0.30870083432657924,0.39299381807477185,0.8,0.3401899164694039,0.03527317236007566,0.6000000000000001,0.43753365643511044,1.0,1.0,1.0,1.0])|(21,[0,1,2,3,4,5,6,7,8,9,12,15,20],[0.16666666666666666,0.5,0.40425531914893614,0.30870083432657924,0.39299381807477185,0.8,0.3401899164694039,0.03527317236007566,0.6000000000000001,0.43753365643511044,1.0,1.0,1.0])|\n",
      "|(28,[0,1,2,3,4,5,6,7,8,9,10,11,18,20,25],[0.16666666666666666,0.3333333333333333,0.48936170212765956,0.3432657926102503,0.4536355607889314,1.0,0.2061116704002999,0.043451652386780906,1.0,1.0,1.0,1.0,1.0,1.0,1.0])          |(21,[0,1,2,3,4,5,6,7,8,9,10,11,16,18],[0.16666666666666666,0.3333333333333333,0.48936170212765956,0.3432657926102503,0.4536355607889314,1.0,0.2061116704002999,0.043451652386780906,1.0,1.0,1.0,1.0,1.0,1.0])          |\n",
      "|(28,[0,2,4,5,6,7,8,9,11,17,22,25],[0.16666666666666666,0.5319148936170213,0.7636149543715043,0.6000000000000001,0.05984998957001243,0.07661065984199399,0.6000000000000001,0.6281637049003771,1.0,1.0,1.0,1.0])               |(21,[0,2,4,5,6,7,8,9,11,15],[0.16666666666666666,0.5319148936170213,0.7636149543715043,0.6000000000000001,0.05984998957001243,0.07661065984199399,0.6000000000000001,0.6281637049003771,1.0,1.0])                      |\n",
      "|(28,[0,1,2,3,4,5,6,7,8,9,10,12,19,20,25],[0.6666666666666666,0.16666666666666666,0.2978723404255319,1.0,0.41360023550191344,0.4,0.056675645525535334,0.036775342160899074,0.8,0.6281637049003771,1.0,1.0,1.0,1.0,1.0])        |(21,[0,1,2,3,4,5,6,7,8,9,10,12,17,18],[0.6666666666666666,0.16666666666666666,0.2978723404255319,1.0,0.41360023550191344,0.4,0.056675645525535334,0.036775342160899074,0.8,0.6281637049003771,1.0,1.0,1.0,1.0])        |\n",
      "|(28,[0,2,4,5,6,7,8,9,14,17,23,25],[0.16666666666666666,0.2978723404255319,0.6402708272004709,0.8,0.09909092832935784,0.017024591075998664,0.6000000000000001,0.6731287022078623,1.0,1.0,1.0,1.0])                             |(21,[0,2,4,5,6,7,8,9,15,20],[0.16666666666666666,0.2978723404255319,0.6402708272004709,0.8,0.09909092832935784,0.017024591075998664,0.6000000000000001,0.6731287022078623,1.0,1.0])                                    |\n",
      "+------------------------------------------------------------------------------------------------------------------------------------------------------------------------------------------------------------------------------+-----------------------------------------------------------------------------------------------------------------------------------------------------------------------------------------------------------------------+\n",
      "only showing top 5 rows\n",
      "\n"
     ]
    }
   ],
   "source": [
    "from pyspark.ml.feature import UnivariateFeatureSelector\n",
    "\n",
    "selector = UnivariateFeatureSelector()\\\n",
    "    .setFeatureType(\"continuous\")\\\n",
    "    .setLabelType(\"categorical\")\\\n",
    "    .setSelectionMode(\"percentile\")\\\n",
    "    .setSelectionThreshold(0.75)\\\n",
    "    .setFeaturesCol(\"scaledFeatures\")\\\n",
    "    .setLabelCol(\"target\")\\\n",
    "    .setOutputCol(\"selectedFeatures\")\n",
    "\n",
    "dataF = selector.fit(scaled).transform(scaled)\n",
    "\n",
    "dataF.select(\"scaledFeatures\", \"selectedFeatures\").show(5, False)"
   ]
  },
  {
   "cell_type": "markdown",
   "metadata": {},
   "source": [
    "## Моделирование"
   ]
  },
  {
   "cell_type": "markdown",
   "metadata": {},
   "source": [
    "### Обучающая и тестовая выборки"
   ]
  },
  {
   "cell_type": "code",
   "execution_count": 32,
   "metadata": {},
   "outputs": [],
   "source": [
    "tt = dataF.randomSplit([0.7, 0.3])\n",
    "training = tt[0]\n",
    "test = tt[1]"
   ]
  },
  {
   "cell_type": "code",
   "execution_count": 33,
   "metadata": {},
   "outputs": [
    {
     "name": "stdout",
     "output_type": "stream",
     "text": [
      "training\t11609\n",
      "test    \t 5026\n"
     ]
    }
   ],
   "source": [
    "print(f\"training\\t{training.count():>5}\\ntest    \\t{test.count():>5}\")"
   ]
  },
  {
   "cell_type": "markdown",
   "metadata": {},
   "source": [
    "### Логистическая регрессия"
   ]
  },
  {
   "cell_type": "code",
   "execution_count": 34,
   "metadata": {},
   "outputs": [
    {
     "name": "stdout",
     "output_type": "stream",
     "text": [
      "Coefficients: (21,[3,9],[-0.03387591632697106,-1.6189095192473828])\n",
      "Intercept: 0.2602233159562572\n"
     ]
    }
   ],
   "source": [
    "from pyspark.ml.classification import LogisticRegression\n",
    "\n",
    "lr = LogisticRegression()\\\n",
    "    .setMaxIter(1000)\\\n",
    "    .setRegParam(0.2)\\\n",
    "    .setElasticNetParam(0.8)\\\n",
    "    .setFamily(\"binomial\")\\\n",
    "    .setFeaturesCol(\"selectedFeatures\")\\\n",
    "    .setLabelCol(\"target\")\n",
    "\n",
    "lrModel = lr.fit(training)\n",
    "\n",
    "print(f\"Coefficients: {lrModel.coefficients}\\nIntercept: {lrModel.intercept}\")"
   ]
  },
  {
   "cell_type": "markdown",
   "metadata": {},
   "source": [
    "### Training Summary"
   ]
  },
  {
   "cell_type": "code",
   "execution_count": 35,
   "metadata": {},
   "outputs": [
    {
     "name": "stdout",
     "output_type": "stream",
     "text": [
      "accuracy: 0.7185804117495047\n",
      "areaUnderROC: 0.7629234768254191\n"
     ]
    }
   ],
   "source": [
    "trainingSummary = lrModel.summary\n",
    "\n",
    "print(f\"accuracy: {trainingSummary.accuracy}\")\n",
    "print(f\"areaUnderROC: {trainingSummary.areaUnderROC}\")"
   ]
  },
  {
   "cell_type": "markdown",
   "metadata": {},
   "source": [
    "### Проверяем модель на тестовой выборке"
   ]
  },
  {
   "cell_type": "code",
   "execution_count": 36,
   "metadata": {},
   "outputs": [
    {
     "name": "stdout",
     "output_type": "stream",
     "text": [
      "+------+----------+\n",
      "|target|prediction|\n",
      "+------+----------+\n",
      "|0     |1.0       |\n",
      "|0     |0.0       |\n",
      "|0     |1.0       |\n",
      "|0     |1.0       |\n",
      "|0     |0.0       |\n",
      "|0     |0.0       |\n",
      "|0     |1.0       |\n",
      "|0     |1.0       |\n",
      "|0     |1.0       |\n",
      "|0     |1.0       |\n",
      "+------+----------+\n",
      "only showing top 10 rows\n",
      "\n"
     ]
    }
   ],
   "source": [
    "predicted = lrModel.transform(test)\n",
    "\n",
    "predicted.select(\"target\", \"prediction\").show(10, False)"
   ]
  },
  {
   "cell_type": "code",
   "execution_count": 37,
   "metadata": {},
   "outputs": [
    {
     "name": "stdout",
     "output_type": "stream",
     "text": [
      "+-----------------+------------+------+---------------+---------------+--------------+---------------+-------------+--------------+------------------------+----------------------+---------------------+------------+-------------------+---------------+--------------------+---------------+--------------+-------------------+---------------------+------+--------------+-----------------------+----------------------+-----------------------+---------------------+--------------------+-----------------------------+----------------------------+-----------------------------+---------------------------+--------------------+--------------------+--------------------+--------------------+--------------------+----------+\n",
      "|   Attrition_Flag|Customer_Age|Gender|Dependent_count|Education_Level|Marital_Status|Income_Category|Card_Category|Months_on_book|Total_Relationship_Count|Months_Inactive_12_mon|Contacts_Count_12_mon|Credit_Limit|Total_Revolving_Bal|Avg_Open_To_Buy|Total_Amt_Chng_Q4_Q1|Total_Trans_Amt|Total_Trans_Ct|Total_Ct_Chng_Q4_Q1|Avg_Utilization_Ratio|target|Gender_Indexed|Education_Level_Indexed|Marital_Status_Indexed|Income_Category_Indexed|Card_Category_Indexed|Gender_Indexed_Coded|Education_Level_Indexed_Coded|Marital_Status_Indexed_Coded|Income_Category_Indexed_Coded|Card_Category_Indexed_Coded|            features|      scaledFeatures|    selectedFeatures|       rawPrediction|         probability|prediction|\n",
      "+-----------------+------------+------+---------------+---------------+--------------+---------------+-------------+--------------+------------------------+----------------------+---------------------+------------+-------------------+---------------+--------------------+---------------+--------------+-------------------+---------------------+------+--------------+-----------------------+----------------------+-----------------------+---------------------+--------------------+-----------------------------+----------------------------+-----------------------------+---------------------------+--------------------+--------------------+--------------------+--------------------+--------------------+----------+\n",
      "|Existing Customer|          26|     F|              0|       Graduate|        Single|    $40K - $60K|         Blue|            13|                       6|                     3|                    4|      1643.0|               1101|          542.0|               0.713|           2152|            50|              0.471|                 0.67|     0|           0.0|                    0.0|                   1.0|                    1.0|                  0.0|       (1,[0],[1.0])|                (6,[0],[1.0])|               (3,[1],[1.0])|                (5,[1],[1.0])|              (3,[0],[1.0])|(28,[0,1,2,3,4,5,...|(28,[0,1,3,4,5,6,...|(21,[0,1,3,4,5,6,...|[-0.0400991531390...|[0.48997655477253...|       1.0|\n",
      "|Existing Customer|          26|     F|              0|       Graduate|       Unknown| Less than $40K|         Blue|            14|                       3|                     2|                    1|      2163.0|               1942|          221.0|               0.582|           4380|            57|              0.781|                0.898|     0|           0.0|                    0.0|                   2.0|                    0.0|                  0.0|       (1,[0],[1.0])|                (6,[0],[1.0])|               (3,[2],[1.0])|                (5,[0],[1.0])|              (3,[0],[1.0])|(28,[0,1,2,3,4,5,...|(28,[0,1,3,4,5,6,...|(21,[0,1,3,4,5,6,...|[0.10634681015939...|[0.52656167366775...|       0.0|\n",
      "|Existing Customer|          26|     F|              0|    High School|        Single| Less than $40K|         Blue|            13|                       6|                     3|                    4|      3517.0|               1195|         2322.0|               0.556|           2255|            48|                0.5|                 0.34|     0|           0.0|                    1.0|                   1.0|                    0.0|                  0.0|       (1,[0],[1.0])|                (6,[1],[1.0])|               (3,[1],[1.0])|                (5,[0],[1.0])|              (3,[0],[1.0])|(28,[0,1,2,3,4,5,...|(28,[0,1,3,4,5,6,...|(21,[0,1,3,4,5,6,...|[-0.0261931018010...|[0.49345209891002...|       1.0|\n",
      "|Existing Customer|          26|     F|              0|     Uneducated|        Single|    $40K - $60K|         Blue|            18|                       4|                     3|                    2|      2033.0|               1471|          562.0|               0.672|           2236|            55|               0.41|                0.724|     0|           0.0|                    3.0|                   1.0|                    1.0|                  0.0|       (1,[0],[1.0])|                (6,[3],[1.0])|               (3,[1],[1.0])|                (5,[1],[1.0])|              (3,[0],[1.0])|(28,[0,1,2,3,4,5,...|(28,[0,1,3,4,5,6,...|(21,[0,1,3,4,5,6,...|[-0.0617089008939...|[0.48457766847095...|       1.0|\n",
      "|Existing Customer|          26|     F|              0|        Unknown|       Married| Less than $40K|         Blue|            20|                       2|                     2|                    2|      2516.0|               2378|          138.0|               1.033|           4746|            75|              0.875|                0.945|     0|           0.0|                    2.0|                   0.0|                    0.0|                  0.0|       (1,[0],[1.0])|                (6,[2],[1.0])|               (3,[0],[1.0])|                (5,[0],[1.0])|              (3,[0],[1.0])|(28,[0,1,2,3,4,5,...|(28,[0,1,3,4,5,6,...|(21,[0,1,3,4,5,6,...|[0.15318888301355...|[0.53822250321045...|       0.0|\n",
      "+-----------------+------------+------+---------------+---------------+--------------+---------------+-------------+--------------+------------------------+----------------------+---------------------+------------+-------------------+---------------+--------------------+---------------+--------------+-------------------+---------------------+------+--------------+-----------------------+----------------------+-----------------------+---------------------+--------------------+-----------------------------+----------------------------+-----------------------------+---------------------------+--------------------+--------------------+--------------------+--------------------+--------------------+----------+\n",
      "only showing top 5 rows\n",
      "\n"
     ]
    }
   ],
   "source": [
    "predicted.show(5)"
   ]
  },
  {
   "cell_type": "code",
   "execution_count": 38,
   "metadata": {},
   "outputs": [
    {
     "name": "stdout",
     "output_type": "stream",
     "text": [
      "areaUnderROC: 0.7595679880680007\n"
     ]
    }
   ],
   "source": [
    "from pyspark.ml.evaluation import BinaryClassificationEvaluator\n",
    "\n",
    "evaluator = BinaryClassificationEvaluator().setLabelCol(\"target\")\n",
    "\n",
    "print(f\"areaUnderROC: {evaluator.evaluate(predicted)}\")"
   ]
  },
  {
   "cell_type": "markdown",
   "metadata": {},
   "source": [
    "#### Confusion Matrix (матрица ошибок)\n",
    "\n",
    "* True Positive (TP) - label is positive and prediction is also positive\n",
    "* True Negative (TN) - label is negative and prediction is also negative\n",
    "* False Positive (FP) - label is negative but prediction is positive\n",
    "* False Negative (FN) - label is positive but prediction is negative"
   ]
  },
  {
   "cell_type": "code",
   "execution_count": 39,
   "metadata": {},
   "outputs": [
    {
     "name": "stdout",
     "output_type": "stream",
     "text": [
      "Confusion Matrix:\n",
      "1424\t 419\n",
      "1011\t2172\n"
     ]
    }
   ],
   "source": [
    "tp = predicted.filter((f.col(\"target\") == 1) & (f.col(\"prediction\") == 1)).count()\n",
    "tn = predicted.filter((f.col(\"target\") == 0) & (f.col(\"prediction\") == 0)).count()\n",
    "fp = predicted.filter((f.col(\"target\") == 0) & (f.col(\"prediction\") == 1)).count()\n",
    "fn = predicted.filter((f.col(\"target\") == 1) & (f.col(\"prediction\") == 0)).count()\n",
    "\n",
    "print(f\"Confusion Matrix:\\n{tp:>4}\\t{fp:>4}\\n{fn:>4}\\t{tn:>4}\")"
   ]
  },
  {
   "cell_type": "markdown",
   "metadata": {},
   "source": [
    "#### Accuracy, Precision, Recall\n",
    "\n",
    "* Accuracy (доля правильных ответов) = TP + TN / TP + TN + FP + FN\n",
    "* Precision (точность) = TP / TP + FP\n",
    "* Recall (полнота) = TP / TP + FN"
   ]
  },
  {
   "cell_type": "code",
   "execution_count": 40,
   "metadata": {},
   "outputs": [
    {
     "name": "stdout",
     "output_type": "stream",
     "text": [
      "Accuracy = 0.7154795065658576\n",
      "Precision = 0.7726532826912642\n",
      "Recall = 0.5848049281314168\n"
     ]
    }
   ],
   "source": [
    "accuracy = (tp + tn) / (tp + tn + fp + fn)\n",
    "precision = tp / (tp + fp)\n",
    "recall = tp / (tp + fn)\n",
    "\n",
    "print(f\"Accuracy = {accuracy}\")\n",
    "print(f\"Precision = {precision}\")\n",
    "print(f\"Recall = {recall}\")"
   ]
  },
  {
   "cell_type": "markdown",
   "metadata": {},
   "source": [
    "## Настраиваем модель (подбираем гиперпараметры)"
   ]
  },
  {
   "cell_type": "code",
   "execution_count": 41,
   "metadata": {},
   "outputs": [
    {
     "name": "stderr",
     "output_type": "stream",
     "text": [
      "23/07/27 12:24:33 WARN BlockManager: Block rdd_1499_0 already exists on this machine; not re-adding it\n"
     ]
    }
   ],
   "source": [
    "from pyspark.ml.tuning import ParamGridBuilder, TrainValidationSplit\n",
    "\n",
    "paramGrid = ParamGridBuilder()\\\n",
    "    .addGrid(lr.regParam, [0.01, 0.1, 0.5])\\\n",
    "    .addGrid(lr.fitIntercept, [False, True])\\\n",
    "    .addGrid(lr.elasticNetParam, [0.0, 0.5, 1.0])\\\n",
    "    .build()\n",
    "\n",
    "trainValidationSplit = TrainValidationSplit()\\\n",
    "    .setEstimator(lr)\\\n",
    "    .setEvaluator(evaluator)\\\n",
    "    .setEstimatorParamMaps(paramGrid)\\\n",
    "    .setTrainRatio(0.7)\\\n",
    "    .setParallelism(2)\n",
    "\n",
    "model = trainValidationSplit.fit(dataF)"
   ]
  },
  {
   "cell_type": "code",
   "execution_count": 42,
   "metadata": {},
   "outputs": [
    {
     "name": "stdout",
     "output_type": "stream",
     "text": [
      "aggregationDepth\t2\n",
      "elasticNetParam \t0.0\n",
      "family          \tbinomial\n",
      "featuresCol     \tselectedFeatures\n",
      "fitIntercept    \tTrue\n",
      "labelCol        \ttarget\n",
      "maxBlockSizeInMB\t0.0\n",
      "maxIter         \t1000\n",
      "predictionCol   \tprediction\n",
      "probabilityCol  \tprobability\n",
      "rawPredictionCol\trawPrediction\n",
      "regParam        \t0.01\n",
      "standardization \tTrue\n",
      "threshold       \t0.5\n",
      "tol             \t1e-06\n"
     ]
    }
   ],
   "source": [
    "param_map = model.bestModel.extractParamMap()\n",
    "for i in param_map:\n",
    "    print(f\"{i.name:<16}\\t{param_map[i]}\")"
   ]
  },
  {
   "cell_type": "code",
   "execution_count": 43,
   "metadata": {},
   "outputs": [],
   "source": [
    "bestML = model.bestModel"
   ]
  },
  {
   "cell_type": "markdown",
   "metadata": {},
   "source": [
    "## Собираем всё вместе (Pipeline)\n",
    "\n",
    "1. Отобрали числовые признаки: numericColumnsFinal\n",
    "2. Проиндексировали строковые признаки: indexer\n",
    "3. Закодировали категориальные признаки: encoder\n",
    "4. Собрали признаки в вектор: assembler\n",
    "5. Нормализовали признаки: scaler\n",
    "6. Провели отбор признаков: selector\n",
    "7. Рассчитали модель: bestML "
   ]
  },
  {
   "cell_type": "code",
   "execution_count": 44,
   "metadata": {},
   "outputs": [],
   "source": [
    "from pyspark.ml import Pipeline\n",
    "\n",
    "pipeline = Pipeline().setStages(\n",
    "    [indexer, encoder, assembler, scaler, selector, bestML])"
   ]
  },
  {
   "cell_type": "code",
   "execution_count": 45,
   "metadata": {},
   "outputs": [],
   "source": [
    "[trainingData, testData] = data.randomSplit([0.7, 0.3])\n",
    "\n",
    "pipelineModel = pipeline.fit(trainingData)"
   ]
  },
  {
   "cell_type": "markdown",
   "metadata": {},
   "source": [
    "## Сохраняем модель"
   ]
  },
  {
   "cell_type": "code",
   "execution_count": 46,
   "metadata": {},
   "outputs": [],
   "source": [
    "pipelineModel.write().overwrite().save(\"../pipelineModel\")"
   ]
  },
  {
   "cell_type": "code",
   "execution_count": 46,
   "metadata": {},
   "outputs": [],
   "source": []
  }
 ],
 "metadata": {
  "kernelspec": {
   "display_name": "Python 3 (ipykernel)",
   "language": "python",
   "name": "python3"
  },
  "language_info": {
   "codemirror_mode": {
    "name": "ipython",
    "version": 3
   },
   "file_extension": ".py",
   "mimetype": "text/x-python",
   "name": "python",
   "nbconvert_exporter": "python",
   "pygments_lexer": "ipython3",
   "version": "3.10.10"
  }
 },
 "nbformat": 4,
 "nbformat_minor": 4
}
