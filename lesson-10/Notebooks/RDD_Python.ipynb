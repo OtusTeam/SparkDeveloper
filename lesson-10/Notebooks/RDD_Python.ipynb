{
 "cells": [
  {
   "cell_type": "code",
   "execution_count": 1,
   "id": "c7cb8a6c-fa02-4f64-b0f5-8e48d5910e8a",
   "metadata": {},
   "outputs": [],
   "source": [
    "from pyspark import SparkContext, SparkConf"
   ]
  },
  {
   "cell_type": "code",
   "execution_count": 2,
   "id": "062814dc-1f82-4752-a449-c01f16b55502",
   "metadata": {},
   "outputs": [
    {
     "name": "stderr",
     "output_type": "stream",
     "text": [
      "25/03/13 16:17:39 WARN NativeCodeLoader: Unable to load native-hadoop library for your platform... using builtin-java classes where applicable\n"
     ]
    }
   ],
   "source": [
    "conf = SparkConf().setAppName(\"HelloRDD\").setMaster(\"local[*]\").set(\"spark.log.level\", \"WARN\")\n",
    "sc = SparkContext(conf=conf)"
   ]
  },
  {
   "cell_type": "code",
   "execution_count": 3,
   "id": "6374be22-8a22-4650-8265-ccaa68a64c8d",
   "metadata": {},
   "outputs": [
    {
     "name": "stdout",
     "output_type": "stream",
     "text": [
      "spark.version == 3.5.3\n"
     ]
    }
   ],
   "source": [
    "print(\"spark.version ==\", sc.version)"
   ]
  },
  {
   "cell_type": "markdown",
   "id": "beecc509-b132-4363-a93b-8051892685a0",
   "metadata": {},
   "source": [
    "# Transformations"
   ]
  },
  {
   "cell_type": "markdown",
   "id": "9af39cba-bd70-4a14-9c40-a65303e0c7d4",
   "metadata": {},
   "source": [
    "## Map"
   ]
  },
  {
   "cell_type": "code",
   "execution_count": 4,
   "id": "46e9f3ae-ed86-4b3a-9722-0214f0ee9ce8",
   "metadata": {},
   "outputs": [],
   "source": [
    "rdd = sc.parallelize([\"a\", \"b\", \"c\", \"d\", \"e\", \"f\", \"x\", \"y\", \"z\"], 3)\n",
    "mappedRDD = rdd.map(lambda e: e.upper())"
   ]
  },
  {
   "cell_type": "code",
   "execution_count": 5,
   "id": "fc02a53c-7cd8-46ea-b1ce-5d95ef3eee92",
   "metadata": {},
   "outputs": [
    {
     "name": "stderr",
     "output_type": "stream",
     "text": [
      "                                                                                \r"
     ]
    },
    {
     "data": {
      "text/plain": [
       "['A', 'B', 'C', 'D', 'E', 'F', 'X', 'Y', 'Z']"
      ]
     },
     "execution_count": 5,
     "metadata": {},
     "output_type": "execute_result"
    }
   ],
   "source": [
    "mappedRDD.collect()"
   ]
  },
  {
   "cell_type": "markdown",
   "id": "ab561866-9be6-4711-9848-bd5f79c6ec0b",
   "metadata": {},
   "source": [
    "## Filter"
   ]
  },
  {
   "cell_type": "code",
   "execution_count": 6,
   "id": "dbe7e6ea-6254-4c42-832e-6eb432b4575c",
   "metadata": {},
   "outputs": [],
   "source": [
    "rdd = sc.parallelize([\"a\", \"b\", \"c\", \"d\", \"e\", \"f\", \"x\", \"y\", \"z\"], 3)\n",
    "filteredRDD = rdd.filter(lambda e: e  < \"f\")"
   ]
  },
  {
   "cell_type": "code",
   "execution_count": 7,
   "id": "c4bdf8fe-3b0f-4c31-aaa0-47cc20d30f4e",
   "metadata": {},
   "outputs": [
    {
     "data": {
      "text/plain": [
       "['a', 'b', 'c', 'd', 'e']"
      ]
     },
     "execution_count": 7,
     "metadata": {},
     "output_type": "execute_result"
    }
   ],
   "source": [
    "filteredRDD.collect()"
   ]
  },
  {
   "cell_type": "markdown",
   "id": "42fafc3d-8da1-4cd9-b3cd-fddd3551fd99",
   "metadata": {},
   "source": [
    "## flatMap"
   ]
  },
  {
   "cell_type": "code",
   "execution_count": 8,
   "id": "4171dcc3-7081-4c2c-aff7-357e2a5598ec",
   "metadata": {},
   "outputs": [],
   "source": [
    "rdd = sc.parallelize([\"some text here\", \"other text over there\", \"and text\", \"short\", \"and a longer one\"], 3)\n",
    "flatmappedRDD = rdd.flatMap(lambda e: e.split())"
   ]
  },
  {
   "cell_type": "code",
   "execution_count": 9,
   "id": "5b024dc6-04a1-477f-88e7-28a05243b9ac",
   "metadata": {},
   "outputs": [
    {
     "data": {
      "text/plain": [
       "['some',\n",
       " 'text',\n",
       " 'here',\n",
       " 'other',\n",
       " 'text',\n",
       " 'over',\n",
       " 'there',\n",
       " 'and',\n",
       " 'text',\n",
       " 'short',\n",
       " 'and',\n",
       " 'a',\n",
       " 'longer',\n",
       " 'one']"
      ]
     },
     "execution_count": 9,
     "metadata": {},
     "output_type": "execute_result"
    }
   ],
   "source": [
    "flatmappedRDD.collect()"
   ]
  },
  {
   "cell_type": "markdown",
   "id": "2962c247-2ed8-44b9-941f-ee2c3871e089",
   "metadata": {},
   "source": [
    "## mapPartitions"
   ]
  },
  {
   "cell_type": "code",
   "execution_count": 10,
   "id": "1925915f-874a-473a-a6e1-4d758ee74ac3",
   "metadata": {},
   "outputs": [],
   "source": [
    "rdd = sc.parallelize([\"a\", \"b\", \"c\", \"d\", \"e\", \"f\", \"x\", \"y\", \"z\"], 3)\n",
    "mapPartitionsRDD = rdd.mapPartitions(lambda p: [\"Hello\"])"
   ]
  },
  {
   "cell_type": "code",
   "execution_count": 11,
   "id": "f62997d2-5837-4d7c-9472-c59b566a4391",
   "metadata": {},
   "outputs": [
    {
     "data": {
      "text/plain": [
       "['Hello', 'Hello', 'Hello']"
      ]
     },
     "execution_count": 11,
     "metadata": {},
     "output_type": "execute_result"
    }
   ],
   "source": [
    "mapPartitionsRDD.collect()"
   ]
  },
  {
   "cell_type": "markdown",
   "id": "dcd97403-3645-4a58-b670-e39165032783",
   "metadata": {},
   "source": [
    "## mapPartitionsWithIndex"
   ]
  },
  {
   "cell_type": "code",
   "execution_count": 12,
   "id": "40f2a51c-0f2b-47eb-8657-9510619e3280",
   "metadata": {},
   "outputs": [],
   "source": [
    "rdd = sc.parallelize([\"a\", \"b\", \"c\", \"d\", \"e\", \"f\", \"x\", \"y\", \"z\"], 3)\n",
    "mapPartitionsRDD = rdd.mapPartitionsWithIndex(lambda i, p: [i])"
   ]
  },
  {
   "cell_type": "code",
   "execution_count": 13,
   "id": "97807a0a-d56a-4de7-9261-dca16ce6369e",
   "metadata": {},
   "outputs": [
    {
     "data": {
      "text/plain": [
       "[0, 1, 2]"
      ]
     },
     "execution_count": 13,
     "metadata": {},
     "output_type": "execute_result"
    }
   ],
   "source": [
    "mapPartitionsRDD.collect()"
   ]
  },
  {
   "cell_type": "markdown",
   "id": "f7eac9c6-12fa-46e3-aff7-8ef7ef0de145",
   "metadata": {},
   "source": [
    "## Sample"
   ]
  },
  {
   "cell_type": "code",
   "execution_count": 14,
   "id": "b55b2b48-caab-4819-bb48-e4ab93feb555",
   "metadata": {},
   "outputs": [],
   "source": [
    "rdd = sc.parallelize([\"a\", \"b\", \"c\", \"d\", \"e\", \"f\", \"x\", \"y\", \"z\"], 3)\n",
    "sampleRDD = rdd.sample(False, 0.8)"
   ]
  },
  {
   "cell_type": "code",
   "execution_count": 15,
   "id": "d5b0e7b2-9f16-4f4e-926f-09b498a2f2de",
   "metadata": {},
   "outputs": [
    {
     "data": {
      "text/plain": [
       "['a', 'd', 'e', 'f', 'y', 'z']"
      ]
     },
     "execution_count": 15,
     "metadata": {},
     "output_type": "execute_result"
    }
   ],
   "source": [
    "sampleRDD.collect()"
   ]
  },
  {
   "cell_type": "markdown",
   "id": "9c64eaaf-6a99-4698-8fbb-d15dd98f1773",
   "metadata": {},
   "source": [
    "## Union"
   ]
  },
  {
   "cell_type": "code",
   "execution_count": 16,
   "id": "656782a8-8390-441d-90b5-f8e7e5a6e997",
   "metadata": {},
   "outputs": [],
   "source": [
    "rdd = sc.parallelize([\"a\", \"b\", \"c\", \"d\", \"e\", \"f\", \"x\", \"y\", \"z\"], 3)\n",
    "rdd2 = sc.parallelize([\"A\", \"B\", \"C\", \"D\", \"E\", \"F\", \"X\", \"Y\", \"Z\"], 3)\n",
    "unionRDD = rdd.union(rdd2)"
   ]
  },
  {
   "cell_type": "code",
   "execution_count": 17,
   "id": "7dcee4f3-d8bb-4c59-8ca8-d9b441278de9",
   "metadata": {},
   "outputs": [
    {
     "data": {
      "text/plain": [
       "['a',\n",
       " 'b',\n",
       " 'c',\n",
       " 'd',\n",
       " 'e',\n",
       " 'f',\n",
       " 'x',\n",
       " 'y',\n",
       " 'z',\n",
       " 'A',\n",
       " 'B',\n",
       " 'C',\n",
       " 'D',\n",
       " 'E',\n",
       " 'F',\n",
       " 'X',\n",
       " 'Y',\n",
       " 'Z']"
      ]
     },
     "execution_count": 17,
     "metadata": {},
     "output_type": "execute_result"
    }
   ],
   "source": [
    "unionRDD.collect()"
   ]
  },
  {
   "cell_type": "markdown",
   "id": "43a0030d-50ca-4a25-a284-6531a9700459",
   "metadata": {},
   "source": [
    "## Intersection"
   ]
  },
  {
   "cell_type": "code",
   "execution_count": 18,
   "id": "f03ee9ef-9661-4248-a8f8-0a593a695049",
   "metadata": {},
   "outputs": [],
   "source": [
    "rdd = sc.parallelize([\"a\", \"b\", \"c\", \"d\", \"e\", \"f\"], 3)\n",
    "rdd2 = sc.parallelize([\"d\", \"e\", \"f\", \"x\", \"y\", \"z\"], 3)\n",
    "intersectionRDD = rdd.intersection(rdd2)"
   ]
  },
  {
   "cell_type": "code",
   "execution_count": 19,
   "id": "ce6c883e-7561-4295-9d2a-1d69fbde0823",
   "metadata": {},
   "outputs": [
    {
     "data": {
      "text/plain": [
       "['d', 'f', 'e']"
      ]
     },
     "execution_count": 19,
     "metadata": {},
     "output_type": "execute_result"
    }
   ],
   "source": [
    "intersectionRDD.collect()"
   ]
  },
  {
   "cell_type": "markdown",
   "id": "abcf6b0f-80cd-44bb-8e07-bbb211892357",
   "metadata": {},
   "source": [
    "## Distinct"
   ]
  },
  {
   "cell_type": "code",
   "execution_count": 20,
   "id": "d75dd21f-e9d9-4ef8-a04f-826fc09961e5",
   "metadata": {},
   "outputs": [],
   "source": [
    "rdd = sc.parallelize([\"a\", \"b\", \"c\", \"c\", \"c\", \"b\", \"b\", \"a\"], 3)\n",
    "distinctRDD = rdd.distinct()"
   ]
  },
  {
   "cell_type": "code",
   "execution_count": 21,
   "id": "87b559e5-0f83-4d65-a015-4b279a3682f7",
   "metadata": {},
   "outputs": [
    {
     "data": {
      "text/plain": [
       "['b', 'a', 'c']"
      ]
     },
     "execution_count": 21,
     "metadata": {},
     "output_type": "execute_result"
    }
   ],
   "source": [
    "distinctRDD.collect()"
   ]
  },
  {
   "cell_type": "markdown",
   "id": "5e3818c8-0da1-490c-b5c1-5e8a0020f1ec",
   "metadata": {},
   "source": [
    "## GroupByKey"
   ]
  },
  {
   "cell_type": "code",
   "execution_count": 22,
   "id": "2dc9e127-6630-4445-9ba4-752255d564cd",
   "metadata": {},
   "outputs": [],
   "source": [
    "rdd = sc.parallelize([(1, \"a\"), (2, \"b\"), (3, \"c\"), (1, \"d\"), (2, \"e\")], 3)\n",
    "groupbyRDD = rdd.groupByKey()"
   ]
  },
  {
   "cell_type": "code",
   "execution_count": 23,
   "id": "cd2fa281-b48a-4d5a-9746-14bf28bba938",
   "metadata": {},
   "outputs": [
    {
     "data": {
      "text/plain": [
       "[(3, <pyspark.resultiterable.ResultIterable at 0x10555a900>),\n",
       " (1, <pyspark.resultiterable.ResultIterable at 0x10526f110>),\n",
       " (2, <pyspark.resultiterable.ResultIterable at 0x10526f250>)]"
      ]
     },
     "execution_count": 23,
     "metadata": {},
     "output_type": "execute_result"
    }
   ],
   "source": [
    "groupbyRDD.collect()"
   ]
  },
  {
   "cell_type": "code",
   "execution_count": 24,
   "id": "86c6e7d4-51ca-4995-b6bf-111aeb94bb55",
   "metadata": {},
   "outputs": [
    {
     "name": "stdout",
     "output_type": "stream",
     "text": [
      "3 ['c']\n",
      "1 ['a', 'd']\n",
      "2 ['b', 'e']\n"
     ]
    }
   ],
   "source": [
    "for (x, y) in groupbyRDD.collect():\n",
    "    print(x, sorted(y))"
   ]
  },
  {
   "cell_type": "markdown",
   "id": "790db3a1-5c69-4e6d-8c0a-0fc1fc807dfd",
   "metadata": {},
   "source": [
    "## ReduceByKey"
   ]
  },
  {
   "cell_type": "code",
   "execution_count": 25,
   "id": "d9e8c182-6291-4f48-9522-80209de56c42",
   "metadata": {},
   "outputs": [],
   "source": [
    "rdd = sc.parallelize([(1, \"a\"), (2, \"b\"), (3, \"c\"), (1, \"d\"), (2, \"e\")], 3)\n",
    "reducebyRDD = rdd.reduceByKey(lambda a, b: a + b)"
   ]
  },
  {
   "cell_type": "code",
   "execution_count": 26,
   "id": "08c40ced-386b-4ab9-95bb-01317dfef844",
   "metadata": {},
   "outputs": [
    {
     "data": {
      "text/plain": [
       "[(3, 'c'), (1, 'ad'), (2, 'be')]"
      ]
     },
     "execution_count": 26,
     "metadata": {},
     "output_type": "execute_result"
    }
   ],
   "source": [
    "reducebyRDD.collect()"
   ]
  },
  {
   "cell_type": "markdown",
   "id": "8c0083f9-dee4-48ca-8a6d-9621a8db9229",
   "metadata": {},
   "source": [
    "## AggregateByKey"
   ]
  },
  {
   "cell_type": "code",
   "execution_count": 27,
   "id": "7bef5224-4a02-44c8-8e81-b45a580a1960",
   "metadata": {},
   "outputs": [],
   "source": [
    "rdd = sc.parallelize([(\"a\", 1), (\"b\", 2), (\"c\", 3), (\"a\", 4), (\"b\", 5)], 3)\n",
    "aggregateByRDD = rdd.aggregateByKey(0, lambda acc, val: acc + val, lambda acc1, acc2: acc1 + acc2)"
   ]
  },
  {
   "cell_type": "code",
   "execution_count": 28,
   "id": "cb785831-c6b1-487b-9c0c-14a9b14122a7",
   "metadata": {},
   "outputs": [
    {
     "data": {
      "text/plain": [
       "[('b', 7), ('a', 5), ('c', 3)]"
      ]
     },
     "execution_count": 28,
     "metadata": {},
     "output_type": "execute_result"
    }
   ],
   "source": [
    "aggregateByRDD.collect()"
   ]
  },
  {
   "cell_type": "markdown",
   "id": "40c2c9e6-be6a-467b-983f-a927c204df83",
   "metadata": {},
   "source": [
    "## SortByKey"
   ]
  },
  {
   "cell_type": "code",
   "execution_count": 29,
   "id": "d57563a4-56ef-4c18-924b-05f18612d4ad",
   "metadata": {},
   "outputs": [],
   "source": [
    "rdd = sc.parallelize([(\"a\", 1), (\"b\", 2), (\"c\", 3), (\"a\", 4), (\"b\", 5)], 3)\n",
    "sortedRDD = rdd.sortByKey()"
   ]
  },
  {
   "cell_type": "code",
   "execution_count": 30,
   "id": "884e2865-b591-4537-8fac-dd7ffdfe671f",
   "metadata": {},
   "outputs": [
    {
     "data": {
      "text/plain": [
       "[('a', 1), ('a', 4), ('b', 2), ('b', 5), ('c', 3)]"
      ]
     },
     "execution_count": 30,
     "metadata": {},
     "output_type": "execute_result"
    }
   ],
   "source": [
    "sortedRDD.collect()"
   ]
  },
  {
   "cell_type": "markdown",
   "id": "e9f97947-ec4c-4c63-b2c6-2c39e47163b2",
   "metadata": {},
   "source": [
    "## Join"
   ]
  },
  {
   "cell_type": "code",
   "execution_count": 31,
   "id": "846a491e-0910-49ae-b13d-427791dd8541",
   "metadata": {},
   "outputs": [],
   "source": [
    "rdd = sc.parallelize([(1, \"a\"), (2, \"b\"), (3, \"c\")])\n",
    "rdd2 = sc.parallelize([(2, \"B\"), (1, \"A\"), (3, \"C\")])\n",
    "joinedRDD = rdd.join(rdd2)"
   ]
  },
  {
   "cell_type": "code",
   "execution_count": 32,
   "id": "10779371-ee51-4b60-93e8-f59b94e61892",
   "metadata": {},
   "outputs": [
    {
     "data": {
      "text/plain": [
       "[(1, ('a', 'A')), (2, ('b', 'B')), (3, ('c', 'C'))]"
      ]
     },
     "execution_count": 32,
     "metadata": {},
     "output_type": "execute_result"
    }
   ],
   "source": [
    "joinedRDD.collect()"
   ]
  },
  {
   "cell_type": "markdown",
   "id": "67cbc85b-2aa4-4484-aaf9-5330b6c2d37f",
   "metadata": {},
   "source": [
    "## Coalesce"
   ]
  },
  {
   "cell_type": "code",
   "execution_count": 33,
   "id": "7542021a-4439-4677-a668-6d38efb85a17",
   "metadata": {},
   "outputs": [],
   "source": [
    "rdd = sc.parallelize([\"a\", \"b\", \"c\", \"d\", \"e\", \"f\", \"g\", \"h\", \"i\"], 4)\n",
    "coalesceRDD = rdd.coalesce(2)"
   ]
  },
  {
   "cell_type": "code",
   "execution_count": 34,
   "id": "3cb308e9-7097-4007-b59b-caeee0d17c8d",
   "metadata": {},
   "outputs": [
    {
     "name": "stdout",
     "output_type": "stream",
     "text": [
      "4\n",
      "2\n"
     ]
    }
   ],
   "source": [
    "print(rdd.getNumPartitions())\n",
    "print(coalesceRDD.getNumPartitions())"
   ]
  },
  {
   "cell_type": "markdown",
   "id": "a782372f-72f9-4f02-86a9-68627e9c7205",
   "metadata": {},
   "source": [
    "## Repartition"
   ]
  },
  {
   "cell_type": "code",
   "execution_count": 35,
   "id": "f053d4e5-903e-4126-9a25-60ee75a0c6c4",
   "metadata": {},
   "outputs": [],
   "source": [
    "rdd = sc.parallelize([\"a\", \"b\", \"c\", \"d\", \"e\", \"f\", \"g\", \"h\", \"i\"], 2)\n",
    "repartitionRDD = rdd.repartition(4)"
   ]
  },
  {
   "cell_type": "code",
   "execution_count": 36,
   "id": "3c24c598-f9d0-4d40-93e5-aa7670f99094",
   "metadata": {},
   "outputs": [
    {
     "name": "stdout",
     "output_type": "stream",
     "text": [
      "2\n",
      "4\n"
     ]
    }
   ],
   "source": [
    "print(rdd.getNumPartitions())\n",
    "print(repartitionRDD.getNumPartitions())"
   ]
  },
  {
   "cell_type": "code",
   "execution_count": 37,
   "id": "fe4b3180-404a-469d-8fed-fe55e133289c",
   "metadata": {},
   "outputs": [],
   "source": [
    "repartitionRDD2 = rdd.repartition(2)"
   ]
  },
  {
   "cell_type": "code",
   "execution_count": 38,
   "id": "d6cb7857-35eb-4d32-af34-f3e919046f79",
   "metadata": {},
   "outputs": [
    {
     "name": "stdout",
     "output_type": "stream",
     "text": [
      "2\n",
      "4\n",
      "2\n"
     ]
    }
   ],
   "source": [
    "print(rdd.getNumPartitions())\n",
    "print(repartitionRDD.getNumPartitions())\n",
    "print(repartitionRDD2.getNumPartitions())"
   ]
  },
  {
   "cell_type": "markdown",
   "id": "fad1cea3-753e-4772-9510-15c1fa15e2a2",
   "metadata": {},
   "source": [
    "# Actions"
   ]
  },
  {
   "cell_type": "markdown",
   "id": "6fa9d3f6-d824-445b-972e-1c399cf35275",
   "metadata": {},
   "source": [
    "## Reduce"
   ]
  },
  {
   "cell_type": "code",
   "execution_count": 39,
   "id": "e3dc1bf9-830e-4799-a414-361373a32841",
   "metadata": {},
   "outputs": [],
   "source": [
    "rdd = sc.parallelize([1, 2, 3, 4, 5, 6, 7, 8, 9])\n",
    "sumOfItems = rdd.reduce(lambda x, y: x + y)"
   ]
  },
  {
   "cell_type": "code",
   "execution_count": 40,
   "id": "7df6da9a-0c5a-43fc-b43b-55bbbbda98f2",
   "metadata": {},
   "outputs": [
    {
     "data": {
      "text/plain": [
       "45"
      ]
     },
     "execution_count": 40,
     "metadata": {},
     "output_type": "execute_result"
    }
   ],
   "source": [
    "sumOfItems"
   ]
  },
  {
   "cell_type": "markdown",
   "id": "cbbcb304-7c1b-48ea-a3f4-8bf4b302de62",
   "metadata": {},
   "source": [
    "## Collect"
   ]
  },
  {
   "cell_type": "code",
   "execution_count": 41,
   "id": "3f8a39d4-642c-433a-99b0-bb0a49803fa4",
   "metadata": {},
   "outputs": [],
   "source": [
    "rdd = sc.parallelize([\"a\", \"b\", \"c\", \"d\", \"e\", \"f\", \"g\", \"h\", \"i\"], 3)\n",
    "collectResult = rdd.collect()"
   ]
  },
  {
   "cell_type": "code",
   "execution_count": 42,
   "id": "b96098c1-9394-4045-805c-f6ef794a5e7b",
   "metadata": {},
   "outputs": [
    {
     "data": {
      "text/plain": [
       "['a', 'b', 'c', 'd', 'e', 'f', 'g', 'h', 'i']"
      ]
     },
     "execution_count": 42,
     "metadata": {},
     "output_type": "execute_result"
    }
   ],
   "source": [
    "collectResult"
   ]
  },
  {
   "cell_type": "code",
   "execution_count": 43,
   "id": "0f1fec2b-8654-4f5b-9d7c-e9cc306eeded",
   "metadata": {},
   "outputs": [
    {
     "data": {
      "text/plain": [
       "list"
      ]
     },
     "execution_count": 43,
     "metadata": {},
     "output_type": "execute_result"
    }
   ],
   "source": [
    "type(collectResult)"
   ]
  },
  {
   "cell_type": "markdown",
   "id": "ec84d3e1-e112-4e3f-a58f-6d380abf4a44",
   "metadata": {},
   "source": [
    "## Count"
   ]
  },
  {
   "cell_type": "code",
   "execution_count": 44,
   "id": "c11fec51-7662-462d-abe7-2ccadd003fb8",
   "metadata": {},
   "outputs": [],
   "source": [
    "rdd = sc.parallelize([\"a\", \"b\", \"c\", \"d\", \"e\", \"f\", \"g\", \"h\", \"i\"], 3)\n",
    "countResult = rdd.count()"
   ]
  },
  {
   "cell_type": "code",
   "execution_count": 45,
   "id": "00d0008f-d11d-42d9-9071-0061a2dac29e",
   "metadata": {},
   "outputs": [
    {
     "data": {
      "text/plain": [
       "9"
      ]
     },
     "execution_count": 45,
     "metadata": {},
     "output_type": "execute_result"
    }
   ],
   "source": [
    "countResult"
   ]
  },
  {
   "cell_type": "markdown",
   "id": "2e872bba-3506-4489-bc6e-926d2382aa91",
   "metadata": {},
   "source": [
    "## CountByKey"
   ]
  },
  {
   "cell_type": "code",
   "execution_count": 46,
   "id": "53805f22-f922-4c4f-a266-1d87d7699a92",
   "metadata": {},
   "outputs": [],
   "source": [
    "rdd = sc.parallelize([(\"a\", 1), (\"b\", 2), (\"c\", 3), (\"a\", 4), (\"b\", 5)], 3)\n",
    "countResult = rdd.countByKey()"
   ]
  },
  {
   "cell_type": "code",
   "execution_count": 47,
   "id": "b9344789-9b73-4d5d-ac6e-50940c07fe35",
   "metadata": {},
   "outputs": [
    {
     "data": {
      "text/plain": [
       "defaultdict(int, {'a': 2, 'b': 2, 'c': 1})"
      ]
     },
     "execution_count": 47,
     "metadata": {},
     "output_type": "execute_result"
    }
   ],
   "source": [
    "countResult"
   ]
  },
  {
   "cell_type": "markdown",
   "id": "4ece5b10-cea9-47d3-9aff-9ead36e8982b",
   "metadata": {},
   "source": [
    "## First"
   ]
  },
  {
   "cell_type": "code",
   "execution_count": 48,
   "id": "bcf26660-851f-43bf-a995-d7994d0abc50",
   "metadata": {},
   "outputs": [],
   "source": [
    "rdd = sc.parallelize([\"a\", \"b\", \"c\", \"d\", \"e\", \"f\", \"g\", \"h\", \"i\"], 3)\n",
    "firstResult = rdd.first()"
   ]
  },
  {
   "cell_type": "code",
   "execution_count": 49,
   "id": "14dd723e-c682-41e2-916a-4964006edca7",
   "metadata": {},
   "outputs": [
    {
     "data": {
      "text/plain": [
       "'a'"
      ]
     },
     "execution_count": 49,
     "metadata": {},
     "output_type": "execute_result"
    }
   ],
   "source": [
    "firstResult"
   ]
  },
  {
   "cell_type": "markdown",
   "id": "67f7caba-3225-4e1b-a3e4-9bf21f171e4e",
   "metadata": {},
   "source": [
    "## Take"
   ]
  },
  {
   "cell_type": "code",
   "execution_count": 50,
   "id": "3b1f3589-ba9f-43e6-9345-4b0557e04cc8",
   "metadata": {},
   "outputs": [],
   "source": [
    "rdd = sc.parallelize([1, 2, 3, 4, 5, 6, 7, 8, 9], 3)\n",
    "takeResult = rdd.take(3)"
   ]
  },
  {
   "cell_type": "code",
   "execution_count": 51,
   "id": "ce40a5de-0e3d-451b-ba85-b45768fe1cf5",
   "metadata": {},
   "outputs": [
    {
     "data": {
      "text/plain": [
       "[1, 2, 3]"
      ]
     },
     "execution_count": 51,
     "metadata": {},
     "output_type": "execute_result"
    }
   ],
   "source": [
    "takeResult"
   ]
  },
  {
   "cell_type": "markdown",
   "id": "c3bdc956-7bec-4d7e-bb1a-0529b7b79914",
   "metadata": {},
   "source": [
    "## TakeSample"
   ]
  },
  {
   "cell_type": "code",
   "execution_count": 52,
   "id": "db9ca7f0-46b8-4bca-9fea-969f22b6e5d0",
   "metadata": {},
   "outputs": [],
   "source": [
    "rdd = sc.parallelize([1, 2, 3, 4, 5, 6, 7, 8, 9], 3)\n",
    "takeResult = rdd.takeSample(False, 3)"
   ]
  },
  {
   "cell_type": "code",
   "execution_count": 53,
   "id": "2a41024f-d9cd-4e55-a9f0-0713f5394d3c",
   "metadata": {},
   "outputs": [
    {
     "data": {
      "text/plain": [
       "[1, 7, 9]"
      ]
     },
     "execution_count": 53,
     "metadata": {},
     "output_type": "execute_result"
    }
   ],
   "source": [
    "takeResult"
   ]
  },
  {
   "cell_type": "markdown",
   "id": "b713a30a-4f02-4e9e-9be6-7d4751f37ccd",
   "metadata": {},
   "source": [
    "## TakeOrdered"
   ]
  },
  {
   "cell_type": "code",
   "execution_count": 54,
   "id": "1623ab24-ad27-4f01-b614-3bef6d210e3e",
   "metadata": {},
   "outputs": [],
   "source": [
    "rdd = sc.parallelize([1, 9, 2, 8, 3, 7, 4, 6, 5], 3)\n",
    "takeResult = rdd.takeOrdered(3)"
   ]
  },
  {
   "cell_type": "code",
   "execution_count": 55,
   "id": "ef322a51-5e0e-461a-b4a9-f57040b3a351",
   "metadata": {},
   "outputs": [
    {
     "data": {
      "text/plain": [
       "pyspark.rdd.RDD"
      ]
     },
     "execution_count": 55,
     "metadata": {},
     "output_type": "execute_result"
    }
   ],
   "source": [
    "type(rdd)"
   ]
  },
  {
   "cell_type": "code",
   "execution_count": 56,
   "id": "c99066fe-7fa3-4a44-926b-cbbf70121717",
   "metadata": {},
   "outputs": [
    {
     "data": {
      "text/plain": [
       "[1, 2, 3]"
      ]
     },
     "execution_count": 56,
     "metadata": {},
     "output_type": "execute_result"
    }
   ],
   "source": [
    "takeResult"
   ]
  },
  {
   "cell_type": "markdown",
   "id": "b63a55b2-6c98-4be3-ba7a-b1bf5c0b2028",
   "metadata": {},
   "source": [
    "## Foreach"
   ]
  },
  {
   "cell_type": "code",
   "execution_count": 57,
   "id": "657ca6a8-155e-4a6a-8347-366699254379",
   "metadata": {},
   "outputs": [
    {
     "name": "stderr",
     "output_type": "stream",
     "text": [
      "Next item is  4\n",
      "Next item is  5\n",
      "Next item is  6\n",
      "Next item is  7\n",
      "Next item is  8\n",
      "Next item is  9\n",
      "Next item is  1\n",
      "Next item is  2\n",
      "Next item is  3\n"
     ]
    }
   ],
   "source": [
    "rdd = sc.parallelize([1, 2, 3, 4, 5, 6, 7, 8, 9], 3)\n",
    "rdd.foreach(lambda e: print(\"Next item is \", e))"
   ]
  },
  {
   "cell_type": "markdown",
   "id": "802f8149-df03-48d0-b81d-06dc8f83bd54",
   "metadata": {},
   "source": [
    "## SaveAs"
   ]
  },
  {
   "cell_type": "code",
   "execution_count": 58,
   "id": "1a3b51f1-aabe-4d74-9212-2698b489c384",
   "metadata": {},
   "outputs": [],
   "source": [
    "import os\n",
    "import shutil"
   ]
  },
  {
   "cell_type": "code",
   "execution_count": 59,
   "id": "8afb7f56-c61b-428e-9a1a-d73af93a133b",
   "metadata": {},
   "outputs": [],
   "source": [
    "textFile = \"result/txt/textFile\"\n",
    "\n",
    "if os.path.exists(textFile):\n",
    "    shutil.rmtree(textFile)"
   ]
  },
  {
   "cell_type": "code",
   "execution_count": 60,
   "id": "bdc8bd96-3717-4d14-a67a-3e75fb8299e0",
   "metadata": {},
   "outputs": [],
   "source": [
    "rdd = sc.parallelize([1, 2, 3, 4, 5, 6, 7, 8, 9], 3)\n",
    "rdd.saveAsTextFile(\"result/txt/textFile\")"
   ]
  },
  {
   "cell_type": "code",
   "execution_count": null,
   "id": "2501d995-30f6-4655-8eb0-b96f183d877c",
   "metadata": {},
   "outputs": [],
   "source": []
  }
 ],
 "metadata": {
  "kernelspec": {
   "display_name": "3.13",
   "language": "python",
   "name": "python3"
  },
  "language_info": {
   "codemirror_mode": {
    "name": "ipython",
    "version": 3
   },
   "file_extension": ".py",
   "mimetype": "text/x-python",
   "name": "python",
   "nbconvert_exporter": "python",
   "pygments_lexer": "ipython3",
   "version": "3.13.2"
  }
 },
 "nbformat": 4,
 "nbformat_minor": 5
}
