{
 "cells": [
  {
   "cell_type": "code",
   "execution_count": 1,
   "id": "e2515a1c-c4f9-4890-aa6d-641bf419cea6",
   "metadata": {},
   "outputs": [
    {
     "data": {
      "text/plain": [
       "\u001b[32mimport \u001b[39m\u001b[36m$ivy.$\u001b[39m"
      ]
     },
     "execution_count": 1,
     "metadata": {},
     "output_type": "execute_result"
    }
   ],
   "source": [
    "import $ivy.`org.apache.spark::spark-sql:3.5.5`"
   ]
  },
  {
   "cell_type": "code",
   "execution_count": 2,
   "id": "dc99a5fd-2141-4ffe-afb1-4b0a595a75af",
   "metadata": {},
   "outputs": [
    {
     "data": {
      "text/plain": [
       "\u001b[32mimport \u001b[39m\u001b[36morg.apache.log4j.{Level, Logger}\u001b[39m"
      ]
     },
     "execution_count": 2,
     "metadata": {},
     "output_type": "execute_result"
    }
   ],
   "source": [
    "import org.apache.log4j.{Level, Logger}\n",
    "Logger.getLogger(\"org\").setLevel(Level.WARN)"
   ]
  },
  {
   "cell_type": "code",
   "execution_count": 3,
   "id": "49835da8-c4d0-461a-a2c8-3c0959118bb4",
   "metadata": {},
   "outputs": [
    {
     "data": {
      "text/plain": [
       "\u001b[32mimport \u001b[39m\u001b[36morg.apache.spark._\u001b[39m\n",
       "\u001b[32mimport \u001b[39m\u001b[36mscala.collection.immutable.HashSet\u001b[39m"
      ]
     },
     "execution_count": 3,
     "metadata": {},
     "output_type": "execute_result"
    }
   ],
   "source": [
    "import org.apache.spark._\n",
    "import scala.collection.immutable.HashSet"
   ]
  },
  {
   "cell_type": "code",
   "execution_count": 4,
   "id": "950c2d19-92b7-420f-b212-0fe0f37bd5ba",
   "metadata": {
    "scrolled": true
   },
   "outputs": [
    {
     "name": "stderr",
     "output_type": "stream",
     "text": [
      "Using Spark's default log4j profile: org/apache/spark/log4j2-defaults.properties\n",
      "25/03/13 16:14:55 INFO SparkContext: Running Spark version 3.5.5\n",
      "25/03/13 16:14:55 INFO SparkContext: OS info Mac OS X, 15.3.2, aarch64\n",
      "25/03/13 16:14:55 INFO SparkContext: Java version 11.0.26\n",
      "25/03/13 16:14:55 WARN NativeCodeLoader: Unable to load native-hadoop library for your platform... using builtin-java classes where applicable\n",
      "Setting Spark log level to \"WARN\".\n"
     ]
    },
    {
     "data": {
      "text/plain": [
       "\u001b[36mconf\u001b[39m: \u001b[32mSparkConf\u001b[39m = org.apache.spark.SparkConf@29558989\n",
       "\u001b[36msc\u001b[39m: \u001b[32mSparkContext\u001b[39m = org.apache.spark.SparkContext@77aaaabf"
      ]
     },
     "execution_count": 4,
     "metadata": {},
     "output_type": "execute_result"
    }
   ],
   "source": [
    "val conf = new SparkConf().setAppName(\"RDD\").setMaster(\"local[*]\").set(\"spark.log.level\", \"WARN\")\n",
    "val sc = new SparkContext(conf)"
   ]
  },
  {
   "cell_type": "code",
   "execution_count": 5,
   "id": "59c101c3-900c-4a51-8f5f-bfc0ce535ef9",
   "metadata": {},
   "outputs": [
    {
     "name": "stdout",
     "output_type": "stream",
     "text": [
      "spark.version == 3.5.5\n"
     ]
    }
   ],
   "source": [
    "println(s\"spark.version == ${sc.version}\")"
   ]
  },
  {
   "cell_type": "markdown",
   "id": "13d92288-07f5-4da1-9bd5-ee9025b5632a",
   "metadata": {},
   "source": [
    "## Map"
   ]
  },
  {
   "cell_type": "code",
   "execution_count": 6,
   "id": "566d2761-a067-4bc6-8296-b1858a5a7fb2",
   "metadata": {},
   "outputs": [
    {
     "data": {
      "text/plain": [
       "\u001b[36mrdd\u001b[39m: \u001b[32morg\u001b[39m.\u001b[32mapache\u001b[39m.\u001b[32mspark\u001b[39m.\u001b[32mrdd\u001b[39m.\u001b[32mRDD\u001b[39m[\u001b[32mString\u001b[39m] = ParallelCollectionRDD[0] at parallelize at cmd6.sc:1\n",
       "\u001b[36mmappedRDD\u001b[39m: \u001b[32morg\u001b[39m.\u001b[32mapache\u001b[39m.\u001b[32mspark\u001b[39m.\u001b[32mrdd\u001b[39m.\u001b[32mRDD\u001b[39m[\u001b[32mString\u001b[39m] = MapPartitionsRDD[1] at map at cmd6.sc:2"
      ]
     },
     "execution_count": 6,
     "metadata": {},
     "output_type": "execute_result"
    }
   ],
   "source": [
    "val rdd = sc.parallelize(List(\"a\", \"b\", \"c\", \"d\", \"e\", \"f\", \"x\", \"y\", \"z\"), 3)\n",
    "val mappedRDD = rdd.map(_.toUpperCase)"
   ]
  },
  {
   "cell_type": "code",
   "execution_count": 7,
   "id": "4ea27869-6091-4c89-87a0-bcdb480c958c",
   "metadata": {
    "scrolled": true
   },
   "outputs": [
    {
     "data": {
      "text/plain": [
       "\u001b[36mres7\u001b[39m: \u001b[32mArray\u001b[39m[\u001b[32mString\u001b[39m] = \u001b[33mArray\u001b[39m(\u001b[32m\"A\"\u001b[39m, \u001b[32m\"B\"\u001b[39m, \u001b[32m\"C\"\u001b[39m, \u001b[32m\"D\"\u001b[39m, \u001b[32m\"E\"\u001b[39m, \u001b[32m\"F\"\u001b[39m, \u001b[32m\"X\"\u001b[39m, \u001b[32m\"Y\"\u001b[39m, \u001b[32m\"Z\"\u001b[39m)"
      ]
     },
     "execution_count": 7,
     "metadata": {},
     "output_type": "execute_result"
    }
   ],
   "source": [
    "mappedRDD.collect"
   ]
  },
  {
   "cell_type": "markdown",
   "id": "2600ccad-960f-4fca-a5ab-abced92098d3",
   "metadata": {},
   "source": [
    "## flatMap"
   ]
  },
  {
   "cell_type": "code",
   "execution_count": 8,
   "id": "9838e4a4-96e6-4290-954b-8d265a6f92ab",
   "metadata": {},
   "outputs": [
    {
     "data": {
      "text/plain": [
       "\u001b[36mrdd\u001b[39m: \u001b[32morg\u001b[39m.\u001b[32mapache\u001b[39m.\u001b[32mspark\u001b[39m.\u001b[32mrdd\u001b[39m.\u001b[32mRDD\u001b[39m[\u001b[32mString\u001b[39m] = ParallelCollectionRDD[2] at parallelize at cmd8.sc:1\n",
       "\u001b[36mflatmappedRDD\u001b[39m: \u001b[32morg\u001b[39m.\u001b[32mapache\u001b[39m.\u001b[32mspark\u001b[39m.\u001b[32mrdd\u001b[39m.\u001b[32mRDD\u001b[39m[\u001b[32mString\u001b[39m] = MapPartitionsRDD[3] at flatMap at cmd8.sc:2"
      ]
     },
     "execution_count": 8,
     "metadata": {},
     "output_type": "execute_result"
    }
   ],
   "source": [
    "val rdd = sc.parallelize(List(\"some text here\", \"other text over there\", \"and text\", \"short\", \"and a longer one\"), 3)\n",
    "val flatmappedRDD = rdd.flatMap(_.split(\"\\\\s\"))"
   ]
  },
  {
   "cell_type": "code",
   "execution_count": 9,
   "id": "4fe379bc-b118-43a9-b2f2-b6b3a7b444c7",
   "metadata": {
    "scrolled": true
   },
   "outputs": [
    {
     "data": {
      "text/plain": [
       "\u001b[36mres9\u001b[39m: \u001b[32mArray\u001b[39m[\u001b[32mString\u001b[39m] = \u001b[33mArray\u001b[39m(\n",
       "  \u001b[32m\"some\"\u001b[39m,\n",
       "  \u001b[32m\"text\"\u001b[39m,\n",
       "  \u001b[32m\"here\"\u001b[39m,\n",
       "  \u001b[32m\"other\"\u001b[39m,\n",
       "  \u001b[32m\"text\"\u001b[39m,\n",
       "  \u001b[32m\"over\"\u001b[39m,\n",
       "  \u001b[32m\"there\"\u001b[39m,\n",
       "  \u001b[32m\"and\"\u001b[39m,\n",
       "  \u001b[32m\"text\"\u001b[39m,\n",
       "  \u001b[32m\"short\"\u001b[39m,\n",
       "  \u001b[32m\"and\"\u001b[39m,\n",
       "  \u001b[32m\"a\"\u001b[39m,\n",
       "  \u001b[32m\"longer\"\u001b[39m,\n",
       "  \u001b[32m\"one\"\u001b[39m\n",
       ")"
      ]
     },
     "execution_count": 9,
     "metadata": {},
     "output_type": "execute_result"
    }
   ],
   "source": [
    "flatmappedRDD.collect"
   ]
  },
  {
   "cell_type": "markdown",
   "id": "d0c083f1-3410-4fcf-9492-a4f7c65291e8",
   "metadata": {},
   "source": [
    "## Filter"
   ]
  },
  {
   "cell_type": "code",
   "execution_count": 10,
   "id": "102a4d28-da4e-451a-8213-786a785d42eb",
   "metadata": {},
   "outputs": [
    {
     "data": {
      "text/plain": [
       "\u001b[36mrdd\u001b[39m: \u001b[32morg\u001b[39m.\u001b[32mapache\u001b[39m.\u001b[32mspark\u001b[39m.\u001b[32mrdd\u001b[39m.\u001b[32mRDD\u001b[39m[\u001b[32mString\u001b[39m] = ParallelCollectionRDD[4] at parallelize at cmd10.sc:1\n",
       "\u001b[36mfilteredRDD\u001b[39m: \u001b[32morg\u001b[39m.\u001b[32mapache\u001b[39m.\u001b[32mspark\u001b[39m.\u001b[32mrdd\u001b[39m.\u001b[32mRDD\u001b[39m[\u001b[32mString\u001b[39m] = MapPartitionsRDD[5] at filter at cmd10.sc:2"
      ]
     },
     "execution_count": 10,
     "metadata": {},
     "output_type": "execute_result"
    }
   ],
   "source": [
    "val rdd = sc.parallelize(List(\"a\", \"b\", \"c\", \"d\", \"e\", \"f\", \"x\", \"y\", \"z\"), 3)\n",
    "val filteredRDD = rdd.filter(_  < \"f\")"
   ]
  },
  {
   "cell_type": "code",
   "execution_count": 11,
   "id": "ff88346b-421a-4b43-8526-760bc9b934b9",
   "metadata": {
    "scrolled": true
   },
   "outputs": [
    {
     "data": {
      "text/plain": [
       "\u001b[36mres11\u001b[39m: \u001b[32mArray\u001b[39m[\u001b[32mString\u001b[39m] = \u001b[33mArray\u001b[39m(\u001b[32m\"a\"\u001b[39m, \u001b[32m\"b\"\u001b[39m, \u001b[32m\"c\"\u001b[39m, \u001b[32m\"d\"\u001b[39m, \u001b[32m\"e\"\u001b[39m)"
      ]
     },
     "execution_count": 11,
     "metadata": {},
     "output_type": "execute_result"
    }
   ],
   "source": [
    "filteredRDD.collect"
   ]
  },
  {
   "cell_type": "markdown",
   "id": "8112e1b2-7749-4344-961a-efa36e1a46e2",
   "metadata": {},
   "source": [
    "## mapPartitions"
   ]
  },
  {
   "cell_type": "code",
   "execution_count": 12,
   "id": "53e7dbd6-ea63-43e6-93b2-732812ac2c49",
   "metadata": {},
   "outputs": [
    {
     "data": {
      "text/plain": [
       "\u001b[36mrdd\u001b[39m: \u001b[32morg\u001b[39m.\u001b[32mapache\u001b[39m.\u001b[32mspark\u001b[39m.\u001b[32mrdd\u001b[39m.\u001b[32mRDD\u001b[39m[\u001b[32mString\u001b[39m] = ParallelCollectionRDD[6] at parallelize at cmd12.sc:1\n",
       "\u001b[36mmapPartitionsRDD\u001b[39m: \u001b[32morg\u001b[39m.\u001b[32mapache\u001b[39m.\u001b[32mspark\u001b[39m.\u001b[32mrdd\u001b[39m.\u001b[32mRDD\u001b[39m[\u001b[32mString\u001b[39m] = MapPartitionsRDD[7] at mapPartitions at cmd12.sc:2"
      ]
     },
     "execution_count": 12,
     "metadata": {},
     "output_type": "execute_result"
    }
   ],
   "source": [
    "val rdd = sc.parallelize(List(\"a\", \"b\", \"c\", \"d\", \"e\", \"f\", \"x\", \"y\", \"z\"), 3)\n",
    "val mapPartitionsRDD = rdd.mapPartitions(p => (Array(\"Hello\").iterator))"
   ]
  },
  {
   "cell_type": "code",
   "execution_count": 13,
   "id": "9712febf-3797-463a-9db0-08c23f05ef8b",
   "metadata": {
    "scrolled": true
   },
   "outputs": [
    {
     "data": {
      "text/plain": [
       "\u001b[36mres13\u001b[39m: \u001b[32mArray\u001b[39m[\u001b[32mString\u001b[39m] = \u001b[33mArray\u001b[39m(\u001b[32m\"Hello\"\u001b[39m, \u001b[32m\"Hello\"\u001b[39m, \u001b[32m\"Hello\"\u001b[39m)"
      ]
     },
     "execution_count": 13,
     "metadata": {},
     "output_type": "execute_result"
    }
   ],
   "source": [
    "mapPartitionsRDD.collect"
   ]
  },
  {
   "cell_type": "markdown",
   "id": "bdf1b529-9b31-4733-95fb-4162295a2d3a",
   "metadata": {},
   "source": [
    "## mapPartitionsWithIndex"
   ]
  },
  {
   "cell_type": "code",
   "execution_count": 14,
   "id": "e3207095-1bb5-43aa-b23c-e77ae35e54a4",
   "metadata": {},
   "outputs": [
    {
     "data": {
      "text/plain": [
       "\u001b[36mrdd\u001b[39m: \u001b[32morg\u001b[39m.\u001b[32mapache\u001b[39m.\u001b[32mspark\u001b[39m.\u001b[32mrdd\u001b[39m.\u001b[32mRDD\u001b[39m[\u001b[32mString\u001b[39m] = ParallelCollectionRDD[8] at parallelize at cmd14.sc:1\n",
       "\u001b[36mmapPartitionsRDD\u001b[39m: \u001b[32morg\u001b[39m.\u001b[32mapache\u001b[39m.\u001b[32mspark\u001b[39m.\u001b[32mrdd\u001b[39m.\u001b[32mRDD\u001b[39m[\u001b[32mInt\u001b[39m] = MapPartitionsRDD[9] at mapPartitionsWithIndex at cmd14.sc:2"
      ]
     },
     "execution_count": 14,
     "metadata": {},
     "output_type": "execute_result"
    }
   ],
   "source": [
    "val rdd = sc.parallelize(List(\"a\", \"b\", \"c\", \"d\", \"e\", \"f\", \"x\", \"y\", \"z\"), 3)\n",
    "val mapPartitionsRDD = rdd.mapPartitionsWithIndex((i, p) => (Array(i).iterator))"
   ]
  },
  {
   "cell_type": "code",
   "execution_count": 15,
   "id": "1ed59450-7255-4bc8-9fd8-0f50893902fb",
   "metadata": {
    "scrolled": true
   },
   "outputs": [
    {
     "data": {
      "text/plain": [
       "\u001b[36mres15\u001b[39m: \u001b[32mArray\u001b[39m[\u001b[32mInt\u001b[39m] = \u001b[33mArray\u001b[39m(\u001b[32m0\u001b[39m, \u001b[32m1\u001b[39m, \u001b[32m2\u001b[39m)"
      ]
     },
     "execution_count": 15,
     "metadata": {},
     "output_type": "execute_result"
    }
   ],
   "source": [
    "mapPartitionsRDD.collect"
   ]
  },
  {
   "cell_type": "markdown",
   "id": "d9d272dc-0d5c-45fe-b2ec-95035fa10e5e",
   "metadata": {},
   "source": [
    "## Sample"
   ]
  },
  {
   "cell_type": "code",
   "execution_count": 16,
   "id": "0119a6e7-79aa-4d3b-99de-c7ddf11e574c",
   "metadata": {},
   "outputs": [
    {
     "data": {
      "text/plain": [
       "\u001b[36mrdd\u001b[39m: \u001b[32morg\u001b[39m.\u001b[32mapache\u001b[39m.\u001b[32mspark\u001b[39m.\u001b[32mrdd\u001b[39m.\u001b[32mRDD\u001b[39m[\u001b[32mString\u001b[39m] = ParallelCollectionRDD[10] at parallelize at cmd16.sc:1\n",
       "\u001b[36msampleRDD\u001b[39m: \u001b[32morg\u001b[39m.\u001b[32mapache\u001b[39m.\u001b[32mspark\u001b[39m.\u001b[32mrdd\u001b[39m.\u001b[32mRDD\u001b[39m[\u001b[32mString\u001b[39m] = PartitionwiseSampledRDD[11] at sample at cmd16.sc:2"
      ]
     },
     "execution_count": 16,
     "metadata": {},
     "output_type": "execute_result"
    }
   ],
   "source": [
    "val rdd = sc.parallelize(List(\"a\", \"b\", \"c\", \"d\", \"e\", \"f\", \"x\", \"y\", \"z\"), 3)\n",
    "val sampleRDD = rdd.sample(false, 0.3)"
   ]
  },
  {
   "cell_type": "code",
   "execution_count": 17,
   "id": "395c975a-441b-47d4-b81a-b3381a62c1c1",
   "metadata": {
    "scrolled": true
   },
   "outputs": [
    {
     "data": {
      "text/plain": [
       "\u001b[36mres17\u001b[39m: \u001b[32mArray\u001b[39m[\u001b[32mString\u001b[39m] = \u001b[33mArray\u001b[39m(\u001b[32m\"a\"\u001b[39m, \u001b[32m\"b\"\u001b[39m)"
      ]
     },
     "execution_count": 17,
     "metadata": {},
     "output_type": "execute_result"
    }
   ],
   "source": [
    "sampleRDD.collect"
   ]
  },
  {
   "cell_type": "markdown",
   "id": "f4e98fe6-66a1-40d3-a71c-e30e420d7d6a",
   "metadata": {},
   "source": [
    "## Union"
   ]
  },
  {
   "cell_type": "code",
   "execution_count": 18,
   "id": "348ecc77-e6aa-4729-8a7d-2739cfb32025",
   "metadata": {},
   "outputs": [
    {
     "data": {
      "text/plain": [
       "\u001b[36mrdd\u001b[39m: \u001b[32morg\u001b[39m.\u001b[32mapache\u001b[39m.\u001b[32mspark\u001b[39m.\u001b[32mrdd\u001b[39m.\u001b[32mRDD\u001b[39m[\u001b[32mString\u001b[39m] = ParallelCollectionRDD[12] at parallelize at cmd18.sc:1\n",
       "\u001b[36mrdd2\u001b[39m: \u001b[32morg\u001b[39m.\u001b[32mapache\u001b[39m.\u001b[32mspark\u001b[39m.\u001b[32mrdd\u001b[39m.\u001b[32mRDD\u001b[39m[\u001b[32mString\u001b[39m] = ParallelCollectionRDD[13] at parallelize at cmd18.sc:2\n",
       "\u001b[36munionRDD\u001b[39m: \u001b[32morg\u001b[39m.\u001b[32mapache\u001b[39m.\u001b[32mspark\u001b[39m.\u001b[32mrdd\u001b[39m.\u001b[32mRDD\u001b[39m[\u001b[32mString\u001b[39m] = UnionRDD[14] at union at cmd18.sc:3"
      ]
     },
     "execution_count": 18,
     "metadata": {},
     "output_type": "execute_result"
    }
   ],
   "source": [
    "val rdd = sc.parallelize(List(\"a\", \"b\", \"c\", \"d\", \"e\", \"f\", \"x\", \"y\", \"z\"), 3)\n",
    "val rdd2 = sc.parallelize(List(\"A\", \"B\", \"C\", \"D\", \"E\", \"F\", \"X\", \"Y\", \"Z\"), 3)\n",
    "val unionRDD = rdd.union(rdd2)"
   ]
  },
  {
   "cell_type": "code",
   "execution_count": 19,
   "id": "3311c7ab-e11a-4e40-86cc-149392768118",
   "metadata": {
    "scrolled": true
   },
   "outputs": [
    {
     "data": {
      "text/plain": [
       "\u001b[36mres19\u001b[39m: \u001b[32mArray\u001b[39m[\u001b[32mString\u001b[39m] = \u001b[33mArray\u001b[39m(\n",
       "  \u001b[32m\"a\"\u001b[39m,\n",
       "  \u001b[32m\"b\"\u001b[39m,\n",
       "  \u001b[32m\"c\"\u001b[39m,\n",
       "  \u001b[32m\"d\"\u001b[39m,\n",
       "  \u001b[32m\"e\"\u001b[39m,\n",
       "  \u001b[32m\"f\"\u001b[39m,\n",
       "  \u001b[32m\"x\"\u001b[39m,\n",
       "  \u001b[32m\"y\"\u001b[39m,\n",
       "  \u001b[32m\"z\"\u001b[39m,\n",
       "  \u001b[32m\"A\"\u001b[39m,\n",
       "  \u001b[32m\"B\"\u001b[39m,\n",
       "  \u001b[32m\"C\"\u001b[39m,\n",
       "  \u001b[32m\"D\"\u001b[39m,\n",
       "  \u001b[32m\"E\"\u001b[39m,\n",
       "  \u001b[32m\"F\"\u001b[39m,\n",
       "  \u001b[32m\"X\"\u001b[39m,\n",
       "  \u001b[32m\"Y\"\u001b[39m,\n",
       "  \u001b[32m\"Z\"\u001b[39m\n",
       ")"
      ]
     },
     "execution_count": 19,
     "metadata": {},
     "output_type": "execute_result"
    }
   ],
   "source": [
    "unionRDD.collect"
   ]
  },
  {
   "cell_type": "markdown",
   "id": "30be4636-89a4-47c6-889a-702eda3e00bc",
   "metadata": {},
   "source": [
    "## Intersection"
   ]
  },
  {
   "cell_type": "code",
   "execution_count": 20,
   "id": "eadeb378-2b1f-417a-87f9-e01c90b7a55e",
   "metadata": {},
   "outputs": [
    {
     "data": {
      "text/plain": [
       "\u001b[36mrdd\u001b[39m: \u001b[32morg\u001b[39m.\u001b[32mapache\u001b[39m.\u001b[32mspark\u001b[39m.\u001b[32mrdd\u001b[39m.\u001b[32mRDD\u001b[39m[\u001b[32mString\u001b[39m] = ParallelCollectionRDD[15] at parallelize at cmd20.sc:1\n",
       "\u001b[36mrdd2\u001b[39m: \u001b[32morg\u001b[39m.\u001b[32mapache\u001b[39m.\u001b[32mspark\u001b[39m.\u001b[32mrdd\u001b[39m.\u001b[32mRDD\u001b[39m[\u001b[32mString\u001b[39m] = ParallelCollectionRDD[16] at parallelize at cmd20.sc:2\n",
       "\u001b[36mintersectionRDD\u001b[39m: \u001b[32morg\u001b[39m.\u001b[32mapache\u001b[39m.\u001b[32mspark\u001b[39m.\u001b[32mrdd\u001b[39m.\u001b[32mRDD\u001b[39m[\u001b[32mString\u001b[39m] = MapPartitionsRDD[22] at intersection at cmd20.sc:3"
      ]
     },
     "execution_count": 20,
     "metadata": {},
     "output_type": "execute_result"
    }
   ],
   "source": [
    "val rdd = sc.parallelize(List(\"a\", \"b\", \"c\", \"d\", \"e\", \"f\"), 3)\n",
    "val rdd2 = sc.parallelize(List(\"d\", \"e\", \"f\", \"x\", \"y\", \"z\"), 3)\n",
    "val intersectionRDD = rdd.intersection(rdd2)"
   ]
  },
  {
   "cell_type": "code",
   "execution_count": 21,
   "id": "0c1e2cea-f357-4a1a-8603-c0fed596a6de",
   "metadata": {
    "scrolled": true
   },
   "outputs": [
    {
     "data": {
      "text/plain": [
       "\u001b[36mres21\u001b[39m: \u001b[32mArray\u001b[39m[\u001b[32mString\u001b[39m] = \u001b[33mArray\u001b[39m(\u001b[32m\"f\"\u001b[39m, \u001b[32m\"d\"\u001b[39m, \u001b[32m\"e\"\u001b[39m)"
      ]
     },
     "execution_count": 21,
     "metadata": {},
     "output_type": "execute_result"
    }
   ],
   "source": [
    "intersectionRDD.collect"
   ]
  },
  {
   "cell_type": "markdown",
   "id": "9e7900dc-f654-4963-9975-1192bdba78f1",
   "metadata": {},
   "source": [
    "## Distinct"
   ]
  },
  {
   "cell_type": "code",
   "execution_count": 22,
   "id": "4930a7d3-6089-4b65-96d4-b2e722f07d61",
   "metadata": {},
   "outputs": [
    {
     "data": {
      "text/plain": [
       "\u001b[36mrdd\u001b[39m: \u001b[32morg\u001b[39m.\u001b[32mapache\u001b[39m.\u001b[32mspark\u001b[39m.\u001b[32mrdd\u001b[39m.\u001b[32mRDD\u001b[39m[\u001b[32mString\u001b[39m] = ParallelCollectionRDD[23] at parallelize at cmd22.sc:1\n",
       "\u001b[36mdistinctRDD\u001b[39m: \u001b[32morg\u001b[39m.\u001b[32mapache\u001b[39m.\u001b[32mspark\u001b[39m.\u001b[32mrdd\u001b[39m.\u001b[32mRDD\u001b[39m[\u001b[32mString\u001b[39m] = MapPartitionsRDD[26] at distinct at cmd22.sc:2"
      ]
     },
     "execution_count": 22,
     "metadata": {},
     "output_type": "execute_result"
    }
   ],
   "source": [
    "val rdd = sc.parallelize(List(\"a\", \"b\", \"c\", \"c\", \"c\", \"b\", \"b\", \"a\"), 3)\n",
    "val distinctRDD = rdd.distinct"
   ]
  },
  {
   "cell_type": "code",
   "execution_count": 23,
   "id": "67651626-4872-4d36-85d7-3e9a8acda203",
   "metadata": {
    "scrolled": true
   },
   "outputs": [
    {
     "data": {
      "text/plain": [
       "\u001b[36mres23\u001b[39m: \u001b[32mArray\u001b[39m[\u001b[32mString\u001b[39m] = \u001b[33mArray\u001b[39m(\u001b[32m\"c\"\u001b[39m, \u001b[32m\"a\"\u001b[39m, \u001b[32m\"b\"\u001b[39m)"
      ]
     },
     "execution_count": 23,
     "metadata": {},
     "output_type": "execute_result"
    }
   ],
   "source": [
    "distinctRDD.collect"
   ]
  },
  {
   "cell_type": "markdown",
   "id": "125bda78-d7b6-4629-a775-fc5bf492be7f",
   "metadata": {},
   "source": [
    "## GroupByKey"
   ]
  },
  {
   "cell_type": "code",
   "execution_count": 24,
   "id": "0765d94c-2e45-4de8-9d7a-987fb95d2e3f",
   "metadata": {},
   "outputs": [
    {
     "data": {
      "text/plain": [
       "\u001b[36mrdd\u001b[39m: \u001b[32morg\u001b[39m.\u001b[32mapache\u001b[39m.\u001b[32mspark\u001b[39m.\u001b[32mrdd\u001b[39m.\u001b[32mRDD\u001b[39m[(\u001b[32mInt\u001b[39m, \u001b[32mString\u001b[39m)] = ParallelCollectionRDD[27] at parallelize at cmd24.sc:1\n",
       "\u001b[36mgroupbyRDD\u001b[39m: \u001b[32morg\u001b[39m.\u001b[32mapache\u001b[39m.\u001b[32mspark\u001b[39m.\u001b[32mrdd\u001b[39m.\u001b[32mRDD\u001b[39m[(\u001b[32mInt\u001b[39m, \u001b[32mIterable\u001b[39m[\u001b[32mString\u001b[39m])] = ShuffledRDD[28] at groupByKey at cmd24.sc:2"
      ]
     },
     "execution_count": 24,
     "metadata": {},
     "output_type": "execute_result"
    }
   ],
   "source": [
    "val rdd = sc.parallelize(List((1, \"a\"), (2, \"b\"), (3, \"c\"), (1, \"d\"), (2, \"e\")), 3)\n",
    "val groupbyRDD = rdd.groupByKey"
   ]
  },
  {
   "cell_type": "code",
   "execution_count": 25,
   "id": "ee2cede8-6790-46b5-b776-255aa68075fb",
   "metadata": {
    "scrolled": true
   },
   "outputs": [
    {
     "data": {
      "text/plain": [
       "\u001b[36mres25\u001b[39m: \u001b[32mArray\u001b[39m[(\u001b[32mInt\u001b[39m, \u001b[32mIterable\u001b[39m[\u001b[32mString\u001b[39m])] = \u001b[33mArray\u001b[39m(\n",
       "  (\u001b[32m3\u001b[39m, \u001b[33mCompactBuffer\u001b[39m(\u001b[32m\"c\"\u001b[39m)),\n",
       "  (\u001b[32m1\u001b[39m, \u001b[33mCompactBuffer\u001b[39m(\u001b[32m\"a\"\u001b[39m, \u001b[32m\"d\"\u001b[39m)),\n",
       "  (\u001b[32m2\u001b[39m, \u001b[33mCompactBuffer\u001b[39m(\u001b[32m\"b\"\u001b[39m, \u001b[32m\"e\"\u001b[39m))\n",
       ")"
      ]
     },
     "execution_count": 25,
     "metadata": {},
     "output_type": "execute_result"
    }
   ],
   "source": [
    "groupbyRDD.collect"
   ]
  },
  {
   "cell_type": "markdown",
   "id": "e560a06e-54b2-44be-bf73-23e9f543ec2a",
   "metadata": {},
   "source": [
    "## ReduceByKey"
   ]
  },
  {
   "cell_type": "code",
   "execution_count": 26,
   "id": "7a8d93b0-bb1a-4e2a-8a08-c4b3ed9a0a12",
   "metadata": {},
   "outputs": [
    {
     "data": {
      "text/plain": [
       "\u001b[36mrdd\u001b[39m: \u001b[32morg\u001b[39m.\u001b[32mapache\u001b[39m.\u001b[32mspark\u001b[39m.\u001b[32mrdd\u001b[39m.\u001b[32mRDD\u001b[39m[(\u001b[32mString\u001b[39m, \u001b[32mInt\u001b[39m)] = ParallelCollectionRDD[29] at parallelize at cmd26.sc:1\n",
       "\u001b[36mreducebyRDD\u001b[39m: \u001b[32morg\u001b[39m.\u001b[32mapache\u001b[39m.\u001b[32mspark\u001b[39m.\u001b[32mrdd\u001b[39m.\u001b[32mRDD\u001b[39m[(\u001b[32mString\u001b[39m, \u001b[32mInt\u001b[39m)] = ShuffledRDD[30] at reduceByKey at cmd26.sc:2"
      ]
     },
     "execution_count": 26,
     "metadata": {},
     "output_type": "execute_result"
    }
   ],
   "source": [
    "val rdd = sc.parallelize(List((\"a\", 1), (\"b\", 2), (\"c\", 3), (\"a\", 4), (\"b\", 5)), 3)\n",
    "val reducebyRDD = rdd.reduceByKey((a, b) => a + b)"
   ]
  },
  {
   "cell_type": "code",
   "execution_count": 27,
   "id": "f59c3f13-a685-4bb7-b0c4-6f01833fb799",
   "metadata": {
    "scrolled": true
   },
   "outputs": [
    {
     "data": {
      "text/plain": [
       "\u001b[36mres27\u001b[39m: \u001b[32mArray\u001b[39m[(\u001b[32mString\u001b[39m, \u001b[32mInt\u001b[39m)] = \u001b[33mArray\u001b[39m((\u001b[32m\"c\"\u001b[39m, \u001b[32m3\u001b[39m), (\u001b[32m\"a\"\u001b[39m, \u001b[32m5\u001b[39m), (\u001b[32m\"b\"\u001b[39m, \u001b[32m7\u001b[39m))"
      ]
     },
     "execution_count": 27,
     "metadata": {},
     "output_type": "execute_result"
    }
   ],
   "source": [
    "reducebyRDD.collect"
   ]
  },
  {
   "cell_type": "markdown",
   "id": "7b3f91f9-f0aa-4b84-bf49-37f75e5f12aa",
   "metadata": {},
   "source": [
    "## AggregateByKey"
   ]
  },
  {
   "cell_type": "code",
   "execution_count": 28,
   "id": "d512279c-4988-4604-b0c3-f665c034c308",
   "metadata": {},
   "outputs": [
    {
     "data": {
      "text/plain": [
       "\u001b[36mrdd\u001b[39m: \u001b[32morg\u001b[39m.\u001b[32mapache\u001b[39m.\u001b[32mspark\u001b[39m.\u001b[32mrdd\u001b[39m.\u001b[32mRDD\u001b[39m[(\u001b[32mString\u001b[39m, \u001b[32mInt\u001b[39m)] = ParallelCollectionRDD[31] at parallelize at cmd28.sc:1\n",
       "\u001b[36maggregateByRDD\u001b[39m: \u001b[32morg\u001b[39m.\u001b[32mapache\u001b[39m.\u001b[32mspark\u001b[39m.\u001b[32mrdd\u001b[39m.\u001b[32mRDD\u001b[39m[(\u001b[32mString\u001b[39m, \u001b[32mInt\u001b[39m)] = ShuffledRDD[32] at aggregateByKey at cmd28.sc:2"
      ]
     },
     "execution_count": 28,
     "metadata": {},
     "output_type": "execute_result"
    }
   ],
   "source": [
    "val rdd = sc.parallelize(List((\"a\", 1), (\"b\", 2), (\"c\", 3), (\"a\", 4), (\"b\", 5)), 3)\n",
    "val aggregateByRDD = rdd.aggregateByKey(0)(_+_, _+_)"
   ]
  },
  {
   "cell_type": "code",
   "execution_count": 29,
   "id": "f860ad18-a7d9-4aa2-b3d3-b8a86f98d485",
   "metadata": {
    "scrolled": true
   },
   "outputs": [
    {
     "data": {
      "text/plain": [
       "\u001b[36mres29\u001b[39m: \u001b[32mArray\u001b[39m[(\u001b[32mString\u001b[39m, \u001b[32mInt\u001b[39m)] = \u001b[33mArray\u001b[39m((\u001b[32m\"c\"\u001b[39m, \u001b[32m3\u001b[39m), (\u001b[32m\"a\"\u001b[39m, \u001b[32m5\u001b[39m), (\u001b[32m\"b\"\u001b[39m, \u001b[32m7\u001b[39m))"
      ]
     },
     "execution_count": 29,
     "metadata": {},
     "output_type": "execute_result"
    }
   ],
   "source": [
    "aggregateByRDD.collect"
   ]
  },
  {
   "cell_type": "markdown",
   "id": "7d9d6e12-7284-4fd8-848a-eeb9ae6ffd05",
   "metadata": {},
   "source": [
    "## SortByKey"
   ]
  },
  {
   "cell_type": "code",
   "execution_count": 30,
   "id": "c1fd6451-045f-4369-8400-17a1aa3bcd8f",
   "metadata": {
    "scrolled": true
   },
   "outputs": [
    {
     "data": {
      "text/plain": [
       "\u001b[36mrdd\u001b[39m: \u001b[32morg\u001b[39m.\u001b[32mapache\u001b[39m.\u001b[32mspark\u001b[39m.\u001b[32mrdd\u001b[39m.\u001b[32mRDD\u001b[39m[(\u001b[32mString\u001b[39m, \u001b[32mInt\u001b[39m)] = ParallelCollectionRDD[33] at parallelize at cmd30.sc:1\n",
       "\u001b[36msortedRDD\u001b[39m: \u001b[32morg\u001b[39m.\u001b[32mapache\u001b[39m.\u001b[32mspark\u001b[39m.\u001b[32mrdd\u001b[39m.\u001b[32mRDD\u001b[39m[(\u001b[32mString\u001b[39m, \u001b[32mInt\u001b[39m)] = ShuffledRDD[36] at sortByKey at cmd30.sc:2"
      ]
     },
     "execution_count": 30,
     "metadata": {},
     "output_type": "execute_result"
    }
   ],
   "source": [
    "val rdd = sc.parallelize(List((\"a\", 1), (\"b\", 2), (\"c\", 3), (\"a\", 4), (\"b\", 5)), 3)\n",
    "val sortedRDD = rdd.sortByKey()"
   ]
  },
  {
   "cell_type": "code",
   "execution_count": 31,
   "id": "254ebe2e-f911-457f-9ef8-8d2423f97584",
   "metadata": {
    "scrolled": true
   },
   "outputs": [
    {
     "data": {
      "text/plain": [
       "\u001b[36mres31\u001b[39m: \u001b[32mArray\u001b[39m[(\u001b[32mString\u001b[39m, \u001b[32mInt\u001b[39m)] = \u001b[33mArray\u001b[39m(\n",
       "  (\u001b[32m\"a\"\u001b[39m, \u001b[32m1\u001b[39m),\n",
       "  (\u001b[32m\"a\"\u001b[39m, \u001b[32m4\u001b[39m),\n",
       "  (\u001b[32m\"b\"\u001b[39m, \u001b[32m2\u001b[39m),\n",
       "  (\u001b[32m\"b\"\u001b[39m, \u001b[32m5\u001b[39m),\n",
       "  (\u001b[32m\"c\"\u001b[39m, \u001b[32m3\u001b[39m)\n",
       ")"
      ]
     },
     "execution_count": 31,
     "metadata": {},
     "output_type": "execute_result"
    }
   ],
   "source": [
    "sortedRDD.collect"
   ]
  },
  {
   "cell_type": "markdown",
   "id": "0dbbd1dc-bd35-4276-a26a-3e3cee37a828",
   "metadata": {},
   "source": [
    "## Join"
   ]
  },
  {
   "cell_type": "code",
   "execution_count": 32,
   "id": "7364e748-79d0-449e-97ab-261f4789ff42",
   "metadata": {},
   "outputs": [
    {
     "data": {
      "text/plain": [
       "\u001b[36mrdd\u001b[39m: \u001b[32morg\u001b[39m.\u001b[32mapache\u001b[39m.\u001b[32mspark\u001b[39m.\u001b[32mrdd\u001b[39m.\u001b[32mRDD\u001b[39m[(\u001b[32mInt\u001b[39m, \u001b[32mString\u001b[39m)] = ParallelCollectionRDD[37] at parallelize at cmd32.sc:1\n",
       "\u001b[36mrdd2\u001b[39m: \u001b[32morg\u001b[39m.\u001b[32mapache\u001b[39m.\u001b[32mspark\u001b[39m.\u001b[32mrdd\u001b[39m.\u001b[32mRDD\u001b[39m[(\u001b[32mInt\u001b[39m, \u001b[32mString\u001b[39m)] = ParallelCollectionRDD[38] at parallelize at cmd32.sc:2\n",
       "\u001b[36mjoinedRDD\u001b[39m: \u001b[32morg\u001b[39m.\u001b[32mapache\u001b[39m.\u001b[32mspark\u001b[39m.\u001b[32mrdd\u001b[39m.\u001b[32mRDD\u001b[39m[(\u001b[32mInt\u001b[39m, (\u001b[32mString\u001b[39m, \u001b[32mString\u001b[39m))] = MapPartitionsRDD[41] at join at cmd32.sc:3"
      ]
     },
     "execution_count": 32,
     "metadata": {},
     "output_type": "execute_result"
    }
   ],
   "source": [
    "val rdd = sc.parallelize(List((1, \"a\"), (2, \"b\"), (3, \"c\")))\n",
    "val rdd2 = sc.parallelize(List((2, \"B\"), (1, \"A\"), (3, \"C\")))\n",
    "val joinedRDD = rdd.join(rdd2)"
   ]
  },
  {
   "cell_type": "code",
   "execution_count": 33,
   "id": "bcdc78c0-0a2c-447d-b120-c71ae66de99f",
   "metadata": {
    "scrolled": true
   },
   "outputs": [
    {
     "data": {
      "text/plain": [
       "\u001b[36mres33\u001b[39m: \u001b[32mArray\u001b[39m[(\u001b[32mInt\u001b[39m, (\u001b[32mString\u001b[39m, \u001b[32mString\u001b[39m))] = \u001b[33mArray\u001b[39m(\n",
       "  (\u001b[32m1\u001b[39m, (\u001b[32m\"a\"\u001b[39m, \u001b[32m\"A\"\u001b[39m)),\n",
       "  (\u001b[32m2\u001b[39m, (\u001b[32m\"b\"\u001b[39m, \u001b[32m\"B\"\u001b[39m)),\n",
       "  (\u001b[32m3\u001b[39m, (\u001b[32m\"c\"\u001b[39m, \u001b[32m\"C\"\u001b[39m))\n",
       ")"
      ]
     },
     "execution_count": 33,
     "metadata": {},
     "output_type": "execute_result"
    }
   ],
   "source": [
    "joinedRDD.collect"
   ]
  },
  {
   "cell_type": "markdown",
   "id": "ae6ba2ac-1e52-4202-88c4-bec4fc48ba66",
   "metadata": {},
   "source": [
    "## Coalesce"
   ]
  },
  {
   "cell_type": "code",
   "execution_count": 34,
   "id": "30c6452f-0acb-430d-810a-b7463be3cd29",
   "metadata": {},
   "outputs": [
    {
     "data": {
      "text/plain": [
       "\u001b[36mrdd\u001b[39m: \u001b[32morg\u001b[39m.\u001b[32mapache\u001b[39m.\u001b[32mspark\u001b[39m.\u001b[32mrdd\u001b[39m.\u001b[32mRDD\u001b[39m[\u001b[32mString\u001b[39m] = ParallelCollectionRDD[42] at parallelize at cmd34.sc:1\n",
       "\u001b[36mcoalesceRDD\u001b[39m: \u001b[32morg\u001b[39m.\u001b[32mapache\u001b[39m.\u001b[32mspark\u001b[39m.\u001b[32mrdd\u001b[39m.\u001b[32mRDD\u001b[39m[\u001b[32mString\u001b[39m] = CoalescedRDD[43] at coalesce at cmd34.sc:2"
      ]
     },
     "execution_count": 34,
     "metadata": {},
     "output_type": "execute_result"
    }
   ],
   "source": [
    "val rdd = sc.parallelize(List(\"a\", \"b\", \"c\", \"d\", \"e\", \"f\", \"g\", \"h\", \"i\"), 4)\n",
    "val coalesceRDD = rdd.coalesce(2)"
   ]
  },
  {
   "cell_type": "code",
   "execution_count": 35,
   "id": "bf9e6685-9433-4e1d-b47c-1fb0574a97fe",
   "metadata": {},
   "outputs": [
    {
     "data": {
      "text/plain": [
       "\u001b[36mres35_0\u001b[39m: \u001b[32mInt\u001b[39m = \u001b[32m4\u001b[39m\n",
       "\u001b[36mres35_1\u001b[39m: \u001b[32mInt\u001b[39m = \u001b[32m2\u001b[39m"
      ]
     },
     "execution_count": 35,
     "metadata": {},
     "output_type": "execute_result"
    }
   ],
   "source": [
    "rdd.partitions.size\n",
    "coalesceRDD.partitions.size"
   ]
  },
  {
   "cell_type": "markdown",
   "id": "551d266b-86dc-405f-bc79-4e9bb9206c8d",
   "metadata": {},
   "source": [
    "## Repartition"
   ]
  },
  {
   "cell_type": "code",
   "execution_count": 36,
   "id": "7dee2214-1d13-41ab-baf5-21b6e8f26b91",
   "metadata": {},
   "outputs": [
    {
     "data": {
      "text/plain": [
       "\u001b[36mrdd\u001b[39m: \u001b[32morg\u001b[39m.\u001b[32mapache\u001b[39m.\u001b[32mspark\u001b[39m.\u001b[32mrdd\u001b[39m.\u001b[32mRDD\u001b[39m[\u001b[32mString\u001b[39m] = ParallelCollectionRDD[44] at parallelize at cmd36.sc:1\n",
       "\u001b[36mrepartitionRDD\u001b[39m: \u001b[32morg\u001b[39m.\u001b[32mapache\u001b[39m.\u001b[32mspark\u001b[39m.\u001b[32mrdd\u001b[39m.\u001b[32mRDD\u001b[39m[\u001b[32mString\u001b[39m] = MapPartitionsRDD[48] at repartition at cmd36.sc:2"
      ]
     },
     "execution_count": 36,
     "metadata": {},
     "output_type": "execute_result"
    }
   ],
   "source": [
    "val rdd = sc.parallelize(List(\"a\", \"b\", \"c\", \"d\", \"e\", \"f\", \"g\", \"h\", \"i\"), 2)\n",
    "val repartitionRDD = rdd.repartition(4)"
   ]
  },
  {
   "cell_type": "code",
   "execution_count": 37,
   "id": "e8f780c7-ff8e-491f-9d8e-04cd2cbae9f3",
   "metadata": {},
   "outputs": [
    {
     "data": {
      "text/plain": [
       "\u001b[36mres37_0\u001b[39m: \u001b[32mInt\u001b[39m = \u001b[32m2\u001b[39m\n",
       "\u001b[36mres37_1\u001b[39m: \u001b[32mInt\u001b[39m = \u001b[32m4\u001b[39m"
      ]
     },
     "execution_count": 37,
     "metadata": {},
     "output_type": "execute_result"
    }
   ],
   "source": [
    "rdd.partitions.size\n",
    "repartitionRDD.partitions.size"
   ]
  },
  {
   "cell_type": "markdown",
   "id": "cbb179f2-babb-42b3-80e2-2e7bdb311bbc",
   "metadata": {},
   "source": [
    "## Reduce"
   ]
  },
  {
   "cell_type": "code",
   "execution_count": 38,
   "id": "02f69b96-d344-4eef-87cb-587881fd6739",
   "metadata": {
    "scrolled": true
   },
   "outputs": [
    {
     "data": {
      "text/plain": [
       "\u001b[36mrdd\u001b[39m: \u001b[32morg\u001b[39m.\u001b[32mapache\u001b[39m.\u001b[32mspark\u001b[39m.\u001b[32mrdd\u001b[39m.\u001b[32mRDD\u001b[39m[\u001b[32mInt\u001b[39m] = ParallelCollectionRDD[49] at parallelize at cmd38.sc:1\n",
       "\u001b[36msumOfItems\u001b[39m: \u001b[32mInt\u001b[39m = \u001b[32m45\u001b[39m"
      ]
     },
     "execution_count": 38,
     "metadata": {},
     "output_type": "execute_result"
    }
   ],
   "source": [
    "val rdd = sc.parallelize(List(1, 2, 3, 4, 5, 6, 7, 8, 9))\n",
    "val sumOfItems = rdd.reduce(_ + _)"
   ]
  },
  {
   "cell_type": "markdown",
   "id": "222e50a9-fb62-4707-b51d-54649465c67f",
   "metadata": {},
   "source": [
    "## Collect"
   ]
  },
  {
   "cell_type": "code",
   "execution_count": 39,
   "id": "816add1a-d4a5-4d78-8af2-e92d447fe643",
   "metadata": {
    "scrolled": true
   },
   "outputs": [
    {
     "data": {
      "text/plain": [
       "\u001b[36mrdd\u001b[39m: \u001b[32morg\u001b[39m.\u001b[32mapache\u001b[39m.\u001b[32mspark\u001b[39m.\u001b[32mrdd\u001b[39m.\u001b[32mRDD\u001b[39m[\u001b[32mString\u001b[39m] = ParallelCollectionRDD[50] at parallelize at cmd39.sc:1\n",
       "\u001b[36mcollectResult\u001b[39m: \u001b[32mArray\u001b[39m[\u001b[32mString\u001b[39m] = \u001b[33mArray\u001b[39m(\n",
       "  \u001b[32m\"a\"\u001b[39m,\n",
       "  \u001b[32m\"b\"\u001b[39m,\n",
       "  \u001b[32m\"c\"\u001b[39m,\n",
       "  \u001b[32m\"d\"\u001b[39m,\n",
       "  \u001b[32m\"e\"\u001b[39m,\n",
       "  \u001b[32m\"f\"\u001b[39m,\n",
       "  \u001b[32m\"g\"\u001b[39m,\n",
       "  \u001b[32m\"h\"\u001b[39m,\n",
       "  \u001b[32m\"i\"\u001b[39m\n",
       ")"
      ]
     },
     "execution_count": 39,
     "metadata": {},
     "output_type": "execute_result"
    }
   ],
   "source": [
    "val rdd = sc.parallelize(List(\"a\", \"b\", \"c\", \"d\", \"e\", \"f\", \"g\", \"h\", \"i\"), 3)\n",
    "val collectResult = rdd.collect"
   ]
  },
  {
   "cell_type": "markdown",
   "id": "b61db812-3954-4752-a262-9ef1280d4ddc",
   "metadata": {},
   "source": [
    "## Count"
   ]
  },
  {
   "cell_type": "code",
   "execution_count": 40,
   "id": "a006cd35-62f5-4bb8-9fa2-4c351d492580",
   "metadata": {
    "scrolled": true
   },
   "outputs": [
    {
     "data": {
      "text/plain": [
       "\u001b[36mrdd\u001b[39m: \u001b[32morg\u001b[39m.\u001b[32mapache\u001b[39m.\u001b[32mspark\u001b[39m.\u001b[32mrdd\u001b[39m.\u001b[32mRDD\u001b[39m[\u001b[32mString\u001b[39m] = ParallelCollectionRDD[51] at parallelize at cmd40.sc:1\n",
       "\u001b[36mcountResult\u001b[39m: \u001b[32mLong\u001b[39m = \u001b[32m9L\u001b[39m"
      ]
     },
     "execution_count": 40,
     "metadata": {},
     "output_type": "execute_result"
    }
   ],
   "source": [
    "val rdd = sc.parallelize(List(\"a\", \"b\", \"c\", \"d\", \"e\", \"f\", \"g\", \"h\", \"i\"), 3)\n",
    "val countResult = rdd.count"
   ]
  },
  {
   "cell_type": "markdown",
   "id": "b4c02b21-896c-4bf9-bbc7-46b4965a372d",
   "metadata": {},
   "source": [
    "## CountByKey"
   ]
  },
  {
   "cell_type": "code",
   "execution_count": 41,
   "id": "63d66c51-0808-4ff0-bc65-5776d1a7f9e3",
   "metadata": {
    "scrolled": true
   },
   "outputs": [
    {
     "data": {
      "text/plain": [
       "\u001b[36mrdd\u001b[39m: \u001b[32morg\u001b[39m.\u001b[32mapache\u001b[39m.\u001b[32mspark\u001b[39m.\u001b[32mrdd\u001b[39m.\u001b[32mRDD\u001b[39m[(\u001b[32mString\u001b[39m, \u001b[32mInt\u001b[39m)] = ParallelCollectionRDD[52] at parallelize at cmd41.sc:1\n",
       "\u001b[36mcountResult\u001b[39m: \u001b[32mcollection\u001b[39m.\u001b[32mMap\u001b[39m[\u001b[32mString\u001b[39m, \u001b[32mLong\u001b[39m] = \u001b[33mMap\u001b[39m(\u001b[32m\"c\"\u001b[39m -> \u001b[32m1L\u001b[39m, \u001b[32m\"a\"\u001b[39m -> \u001b[32m2L\u001b[39m, \u001b[32m\"b\"\u001b[39m -> \u001b[32m2L\u001b[39m)"
      ]
     },
     "execution_count": 41,
     "metadata": {},
     "output_type": "execute_result"
    }
   ],
   "source": [
    "val rdd = sc.parallelize(List((\"a\", 1), (\"b\", 2), (\"c\", 3), (\"a\", 4), (\"b\", 5)), 3)\n",
    "val countResult = rdd.countByKey"
   ]
  },
  {
   "cell_type": "markdown",
   "id": "d2cd8a17-31b6-47c1-9abd-2aa499bb3e6b",
   "metadata": {},
   "source": [
    "## First"
   ]
  },
  {
   "cell_type": "code",
   "execution_count": 42,
   "id": "432d1e77-2625-4e13-a3b8-774d4444422b",
   "metadata": {
    "scrolled": true
   },
   "outputs": [
    {
     "data": {
      "text/plain": [
       "\u001b[36mrdd\u001b[39m: \u001b[32morg\u001b[39m.\u001b[32mapache\u001b[39m.\u001b[32mspark\u001b[39m.\u001b[32mrdd\u001b[39m.\u001b[32mRDD\u001b[39m[\u001b[32mString\u001b[39m] = ParallelCollectionRDD[55] at parallelize at cmd42.sc:1\n",
       "\u001b[36mfirstResult\u001b[39m: \u001b[32mString\u001b[39m = \u001b[32m\"a\"\u001b[39m"
      ]
     },
     "execution_count": 42,
     "metadata": {},
     "output_type": "execute_result"
    }
   ],
   "source": [
    "val rdd = sc.parallelize(List(\"a\", \"b\", \"c\", \"d\", \"e\", \"f\", \"g\", \"h\", \"i\"), 3)\n",
    "val firstResult = rdd.first"
   ]
  },
  {
   "cell_type": "markdown",
   "id": "68ea482e-f869-4159-88b9-e0b06f78babf",
   "metadata": {},
   "source": [
    "## Take"
   ]
  },
  {
   "cell_type": "code",
   "execution_count": 43,
   "id": "20d9da58-5df0-45f6-a256-0e5eb26fd656",
   "metadata": {
    "scrolled": true
   },
   "outputs": [
    {
     "data": {
      "text/plain": [
       "\u001b[36mrdd\u001b[39m: \u001b[32morg\u001b[39m.\u001b[32mapache\u001b[39m.\u001b[32mspark\u001b[39m.\u001b[32mrdd\u001b[39m.\u001b[32mRDD\u001b[39m[\u001b[32mInt\u001b[39m] = ParallelCollectionRDD[56] at parallelize at cmd43.sc:1\n",
       "\u001b[36mtakeResult\u001b[39m: \u001b[32mArray\u001b[39m[\u001b[32mInt\u001b[39m] = \u001b[33mArray\u001b[39m(\u001b[32m1\u001b[39m, \u001b[32m2\u001b[39m, \u001b[32m3\u001b[39m)"
      ]
     },
     "execution_count": 43,
     "metadata": {},
     "output_type": "execute_result"
    }
   ],
   "source": [
    "val rdd = sc.parallelize(List(1, 2, 3, 4, 5, 6, 7, 8, 9), 3)\n",
    "val takeResult = rdd.take(3)"
   ]
  },
  {
   "cell_type": "markdown",
   "id": "7d18f8cd-99c4-408e-8f89-8a598ce80786",
   "metadata": {},
   "source": [
    "## TakeSample"
   ]
  },
  {
   "cell_type": "code",
   "execution_count": 44,
   "id": "8f8176f4-4d08-41ee-96d4-ba774cc6a3c2",
   "metadata": {
    "scrolled": true
   },
   "outputs": [
    {
     "data": {
      "text/plain": [
       "\u001b[36mrdd\u001b[39m: \u001b[32morg\u001b[39m.\u001b[32mapache\u001b[39m.\u001b[32mspark\u001b[39m.\u001b[32mrdd\u001b[39m.\u001b[32mRDD\u001b[39m[\u001b[32mInt\u001b[39m] = ParallelCollectionRDD[57] at parallelize at cmd44.sc:1\n",
       "\u001b[36mtakeResult\u001b[39m: \u001b[32mArray\u001b[39m[\u001b[32mInt\u001b[39m] = \u001b[33mArray\u001b[39m(\u001b[32m1\u001b[39m, \u001b[32m5\u001b[39m, \u001b[32m4\u001b[39m)"
      ]
     },
     "execution_count": 44,
     "metadata": {},
     "output_type": "execute_result"
    }
   ],
   "source": [
    "val rdd = sc.parallelize(List(1, 2, 3, 4, 5, 6, 7, 8, 9), 3)\n",
    "val takeResult = rdd.takeSample(false, 3)"
   ]
  },
  {
   "cell_type": "markdown",
   "id": "7fe2729b-1454-4385-b6c5-f94e34c7e608",
   "metadata": {},
   "source": [
    "## TakeOrdered"
   ]
  },
  {
   "cell_type": "code",
   "execution_count": 45,
   "id": "45fba7e9-79bd-4a3d-b6c4-d386d940dd68",
   "metadata": {
    "scrolled": true
   },
   "outputs": [
    {
     "data": {
      "text/plain": [
       "\u001b[36mrdd\u001b[39m: \u001b[32morg\u001b[39m.\u001b[32mapache\u001b[39m.\u001b[32mspark\u001b[39m.\u001b[32mrdd\u001b[39m.\u001b[32mRDD\u001b[39m[\u001b[32mInt\u001b[39m] = ParallelCollectionRDD[59] at parallelize at cmd45.sc:1\n",
       "\u001b[36mtakeResult\u001b[39m: \u001b[32mArray\u001b[39m[\u001b[32mInt\u001b[39m] = \u001b[33mArray\u001b[39m(\u001b[32m1\u001b[39m, \u001b[32m2\u001b[39m, \u001b[32m3\u001b[39m)"
      ]
     },
     "execution_count": 45,
     "metadata": {},
     "output_type": "execute_result"
    }
   ],
   "source": [
    "val rdd = sc.parallelize(List(1, 9, 2, 8, 3, 7, 4, 6, 5), 3)\n",
    "val takeResult = rdd.takeOrdered(3)"
   ]
  },
  {
   "cell_type": "markdown",
   "id": "3792c3a4-97e3-49d1-a9aa-506a17478614",
   "metadata": {},
   "source": [
    "## Foreach"
   ]
  },
  {
   "cell_type": "code",
   "execution_count": 46,
   "id": "b08c5983-b086-4613-912f-673b2fe5d091",
   "metadata": {
    "scrolled": true
   },
   "outputs": [
    {
     "name": "stdout",
     "output_type": "stream",
     "text": [
      "Next item is 4\n",
      "Next item is 5\n",
      "Next item is 1\n",
      "Next item is 2\n",
      "Next item is 3\n",
      "Next item is 7\n",
      "Next item is 8\n",
      "Next item is 9\n",
      "Next item is 6\n"
     ]
    },
    {
     "data": {
      "text/plain": [
       "\u001b[36mrdd\u001b[39m: \u001b[32morg\u001b[39m.\u001b[32mapache\u001b[39m.\u001b[32mspark\u001b[39m.\u001b[32mrdd\u001b[39m.\u001b[32mRDD\u001b[39m[\u001b[32mInt\u001b[39m] = ParallelCollectionRDD[61] at parallelize at cmd46.sc:1"
      ]
     },
     "execution_count": 46,
     "metadata": {},
     "output_type": "execute_result"
    }
   ],
   "source": [
    "val rdd = sc.parallelize(List(1, 2, 3, 4, 5, 6, 7, 8, 9), 3)\n",
    "rdd.foreach { e => println(s\"Next item is $e\") }"
   ]
  },
  {
   "cell_type": "markdown",
   "id": "5309ef79-22fb-4cdf-b9bd-4057c31b71e4",
   "metadata": {},
   "source": [
    "## SaveAs"
   ]
  },
  {
   "cell_type": "code",
   "execution_count": 47,
   "id": "a34a0f86-e579-4daf-86f0-79f63f06346e",
   "metadata": {
    "scrolled": true
   },
   "outputs": [
    {
     "data": {
      "text/plain": [
       "\u001b[32mimport \u001b[39m\u001b[36morg.apache.hadoop.fs._\u001b[39m"
      ]
     },
     "execution_count": 47,
     "metadata": {},
     "output_type": "execute_result"
    }
   ],
   "source": [
    "import org.apache.hadoop.fs._"
   ]
  },
  {
   "cell_type": "code",
   "execution_count": 48,
   "id": "6905bf9e-fdb4-4b30-a201-37573bbbc1e5",
   "metadata": {},
   "outputs": [
    {
     "data": {
      "text/plain": [
       "\u001b[36mfs\u001b[39m: \u001b[32mFileSystem\u001b[39m = org.apache.hadoop.fs.LocalFileSystem@542bebd\n",
       "defined \u001b[32mfunction\u001b[39m \u001b[36mdeleteFile\u001b[39m"
      ]
     },
     "execution_count": 48,
     "metadata": {},
     "output_type": "execute_result"
    }
   ],
   "source": [
    "val fs = org.apache.hadoop.fs.FileSystem.get(sc.hadoopConfiguration)\n",
    "\n",
    "def deleteFile(fs: FileSystem, file: String): Unit = {\n",
    "    if (fs.exists(new Path(file)))\n",
    "      fs.delete(new Path(file), true)\n",
    "}"
   ]
  },
  {
   "cell_type": "code",
   "execution_count": 49,
   "id": "fecb859b-e2ab-4fad-a38e-2c096517f016",
   "metadata": {},
   "outputs": [
    {
     "data": {
      "text/plain": [
       "\u001b[36mtextFile\u001b[39m: \u001b[32mString\u001b[39m = \u001b[32m\"result/txt/textFile\"\u001b[39m"
      ]
     },
     "execution_count": 49,
     "metadata": {},
     "output_type": "execute_result"
    }
   ],
   "source": [
    "val textFile = \"result/txt/textFile\"\n",
    "deleteFile(fs, textFile)"
   ]
  },
  {
   "cell_type": "code",
   "execution_count": 50,
   "id": "8987cc0b-c9f0-460d-a866-54b0559fe09c",
   "metadata": {
    "scrolled": true
   },
   "outputs": [
    {
     "data": {
      "text/plain": [
       "\u001b[36mrdd\u001b[39m: \u001b[32morg\u001b[39m.\u001b[32mapache\u001b[39m.\u001b[32mspark\u001b[39m.\u001b[32mrdd\u001b[39m.\u001b[32mRDD\u001b[39m[\u001b[32mInt\u001b[39m] = ParallelCollectionRDD[62] at parallelize at cmd50.sc:1"
      ]
     },
     "execution_count": 50,
     "metadata": {},
     "output_type": "execute_result"
    }
   ],
   "source": [
    "val rdd = sc.parallelize(List(1, 2, 3, 4, 5, 6, 7, 8, 9), 3)\n",
    "rdd.saveAsTextFile(textFile)"
   ]
  },
  {
   "cell_type": "code",
   "execution_count": 51,
   "id": "f197ab4c-0731-46e8-abc1-04871bfeba95",
   "metadata": {},
   "outputs": [
    {
     "data": {
      "text/plain": [
       "\u001b[36mobjectFile\u001b[39m: \u001b[32mString\u001b[39m = \u001b[32m\"result/object/objectFile\"\u001b[39m"
      ]
     },
     "execution_count": 51,
     "metadata": {},
     "output_type": "execute_result"
    }
   ],
   "source": [
    "val objectFile = \"result/object/objectFile\"\n",
    "deleteFile(fs, objectFile)"
   ]
  },
  {
   "cell_type": "code",
   "execution_count": 52,
   "id": "04201e3f-3668-46f4-8434-1ca2d74dcf24",
   "metadata": {
    "scrolled": true
   },
   "outputs": [
    {
     "data": {
      "text/plain": [
       "\u001b[36mrdd\u001b[39m: \u001b[32morg\u001b[39m.\u001b[32mapache\u001b[39m.\u001b[32mspark\u001b[39m.\u001b[32mrdd\u001b[39m.\u001b[32mRDD\u001b[39m[\u001b[32mInt\u001b[39m] = ParallelCollectionRDD[64] at parallelize at cmd52.sc:1"
      ]
     },
     "execution_count": 52,
     "metadata": {},
     "output_type": "execute_result"
    }
   ],
   "source": [
    "val rdd = sc.parallelize(List(1, 2, 3, 4, 5, 6, 7, 8, 9), 3)\n",
    "rdd.saveAsObjectFile(objectFile)"
   ]
  },
  {
   "cell_type": "code",
   "execution_count": null,
   "id": "8e92ce13-e920-4aba-bae4-b02cd1f419ec",
   "metadata": {},
   "outputs": [],
   "source": []
  }
 ],
 "metadata": {
  "kernelspec": {
   "display_name": "Scala (2.12)",
   "language": "scala",
   "name": "scala212"
  },
  "language_info": {
   "codemirror_mode": "text/x-scala",
   "file_extension": ".sc",
   "mimetype": "text/x-scala",
   "name": "scala",
   "nbconvert_exporter": "script",
   "version": "2.12.18"
  }
 },
 "nbformat": 4,
 "nbformat_minor": 5
}
