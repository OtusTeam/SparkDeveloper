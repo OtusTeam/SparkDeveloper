{
 "cells": [
  {
   "cell_type": "code",
   "execution_count": 1,
   "id": "d0996751-cb5a-421a-b6c2-c3f9079141e7",
   "metadata": {},
   "outputs": [
    {
     "data": {
      "text/plain": [
       "\u001b[32mimport \u001b[39m\u001b[36m$ivy.$\u001b[39m\n",
       "\u001b[32mimport \u001b[39m\u001b[36morg.apache.spark.sql._\u001b[39m\n",
       "\u001b[32mimport \u001b[39m\u001b[36morg.apache.spark.sql.functions._\u001b[39m"
      ]
     },
     "execution_count": 1,
     "metadata": {},
     "output_type": "execute_result"
    }
   ],
   "source": [
    "import $ivy.`org.apache.spark::spark-sql:3.5.5`\n",
    "import org.apache.spark.sql._\n",
    "import org.apache.spark.sql.functions._"
   ]
  },
  {
   "cell_type": "code",
   "execution_count": 2,
   "id": "2f7fb95e-6bad-48e5-ad12-07d739a32fd7",
   "metadata": {},
   "outputs": [
    {
     "data": {
      "text/plain": [
       "\u001b[32mimport \u001b[39m\u001b[36morg.apache.log4j.{Level, Logger}\u001b[39m"
      ]
     },
     "execution_count": 2,
     "metadata": {},
     "output_type": "execute_result"
    }
   ],
   "source": [
    "import org.apache.log4j.{Level, Logger}\n",
    "Logger.getLogger(\"org\").setLevel(Level.OFF)"
   ]
  },
  {
   "cell_type": "code",
   "execution_count": 3,
   "id": "0ca7b300-4ee3-4086-b3df-a7586542b8dd",
   "metadata": {
    "scrolled": true
   },
   "outputs": [
    {
     "data": {
      "text/html": [
       "Loading <code>spark-stubs</code>"
      ]
     },
     "metadata": {},
     "output_type": "display_data"
    },
    {
     "data": {
      "text/html": [
       "Creating SparkSession\n"
      ]
     },
     "metadata": {},
     "output_type": "display_data"
    },
    {
     "name": "stderr",
     "output_type": "stream",
     "text": [
      "Using Spark's default log4j profile: org/apache/spark/log4j2-defaults.properties\n",
      "25/03/13 16:26:55 INFO SparkContext: Running Spark version 3.5.5\n",
      "25/03/13 16:26:55 INFO SparkContext: OS info Mac OS X, 15.3.2, aarch64\n",
      "25/03/13 16:26:55 INFO SparkContext: Java version 11.0.26\n",
      "25/03/13 16:26:55 WARN NativeCodeLoader: Unable to load native-hadoop library for your platform... using builtin-java classes where applicable\n",
      "Setting Spark log level to \"WARN\".\n"
     ]
    },
    {
     "data": {
      "text/html": [
       "<a target=\"_blank\" href=\"http://Air.local:4040\">Spark UI</a>"
      ]
     },
     "metadata": {},
     "output_type": "display_data"
    },
    {
     "data": {
      "text/plain": [
       "\u001b[36mspark\u001b[39m: \u001b[32mSparkSession\u001b[39m = org.apache.spark.sql.SparkSession@7333d64a\n",
       "\u001b[32mimport \u001b[39m\u001b[36mspark.implicits._\u001b[39m"
      ]
     },
     "execution_count": 3,
     "metadata": {},
     "output_type": "execute_result"
    }
   ],
   "source": [
    "val spark = {\n",
    "  NotebookSparkSession.builder()\n",
    "    .master(\"local[*]\")\n",
    "    .config(\"spark.log.level\", \"WARN\")\n",
    "    .getOrCreate()\n",
    "}\n",
    "\n",
    "import spark.implicits._"
   ]
  },
  {
   "cell_type": "code",
   "execution_count": 4,
   "id": "d9973523-ca25-4de2-90ea-920fefd355c6",
   "metadata": {},
   "outputs": [
    {
     "data": {
      "text/plain": [
       "\u001b[36mres4\u001b[39m: \u001b[32mString\u001b[39m = \u001b[32m\"3.5.5\"\u001b[39m"
      ]
     },
     "execution_count": 4,
     "metadata": {},
     "output_type": "execute_result"
    }
   ],
   "source": [
    "spark.version"
   ]
  },
  {
   "cell_type": "markdown",
   "id": "dc7fc065-0797-4342-8605-4154316efa99",
   "metadata": {},
   "source": [
    "## Create Dataset"
   ]
  },
  {
   "cell_type": "markdown",
   "id": "79511d2b-35cb-48b5-a803-f76a9728ca16",
   "metadata": {},
   "source": [
    "### Из коллекции"
   ]
  },
  {
   "cell_type": "code",
   "execution_count": 5,
   "id": "2e054776-9790-46b4-8c66-c367c647ec49",
   "metadata": {},
   "outputs": [
    {
     "data": {
      "text/plain": [
       "defined \u001b[32mclass\u001b[39m \u001b[36mPerson\u001b[39m\n",
       "\u001b[36mdata\u001b[39m: \u001b[32mSeq\u001b[39m[\u001b[32mPerson\u001b[39m] = \u001b[33mList\u001b[39m(\n",
       "  \u001b[33mPerson\u001b[39m(\u001b[32m\"Andy\"\u001b[39m, \u001b[32m32L\u001b[39m),\n",
       "  \u001b[33mPerson\u001b[39m(\u001b[32m\"Mike\"\u001b[39m, \u001b[32m25L\u001b[39m),\n",
       "  \u001b[33mPerson\u001b[39m(\u001b[32m\"Piter\"\u001b[39m, \u001b[32m40L\u001b[39m)\n",
       ")"
      ]
     },
     "execution_count": 5,
     "metadata": {},
     "output_type": "execute_result"
    }
   ],
   "source": [
    "org.apache.spark.sql.catalyst.encoders.OuterScopes.addOuterScope(this)\n",
    "\n",
    "case class Person(name: String, age: Long)\n",
    "\n",
    "val data = Seq(Person(\"Andy\", 32L), Person(\"Mike\", 25L), Person(\"Piter\", 40L))"
   ]
  },
  {
   "cell_type": "code",
   "execution_count": 6,
   "id": "2d826797-fee1-47ca-8dce-a15f4f6a96ee",
   "metadata": {},
   "outputs": [
    {
     "name": "stdout",
     "output_type": "stream",
     "text": [
      "+-----+---+\n",
      "| name|age|\n",
      "+-----+---+\n",
      "| Andy| 32|\n",
      "| Mike| 25|\n",
      "|Piter| 40|\n",
      "+-----+---+\n",
      "\n"
     ]
    },
    {
     "data": {
      "text/plain": [
       "\u001b[36mds\u001b[39m: \u001b[32mDataset\u001b[39m[\u001b[32mPerson\u001b[39m] = [name: string, age: bigint]"
      ]
     },
     "execution_count": 6,
     "metadata": {},
     "output_type": "execute_result"
    }
   ],
   "source": [
    "val ds = data.toDS()\n",
    "ds.show"
   ]
  },
  {
   "cell_type": "code",
   "execution_count": 7,
   "id": "e39568dd-8518-4343-9d4f-385848e03180",
   "metadata": {},
   "outputs": [
    {
     "name": "stdout",
     "output_type": "stream",
     "text": [
      "+-----+---+\n",
      "| name|age|\n",
      "+-----+---+\n",
      "| Andy| 32|\n",
      "| Mike| 25|\n",
      "|Piter| 40|\n",
      "+-----+---+\n",
      "\n"
     ]
    },
    {
     "data": {
      "text/plain": [
       "\u001b[36mds2\u001b[39m: \u001b[32mDataset\u001b[39m[\u001b[32mPerson\u001b[39m] = [name: string, age: bigint]"
      ]
     },
     "execution_count": 7,
     "metadata": {},
     "output_type": "execute_result"
    }
   ],
   "source": [
    "val ds2 = spark.createDataset(data)\n",
    "ds2.show"
   ]
  },
  {
   "cell_type": "code",
   "execution_count": 8,
   "id": "b96bd2fc-a047-4b9e-9683-043ceceb50f1",
   "metadata": {},
   "outputs": [
    {
     "data": {
      "text/plain": [
       "\u001b[36mres8\u001b[39m: \u001b[32mtypes\u001b[39m.\u001b[32mStructType\u001b[39m = \u001b[33mStructType\u001b[39m(\n",
       "  \u001b[33mStructField\u001b[39m(\u001b[32m\"name\"\u001b[39m, StringType, \u001b[32mtrue\u001b[39m, {}),\n",
       "  \u001b[33mStructField\u001b[39m(\u001b[32m\"age\"\u001b[39m, LongType, \u001b[32mfalse\u001b[39m, {})\n",
       ")"
      ]
     },
     "execution_count": 8,
     "metadata": {},
     "output_type": "execute_result"
    }
   ],
   "source": [
    "ds.schema"
   ]
  },
  {
   "cell_type": "code",
   "execution_count": 9,
   "id": "e76d740f-d543-4571-b1ea-1ff453c33400",
   "metadata": {},
   "outputs": [
    {
     "data": {
      "text/plain": [
       "\u001b[36mres9\u001b[39m: \u001b[32mBoolean\u001b[39m = \u001b[32mtrue\u001b[39m"
      ]
     },
     "execution_count": 9,
     "metadata": {},
     "output_type": "execute_result"
    }
   ],
   "source": [
    "ds.schema.equals(ds2.schema)"
   ]
  },
  {
   "cell_type": "markdown",
   "id": "e4dd3eff-a5f2-41d9-b028-f73623d0be45",
   "metadata": {},
   "source": [
    "### Из внешнего источника"
   ]
  },
  {
   "cell_type": "code",
   "execution_count": 10,
   "id": "5af1d431-dd5c-4ace-9b1b-882a99966805",
   "metadata": {
    "scrolled": true
   },
   "outputs": [
    {
     "data": {
      "text/html": [
       "<div><code>json</code> at <code>cmd10.sc:1</code></div>"
      ]
     },
     "metadata": {},
     "output_type": "display_data"
    },
    {
     "data": {
      "text/html": [
       "<div><code>show</code> at <code>cmd10.sc:4</code></div>"
      ]
     },
     "metadata": {},
     "output_type": "display_data"
    },
    {
     "name": "stdout",
     "output_type": "stream",
     "text": [
      "+----+-------+\n",
      "| age|   name|\n",
      "+----+-------+\n",
      "|NULL|Michael|\n",
      "|  30|   Andy|\n",
      "|  19| Justin|\n",
      "+----+-------+\n",
      "\n"
     ]
    },
    {
     "data": {
      "text/plain": [
       "\u001b[36mpeopleDF\u001b[39m: \u001b[32mDataFrame\u001b[39m = [age: bigint, name: string]\n",
       "\u001b[36mpeopleDS\u001b[39m: \u001b[32mDataset\u001b[39m[\u001b[32mPerson\u001b[39m] = [age: bigint, name: string]"
      ]
     },
     "execution_count": 10,
     "metadata": {},
     "output_type": "execute_result"
    }
   ],
   "source": [
    "val peopleDF = spark.read.json(\"data/people.json\")\n",
    "val peopleDS = peopleDF.as[Person]\n",
    "\n",
    "peopleDS.show()"
   ]
  },
  {
   "cell_type": "markdown",
   "id": "c9c1ce00-31f1-45b7-a6b6-36a534513927",
   "metadata": {},
   "source": [
    "## Основные операции"
   ]
  },
  {
   "cell_type": "code",
   "execution_count": 11,
   "id": "742b72ab-405f-446b-9f4a-40ff80771c09",
   "metadata": {
    "scrolled": true
   },
   "outputs": [
    {
     "data": {
      "text/html": [
       "<div><code>show</code> at <code>cmd11.sc:2</code></div>"
      ]
     },
     "metadata": {},
     "output_type": "display_data"
    },
    {
     "data": {
      "text/html": [
       "<div><code>show</code> at <code>cmd11.sc:2</code></div>"
      ]
     },
     "metadata": {},
     "output_type": "display_data"
    },
    {
     "name": "stdout",
     "output_type": "stream",
     "text": [
      "+-----+\n",
      "|value|\n",
      "+-----+\n",
      "| Andy|\n",
      "| Mike|\n",
      "|Piter|\n",
      "+-----+\n",
      "\n"
     ]
    },
    {
     "data": {
      "text/plain": [
       "\u001b[36mnames\u001b[39m: \u001b[32mDataset\u001b[39m[\u001b[32mString\u001b[39m] = [value: string]"
      ]
     },
     "execution_count": 11,
     "metadata": {},
     "output_type": "execute_result"
    }
   ],
   "source": [
    "val names = ds.map(_.name)\n",
    "names.show"
   ]
  },
  {
   "cell_type": "code",
   "execution_count": 12,
   "id": "3e0cb190-2bcd-492b-b443-87b2c0e3d87c",
   "metadata": {
    "scrolled": true
   },
   "outputs": [
    {
     "data": {
      "text/html": [
       "<div><code>show</code> at <code>cmd12.sc:2</code></div>"
      ]
     },
     "metadata": {},
     "output_type": "display_data"
    },
    {
     "data": {
      "text/html": [
       "<div><code>show</code> at <code>cmd12.sc:2</code></div>"
      ]
     },
     "metadata": {},
     "output_type": "display_data"
    },
    {
     "name": "stdout",
     "output_type": "stream",
     "text": [
      "+-----+---+\n",
      "| name|age|\n",
      "+-----+---+\n",
      "| Andy| 32|\n",
      "|Piter| 40|\n",
      "+-----+---+\n",
      "\n"
     ]
    },
    {
     "data": {
      "text/plain": [
       "\u001b[36mage30\u001b[39m: \u001b[32mDataset\u001b[39m[\u001b[32mPerson\u001b[39m] = [name: string, age: bigint]"
      ]
     },
     "execution_count": 12,
     "metadata": {},
     "output_type": "execute_result"
    }
   ],
   "source": [
    "val age30 = ds.filter(_.age > 30)\n",
    "age30.show"
   ]
  },
  {
   "cell_type": "code",
   "execution_count": 13,
   "id": "18e628a5",
   "metadata": {},
   "outputs": [
    {
     "data": {
      "text/html": [
       "<div><code>show</code> at <code>cmd13.sc:2</code></div>"
      ]
     },
     "metadata": {},
     "output_type": "display_data"
    },
    {
     "data": {
      "text/html": [
       "<div><code>show</code> at <code>cmd13.sc:2</code></div>"
      ]
     },
     "metadata": {},
     "output_type": "display_data"
    },
    {
     "name": "stdout",
     "output_type": "stream",
     "text": [
      "+-----+\n",
      "|value|\n",
      "+-----+\n",
      "|   32|\n",
      "|   40|\n",
      "+-----+\n",
      "\n"
     ]
    },
    {
     "data": {
      "text/plain": [
       "\u001b[36mage3\u001b[39m: \u001b[32mDataset\u001b[39m[\u001b[32mLong\u001b[39m] = [value: bigint]"
      ]
     },
     "execution_count": 13,
     "metadata": {},
     "output_type": "execute_result"
    }
   ],
   "source": [
    "val age3 = ds.filter(_.age > 30).map(_.age)\n",
    "age3.show"
   ]
  },
  {
   "cell_type": "code",
   "execution_count": 14,
   "id": "eb9a15c8-e30f-4684-b3ea-557408f9f9fa",
   "metadata": {},
   "outputs": [
    {
     "name": "stdout",
     "output_type": "stream",
     "text": [
      "+-----+----+\n",
      "| name|age1|\n",
      "+-----+----+\n",
      "| Andy|  33|\n",
      "| Mike|  26|\n",
      "|Piter|  41|\n",
      "+-----+----+\n",
      "\n"
     ]
    },
    {
     "data": {
      "text/plain": [
       "\u001b[36mdf1\u001b[39m: \u001b[32mDataFrame\u001b[39m = [name: string, age1: bigint]"
      ]
     },
     "execution_count": 14,
     "metadata": {},
     "output_type": "execute_result"
    }
   ],
   "source": [
    "val df1 = ds.select(col(\"name\"), expr(\"age + 1\").as(\"age1\"))\n",
    "df1.show"
   ]
  },
  {
   "cell_type": "code",
   "execution_count": 15,
   "id": "7ac5d218",
   "metadata": {},
   "outputs": [
    {
     "name": "stdout",
     "output_type": "stream",
     "text": [
      "+-----+---+\n",
      "| name|age|\n",
      "+-----+---+\n",
      "| Andy| 33|\n",
      "| Mike| 26|\n",
      "|Piter| 41|\n",
      "+-----+---+\n",
      "\n"
     ]
    },
    {
     "data": {
      "text/plain": [
       "\u001b[36mds2\u001b[39m: \u001b[32mDataset\u001b[39m[\u001b[32mPerson\u001b[39m] = [name: string, age: bigint]"
      ]
     },
     "execution_count": 15,
     "metadata": {},
     "output_type": "execute_result"
    }
   ],
   "source": [
    "val ds2 = ds.select(col(\"name\"), expr(\"age + 1\").as(\"age\")).as[Person]\n",
    "ds2.show"
   ]
  },
  {
   "cell_type": "code",
   "execution_count": 16,
   "id": "1d0524c7",
   "metadata": {},
   "outputs": [
    {
     "data": {
      "text/html": [
       "<div><code>show</code> at <code>cmd16.sc:2</code></div>"
      ]
     },
     "metadata": {},
     "output_type": "display_data"
    },
    {
     "data": {
      "text/html": [
       "<div><code>show</code> at <code>cmd16.sc:2</code></div>"
      ]
     },
     "metadata": {},
     "output_type": "display_data"
    },
    {
     "name": "stdout",
     "output_type": "stream",
     "text": [
      "+-----+---+\n",
      "| name|age|\n",
      "+-----+---+\n",
      "| Andy| 33|\n",
      "| Mike| 26|\n",
      "|Piter| 41|\n",
      "+-----+---+\n",
      "\n"
     ]
    },
    {
     "data": {
      "text/plain": [
       "\u001b[36mds3\u001b[39m: \u001b[32mDataset\u001b[39m[\u001b[32mPerson\u001b[39m] = [name: string, age: bigint]"
      ]
     },
     "execution_count": 16,
     "metadata": {},
     "output_type": "execute_result"
    }
   ],
   "source": [
    "val ds3 = ds.map(p => Person(p.name, p.age + 1))\n",
    "ds3.show"
   ]
  },
  {
   "cell_type": "code",
   "execution_count": 17,
   "id": "8d0a5c29-de3b-4d31-83d7-79bc491149d6",
   "metadata": {
    "scrolled": true
   },
   "outputs": [
    {
     "data": {
      "text/plain": [
       "\u001b[36mjsonDS\u001b[39m: \u001b[32mDataset\u001b[39m[\u001b[32mString\u001b[39m] = [value: string]"
      ]
     },
     "execution_count": 17,
     "metadata": {},
     "output_type": "execute_result"
    }
   ],
   "source": [
    "val jsonDS = ds.toJSON"
   ]
  },
  {
   "cell_type": "code",
   "execution_count": 18,
   "id": "ad68beb0-91b8-4a71-80c8-ef73f1ff2128",
   "metadata": {},
   "outputs": [
    {
     "data": {
      "text/html": [
       "<div><code>show</code> at <code>cmd18.sc:1</code></div>"
      ]
     },
     "metadata": {},
     "output_type": "display_data"
    },
    {
     "data": {
      "text/html": [
       "<div><code>show</code> at <code>cmd18.sc:1</code></div>"
      ]
     },
     "metadata": {},
     "output_type": "display_data"
    },
    {
     "name": "stdout",
     "output_type": "stream",
     "text": [
      "+-------------------------+\n",
      "|value                    |\n",
      "+-------------------------+\n",
      "|{\"name\":\"Andy\",\"age\":32} |\n",
      "|{\"name\":\"Mike\",\"age\":25} |\n",
      "|{\"name\":\"Piter\",\"age\":40}|\n",
      "+-------------------------+\n",
      "\n"
     ]
    }
   ],
   "source": [
    "jsonDS.show(false)"
   ]
  },
  {
   "cell_type": "code",
   "execution_count": null,
   "id": "d6e11e62",
   "metadata": {},
   "outputs": [],
   "source": []
  }
 ],
 "metadata": {
  "kernelspec": {
   "display_name": "Scala (2.12)",
   "language": "scala",
   "name": "scala212"
  },
  "language_info": {
   "codemirror_mode": "text/x-scala",
   "file_extension": ".sc",
   "mimetype": "text/x-scala",
   "name": "scala",
   "nbconvert_exporter": "script",
   "version": "2.12.18"
  }
 },
 "nbformat": 4,
 "nbformat_minor": 5
}
