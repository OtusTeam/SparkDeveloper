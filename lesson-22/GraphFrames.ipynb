{
 "cells": [
  {
   "cell_type": "code",
   "execution_count": 1,
   "id": "c293092e-bed5-4006-9e77-e042271f8163",
   "metadata": {},
   "outputs": [
    {
     "data": {
      "text/plain": [
       "\u001b[32mimport \u001b[39m\u001b[36m$ivy.$\u001b[39m\n",
       "\u001b[32mimport \u001b[39m\u001b[36m$ivy.$\u001b[39m\n",
       "\u001b[32mimport \u001b[39m\u001b[36m$cp.$\u001b[39m"
      ]
     },
     "execution_count": 1,
     "metadata": {},
     "output_type": "execute_result"
    }
   ],
   "source": [
    "import $ivy.`org.apache.spark::spark-sql:3.5.5`\n",
    "import $ivy.`org.apache.spark::spark-graphx:3.5.5`\n",
    "import $cp.`/opt/spark/jars/graphframes-0.8.3-spark3.5-s_2.12.jar`"
   ]
  },
  {
   "cell_type": "code",
   "execution_count": 2,
   "id": "8109725c-41cb-4384-91d0-d8d2851ebe06",
   "metadata": {},
   "outputs": [
    {
     "data": {
      "text/plain": [
       "\u001b[32mimport \u001b[39m\u001b[36morg.apache.log4j.{Level, Logger}\u001b[39m"
      ]
     },
     "execution_count": 2,
     "metadata": {},
     "output_type": "execute_result"
    }
   ],
   "source": [
    "import org.apache.log4j.{Level, Logger}\n",
    "Logger.getLogger(\"org\").setLevel(Level.OFF)\n",
    "Logger.getLogger(\"org.apache.spark\").setLevel(Level.WARN)"
   ]
  },
  {
   "cell_type": "code",
   "execution_count": 3,
   "id": "352c72fe-0cf1-4fc6-9f48-15c927b7b41f",
   "metadata": {},
   "outputs": [
    {
     "data": {
      "text/plain": [
       "\u001b[32mimport \u001b[39m\u001b[36morg.apache.spark.sql._\u001b[39m"
      ]
     },
     "execution_count": 3,
     "metadata": {},
     "output_type": "execute_result"
    }
   ],
   "source": [
    "import org.apache.spark.sql._"
   ]
  },
  {
   "cell_type": "code",
   "execution_count": 4,
   "id": "f1e5dfe0-6fbb-4b38-a102-5652d1addbea",
   "metadata": {
    "scrolled": true
   },
   "outputs": [
    {
     "name": "stderr",
     "output_type": "stream",
     "text": [
      "Using Spark's default log4j profile: org/apache/spark/log4j2-defaults.properties\n",
      "25/03/13 13:50:02 INFO SparkContext: Running Spark version 3.5.5\n",
      "25/03/13 13:50:02 INFO SparkContext: OS info Mac OS X, 15.3.2, aarch64\n",
      "25/03/13 13:50:02 INFO SparkContext: Java version 11.0.26\n",
      "25/03/13 13:50:03 WARN NativeCodeLoader: Unable to load native-hadoop library for your platform... using builtin-java classes where applicable\n",
      "Setting Spark log level to \"WARN\".\n",
      "25/03/13 13:50:03 WARN Utils: Service 'SparkUI' could not bind on port 4040. Attempting port 4041.\n"
     ]
    },
    {
     "data": {
      "text/plain": [
       "\u001b[36mspark\u001b[39m: \u001b[32mSparkSession\u001b[39m = org.apache.spark.sql.SparkSession@1227edf\n",
       "\u001b[32mimport \u001b[39m\u001b[36mspark.implicits._\u001b[39m"
      ]
     },
     "execution_count": 4,
     "metadata": {},
     "output_type": "execute_result"
    }
   ],
   "source": [
    "val spark = SparkSession\n",
    "                .builder()\n",
    "                .master(\"local[*]\")\n",
    "                .appName(\"GraphFrames\")\n",
    "                .config(\"spark.log.level\", \"WARN\")\n",
    "                .getOrCreate()\n",
    "\n",
    "import spark.implicits._"
   ]
  },
  {
   "cell_type": "markdown",
   "id": "7cf2e6f8-90dd-473f-947d-8fdfcf4da397",
   "metadata": {},
   "source": [
    "# Creating GraphFrames"
   ]
  },
  {
   "cell_type": "code",
   "execution_count": 5,
   "id": "8ded8d52-4226-4199-b389-e875717d41eb",
   "metadata": {},
   "outputs": [
    {
     "data": {
      "text/plain": [
       "\u001b[32mimport \u001b[39m\u001b[36morg.graphframes.GraphFrame\u001b[39m\n",
       "\u001b[36mv\u001b[39m: \u001b[32mDataFrame\u001b[39m = [id: string, name: string ... 1 more field]\n",
       "\u001b[36me\u001b[39m: \u001b[32mDataFrame\u001b[39m = [src: string, dst: string ... 1 more field]\n",
       "\u001b[36mg\u001b[39m: \u001b[32mGraphFrame\u001b[39m = GraphFrame(v:[id: string, name: string ... 1 more field], e:[src: string, dst: string ... 1 more field])"
      ]
     },
     "execution_count": 5,
     "metadata": {},
     "output_type": "execute_result"
    }
   ],
   "source": [
    "import org.graphframes.GraphFrame\n",
    "\n",
    "// Vertex DataFrame\n",
    "val v = spark.createDataFrame(List(\n",
    "  (\"a\", \"Alice\", 34),\n",
    "  (\"b\", \"Bob\", 36),\n",
    "  (\"c\", \"Charlie\", 30),\n",
    "  (\"d\", \"David\", 29),\n",
    "  (\"e\", \"Esther\", 32),\n",
    "  (\"f\", \"Fanny\", 36),\n",
    "  (\"g\", \"Gabby\", 60)\n",
    ")).toDF(\"id\", \"name\", \"age\")\n",
    "\n",
    "// Edge DataFrame\n",
    "val e = spark.createDataFrame(List(\n",
    "  (\"a\", \"b\", \"friend\"),\n",
    "  (\"b\", \"c\", \"follow\"),\n",
    "  (\"c\", \"b\", \"follow\"),\n",
    "  (\"f\", \"c\", \"follow\"),\n",
    "  (\"e\", \"f\", \"follow\"),\n",
    "  (\"e\", \"d\", \"friend\"),\n",
    "  (\"d\", \"a\", \"friend\"),\n",
    "  (\"a\", \"e\", \"friend\")\n",
    ")).toDF(\"src\", \"dst\", \"relationship\")\n",
    "\n",
    "// Create a GraphFrame\n",
    "val g = GraphFrame(v, e)"
   ]
  },
  {
   "cell_type": "markdown",
   "id": "cc27de6f-d1f4-4220-811c-442327cae1eb",
   "metadata": {},
   "source": [
    "# Basic GraphFrame queries"
   ]
  },
  {
   "cell_type": "code",
   "execution_count": 6,
   "id": "180cf1ba-e25e-42b0-a063-bf4ea1e05a9e",
   "metadata": {},
   "outputs": [
    {
     "name": "stdout",
     "output_type": "stream",
     "text": [
      "+---+-------+---+\n",
      "| id|   name|age|\n",
      "+---+-------+---+\n",
      "|  a|  Alice| 34|\n",
      "|  b|    Bob| 36|\n",
      "|  c|Charlie| 30|\n",
      "|  d|  David| 29|\n",
      "|  e| Esther| 32|\n",
      "|  f|  Fanny| 36|\n",
      "|  g|  Gabby| 60|\n",
      "+---+-------+---+\n",
      "\n"
     ]
    },
    {
     "data": {
      "text/plain": [
       "\u001b[32mimport \u001b[39m\u001b[36morg.graphframes.{examples,GraphFrame}\u001b[39m\n",
       "\u001b[36mg\u001b[39m: \u001b[32mGraphFrame\u001b[39m = GraphFrame(v:[id: string, name: string ... 1 more field], e:[src: string, dst: string ... 1 more field])"
      ]
     },
     "execution_count": 6,
     "metadata": {},
     "output_type": "execute_result"
    }
   ],
   "source": [
    "import org.graphframes.{examples,GraphFrame}\n",
    "val g: GraphFrame = examples.Graphs.friends\n",
    "\n",
    "// Display the vertex and edge DataFrames\n",
    "g.vertices.show()"
   ]
  },
  {
   "cell_type": "code",
   "execution_count": 7,
   "id": "48b9c0c0-3c1f-4753-a031-b0f6e0742a65",
   "metadata": {},
   "outputs": [
    {
     "name": "stdout",
     "output_type": "stream",
     "text": [
      "+---+---+------------+\n",
      "|src|dst|relationship|\n",
      "+---+---+------------+\n",
      "|  a|  b|      friend|\n",
      "|  b|  c|      follow|\n",
      "|  c|  b|      follow|\n",
      "|  f|  c|      follow|\n",
      "|  e|  f|      follow|\n",
      "|  e|  d|      friend|\n",
      "|  d|  a|      friend|\n",
      "|  a|  e|      friend|\n",
      "+---+---+------------+\n",
      "\n"
     ]
    }
   ],
   "source": [
    "g.edges.show()"
   ]
  },
  {
   "cell_type": "code",
   "execution_count": 8,
   "id": "37673c24-7716-4ead-82d1-68371d85a790",
   "metadata": {
    "scrolled": true
   },
   "outputs": [
    {
     "name": "stdout",
     "output_type": "stream",
     "text": [
      "+---+--------+\n",
      "| id|inDegree|\n",
      "+---+--------+\n",
      "|  b|       2|\n",
      "|  c|       2|\n",
      "|  f|       1|\n",
      "|  d|       1|\n",
      "|  a|       1|\n",
      "|  e|       1|\n",
      "+---+--------+\n",
      "\n"
     ]
    },
    {
     "data": {
      "text/plain": [
       "\u001b[32mimport \u001b[39m\u001b[36morg.apache.spark.sql.DataFrame\u001b[39m\n",
       "\u001b[36mvertexInDegrees\u001b[39m: \u001b[32mDataFrame\u001b[39m = [id: string, inDegree: int]"
      ]
     },
     "execution_count": 8,
     "metadata": {},
     "output_type": "execute_result"
    }
   ],
   "source": [
    "import org.apache.spark.sql.DataFrame\n",
    "\n",
    "// Get a DataFrame with columns \"id\" and \"inDeg\" (in-degree)\n",
    "val vertexInDegrees: DataFrame = g.inDegrees\n",
    "\n",
    "vertexInDegrees.show()"
   ]
  },
  {
   "cell_type": "code",
   "execution_count": 9,
   "id": "8081775d-d258-41eb-997b-fb1e2a384376",
   "metadata": {
    "scrolled": true
   },
   "outputs": [
    {
     "name": "stdout",
     "output_type": "stream",
     "text": [
      "+--------+\n",
      "|min(age)|\n",
      "+--------+\n",
      "|      29|\n",
      "+--------+\n",
      "\n"
     ]
    }
   ],
   "source": [
    "// Find the youngest user's age in the graph.\n",
    "// This queries the vertex DataFrame.\n",
    "g.vertices.groupBy().min(\"age\").show()"
   ]
  },
  {
   "cell_type": "code",
   "execution_count": 10,
   "id": "ace12a64-de42-49ab-be3e-b79f22301db6",
   "metadata": {
    "scrolled": true
   },
   "outputs": [
    {
     "data": {
      "text/plain": [
       "\u001b[36mnumFollows\u001b[39m: \u001b[32mLong\u001b[39m = \u001b[32m4L\u001b[39m"
      ]
     },
     "execution_count": 10,
     "metadata": {},
     "output_type": "execute_result"
    }
   ],
   "source": [
    "// Count the number of \"follows\" in the graph.\n",
    "// This queries the edge DataFrame.\n",
    "val numFollows = g.edges.filter(\"relationship = 'follow'\").count()"
   ]
  },
  {
   "cell_type": "code",
   "execution_count": 11,
   "id": "2127d833-04e6-466f-b33e-e56b73087a06",
   "metadata": {
    "scrolled": true
   },
   "outputs": [
    {
     "name": "stdout",
     "output_type": "stream",
     "text": [
      "+---------------+--------------+---------------+--------------+---------------+--------------+----------------+\n",
      "|              a|            ab|              b|            bc|              c|            cd|               d|\n",
      "+---------------+--------------+---------------+--------------+---------------+--------------+----------------+\n",
      "|{e, Esther, 32}|{e, d, friend}| {d, David, 29}|{d, a, friend}| {a, Alice, 34}|{a, e, friend}| {e, Esther, 32}|\n",
      "|{e, Esther, 32}|{e, d, friend}| {d, David, 29}|{d, a, friend}| {a, Alice, 34}|{a, b, friend}|    {b, Bob, 36}|\n",
      "| {d, David, 29}|{d, a, friend}| {a, Alice, 34}|{a, e, friend}|{e, Esther, 32}|{e, d, friend}|  {d, David, 29}|\n",
      "| {d, David, 29}|{d, a, friend}| {a, Alice, 34}|{a, e, friend}|{e, Esther, 32}|{e, f, follow}|  {f, Fanny, 36}|\n",
      "| {d, David, 29}|{d, a, friend}| {a, Alice, 34}|{a, b, friend}|   {b, Bob, 36}|{b, c, follow}|{c, Charlie, 30}|\n",
      "| {a, Alice, 34}|{a, e, friend}|{e, Esther, 32}|{e, d, friend}| {d, David, 29}|{d, a, friend}|  {a, Alice, 34}|\n",
      "+---------------+--------------+---------------+--------------+---------------+--------------+----------------+\n",
      "\n"
     ]
    },
    {
     "data": {
      "text/plain": [
       "\u001b[32mimport \u001b[39m\u001b[36morg.apache.spark.sql.Column\u001b[39m\n",
       "\u001b[32mimport \u001b[39m\u001b[36morg.apache.spark.sql.functions._\u001b[39m\n",
       "\u001b[32mimport \u001b[39m\u001b[36morg.graphframes.{examples,GraphFrame}\u001b[39m\n",
       "\u001b[36mg\u001b[39m: \u001b[32mGraphFrame\u001b[39m = GraphFrame(v:[id: string, name: string ... 1 more field], e:[src: string, dst: string ... 1 more field])\n",
       "\u001b[36mchain4\u001b[39m: \u001b[32mDataFrame\u001b[39m = [a: struct<id: string, name: string ... 1 more field>, ab: struct<src: string, dst: string ... 1 more field> ... 5 more fields]\n",
       "defined \u001b[32mfunction\u001b[39m \u001b[36msumFriends\u001b[39m\n",
       "\u001b[36mcondition\u001b[39m: \u001b[32mColumn\u001b[39m = CASE WHEN (cd[relationship] = friend) THEN (CASE WHEN (bc[relationship] = friend) THEN (CASE WHEN (ab[relationship] = friend) THEN (0 + 1) ELSE 0 END + 1) ELSE CASE WHEN (ab[relationship] = friend) THEN (0 + 1) ELSE 0 END END + 1) ELSE CASE WHEN (bc[relationship] = friend) THEN (CASE WHEN (ab[relationship] = friend) THEN (0 + 1) ELSE 0 END + 1) ELSE CASE WHEN (ab[relationship] = friend) THEN (0 + 1) ELSE 0 END END END\n",
       "\u001b[36mchainWith2Friends2\u001b[39m: \u001b[32mDataset\u001b[39m[\u001b[32mRow\u001b[39m] = [a: struct<id: string, name: string ... 1 more field>, ab: struct<src: string, dst: string ... 1 more field> ... 5 more fields]"
      ]
     },
     "execution_count": 11,
     "metadata": {},
     "output_type": "execute_result"
    }
   ],
   "source": [
    "import org.apache.spark.sql.Column\n",
    "import org.apache.spark.sql.functions._\n",
    "import org.graphframes.{examples,GraphFrame}\n",
    "\n",
    "val g: GraphFrame = examples.Graphs.friends\n",
    "\n",
    "// Find chains of 4 vertices.\n",
    "val chain4 = g.find(\"(a)-[ab]->(b); (b)-[bc]->(c); (c)-[cd]->(d)\")\n",
    "\n",
    "// Query on sequence, with state (cnt)\n",
    "//  (a) Define method for updating state given the next element of the motif.\n",
    "def sumFriends(cnt: Column, relationship: Column): Column = {\n",
    "  when(relationship === \"friend\", cnt + 1).otherwise(cnt)\n",
    "}\n",
    "//  (b) Use sequence operation to apply method to sequence of elements in motif.\n",
    "//      In this case, the elements are the 3 edges.\n",
    "val condition = { Seq(\"ab\", \"bc\", \"cd\")\n",
    "  .foldLeft(lit(0))((cnt, e) => sumFriends(cnt, col(e)(\"relationship\"))) }\n",
    "//  (c) Apply filter to DataFrame.\n",
    "val chainWith2Friends2 = chain4.where(condition >= 2)\n",
    "chainWith2Friends2.show()"
   ]
  },
  {
   "cell_type": "markdown",
   "id": "87449a62-4815-4084-9631-9a28f977d33c",
   "metadata": {},
   "source": [
    "## Subgraphs"
   ]
  },
  {
   "cell_type": "code",
   "execution_count": 12,
   "id": "a9e8a45f-22cb-4c71-8677-4d8178126632",
   "metadata": {},
   "outputs": [
    {
     "data": {
      "text/plain": [
       "\u001b[32mimport \u001b[39m\u001b[36morg.graphframes.{examples,GraphFrame}\u001b[39m\n",
       "\u001b[36mg\u001b[39m: \u001b[32mGraphFrame\u001b[39m = GraphFrame(v:[id: string, name: string ... 1 more field], e:[src: string, dst: string ... 1 more field])\n",
       "\u001b[36mg1\u001b[39m: \u001b[32mGraphFrame\u001b[39m = GraphFrame(v:[id: string, name: string ... 1 more field], e:[src: string, dst: string ... 1 more field])"
      ]
     },
     "execution_count": 12,
     "metadata": {},
     "output_type": "execute_result"
    }
   ],
   "source": [
    "import org.graphframes.{examples,GraphFrame}\n",
    "val g: GraphFrame = examples.Graphs.friends\n",
    "\n",
    "// Select subgraph of users older than 30, and relationships of type \"friend\".\n",
    "// Drop isolated vertices (users) which are not contained in any edges (relationships).\n",
    "val g1 = g.filterVertices(\"age > 30\").filterEdges(\"relationship = 'friend'\").dropIsolatedVertices()"
   ]
  },
  {
   "cell_type": "code",
   "execution_count": 13,
   "id": "d90438a4-169d-4d96-b97c-cdc4f0475307",
   "metadata": {},
   "outputs": [
    {
     "data": {
      "text/plain": [
       "\u001b[32mimport \u001b[39m\u001b[36morg.graphframes.{examples,GraphFrame}\u001b[39m\n",
       "\u001b[36mg\u001b[39m: \u001b[32mGraphFrame\u001b[39m = GraphFrame(v:[id: string, name: string ... 1 more field], e:[src: string, dst: string ... 1 more field])\n",
       "\u001b[36mpaths\u001b[39m: \u001b[32mDataset\u001b[39m[\u001b[32mRow\u001b[39m] = [a: struct<id: string, name: string ... 1 more field>, e: struct<src: string, dst: string ... 1 more field> ... 1 more field]\n",
       "\u001b[36me2\u001b[39m: \u001b[32mDataFrame\u001b[39m = [src: string, dst: string ... 1 more field]\n",
       "\u001b[36mg2\u001b[39m: \u001b[32mGraphFrame\u001b[39m = GraphFrame(v:[id: string, name: string ... 1 more field], e:[src: string, dst: string ... 1 more field])"
      ]
     },
     "execution_count": 13,
     "metadata": {},
     "output_type": "execute_result"
    }
   ],
   "source": [
    "import org.graphframes.{examples,GraphFrame}\n",
    "val g: GraphFrame = examples.Graphs.friends\n",
    "\n",
    "// Select subgraph based on edges \"e\" of type \"follow\"\n",
    "// pointing from a younger user \"a\" to an older user \"b\".\n",
    "val paths = { g.find(\"(a)-[e]->(b)\")\n",
    "  .filter(\"e.relationship = 'follow'\")\n",
    "  .filter(\"a.age < b.age\") }\n",
    "\n",
    "// \"paths\" contains vertex info. Extract the edges.\n",
    "val e2 = paths.select(\"e.src\", \"e.dst\", \"e.relationship\")\n",
    "// In Spark 1.5+, the user may simplify this call:\n",
    "//  val e2 = paths.select(\"e.*\")\n",
    "\n",
    "// Construct the subgraph\n",
    "val g2 = GraphFrame(g.vertices, e2).dropIsolatedVertices()"
   ]
  },
  {
   "cell_type": "code",
   "execution_count": 14,
   "id": "9ebefa3b-d619-495a-a5d6-39fa1c720953",
   "metadata": {
    "scrolled": true
   },
   "outputs": [
    {
     "name": "stdout",
     "output_type": "stream",
     "text": [
      "+---+-------+---+\n",
      "| id|   name|age|\n",
      "+---+-------+---+\n",
      "|  b|    Bob| 36|\n",
      "|  c|Charlie| 30|\n",
      "|  e| Esther| 32|\n",
      "|  f|  Fanny| 36|\n",
      "+---+-------+---+\n",
      "\n"
     ]
    }
   ],
   "source": [
    "g2.vertices.show()"
   ]
  },
  {
   "cell_type": "code",
   "execution_count": 15,
   "id": "f9250929-9f03-4cf4-a050-d68ee85ef364",
   "metadata": {
    "scrolled": true
   },
   "outputs": [
    {
     "name": "stdout",
     "output_type": "stream",
     "text": [
      "+---+---+------------+\n",
      "|src|dst|relationship|\n",
      "+---+---+------------+\n",
      "|  c|  b|      follow|\n",
      "|  e|  f|      follow|\n",
      "+---+---+------------+\n",
      "\n"
     ]
    }
   ],
   "source": [
    "g2.edges.show()"
   ]
  },
  {
   "cell_type": "markdown",
   "id": "4ba41a7b-bf0c-4e4e-9b7d-4f4ed38713eb",
   "metadata": {},
   "source": [
    "# Graph algorithms"
   ]
  },
  {
   "cell_type": "markdown",
   "id": "54b246d6-9394-4a3d-956b-c0391cb20449",
   "metadata": {},
   "source": [
    "## Breadth-first search (BFS)"
   ]
  },
  {
   "cell_type": "code",
   "execution_count": 16,
   "id": "8b41b9f6-6c00-4180-9e09-9b97c34bdf56",
   "metadata": {
    "scrolled": true
   },
   "outputs": [
    {
     "name": "stdout",
     "output_type": "stream",
     "text": [
      "+---------------+--------------+--------------+\n",
      "|           from|            e0|            to|\n",
      "+---------------+--------------+--------------+\n",
      "|{e, Esther, 32}|{e, d, friend}|{d, David, 29}|\n",
      "+---------------+--------------+--------------+\n",
      "\n"
     ]
    },
    {
     "data": {
      "text/plain": [
       "\u001b[32mimport \u001b[39m\u001b[36morg.graphframes.{examples,GraphFrame}\u001b[39m\n",
       "\u001b[36mg\u001b[39m: \u001b[32mGraphFrame\u001b[39m = GraphFrame(v:[id: string, name: string ... 1 more field], e:[src: string, dst: string ... 1 more field])\n",
       "\u001b[36mpaths\u001b[39m: \u001b[32mDataFrame\u001b[39m = [from: struct<id: string, name: string ... 1 more field>, e0: struct<src: string, dst: string ... 1 more field> ... 1 more field]\n",
       "\u001b[36mres16_4\u001b[39m: \u001b[32mDataFrame\u001b[39m = [from: struct<id: string, name: string ... 1 more field>, e0: struct<src: string, dst: string ... 1 more field> ... 3 more fields]"
      ]
     },
     "execution_count": 16,
     "metadata": {},
     "output_type": "execute_result"
    }
   ],
   "source": [
    "import org.graphframes.{examples,GraphFrame}\n",
    "val g: GraphFrame = examples.Graphs.friends\n",
    "\n",
    "// Search from \"Esther\" for users of age < 32.\n",
    "val paths = g.bfs.fromExpr(\"name = 'Esther'\").toExpr(\"age < 32\").run()\n",
    "paths.show()\n",
    "\n",
    "// Specify edge filters or max path lengths.\n",
    "{ g.bfs.fromExpr(\"name = 'Esther'\").toExpr(\"age < 32\")\n",
    "  .edgeFilter(\"relationship != 'friend'\")\n",
    "  .maxPathLength(3).run()\n",
    "}"
   ]
  },
  {
   "cell_type": "markdown",
   "id": "80fcc520-32fc-4e01-a9a6-9bb510fe703e",
   "metadata": {},
   "source": [
    "## Strongly connected components"
   ]
  },
  {
   "cell_type": "code",
   "execution_count": 17,
   "id": "07c4c497-3995-4af0-811b-8a94933bc948",
   "metadata": {
    "scrolled": true
   },
   "outputs": [
    {
     "name": "stdout",
     "output_type": "stream",
     "text": [
      "+---+-------------+\n",
      "| id|    component|\n",
      "+---+-------------+\n",
      "|  g| 146028888064|\n",
      "|  f| 412316860416|\n",
      "|  a| 670014898176|\n",
      "|  e| 670014898176|\n",
      "|  d| 670014898176|\n",
      "|  b|1047972020224|\n",
      "|  c|1047972020224|\n",
      "+---+-------------+\n",
      "\n"
     ]
    },
    {
     "data": {
      "text/plain": [
       "\u001b[32mimport \u001b[39m\u001b[36morg.graphframes.{examples,GraphFrame}\u001b[39m\n",
       "\u001b[36mg\u001b[39m: \u001b[32mGraphFrame\u001b[39m = GraphFrame(v:[id: string, name: string ... 1 more field], e:[src: string, dst: string ... 1 more field])\n",
       "\u001b[36mresult\u001b[39m: \u001b[32mDataFrame\u001b[39m = [id: string, name: string ... 2 more fields]"
      ]
     },
     "execution_count": 17,
     "metadata": {},
     "output_type": "execute_result"
    }
   ],
   "source": [
    "import org.graphframes.{examples,GraphFrame}\n",
    "val g: GraphFrame = examples.Graphs.friends\n",
    "\n",
    "val result = g.stronglyConnectedComponents.maxIter(10).run()\n",
    "result.select(\"id\", \"component\").orderBy(\"component\").show()"
   ]
  },
  {
   "cell_type": "markdown",
   "id": "544f940a-eae4-46c3-bdb7-be0a4bb6c1e9",
   "metadata": {},
   "source": [
    "## Label Propagation Algorithm (LPA)"
   ]
  },
  {
   "cell_type": "code",
   "execution_count": 18,
   "id": "d276a6c0-b2ff-43bb-aa80-b138eeae68ff",
   "metadata": {},
   "outputs": [
    {
     "name": "stderr",
     "output_type": "stream",
     "text": [
      "25/03/13 13:50:26 WARN CacheManager: Asked to cache already cached data.\n"
     ]
    },
    {
     "name": "stdout",
     "output_type": "stream",
     "text": [
      "+---+-------------+\n",
      "| id|        label|\n",
      "+---+-------------+\n",
      "|  b|1047972020224|\n",
      "|  e|1460288880640|\n",
      "|  a|1460288880640|\n",
      "|  f|1460288880640|\n",
      "|  g| 146028888064|\n",
      "|  d|1460288880640|\n",
      "|  c|1382979469312|\n",
      "+---+-------------+\n",
      "\n"
     ]
    },
    {
     "data": {
      "text/plain": [
       "\u001b[32mimport \u001b[39m\u001b[36morg.graphframes.{examples,GraphFrame}\u001b[39m\n",
       "\u001b[36mg\u001b[39m: \u001b[32mGraphFrame\u001b[39m = GraphFrame(v:[id: string, name: string ... 1 more field], e:[src: string, dst: string ... 1 more field])\n",
       "\u001b[36mresult\u001b[39m: \u001b[32mDataFrame\u001b[39m = [id: string, name: string ... 2 more fields]"
      ]
     },
     "execution_count": 18,
     "metadata": {},
     "output_type": "execute_result"
    }
   ],
   "source": [
    "import org.graphframes.{examples,GraphFrame}\n",
    "val g: GraphFrame = examples.Graphs.friends\n",
    "\n",
    "val result = g.labelPropagation.maxIter(5).run()\n",
    "result.select(\"id\", \"label\").show()"
   ]
  },
  {
   "cell_type": "markdown",
   "id": "974953b8-00b9-4ae3-8a29-6c362098e340",
   "metadata": {},
   "source": [
    "## PageRank"
   ]
  },
  {
   "cell_type": "code",
   "execution_count": 19,
   "id": "71672b22-1c0a-4413-95ee-d176a9ca22c1",
   "metadata": {},
   "outputs": [
    {
     "name": "stderr",
     "output_type": "stream",
     "text": [
      "25/03/13 13:50:29 WARN CacheManager: Asked to cache already cached data.\n"
     ]
    },
    {
     "name": "stdout",
     "output_type": "stream",
     "text": [
      "+---+-------------------+\n",
      "| id|           pagerank|\n",
      "+---+-------------------+\n",
      "|  b|  2.655507832863289|\n",
      "|  e|0.37085233187676075|\n",
      "|  a|0.44910633706538744|\n",
      "|  f| 0.3283606792049851|\n",
      "|  g| 0.1799821386239711|\n",
      "|  d| 0.3283606792049851|\n",
      "|  c| 2.6878300011606218|\n",
      "+---+-------------------+\n",
      "\n",
      "+---+---+------+\n",
      "|src|dst|weight|\n",
      "+---+---+------+\n",
      "|  f|  c|   1.0|\n",
      "|  e|  f|   0.5|\n",
      "|  e|  d|   0.5|\n",
      "|  d|  a|   1.0|\n",
      "|  c|  b|   1.0|\n",
      "|  b|  c|   1.0|\n",
      "|  a|  e|   0.5|\n",
      "|  a|  b|   0.5|\n",
      "+---+---+------+\n",
      "\n"
     ]
    },
    {
     "data": {
      "text/plain": [
       "\u001b[32mimport \u001b[39m\u001b[36morg.graphframes.{examples,GraphFrame}\u001b[39m\n",
       "\u001b[36mg\u001b[39m: \u001b[32mGraphFrame\u001b[39m = GraphFrame(v:[id: string, name: string ... 1 more field], e:[src: string, dst: string ... 1 more field])\n",
       "\u001b[36mresults\u001b[39m: \u001b[32mGraphFrame\u001b[39m = GraphFrame(v:[id: string, name: string ... 2 more fields], e:[src: string, dst: string ... 2 more fields])\n",
       "\u001b[36mresults2\u001b[39m: \u001b[32mGraphFrame\u001b[39m = GraphFrame(v:[id: string, name: string ... 2 more fields], e:[src: string, dst: string ... 2 more fields])\n",
       "\u001b[36mresults3\u001b[39m: \u001b[32mGraphFrame\u001b[39m = GraphFrame(v:[id: string, name: string ... 2 more fields], e:[src: string, dst: string ... 2 more fields])"
      ]
     },
     "execution_count": 19,
     "metadata": {},
     "output_type": "execute_result"
    }
   ],
   "source": [
    "import org.graphframes.{examples,GraphFrame}\n",
    "val g: GraphFrame = examples.Graphs.friends\n",
    "\n",
    "// Run PageRank until convergence to tolerance \"tol\".\n",
    "val results = g.pageRank.resetProbability(0.15).tol(0.01).run()\n",
    "// Display resulting pageranks and final edge weights\n",
    "// Note that the displayed pagerank may be truncated, e.g., missing the E notation.\n",
    "// In Spark 1.5+, you can use show(truncate=false) to avoid truncation.\n",
    "results.vertices.select(\"id\", \"pagerank\").show()\n",
    "results.edges.select(\"src\", \"dst\", \"weight\").show()\n",
    "\n",
    "// Run PageRank for a fixed number of iterations.\n",
    "val results2 = g.pageRank.resetProbability(0.15).maxIter(10).run()\n",
    "\n",
    "// Run PageRank personalized for vertex \"a\"\n",
    "val results3 = g.pageRank.resetProbability(0.15).maxIter(10).sourceId(\"a\").run()"
   ]
  },
  {
   "cell_type": "markdown",
   "id": "9ab9ade9-2cde-43ef-bfbd-0b3893a98e20",
   "metadata": {},
   "source": [
    "## Shortest paths"
   ]
  },
  {
   "cell_type": "code",
   "execution_count": 20,
   "id": "1db0271c-2b76-4991-b3d3-e646bdae1617",
   "metadata": {},
   "outputs": [
    {
     "name": "stderr",
     "output_type": "stream",
     "text": [
      "25/03/13 13:50:38 WARN CacheManager: Asked to cache already cached data.\n"
     ]
    },
    {
     "name": "stdout",
     "output_type": "stream",
     "text": [
      "+---+----------------+\n",
      "| id|       distances|\n",
      "+---+----------------+\n",
      "|  b|              {}|\n",
      "|  e|{a -> 2, d -> 1}|\n",
      "|  a|{a -> 0, d -> 2}|\n",
      "|  f|              {}|\n",
      "|  g|              {}|\n",
      "|  d|{a -> 1, d -> 0}|\n",
      "|  c|              {}|\n",
      "+---+----------------+\n",
      "\n"
     ]
    },
    {
     "data": {
      "text/plain": [
       "\u001b[32mimport \u001b[39m\u001b[36morg.graphframes.{examples,GraphFrame}\u001b[39m\n",
       "\u001b[36mg\u001b[39m: \u001b[32mGraphFrame\u001b[39m = GraphFrame(v:[id: string, name: string ... 1 more field], e:[src: string, dst: string ... 1 more field])\n",
       "\u001b[36mresults\u001b[39m: \u001b[32mDataFrame\u001b[39m = [id: string, name: string ... 2 more fields]"
      ]
     },
     "execution_count": 20,
     "metadata": {},
     "output_type": "execute_result"
    }
   ],
   "source": [
    "import org.graphframes.{examples,GraphFrame}\n",
    "val g: GraphFrame = examples.Graphs.friends\n",
    "\n",
    "val results = g.shortestPaths.landmarks(Seq(\"a\", \"d\")).run()\n",
    "results.select(\"id\", \"distances\").show()"
   ]
  },
  {
   "cell_type": "markdown",
   "id": "63c01b36-0288-43e9-a619-a8b43522e67b",
   "metadata": {},
   "source": [
    "## Triangle count"
   ]
  },
  {
   "cell_type": "code",
   "execution_count": 21,
   "id": "024d4162-406e-4faf-a84c-b0d41569a79d",
   "metadata": {},
   "outputs": [
    {
     "name": "stderr",
     "output_type": "stream",
     "text": [
      "25/03/13 13:50:41 WARN CacheManager: Asked to cache already cached data.\n"
     ]
    },
    {
     "name": "stdout",
     "output_type": "stream",
     "text": [
      "+---+-----+\n",
      "| id|count|\n",
      "+---+-----+\n",
      "|  a|    1|\n",
      "|  b|    0|\n",
      "|  c|    0|\n",
      "|  d|    1|\n",
      "|  e|    1|\n",
      "|  f|    0|\n",
      "|  g|    0|\n",
      "+---+-----+\n",
      "\n"
     ]
    },
    {
     "data": {
      "text/plain": [
       "\u001b[32mimport \u001b[39m\u001b[36morg.graphframes.{examples,GraphFrame}\u001b[39m\n",
       "\u001b[36mg\u001b[39m: \u001b[32mGraphFrame\u001b[39m = GraphFrame(v:[id: string, name: string ... 1 more field], e:[src: string, dst: string ... 1 more field])\n",
       "\u001b[36mresults\u001b[39m: \u001b[32mDataFrame\u001b[39m = [count: bigint, id: string ... 2 more fields]"
      ]
     },
     "execution_count": 21,
     "metadata": {},
     "output_type": "execute_result"
    }
   ],
   "source": [
    "import org.graphframes.{examples,GraphFrame}\n",
    "val g: GraphFrame = examples.Graphs.friends\n",
    "\n",
    "val results = g.triangleCount.run()\n",
    "results.select(\"id\", \"count\").show()"
   ]
  },
  {
   "cell_type": "markdown",
   "id": "19e43d2f-c2a0-4aa8-91bd-7c67a8d30c60",
   "metadata": {},
   "source": [
    "# Saving and loading GraphFrames"
   ]
  },
  {
   "cell_type": "code",
   "execution_count": 22,
   "id": "66eea4ce-57ec-4b0d-a11f-33a60466c993",
   "metadata": {},
   "outputs": [
    {
     "data": {
      "text/plain": [
       "\u001b[32mimport \u001b[39m\u001b[36morg.graphframes.{examples,GraphFrame}\u001b[39m\n",
       "\u001b[36mg\u001b[39m: \u001b[32mGraphFrame\u001b[39m = GraphFrame(v:[id: string, name: string ... 1 more field], e:[src: string, dst: string ... 1 more field])\n",
       "\u001b[36msameV\u001b[39m: \u001b[32mDataFrame\u001b[39m = [id: string, name: string ... 1 more field]\n",
       "\u001b[36msameE\u001b[39m: \u001b[32mDataFrame\u001b[39m = [src: string, dst: string ... 1 more field]\n",
       "\u001b[36msameG\u001b[39m: \u001b[32mGraphFrame\u001b[39m = GraphFrame(v:[id: string, name: string ... 1 more field], e:[src: string, dst: string ... 1 more field])"
      ]
     },
     "execution_count": 22,
     "metadata": {},
     "output_type": "execute_result"
    }
   ],
   "source": [
    "import org.graphframes.{examples,GraphFrame}\n",
    "val g: GraphFrame = examples.Graphs.friends\n",
    "\n",
    "// Save vertices and edges as Parquet to some location.\n",
    "g.vertices.write.mode(\"overwrite\").parquet(\"vertices\")\n",
    "g.edges.write.mode(\"overwrite\").parquet(\"edges\")\n",
    "\n",
    "// Load the vertices and edges back.\n",
    "val sameV = spark.read.parquet(\"vertices\")\n",
    "val sameE = spark.read.parquet(\"edges\")\n",
    "\n",
    "// Create an identical GraphFrame.\n",
    "val sameG = GraphFrame(sameV, sameE)"
   ]
  },
  {
   "cell_type": "markdown",
   "id": "a56aa45b-4179-407d-be45-2dc32ae016e1",
   "metadata": {},
   "source": [
    "# Message passing via AggregateMessages"
   ]
  },
  {
   "cell_type": "code",
   "execution_count": 23,
   "id": "9e299252-a367-4b90-ba13-9cc160b981ea",
   "metadata": {},
   "outputs": [
    {
     "name": "stdout",
     "output_type": "stream",
     "text": [
      "+---+----------+\n",
      "| id|summedAges|\n",
      "+---+----------+\n",
      "|  a|        97|\n",
      "|  b|        94|\n",
      "|  c|       108|\n",
      "|  f|        62|\n",
      "|  e|        99|\n",
      "|  d|        66|\n",
      "+---+----------+\n",
      "\n"
     ]
    },
    {
     "data": {
      "text/plain": [
       "\u001b[32mimport \u001b[39m\u001b[36morg.graphframes.{examples,GraphFrame}\u001b[39m\n",
       "\u001b[32mimport \u001b[39m\u001b[36morg.graphframes.lib.AggregateMessages\u001b[39m\n",
       "\u001b[36mg\u001b[39m: \u001b[32mGraphFrame\u001b[39m = GraphFrame(v:[id: string, name: string ... 1 more field], e:[src: string, dst: string ... 1 more field])\n",
       "\u001b[36mAM\u001b[39m: \u001b[32mAggregateMessages\u001b[39m.type = org.graphframes.lib.AggregateMessages$@60c1b2a8\n",
       "\u001b[36mmsgToSrc\u001b[39m: \u001b[32mColumn\u001b[39m = dst[age]\n",
       "\u001b[36mmsgToDst\u001b[39m: \u001b[32mColumn\u001b[39m = src[age]\n",
       "\u001b[36magg\u001b[39m: \u001b[32mDataFrame\u001b[39m = [id: string, summedAges: bigint]"
      ]
     },
     "execution_count": 23,
     "metadata": {},
     "output_type": "execute_result"
    }
   ],
   "source": [
    "import org.graphframes.{examples,GraphFrame}\n",
    "import org.graphframes.lib.AggregateMessages\n",
    "val g: GraphFrame = examples.Graphs.friends\n",
    "\n",
    "// We will use AggregateMessages utilities later, so name it \"AM\" for short.\n",
    "val AM = AggregateMessages\n",
    "\n",
    "// For each user, sum the ages of the adjacent users.\n",
    "val msgToSrc = AM.dst(\"age\")\n",
    "val msgToDst = AM.src(\"age\")\n",
    "val agg = { g.aggregateMessages\n",
    "  .sendToSrc(msgToSrc)  // send destination user's age to source\n",
    "  .sendToDst(msgToDst)  // send source user's age to destination\n",
    "  .agg(sum(AM.msg).as(\"summedAges\")) } // sum up ages, stored in AM.msg column\n",
    "  \n",
    "agg.show()"
   ]
  },
  {
   "cell_type": "markdown",
   "id": "0eb3a060-7ba3-4d03-bd3a-f940959f2026",
   "metadata": {},
   "source": [
    "# GraphX-GraphFrame conversions"
   ]
  },
  {
   "cell_type": "code",
   "execution_count": 24,
   "id": "712d463a-d251-4976-95a2-94d8fd502b7a",
   "metadata": {},
   "outputs": [
    {
     "name": "stderr",
     "output_type": "stream",
     "text": [
      "25/03/13 13:50:46 WARN CacheManager: Asked to cache already cached data.\n"
     ]
    },
    {
     "data": {
      "text/plain": [
       "\u001b[32mimport \u001b[39m\u001b[36morg.apache.spark.graphx.Graph\u001b[39m\n",
       "\u001b[32mimport \u001b[39m\u001b[36morg.apache.spark.sql.Row\u001b[39m\n",
       "\u001b[32mimport \u001b[39m\u001b[36morg.graphframes.{examples,GraphFrame}\u001b[39m\n",
       "\u001b[36mg\u001b[39m: \u001b[32mGraphFrame\u001b[39m = GraphFrame(v:[id: string, name: string ... 1 more field], e:[src: string, dst: string ... 1 more field])\n",
       "\u001b[36mgx\u001b[39m: \u001b[32mGraph\u001b[39m[\u001b[32mRow\u001b[39m, \u001b[32mRow\u001b[39m] = org.apache.spark.graphx.impl.GraphImpl@144c07fa"
      ]
     },
     "execution_count": 24,
     "metadata": {},
     "output_type": "execute_result"
    }
   ],
   "source": [
    "import org.apache.spark.graphx.Graph\n",
    "import org.apache.spark.sql.Row\n",
    "import org.graphframes.{examples,GraphFrame}\n",
    "val g: GraphFrame = examples.Graphs.friends\n",
    "\n",
    "// Convert to GraphX\n",
    "val gx: Graph[Row, Row] = g.toGraphX"
   ]
  },
  {
   "cell_type": "code",
   "execution_count": null,
   "id": "4d346bf4-5a35-4674-b810-c701528e4364",
   "metadata": {},
   "outputs": [],
   "source": []
  }
 ],
 "metadata": {
  "kernelspec": {
   "display_name": "Scala (2.12)",
   "language": "scala",
   "name": "scala212"
  },
  "language_info": {
   "codemirror_mode": "text/x-scala",
   "file_extension": ".sc",
   "mimetype": "text/x-scala",
   "name": "scala",
   "nbconvert_exporter": "script",
   "version": "2.12.18"
  }
 },
 "nbformat": 4,
 "nbformat_minor": 5
}
