{
 "cells": [
  {
   "cell_type": "code",
   "execution_count": null,
   "id": "00d410d1-fe5b-4688-836a-7db0858d109e",
   "metadata": {},
   "outputs": [],
   "source": [
    "import $ivy.`org.apache.spark::spark-core:3.5.3`\n",
    "import $ivy.`org.apache.spark::spark-graphx:3.5.3`"
   ]
  },
  {
   "cell_type": "code",
   "execution_count": null,
   "id": "d96505ad-2f40-4ba1-b231-6ffa0b601d94",
   "metadata": {},
   "outputs": [],
   "source": [
    "import org.apache.log4j.{Level, Logger}\n",
    "Logger.getLogger(\"org\").setLevel(Level.OFF)\n",
    "Logger.getLogger(\"org.apache.spark\").setLevel(Level.WARN)"
   ]
  },
  {
   "cell_type": "code",
   "execution_count": null,
   "id": "31f38fb6-b0d8-45b9-9785-8d841ef910cd",
   "metadata": {},
   "outputs": [],
   "source": [
    "import org.apache.spark._\n",
    "import org.apache.spark.graphx._\n",
    "import org.apache.spark.rdd.RDD"
   ]
  },
  {
   "cell_type": "code",
   "execution_count": null,
   "id": "5f031c77-765f-4591-9060-fcadadb1614b",
   "metadata": {
    "scrolled": true
   },
   "outputs": [],
   "source": [
    "val conf = new SparkConf().setAppName(\"GraphX\").setMaster(\"local[*]\")\n",
    "val sc = new SparkContext(conf)"
   ]
  },
  {
   "cell_type": "markdown",
   "id": "d9ba9823-8909-4ae6-905e-0bf3fe3f7904",
   "metadata": {},
   "source": [
    "# Создаём граф"
   ]
  },
  {
   "cell_type": "code",
   "execution_count": null,
   "id": "cb17e720-5853-47ec-a040-867fb99fd3d3",
   "metadata": {},
   "outputs": [],
   "source": [
    "// Create an RDD for the vertices\n",
    "val users: RDD[(VertexId, (String, String))] =\n",
    "  sc.parallelize(Seq((3L, (\"rxin\", \"student\")), (7L, (\"jgonzal\", \"postdoc\")),\n",
    "                       (5L, (\"franklin\", \"prof\")), (2L, (\"istoica\", \"prof\")),\n",
    "                       (4L, (\"peter\", \"student\"))))\n",
    "\n",
    "// Create an RDD for edges\n",
    "val relationships: RDD[Edge[String]] =\n",
    "  sc.parallelize(Seq(Edge(3L, 7L, \"collab\"),    Edge(5L, 3L, \"advisor\"),\n",
    "                       Edge(2L, 5L, \"colleague\"), Edge(5L, 7L, \"pi\"),\n",
    "                       Edge(4L, 0L, \"student\"),   Edge(5L, 0L, \"colleague\")))\n",
    "\n",
    "// Define a default user in case there are relationship with missing user\n",
    "val defaultUser = (\"John Doe\", \"Missing\")\n",
    "\n",
    "// Build the initial Graph\n",
    "val graph = Graph(users, relationships, defaultUser)"
   ]
  },
  {
   "cell_type": "markdown",
   "id": "77a74ffb-47d1-4ec7-820b-b35f0e656540",
   "metadata": {},
   "source": [
    "# Операции с графами"
   ]
  },
  {
   "cell_type": "markdown",
   "id": "090d6072-0315-4f4a-9b4c-1edc742913b7",
   "metadata": {},
   "source": [
    "## Information about the Graph"
   ]
  },
  {
   "cell_type": "code",
   "execution_count": null,
   "id": "a01a797e-ae7e-4bba-a763-20aa69174375",
   "metadata": {
    "scrolled": true
   },
   "outputs": [],
   "source": [
    "println(s\"numEdges: ${graph.numEdges}\\nnumVertices: ${graph.numVertices}\")"
   ]
  },
  {
   "cell_type": "code",
   "execution_count": null,
   "id": "e459047f-41ff-46f3-a126-070a5de7259f",
   "metadata": {
    "scrolled": true
   },
   "outputs": [],
   "source": [
    "graph.inDegrees.collect"
   ]
  },
  {
   "cell_type": "code",
   "execution_count": null,
   "id": "0756b11f-3007-4130-b58f-578f7f66ae2e",
   "metadata": {
    "scrolled": true
   },
   "outputs": [],
   "source": [
    "graph.outDegrees.collect"
   ]
  },
  {
   "cell_type": "code",
   "execution_count": null,
   "id": "47be36b2-5e90-40d1-838f-df788072b1f9",
   "metadata": {
    "scrolled": true
   },
   "outputs": [],
   "source": [
    "graph.degrees.collect"
   ]
  },
  {
   "cell_type": "markdown",
   "id": "0ea459b4-3e0e-4f0f-b4a9-724dab3f8927",
   "metadata": {},
   "source": [
    "## Views of the graph as collections"
   ]
  },
  {
   "cell_type": "code",
   "execution_count": null,
   "id": "c0bfdfb0-3cce-4696-a9db-87a0c57be21c",
   "metadata": {
    "scrolled": true
   },
   "outputs": [],
   "source": [
    "graph.vertices.collect.foreach(println)"
   ]
  },
  {
   "cell_type": "code",
   "execution_count": null,
   "id": "5699de92-bc25-4f0b-a1d5-4df7587ffef8",
   "metadata": {
    "scrolled": true
   },
   "outputs": [],
   "source": [
    "graph.vertices.collect"
   ]
  },
  {
   "cell_type": "code",
   "execution_count": null,
   "id": "30e1cb3e-c57e-4f3c-8991-215142678a5a",
   "metadata": {
    "scrolled": true
   },
   "outputs": [],
   "source": [
    "graph.edges.collect.foreach(println)"
   ]
  },
  {
   "cell_type": "code",
   "execution_count": null,
   "id": "1056fa5d-8115-4bae-8092-5b88401ce4eb",
   "metadata": {
    "scrolled": true
   },
   "outputs": [],
   "source": [
    "graph.edges.collect"
   ]
  },
  {
   "cell_type": "code",
   "execution_count": null,
   "id": "2322d797-df1b-47aa-a2ff-7c6162a2689f",
   "metadata": {
    "scrolled": true
   },
   "outputs": [],
   "source": [
    "graph.triplets.collect.foreach(println)"
   ]
  },
  {
   "cell_type": "code",
   "execution_count": null,
   "id": "473a301d-070a-4f5e-99da-2b64518d0cdd",
   "metadata": {
    "scrolled": true
   },
   "outputs": [],
   "source": [
    "graph.triplets.collect"
   ]
  },
  {
   "cell_type": "code",
   "execution_count": null,
   "id": "1be043ed-d47e-4e40-b99a-1c9f3b0dda02",
   "metadata": {
    "scrolled": true
   },
   "outputs": [],
   "source": [
    "graph.triplets.map(\n",
    "  triplet => triplet.srcAttr._1 + \" is the \" + triplet.attr + \" of \" + triplet.dstAttr._1\n",
    ").collect.foreach(println(_))"
   ]
  },
  {
   "cell_type": "markdown",
   "id": "d1928f55-f22a-4234-ae85-6692f552c7cc",
   "metadata": {},
   "source": [
    "## Structural Operators"
   ]
  },
  {
   "cell_type": "code",
   "execution_count": null,
   "id": "885ba909-26a1-4087-8ac2-c427f3f885a7",
   "metadata": {},
   "outputs": [],
   "source": [
    "// Remove missing vertices as well as the edges to connected to them\n",
    "val validGraph = graph.subgraph(vpred = (id, attr) => attr._2 != \"Missing\")"
   ]
  },
  {
   "cell_type": "code",
   "execution_count": null,
   "id": "ad65066d-c922-4a6e-97f4-a9582d47f2d3",
   "metadata": {
    "scrolled": true
   },
   "outputs": [],
   "source": [
    "// The valid subgraph will disconnect users 4 and 5 by removing user 0\n",
    "validGraph.vertices.collect.foreach(println(_))"
   ]
  },
  {
   "cell_type": "code",
   "execution_count": null,
   "id": "b6199dd6-33f2-47bd-84c2-56bb29e46a4a",
   "metadata": {
    "scrolled": true
   },
   "outputs": [],
   "source": [
    "validGraph.triplets.map(\n",
    "  triplet => triplet.srcAttr._1 + \" is the \" + triplet.attr + \" of \" + triplet.dstAttr._1\n",
    ").collect.foreach(println(_))"
   ]
  },
  {
   "cell_type": "code",
   "execution_count": null,
   "id": "033bb587-97e0-48a5-acf5-9df35d2aa972",
   "metadata": {
    "scrolled": true
   },
   "outputs": [],
   "source": [
    "import org.apache.spark.graphx.EdgeDirection._\n",
    "\n",
    "graph.collectNeighborIds(In).collect()"
   ]
  },
  {
   "cell_type": "markdown",
   "id": "c42d82d5-f98d-470a-9891-4dfcbc6128db",
   "metadata": {},
   "source": [
    "# Graph Algorithms"
   ]
  },
  {
   "cell_type": "markdown",
   "id": "b3e8d872-fac2-4f6e-8300-247944a9ca2a",
   "metadata": {},
   "source": [
    "## PageRank\n",
    "\n",
    "GraphX also includes an example social network dataset that we can run PageRank on. A set of users is given in ``data/graphx/users.txt``, and a set of relationships between users is given in ``data/graphx/followers.txt``. We compute the PageRank of each user as follows:"
   ]
  },
  {
   "cell_type": "code",
   "execution_count": null,
   "id": "22c53494-3565-4bf1-ac2b-1146bedd2caa",
   "metadata": {
    "scrolled": true
   },
   "outputs": [],
   "source": [
    "import org.apache.spark.graphx.GraphLoader\n",
    "\n",
    "// Load the edges as a graph\n",
    "val graph = GraphLoader.edgeListFile(sc, \"/opt/spark/data/graphx/followers.txt\")\n",
    "\n",
    "// Run PageRank\n",
    "val ranks = graph.pageRank(0.0001).vertices\n",
    "\n",
    "// Join the ranks with the usernames\n",
    "val users = sc.textFile(\"/opt/spark/data/graphx/users.txt\").map { line =>\n",
    "  val fields = line.split(\",\")\n",
    "  (fields(0).toLong, fields(1))\n",
    "}\n",
    "val ranksByUsername = users.join(ranks).map {\n",
    "  case (id, (username, rank)) => (username, rank)\n",
    "}\n",
    "\n",
    "// Print the result\n",
    "println(ranksByUsername.collect().mkString(\"\\n\"))"
   ]
  },
  {
   "cell_type": "markdown",
   "id": "1c5a9706-5c0f-4d6a-8609-4282dd8b4e9b",
   "metadata": {},
   "source": [
    "## Connected Components\n",
    "\n",
    "GraphX contains an implementation of the algorithm in the ConnectedComponents object, and we compute the connected components of the example social network dataset from the PageRank section as follows:"
   ]
  },
  {
   "cell_type": "code",
   "execution_count": null,
   "id": "2e93e7d5-8179-47a5-8cb8-eaf1dc7815b5",
   "metadata": {
    "scrolled": true
   },
   "outputs": [],
   "source": [
    "import org.apache.spark.graphx.GraphLoader\n",
    "\n",
    "// Load the graph as in the PageRank example\n",
    "val graph = GraphLoader.edgeListFile(sc, \"/opt/spark/data/graphx/followers.txt\")\n",
    "\n",
    "// Find the connected components\n",
    "val cc = graph.connectedComponents().vertices\n",
    "\n",
    "// Join the connected components with the usernames\n",
    "val users = sc.textFile(\"/opt/spark/data/graphx/users.txt\").map { line =>\n",
    "  val fields = line.split(\",\")\n",
    "  (fields(0).toLong, fields(1))\n",
    "}\n",
    "val ccByUsername = users.join(cc).map {\n",
    "  case (id, (username, cc)) => (username, cc)\n",
    "}\n",
    "\n",
    "// Print the result\n",
    "println(ccByUsername.collect().mkString(\"\\n\"))"
   ]
  },
  {
   "cell_type": "markdown",
   "id": "24ee10f6-42cb-48a5-97e7-0a19e41c9980",
   "metadata": {},
   "source": [
    "## Triangle Counting\n",
    "\n",
    "We compute the triangle count of the social network dataset from the PageRank section. Note that TriangleCount requires the edges to be in canonical orientation (srcId < dstId) and the graph to be partitioned using Graph.partitionBy."
   ]
  },
  {
   "cell_type": "code",
   "execution_count": null,
   "id": "269fbc0e-61f4-4433-8c31-edf3574b882b",
   "metadata": {
    "scrolled": true
   },
   "outputs": [],
   "source": [
    "import org.apache.spark.graphx.{GraphLoader, PartitionStrategy}\n",
    "\n",
    "// Load the edges in canonical order and partition the graph for triangle count\n",
    "val graph = GraphLoader.edgeListFile(sc, \"/opt/spark/data/graphx/followers.txt\", true)\n",
    "  .partitionBy(PartitionStrategy.RandomVertexCut)\n",
    "  \n",
    "// Find the triangle count for each vertex\n",
    "val triCounts = graph.triangleCount().vertices\n",
    "\n",
    "// Join the triangle counts with the usernames\n",
    "val users = sc.textFile(\"/opt/spark/data/graphx/users.txt\").map { line =>\n",
    "  val fields = line.split(\",\")\n",
    "  (fields(0).toLong, fields(1))\n",
    "}\n",
    "val triCountByUsername = users.join(triCounts).map { case (id, (username, tc)) =>\n",
    "  (username, tc)\n",
    "}\n",
    "\n",
    "// Print the result\n",
    "println(triCountByUsername.collect().mkString(\"\\n\"))"
   ]
  },
  {
   "cell_type": "markdown",
   "id": "c310d155-39cf-43e5-b0ff-a5146f56d381",
   "metadata": {},
   "source": [
    "# Pregel\n",
    "\n",
    "We can use the Pregel operator to express computation such as single source shortest path in the following example."
   ]
  },
  {
   "cell_type": "code",
   "execution_count": null,
   "id": "ba06f752-5a57-41af-b625-00831e86270d",
   "metadata": {
    "scrolled": true
   },
   "outputs": [],
   "source": [
    "import org.apache.spark.graphx.{Graph, VertexId}\n",
    "import org.apache.spark.graphx.util.GraphGenerators\n",
    "\n",
    "// A graph with edge attributes containing distances\n",
    "val graph: Graph[Long, Double] = GraphGenerators.logNormalGraph(sc, numVertices = 100).mapEdges(e => e.attr.toDouble)\n",
    "\n",
    "val sourceId: VertexId = 42 // The ultimate source\n",
    "\n",
    "// Initialize the graph such that all vertices except the root have distance infinity.\n",
    "val initialGraph = graph.mapVertices((id, _) => if (id == sourceId) 0.0 else Double.PositiveInfinity)\n",
    "\n",
    "val sssp = initialGraph.pregel(Double.PositiveInfinity)(\n",
    "  (id, dist, newDist) => math.min(dist, newDist), // Vertex Program\n",
    "  triplet => {  // Send Message\n",
    "    if (triplet.srcAttr + triplet.attr < triplet.dstAttr) {\n",
    "      Iterator((triplet.dstId, triplet.srcAttr + triplet.attr))\n",
    "    } else {\n",
    "      Iterator.empty\n",
    "    }\n",
    "  },\n",
    "  (a, b) => math.min(a, b) // Merge Message\n",
    ")\n",
    "\n",
    "println(sssp.vertices.collect.mkString(\"\\n\"))"
   ]
  },
  {
   "cell_type": "code",
   "execution_count": null,
   "id": "52fc437c-ee9d-45e5-b9a9-c1e93125e730",
   "metadata": {},
   "outputs": [],
   "source": []
  }
 ],
 "metadata": {
  "kernelspec": {
   "display_name": "Scala (2.12)",
   "language": "scala",
   "name": "scala212"
  },
  "language_info": {
   "codemirror_mode": "text/x-scala",
   "file_extension": ".sc",
   "mimetype": "text/x-scala",
   "name": "scala",
   "nbconvert_exporter": "script",
   "version": "2.12.18"
  }
 },
 "nbformat": 4,
 "nbformat_minor": 5
}
