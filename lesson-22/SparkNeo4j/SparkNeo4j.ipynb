{
 "cells": [
  {
   "cell_type": "code",
   "execution_count": 1,
   "metadata": {},
   "outputs": [
    {
     "data": {
      "text/plain": [
       "\u001b[32mimport \u001b[39m\u001b[36m$ivy.$\u001b[39m"
      ]
     },
     "execution_count": 1,
     "metadata": {},
     "output_type": "execute_result"
    }
   ],
   "source": [
    "import $ivy.`org.apache.spark::spark-sql:3.5.5`"
   ]
  },
  {
   "cell_type": "code",
   "execution_count": 2,
   "metadata": {},
   "outputs": [
    {
     "data": {
      "text/plain": [
       "\u001b[32mimport \u001b[39m\u001b[36mcoursierapi._\u001b[39m"
      ]
     },
     "execution_count": 2,
     "metadata": {},
     "output_type": "execute_result"
    }
   ],
   "source": [
    "// neo4j-spark-connector\n",
    "import coursierapi._\n",
    "interp.repositories() ++= Seq(MavenRepository.of(\"https://repos.spark-packages.org/\"))\n",
    "interp.load.ivy((\"neo4j\" % \"neo4j-spark-connector\" % \"5.3.3-s_2.12\"))"
   ]
  },
  {
   "cell_type": "markdown",
   "metadata": {},
   "source": [
    "## Spark Session с подключением к Neo4j"
   ]
  },
  {
   "cell_type": "code",
   "execution_count": 3,
   "metadata": {},
   "outputs": [
    {
     "data": {
      "text/plain": [
       "\u001b[32mimport \u001b[39m\u001b[36morg.apache.spark.sql._\u001b[39m"
      ]
     },
     "execution_count": 3,
     "metadata": {},
     "output_type": "execute_result"
    }
   ],
   "source": [
    "import org.apache.spark.sql._"
   ]
  },
  {
   "cell_type": "code",
   "execution_count": 4,
   "metadata": {},
   "outputs": [
    {
     "name": "stderr",
     "output_type": "stream",
     "text": [
      "Using Spark's default log4j profile: org/apache/spark/log4j2-defaults.properties\n",
      "25/03/14 12:24:39 INFO SparkContext: Running Spark version 3.5.5\n",
      "25/03/14 12:24:39 INFO SparkContext: OS info Mac OS X, 15.3.2, aarch64\n",
      "25/03/14 12:24:39 INFO SparkContext: Java version 11.0.26\n",
      "25/03/14 12:24:39 WARN NativeCodeLoader: Unable to load native-hadoop library for your platform... using builtin-java classes where applicable\n",
      "Setting Spark log level to \"WARN\".\n"
     ]
    },
    {
     "data": {
      "text/plain": [
       "\u001b[36mspark\u001b[39m: \u001b[32mSparkSession\u001b[39m = org.apache.spark.sql.SparkSession@702e8360\n",
       "\u001b[32mimport \u001b[39m\u001b[36mspark.implicits._\u001b[39m"
      ]
     },
     "execution_count": 4,
     "metadata": {},
     "output_type": "execute_result"
    }
   ],
   "source": [
    "val spark = SparkSession\n",
    "                .builder()\n",
    "                .master(\"local[*]\")\n",
    "                .appName(\"SparkNeo4j\")\n",
    "                .config(\"spark.log.level\", \"WARN\")\n",
    "                .config(\"spark.jars.packages\", \"neo4j:neo4j-spark-connector:5.3.3-s_2.12\")\n",
    "                .config(\"neo4j.url\", \"neo4j://localhost:7687\")\n",
    "                .config(\"neo4j.authentication.type\", \"basic\")\n",
    "                .config(\"neo4j.authentication.basic.username\", \"neo4j\")\n",
    "                .config(\"neo4j.authentication.basic.password\", \"password\")\n",
    "                .getOrCreate()\n",
    "\n",
    "import spark.implicits._"
   ]
  },
  {
   "cell_type": "markdown",
   "metadata": {},
   "source": [
    "## Read data from Neo4j into Spark"
   ]
  },
  {
   "cell_type": "markdown",
   "metadata": {},
   "source": [
    "### Movies"
   ]
  },
  {
   "cell_type": "code",
   "execution_count": 5,
   "metadata": {},
   "outputs": [
    {
     "name": "stderr",
     "output_type": "stream",
     "text": [
      "25/03/14 12:24:42 WARN SchemaService: Switching to query schema resolution\n"
     ]
    },
    {
     "data": {
      "text/plain": [
       "\u001b[36mmovies\u001b[39m: \u001b[32mDataFrame\u001b[39m = [<id>: bigint, <labels>: array<string> ... 3 more fields]"
      ]
     },
     "execution_count": 5,
     "metadata": {},
     "output_type": "execute_result"
    }
   ],
   "source": [
    "val movies = spark.read\n",
    "                .format(\"org.neo4j.spark.DataSource\")\n",
    "                .option(\"labels\", \":Movie\")\n",
    "                .load()"
   ]
  },
  {
   "cell_type": "code",
   "execution_count": 6,
   "metadata": {},
   "outputs": [
    {
     "name": "stdout",
     "output_type": "stream",
     "text": [
      "root\n",
      " |-- <id>: long (nullable = false)\n",
      " |-- <labels>: array (nullable = true)\n",
      " |    |-- element: string (containsNull = true)\n",
      " |-- title: string (nullable = true)\n",
      " |-- tagline: string (nullable = true)\n",
      " |-- released: long (nullable = true)\n",
      "\n"
     ]
    }
   ],
   "source": [
    "movies.printSchema()"
   ]
  },
  {
   "cell_type": "code",
   "execution_count": 7,
   "metadata": {},
   "outputs": [
    {
     "name": "stdout",
     "output_type": "stream",
     "text": [
      "+----+--------+----------------------+-----------------------------------------------------------------------------------------------------------------------------------------------------------------------------+--------+\n",
      "|<id>|<labels>|title                 |tagline                                                                                                                                                                      |released|\n",
      "+----+--------+----------------------+-----------------------------------------------------------------------------------------------------------------------------------------------------------------------------+--------+\n",
      "|0   |[Movie] |The Matrix            |Welcome to the Real World                                                                                                                                                    |1999    |\n",
      "|10  |[Movie] |The Matrix Reloaded   |Free your mind                                                                                                                                                               |2003    |\n",
      "|18  |[Movie] |The Matrix Revolutions|Everything that has a beginning has an end                                                                                                                                   |2003    |\n",
      "|26  |[Movie] |The Devil's Advocate  |Evil has its winning ways                                                                                                                                                    |1997    |\n",
      "|31  |[Movie] |A Few Good Men        |In the heart of the nation's capital, in a courthouse of the U.S. government, one man will stop at nothing to keep his honor, and one will stop at nothing to find the truth.|1992    |\n",
      "|45  |[Movie] |The Matrix            |Welcome to the Real World                                                                                                                                                    |1999    |\n",
      "|54  |[Movie] |The Matrix Reloaded   |Free your mind                                                                                                                                                               |2003    |\n",
      "|55  |[Movie] |The Matrix Revolutions|Everything that has a beginning has an end                                                                                                                                   |2003    |\n",
      "|56  |[Movie] |The Devil's Advocate  |Evil has its winning ways                                                                                                                                                    |1997    |\n",
      "|60  |[Movie] |A Few Good Men        |In the heart of the nation's capital, in a courthouse of the U.S. government, one man will stop at nothing to keep his honor, and one will stop at nothing to find the truth.|1992    |\n",
      "+----+--------+----------------------+-----------------------------------------------------------------------------------------------------------------------------------------------------------------------------+--------+\n",
      "only showing top 10 rows\n",
      "\n"
     ]
    }
   ],
   "source": [
    "movies.show(10, false)"
   ]
  },
  {
   "cell_type": "markdown",
   "metadata": {},
   "source": [
    "### Person"
   ]
  },
  {
   "cell_type": "code",
   "execution_count": 8,
   "metadata": {},
   "outputs": [
    {
     "name": "stderr",
     "output_type": "stream",
     "text": [
      "25/03/14 12:24:47 WARN SchemaService: Switching to query schema resolution\n"
     ]
    },
    {
     "data": {
      "text/plain": [
       "\u001b[36mperson\u001b[39m: \u001b[32mDataFrame\u001b[39m = [<id>: bigint, <labels>: array<string> ... 2 more fields]"
      ]
     },
     "execution_count": 8,
     "metadata": {},
     "output_type": "execute_result"
    }
   ],
   "source": [
    "val person = spark.read\n",
    "                .format(\"org.neo4j.spark.DataSource\")\n",
    "                .option(\"labels\", \":Person\")\n",
    "                .load()"
   ]
  },
  {
   "cell_type": "code",
   "execution_count": 9,
   "metadata": {},
   "outputs": [
    {
     "name": "stdout",
     "output_type": "stream",
     "text": [
      "root\n",
      " |-- <id>: long (nullable = false)\n",
      " |-- <labels>: array (nullable = true)\n",
      " |    |-- element: string (containsNull = true)\n",
      " |-- name: string (nullable = true)\n",
      " |-- born: long (nullable = true)\n",
      "\n"
     ]
    }
   ],
   "source": [
    "person.printSchema()"
   ]
  },
  {
   "cell_type": "code",
   "execution_count": 10,
   "metadata": {},
   "outputs": [
    {
     "name": "stdout",
     "output_type": "stream",
     "text": [
      "+----+--------+------------------+----+\n",
      "|<id>|<labels>|name              |born|\n",
      "+----+--------+------------------+----+\n",
      "|1   |[Person]|Keanu Reeves      |1964|\n",
      "|2   |[Person]|Carrie-Anne Moss  |1967|\n",
      "|3   |[Person]|Laurence Fishburne|1961|\n",
      "|4   |[Person]|Hugo Weaving      |1960|\n",
      "|5   |[Person]|Lilly Wachowski   |1967|\n",
      "|6   |[Person]|Lana Wachowski    |1965|\n",
      "|7   |[Person]|Joel Silver       |1952|\n",
      "|8   |[Person]|Emil Eifrem       |1978|\n",
      "|27  |[Person]|Charlize Theron   |1975|\n",
      "|28  |[Person]|Al Pacino         |1940|\n",
      "+----+--------+------------------+----+\n",
      "only showing top 10 rows\n",
      "\n"
     ]
    }
   ],
   "source": [
    "person.show(10, false)"
   ]
  },
  {
   "cell_type": "markdown",
   "metadata": {},
   "source": [
    "### ACTED_IN"
   ]
  },
  {
   "cell_type": "code",
   "execution_count": 11,
   "metadata": {},
   "outputs": [
    {
     "name": "stderr",
     "output_type": "stream",
     "text": [
      "25/03/14 12:24:48 WARN SchemaService: Switching to query schema resolution\n",
      "25/03/14 12:24:48 WARN SchemaService: Switching to query schema resolution\n",
      "25/03/14 12:24:48 WARN SchemaService: Switching to query schema resolution\n"
     ]
    },
    {
     "data": {
      "text/plain": [
       "\u001b[36mactedin\u001b[39m: \u001b[32mDataFrame\u001b[39m = [<rel.id>: bigint, <rel.type>: string ... 10 more fields]"
      ]
     },
     "execution_count": 11,
     "metadata": {},
     "output_type": "execute_result"
    }
   ],
   "source": [
    "val actedin = spark.read\n",
    "                .format(\"org.neo4j.spark.DataSource\")\n",
    "                .option(\"relationship\", \"ACTED_IN\")\n",
    "                .option(\"relationship.source.labels\", \":Person\")\n",
    "                .option(\"relationship.target.labels\", \":Movie\")\n",
    "                .load()"
   ]
  },
  {
   "cell_type": "code",
   "execution_count": 12,
   "metadata": {},
   "outputs": [
    {
     "name": "stdout",
     "output_type": "stream",
     "text": [
      "root\n",
      " |-- <rel.id>: long (nullable = false)\n",
      " |-- <rel.type>: string (nullable = false)\n",
      " |-- <source.id>: long (nullable = false)\n",
      " |-- <source.labels>: array (nullable = true)\n",
      " |    |-- element: string (containsNull = true)\n",
      " |-- source.name: string (nullable = true)\n",
      " |-- source.born: long (nullable = true)\n",
      " |-- <target.id>: long (nullable = false)\n",
      " |-- <target.labels>: array (nullable = true)\n",
      " |    |-- element: string (containsNull = true)\n",
      " |-- target.title: string (nullable = true)\n",
      " |-- target.tagline: string (nullable = true)\n",
      " |-- target.released: long (nullable = true)\n",
      " |-- rel.roles: array (nullable = true)\n",
      " |    |-- element: string (containsNull = true)\n",
      "\n"
     ]
    }
   ],
   "source": [
    "actedin.printSchema()"
   ]
  },
  {
   "cell_type": "code",
   "execution_count": 13,
   "metadata": {},
   "outputs": [
    {
     "name": "stdout",
     "output_type": "stream",
     "text": [
      "+--------+----------+-----------+---------------+------------------+-----------+-----------+---------------+--------------------+-----------------------------------------------------------------------------------------------------------------------------------------------------------------------------+---------------+-----------------------------------+\n",
      "|<rel.id>|<rel.type>|<source.id>|<source.labels>|source.name       |source.born|<target.id>|<target.labels>|target.title        |target.tagline                                                                                                                                                               |target.released|rel.roles                          |\n",
      "+--------+----------+-----------+---------------+------------------+-----------+-----------+---------------+--------------------+-----------------------------------------------------------------------------------------------------------------------------------------------------------------------------+---------------+-----------------------------------+\n",
      "|3       |ACTED_IN  |4          |[Person]       |Hugo Weaving      |1960       |0          |[Movie]        |The Matrix          |Welcome to the Real World                                                                                                                                                    |1999           |[Agent Smith]                      |\n",
      "|2       |ACTED_IN  |3          |[Person]       |Laurence Fishburne|1961       |0          |[Movie]        |The Matrix          |Welcome to the Real World                                                                                                                                                    |1999           |[Morpheus]                         |\n",
      "|1       |ACTED_IN  |2          |[Person]       |Carrie-Anne Moss  |1967       |0          |[Movie]        |The Matrix          |Welcome to the Real World                                                                                                                                                    |1999           |[Trinity]                          |\n",
      "|0       |ACTED_IN  |1          |[Person]       |Keanu Reeves      |1964       |0          |[Movie]        |The Matrix          |Welcome to the Real World                                                                                                                                                    |1999           |[Neo]                              |\n",
      "|24      |ACTED_IN  |28         |[Person]       |Al Pacino         |1940       |26         |[Movie]        |The Devil's Advocate|Evil has its winning ways                                                                                                                                                    |1997           |[John Milton]                      |\n",
      "|23      |ACTED_IN  |27         |[Person]       |Charlize Theron   |1975       |26         |[Movie]        |The Devil's Advocate|Evil has its winning ways                                                                                                                                                    |1997           |[Mary Ann Lomax]                   |\n",
      "|36      |ACTED_IN  |42         |[Person]       |Christopher Guest |1948       |31         |[Movie]        |A Few Good Men      |In the heart of the nation's capital, in a courthouse of the U.S. government, one man will stop at nothing to keep his honor, and one will stop at nothing to find the truth.|1992           |[Dr. Stone]                        |\n",
      "|34      |ACTED_IN  |40         |[Person]       |J.T. Walsh        |1943       |31         |[Movie]        |A Few Good Men      |In the heart of the nation's capital, in a courthouse of the U.S. government, one man will stop at nothing to keep his honor, and one will stop at nothing to find the truth.|1992           |[Lt. Col. Matthew Andrew Markinson]|\n",
      "|33      |ACTED_IN  |39         |[Person]       |Kevin Pollak      |1957       |31         |[Movie]        |A Few Good Men      |In the heart of the nation's capital, in a courthouse of the U.S. government, one man will stop at nothing to keep his honor, and one will stop at nothing to find the truth.|1992           |[Lt. Sam Weinberg]                 |\n",
      "|37      |ACTED_IN  |44         |[Person]       |Aaron Sorkin      |1961       |31         |[Movie]        |A Few Good Men      |In the heart of the nation's capital, in a courthouse of the U.S. government, one man will stop at nothing to keep his honor, and one will stop at nothing to find the truth.|1992           |[Man in Bar]                       |\n",
      "+--------+----------+-----------+---------------+------------------+-----------+-----------+---------------+--------------------+-----------------------------------------------------------------------------------------------------------------------------------------------------------------------------+---------------+-----------------------------------+\n",
      "only showing top 10 rows\n",
      "\n"
     ]
    }
   ],
   "source": [
    "actedin.show(10, false)"
   ]
  },
  {
   "cell_type": "markdown",
   "metadata": {},
   "source": [
    "### DataFrame with nodes as map"
   ]
  },
  {
   "cell_type": "code",
   "execution_count": 14,
   "metadata": {},
   "outputs": [
    {
     "name": "stderr",
     "output_type": "stream",
     "text": [
      "25/03/14 12:24:50 WARN SchemaService: Switching to query schema resolution\n"
     ]
    },
    {
     "data": {
      "text/plain": [
       "\u001b[36mactedinMap\u001b[39m: \u001b[32mDataFrame\u001b[39m = [<rel.id>: bigint, <rel.type>: string ... 3 more fields]"
      ]
     },
     "execution_count": 14,
     "metadata": {},
     "output_type": "execute_result"
    }
   ],
   "source": [
    "val actedinMap = spark.read\n",
    "                    .format(\"org.neo4j.spark.DataSource\")\n",
    "                    .option(\"relationship.nodes.map\", true)\n",
    "                    .option(\"relationship\", \"ACTED_IN\")\n",
    "                    .option(\"relationship.source.labels\", \":Person\")\n",
    "                    .option(\"relationship.target.labels\", \":Movie\")\n",
    "                    .load()"
   ]
  },
  {
   "cell_type": "code",
   "execution_count": 15,
   "metadata": {},
   "outputs": [
    {
     "name": "stdout",
     "output_type": "stream",
     "text": [
      "root\n",
      " |-- <rel.id>: long (nullable = false)\n",
      " |-- <rel.type>: string (nullable = false)\n",
      " |-- <source>: map (nullable = false)\n",
      " |    |-- key: string\n",
      " |    |-- value: string (valueContainsNull = true)\n",
      " |-- <target>: map (nullable = false)\n",
      " |    |-- key: string\n",
      " |    |-- value: string (valueContainsNull = true)\n",
      " |-- rel.roles: array (nullable = true)\n",
      " |    |-- element: string (containsNull = true)\n",
      "\n"
     ]
    }
   ],
   "source": [
    "actedinMap.printSchema()"
   ]
  },
  {
   "cell_type": "code",
   "execution_count": 16,
   "metadata": {},
   "outputs": [
    {
     "name": "stdout",
     "output_type": "stream",
     "text": [
      "+--------+----------+-------------------------------------------------------------------------------+----------------------------------------------------------------------------------------------------------------------------------------------------------------------------------------------------------------------------------------------------------------------------+-----------------------------------+\n",
      "|<rel.id>|<rel.type>|<source>                                                                       |<target>                                                                                                                                                                                                                                                                    |rel.roles                          |\n",
      "+--------+----------+-------------------------------------------------------------------------------+----------------------------------------------------------------------------------------------------------------------------------------------------------------------------------------------------------------------------------------------------------------------------+-----------------------------------+\n",
      "|3       |ACTED_IN  |{name -> \"Hugo Weaving\", born -> 1960, <labels> -> [\"Person\"], <id> -> 4}      |{title -> \"The Matrix\", released -> 1999, <labels> -> [\"Movie\"], <id> -> 0, tagline -> \"Welcome to the Real World\"}                                                                                                                                                         |[Agent Smith]                      |\n",
      "|2       |ACTED_IN  |{name -> \"Laurence Fishburne\", born -> 1961, <labels> -> [\"Person\"], <id> -> 3}|{title -> \"The Matrix\", released -> 1999, <labels> -> [\"Movie\"], <id> -> 0, tagline -> \"Welcome to the Real World\"}                                                                                                                                                         |[Morpheus]                         |\n",
      "|1       |ACTED_IN  |{name -> \"Carrie-Anne Moss\", born -> 1967, <labels> -> [\"Person\"], <id> -> 2}  |{title -> \"The Matrix\", released -> 1999, <labels> -> [\"Movie\"], <id> -> 0, tagline -> \"Welcome to the Real World\"}                                                                                                                                                         |[Trinity]                          |\n",
      "|0       |ACTED_IN  |{name -> \"Keanu Reeves\", born -> 1964, <labels> -> [\"Person\"], <id> -> 1}      |{title -> \"The Matrix\", released -> 1999, <labels> -> [\"Movie\"], <id> -> 0, tagline -> \"Welcome to the Real World\"}                                                                                                                                                         |[Neo]                              |\n",
      "|24      |ACTED_IN  |{name -> \"Al Pacino\", born -> 1940, <labels> -> [\"Person\"], <id> -> 28}        |{title -> \"The Devil's Advocate\", released -> 1997, <labels> -> [\"Movie\"], <id> -> 26, tagline -> \"Evil has its winning ways\"}                                                                                                                                              |[John Milton]                      |\n",
      "|23      |ACTED_IN  |{name -> \"Charlize Theron\", born -> 1975, <labels> -> [\"Person\"], <id> -> 27}  |{title -> \"The Devil's Advocate\", released -> 1997, <labels> -> [\"Movie\"], <id> -> 26, tagline -> \"Evil has its winning ways\"}                                                                                                                                              |[Mary Ann Lomax]                   |\n",
      "|36      |ACTED_IN  |{name -> \"Christopher Guest\", born -> 1948, <labels> -> [\"Person\"], <id> -> 42}|{title -> \"A Few Good Men\", released -> 1992, <labels> -> [\"Movie\"], <id> -> 31, tagline -> \"In the heart of the nation's capital, in a courthouse of the U.S. government, one man will stop at nothing to keep his honor, and one will stop at nothing to find the truth.\"}|[Dr. Stone]                        |\n",
      "|34      |ACTED_IN  |{name -> \"J.T. Walsh\", born -> 1943, <labels> -> [\"Person\"], <id> -> 40}       |{title -> \"A Few Good Men\", released -> 1992, <labels> -> [\"Movie\"], <id> -> 31, tagline -> \"In the heart of the nation's capital, in a courthouse of the U.S. government, one man will stop at nothing to keep his honor, and one will stop at nothing to find the truth.\"}|[Lt. Col. Matthew Andrew Markinson]|\n",
      "|33      |ACTED_IN  |{name -> \"Kevin Pollak\", born -> 1957, <labels> -> [\"Person\"], <id> -> 39}     |{title -> \"A Few Good Men\", released -> 1992, <labels> -> [\"Movie\"], <id> -> 31, tagline -> \"In the heart of the nation's capital, in a courthouse of the U.S. government, one man will stop at nothing to keep his honor, and one will stop at nothing to find the truth.\"}|[Lt. Sam Weinberg]                 |\n",
      "|37      |ACTED_IN  |{name -> \"Aaron Sorkin\", born -> 1961, <labels> -> [\"Person\"], <id> -> 44}     |{title -> \"A Few Good Men\", released -> 1992, <labels> -> [\"Movie\"], <id> -> 31, tagline -> \"In the heart of the nation's capital, in a courthouse of the U.S. government, one man will stop at nothing to keep his honor, and one will stop at nothing to find the truth.\"}|[Man in Bar]                       |\n",
      "+--------+----------+-------------------------------------------------------------------------------+----------------------------------------------------------------------------------------------------------------------------------------------------------------------------------------------------------------------------------------------------------------------------+-----------------------------------+\n",
      "only showing top 10 rows\n",
      "\n"
     ]
    }
   ],
   "source": [
    "actedinMap.show(10, false)"
   ]
  },
  {
   "cell_type": "markdown",
   "metadata": {},
   "source": [
    "### Directed"
   ]
  },
  {
   "cell_type": "code",
   "execution_count": 17,
   "metadata": {},
   "outputs": [
    {
     "name": "stderr",
     "output_type": "stream",
     "text": [
      "25/03/14 12:24:51 WARN SchemaService: Switching to query schema resolution\n",
      "25/03/14 12:24:51 WARN SchemaService: Switching to query schema resolution\n",
      "25/03/14 12:24:51 WARN SchemaService: Switching to query schema resolution\n"
     ]
    },
    {
     "data": {
      "text/plain": [
       "\u001b[36mdirected\u001b[39m: \u001b[32mDataFrame\u001b[39m = [<rel.id>: bigint, <rel.type>: string ... 9 more fields]"
      ]
     },
     "execution_count": 17,
     "metadata": {},
     "output_type": "execute_result"
    }
   ],
   "source": [
    "val directed = spark.read\n",
    "                .format(\"org.neo4j.spark.DataSource\")\n",
    "                .option(\"relationship\", \"DIRECTED\")\n",
    "                .option(\"relationship.source.labels\", \":Person\")\n",
    "                .option(\"relationship.target.labels\", \":Movie\")\n",
    "                .load()"
   ]
  },
  {
   "cell_type": "code",
   "execution_count": 18,
   "metadata": {},
   "outputs": [
    {
     "name": "stdout",
     "output_type": "stream",
     "text": [
      "root\n",
      " |-- <rel.id>: long (nullable = false)\n",
      " |-- <rel.type>: string (nullable = false)\n",
      " |-- <source.id>: long (nullable = false)\n",
      " |-- <source.labels>: array (nullable = true)\n",
      " |    |-- element: string (containsNull = true)\n",
      " |-- source.name: string (nullable = true)\n",
      " |-- source.born: long (nullable = true)\n",
      " |-- <target.id>: long (nullable = false)\n",
      " |-- <target.labels>: array (nullable = true)\n",
      " |    |-- element: string (containsNull = true)\n",
      " |-- target.title: string (nullable = true)\n",
      " |-- target.tagline: string (nullable = true)\n",
      " |-- target.released: long (nullable = true)\n",
      "\n"
     ]
    }
   ],
   "source": [
    "directed.printSchema()"
   ]
  },
  {
   "cell_type": "code",
   "execution_count": 19,
   "metadata": {},
   "outputs": [
    {
     "name": "stdout",
     "output_type": "stream",
     "text": [
      "+--------+----------+-----------+---------------+---------------+-----------+-----------+---------------+----------------------+-----------------------------------------------------------------------------------------------------------------------------------------------------------------------------+---------------+\n",
      "|<rel.id>|<rel.type>|<source.id>|<source.labels>|source.name    |source.born|<target.id>|<target.labels>|target.title          |target.tagline                                                                                                                                                               |target.released|\n",
      "+--------+----------+-----------+---------------+---------------+-----------+-----------+---------------+----------------------+-----------------------------------------------------------------------------------------------------------------------------------------------------------------------------+---------------+\n",
      "|5       |DIRECTED  |6          |[Person]       |Lana Wachowski |1965       |0          |[Movie]        |The Matrix            |Welcome to the Real World                                                                                                                                                    |1999           |\n",
      "|4       |DIRECTED  |5          |[Person]       |Lilly Wachowski|1967       |0          |[Movie]        |The Matrix            |Welcome to the Real World                                                                                                                                                    |1999           |\n",
      "|25      |DIRECTED  |29         |[Person]       |Taylor Hackford|1944       |26         |[Movie]        |The Devil's Advocate  |Evil has its winning ways                                                                                                                                                    |1997           |\n",
      "|38      |DIRECTED  |43         |[Person]       |Rob Reiner     |1947       |31         |[Movie]        |A Few Good Men        |In the heart of the nation's capital, in a courthouse of the U.S. government, one man will stop at nothing to keep his honor, and one will stop at nothing to find the truth.|1992           |\n",
      "|45      |DIRECTED  |51         |[Person]       |Lana Wachowski |1965       |45         |[Movie]        |The Matrix            |Welcome to the Real World                                                                                                                                                    |1999           |\n",
      "|44      |DIRECTED  |50         |[Person]       |Lilly Wachowski|1967       |45         |[Movie]        |The Matrix            |Welcome to the Real World                                                                                                                                                    |1999           |\n",
      "|52      |DIRECTED  |50         |[Person]       |Lilly Wachowski|1967       |54         |[Movie]        |The Matrix Reloaded   |Free your mind                                                                                                                                                               |2003           |\n",
      "|53      |DIRECTED  |51         |[Person]       |Lana Wachowski |1965       |54         |[Movie]        |The Matrix Reloaded   |Free your mind                                                                                                                                                               |2003           |\n",
      "|59      |DIRECTED  |50         |[Person]       |Lilly Wachowski|1967       |55         |[Movie]        |The Matrix Revolutions|Everything that has a beginning has an end                                                                                                                                   |2003           |\n",
      "|60      |DIRECTED  |51         |[Person]       |Lana Wachowski |1965       |55         |[Movie]        |The Matrix Revolutions|Everything that has a beginning has an end                                                                                                                                   |2003           |\n",
      "+--------+----------+-----------+---------------+---------------+-----------+-----------+---------------+----------------------+-----------------------------------------------------------------------------------------------------------------------------------------------------------------------------+---------------+\n",
      "only showing top 10 rows\n",
      "\n"
     ]
    }
   ],
   "source": [
    "directed.show(10, false)"
   ]
  },
  {
   "cell_type": "markdown",
   "metadata": {},
   "source": [
    "### Read arbitrary data via Cypher query"
   ]
  },
  {
   "cell_type": "code",
   "execution_count": 20,
   "metadata": {},
   "outputs": [
    {
     "data": {
      "text/plain": [
       "\u001b[36mcypher\u001b[39m: \u001b[32mDataFrame\u001b[39m = [Recommended: string, Strength: bigint]"
      ]
     },
     "execution_count": 20,
     "metadata": {},
     "output_type": "execute_result"
    }
   ],
   "source": [
    "val cypher = spark.read\n",
    "                .format(\"org.neo4j.spark.DataSource\")\n",
    "                .option(\"query\", \"\"\"\n",
    "                    // Extend Tom Hanks co-actors, to find co-co-actors who haven't worked with Tom Hanks\n",
    "                    MATCH (tom:Person {name:\"Tom Hanks\"})-[:ACTED_IN]->(m)<-[:ACTED_IN]-(coActors),\n",
    "                    (coActors)-[:ACTED_IN]->(m2)<-[:ACTED_IN]-(cocoActors)\n",
    "                    WHERE NOT (tom)-[:ACTED_IN]->()<-[:ACTED_IN]-(cocoActors)\n",
    "                        AND tom <> cocoActors\n",
    "                    RETURN cocoActors.name AS Recommended, count(*) AS Strength\n",
    "                    ORDER BY Strength DESC\n",
    "                    \"\"\")\n",
    "                .load()"
   ]
  },
  {
   "cell_type": "code",
   "execution_count": 21,
   "metadata": {},
   "outputs": [
    {
     "name": "stdout",
     "output_type": "stream",
     "text": [
      "root\n",
      " |-- Recommended: string (nullable = true)\n",
      " |-- Strength: long (nullable = true)\n",
      "\n"
     ]
    }
   ],
   "source": [
    "cypher.printSchema()"
   ]
  },
  {
   "cell_type": "code",
   "execution_count": 22,
   "metadata": {},
   "outputs": [
    {
     "name": "stdout",
     "output_type": "stream",
     "text": [
      "+----------------+--------+\n",
      "|Recommended     |Strength|\n",
      "+----------------+--------+\n",
      "|Zach Grenier    |10      |\n",
      "|Tom Cruise      |10      |\n",
      "|Keanu Reeves    |8       |\n",
      "|Cuba Gooding Jr.|8       |\n",
      "|Jack Nicholson  |6       |\n",
      "|Kelly McGillis  |6       |\n",
      "|Anthony Edwards |6       |\n",
      "|Carrie Fisher   |6       |\n",
      "|Bruno Kirby     |6       |\n",
      "|Billy Crystal   |6       |\n",
      "+----------------+--------+\n",
      "only showing top 10 rows\n",
      "\n"
     ]
    }
   ],
   "source": [
    "cypher.show(10, false)"
   ]
  },
  {
   "cell_type": "markdown",
   "metadata": {},
   "source": [
    "### Return all the actors that have also directed a movie."
   ]
  },
  {
   "cell_type": "code",
   "execution_count": 23,
   "metadata": {},
   "outputs": [
    {
     "data": {
      "text/plain": [
       "\u001b[36mactorsDirectors\u001b[39m: \u001b[32mDataFrame\u001b[39m = [name: string, acted_in: array<string> ... 1 more field]"
      ]
     },
     "execution_count": 23,
     "metadata": {},
     "output_type": "execute_result"
    }
   ],
   "source": [
    "val actorsDirectors = spark.read\n",
    "                        .format(\"org.neo4j.spark.DataSource\")\n",
    "                        .option(\"query\", \"\"\"\n",
    "                                MATCH (p:Person)\n",
    "                                MATCH (p)-[:ACTED_IN]->(m:Movie)\n",
    "                                MATCH (p)-[:DIRECTED]->(m1:Movie)\n",
    "                                RETURN p.name AS name, collect(m.title) AS acted_in, collect(m1.title) AS directed\n",
    "                                \"\"\")\n",
    "                        .load()"
   ]
  },
  {
   "cell_type": "code",
   "execution_count": 24,
   "metadata": {},
   "outputs": [
    {
     "name": "stdout",
     "output_type": "stream",
     "text": [
      "root\n",
      " |-- name: string (nullable = true)\n",
      " |-- acted_in: array (nullable = true)\n",
      " |    |-- element: string (containsNull = true)\n",
      " |-- directed: array (nullable = true)\n",
      " |    |-- element: string (containsNull = true)\n",
      "\n"
     ]
    }
   ],
   "source": [
    "actorsDirectors.printSchema()"
   ]
  },
  {
   "cell_type": "code",
   "execution_count": 25,
   "metadata": {},
   "outputs": [
    {
     "name": "stdout",
     "output_type": "stream",
     "text": [
      "+--------------+------------------------------------------------------------------------------------------------------------------------------------------------------------------------------------------------------------------------------------------------------------------------------------------------------------------------------------------------------------------------------------------------------------------------------------------------+------------------------------------------------------------------------------------------------------------------------------------------------------------------------------------------------------------------------------------------------------------------------------------------------------------------------------------------------------------------------------------------------------------------------------------------------------------------------+\n",
      "|name          |acted_in                                                                                                                                                                                                                                                                                                                                                                                                                                        |directed                                                                                                                                                                                                                                                                                                                                                                                                                                                                |\n",
      "+--------------+------------------------------------------------------------------------------------------------------------------------------------------------------------------------------------------------------------------------------------------------------------------------------------------------------------------------------------------------------------------------------------------------------------------------------------------------+------------------------------------------------------------------------------------------------------------------------------------------------------------------------------------------------------------------------------------------------------------------------------------------------------------------------------------------------------------------------------------------------------------------------------------------------------------------------+\n",
      "|Tom Hanks     |[The Da Vinci Code, Charlie Wilson's War, A League of Their Own, You've Got Mail, The Polar Express, Cloud Atlas, The Green Mile, That Thing You Do, Apollo 13, Sleepless in Seattle, Joe Versus the Volcano, Cast Away, You've Got Mail, The Green Mile, Cast Away, The Polar Express, Cloud Atlas, Apollo 13, Charlie Wilson's War, That Thing You Do, Joe Versus the Volcano, The Da Vinci Code, A League of Their Own, Sleepless in Seattle]|[That Thing You Do, That Thing You Do, That Thing You Do, That Thing You Do, That Thing You Do, That Thing You Do, That Thing You Do, That Thing You Do, That Thing You Do, That Thing You Do, That Thing You Do, That Thing You Do, That Thing You Do, That Thing You Do, That Thing You Do, That Thing You Do, That Thing You Do, That Thing You Do, That Thing You Do, That Thing You Do, That Thing You Do, That Thing You Do, That Thing You Do, That Thing You Do]|\n",
      "|Werner Herzog |[What Dreams May Come, What Dreams May Come]                                                                                                                                                                                                                                                                                                                                                                                                    |[RescueDawn, RescueDawn]                                                                                                                                                                                                                                                                                                                                                                                                                                                |\n",
      "|Clint Eastwood|[Unforgiven, Unforgiven]                                                                                                                                                                                                                                                                                                                                                                                                                        |[Unforgiven, Unforgiven]                                                                                                                                                                                                                                                                                                                                                                                                                                                |\n",
      "|James Marshall|[A Few Good Men, A Few Good Men, A Few Good Men, A Few Good Men]                                                                                                                                                                                                                                                                                                                                                                                |[V for Vendetta, Ninja Assassin, V for Vendetta, Ninja Assassin]                                                                                                                                                                                                                                                                                                                                                                                                        |\n",
      "|Danny DeVito  |[Hoffa, One Flew Over the Cuckoo's Nest, One Flew Over the Cuckoo's Nest, Hoffa]                                                                                                                                                                                                                                                                                                                                                                |[Hoffa, Hoffa, Hoffa, Hoffa]                                                                                                                                                                                                                                                                                                                                                                                                                                            |\n",
      "+--------------+------------------------------------------------------------------------------------------------------------------------------------------------------------------------------------------------------------------------------------------------------------------------------------------------------------------------------------------------------------------------------------------------------------------------------------------------+------------------------------------------------------------------------------------------------------------------------------------------------------------------------------------------------------------------------------------------------------------------------------------------------------------------------------------------------------------------------------------------------------------------------------------------------------------------------+\n",
      "\n"
     ]
    }
   ],
   "source": [
    "actorsDirectors.show(10, false)"
   ]
  },
  {
   "cell_type": "markdown",
   "metadata": {},
   "source": [
    "## Write data from Spark to Neo4j"
   ]
  },
  {
   "cell_type": "code",
   "execution_count": 26,
   "metadata": {},
   "outputs": [
    {
     "data": {
      "text/plain": [
       "\u001b[36mproducts\u001b[39m: \u001b[32mDataFrame\u001b[39m = [id: int, name: string ... 1 more field]"
      ]
     },
     "execution_count": 26,
     "metadata": {},
     "output_type": "execute_result"
    }
   ],
   "source": [
    "val products = spark.read\n",
    "                .format(\"csv\")\n",
    "                .option(\"inferSchema\", true)\n",
    "                .load(\"desktop-csv-import/products.csv\")\n",
    "                .withColumnsRenamed(Map(\"_c0\" -> \"id\", \"_c1\" -> \"name\", \"_c2\" -> \"price\"))"
   ]
  },
  {
   "cell_type": "code",
   "execution_count": 27,
   "metadata": {},
   "outputs": [
    {
     "name": "stdout",
     "output_type": "stream",
     "text": [
      "root\n",
      " |-- id: integer (nullable = true)\n",
      " |-- name: string (nullable = true)\n",
      " |-- price: double (nullable = true)\n",
      "\n"
     ]
    }
   ],
   "source": [
    "products.printSchema()"
   ]
  },
  {
   "cell_type": "code",
   "execution_count": 28,
   "metadata": {},
   "outputs": [
    {
     "name": "stdout",
     "output_type": "stream",
     "text": [
      "+---+-------------------------------+-----+\n",
      "|id |name                           |price|\n",
      "+---+-------------------------------+-----+\n",
      "|1  |Chai                           |18.0 |\n",
      "|2  |Chang                          |19.0 |\n",
      "|3  |Aniseed Syrup                  |10.0 |\n",
      "|4  |Chef Anton's Cajun Seasoning   |22.0 |\n",
      "|5  |Chef Anton's Gumbo Mix         |21.35|\n",
      "|6  |Grandma's Boysenberry Spread   |25.0 |\n",
      "|7  |Uncle Bob's Organic Dried Pears|30.0 |\n",
      "|8  |Northwoods Cranberry Sauce     |40.0 |\n",
      "|9  |Mishi Kobe Niku                |97.0 |\n",
      "|10 |Ikura                          |31.0 |\n",
      "+---+-------------------------------+-----+\n",
      "only showing top 10 rows\n",
      "\n"
     ]
    }
   ],
   "source": [
    "products.show(10, false)"
   ]
  },
  {
   "cell_type": "code",
   "execution_count": 29,
   "metadata": {},
   "outputs": [
    {
     "data": {
      "text/plain": [
       "\u001b[36mres29\u001b[39m: \u001b[32mLong\u001b[39m = \u001b[32m77L\u001b[39m"
      ]
     },
     "execution_count": 29,
     "metadata": {},
     "output_type": "execute_result"
    }
   ],
   "source": [
    "products.count()"
   ]
  },
  {
   "cell_type": "code",
   "execution_count": 30,
   "metadata": {},
   "outputs": [
    {
     "data": {
      "text/plain": [
       "\u001b[36morders\u001b[39m: \u001b[32mDataFrame\u001b[39m = [id: int, date: timestamp ... 1 more field]"
      ]
     },
     "execution_count": 30,
     "metadata": {},
     "output_type": "execute_result"
    }
   ],
   "source": [
    "val orders = spark.read\n",
    "                .format(\"csv\")\n",
    "                .option(\"inferSchema\", true)\n",
    "                .option(\"header\", true)\n",
    "                .load(\"desktop-csv-import/orders.csv\")\n",
    "                .selectExpr(\"orderID AS id\", \"CAST(orderDate AS TIMESTAMP) AS date\", \"shipCountry\")"
   ]
  },
  {
   "cell_type": "code",
   "execution_count": 31,
   "metadata": {},
   "outputs": [
    {
     "name": "stdout",
     "output_type": "stream",
     "text": [
      "root\n",
      " |-- id: integer (nullable = true)\n",
      " |-- date: timestamp (nullable = true)\n",
      " |-- shipCountry: string (nullable = true)\n",
      "\n"
     ]
    }
   ],
   "source": [
    "orders.printSchema()"
   ]
  },
  {
   "cell_type": "code",
   "execution_count": 32,
   "metadata": {},
   "outputs": [
    {
     "name": "stdout",
     "output_type": "stream",
     "text": [
      "+-----+-------------------+-----------+\n",
      "|id   |date               |shipCountry|\n",
      "+-----+-------------------+-----------+\n",
      "|10248|1996-07-04 00:00:00|France     |\n",
      "|10249|1996-07-05 00:00:00|Germany    |\n",
      "|10250|1996-07-08 00:00:00|Brazil     |\n",
      "|10251|1996-07-08 00:00:00|France     |\n",
      "|10252|1996-07-09 00:00:00|Belgium    |\n",
      "|10253|1996-07-10 00:00:00|Brazil     |\n",
      "|10254|1996-07-11 00:00:00|Switzerland|\n",
      "|10255|1996-07-12 00:00:00|Switzerland|\n",
      "|10256|1996-07-15 00:00:00|Brazil     |\n",
      "|10257|1996-07-16 00:00:00|Venezuela  |\n",
      "+-----+-------------------+-----------+\n",
      "only showing top 10 rows\n",
      "\n"
     ]
    }
   ],
   "source": [
    "orders.show(10, false)"
   ]
  },
  {
   "cell_type": "code",
   "execution_count": 33,
   "metadata": {},
   "outputs": [
    {
     "data": {
      "text/plain": [
       "\u001b[36mres33\u001b[39m: \u001b[32mLong\u001b[39m = \u001b[32m830L\u001b[39m"
      ]
     },
     "execution_count": 33,
     "metadata": {},
     "output_type": "execute_result"
    }
   ],
   "source": [
    "orders.count()"
   ]
  },
  {
   "cell_type": "markdown",
   "metadata": {},
   "source": [
    "### Write nodes via label option"
   ]
  },
  {
   "cell_type": "code",
   "execution_count": 34,
   "metadata": {},
   "outputs": [],
   "source": [
    "products.write\n",
    "        .format(\"org.neo4j.spark.DataSource\")\n",
    "        .mode(\"append\")\n",
    "        .option(\"labels\", \":Product\")\n",
    "        .save()"
   ]
  },
  {
   "cell_type": "code",
   "execution_count": 35,
   "metadata": {},
   "outputs": [
    {
     "name": "stderr",
     "output_type": "stream",
     "text": [
      "25/03/14 12:25:01 WARN Neo4jOptions: \n",
      "Option `schema.optimization.type` is deprecated and will be removed in future implementations,\n",
      "please move to one of the following depending on your use case:\n",
      "- `schema.optimization.node.keys`\n",
      "- `schema.optimization.relationship.keys`\n",
      "\n",
      "25/03/14 12:25:01 WARN Neo4jOptions: \n",
      "Option `schema.optimization.type` is deprecated and will be removed in future implementations,\n",
      "please move to one of the following depending on your use case:\n",
      "- `schema.optimization.node.keys`\n",
      "- `schema.optimization.relationship.keys`\n",
      "\n"
     ]
    }
   ],
   "source": [
    "orders.write\n",
    "      .format(\"org.neo4j.spark.DataSource\")\n",
    "      .mode(\"overwrite\")\n",
    "      .option(\"labels\", \":Order\")\n",
    "      .option(\"schema.optimization.type\", \"NODE_CONSTRAINTS\")\n",
    "// this is necessary in order to specify what is the constraint field\n",
    "      .option(\"node.keys\", \"id\")\n",
    "      .save()"
   ]
  },
  {
   "cell_type": "markdown",
   "metadata": {},
   "source": [
    "### Write relationships via relationship option"
   ]
  },
  {
   "cell_type": "code",
   "execution_count": 36,
   "metadata": {},
   "outputs": [
    {
     "data": {
      "text/plain": [
       "\u001b[36morderDetails\u001b[39m: \u001b[32mDataFrame\u001b[39m = [orderID: int, productID: int ... 1 more field]"
      ]
     },
     "execution_count": 36,
     "metadata": {},
     "output_type": "execute_result"
    }
   ],
   "source": [
    "val orderDetails = spark.read\n",
    "                    .format(\"csv\")\n",
    "                    .option(\"inferSchema\", true)\n",
    "                    .option(\"header\", true)\n",
    "                    .load(\"desktop-csv-import/order-details.csv\")"
   ]
  },
  {
   "cell_type": "code",
   "execution_count": 37,
   "metadata": {},
   "outputs": [
    {
     "name": "stdout",
     "output_type": "stream",
     "text": [
      "root\n",
      " |-- orderID: integer (nullable = true)\n",
      " |-- productID: integer (nullable = true)\n",
      " |-- quantity: integer (nullable = true)\n",
      "\n"
     ]
    }
   ],
   "source": [
    "orderDetails.printSchema()"
   ]
  },
  {
   "cell_type": "code",
   "execution_count": 38,
   "metadata": {},
   "outputs": [
    {
     "name": "stdout",
     "output_type": "stream",
     "text": [
      "+-------+---------+--------+\n",
      "|orderID|productID|quantity|\n",
      "+-------+---------+--------+\n",
      "|10248  |11       |12      |\n",
      "|10248  |42       |10      |\n",
      "|10248  |72       |5       |\n",
      "|10249  |14       |9       |\n",
      "|10249  |51       |40      |\n",
      "|10250  |41       |10      |\n",
      "|10250  |51       |35      |\n",
      "|10250  |65       |15      |\n",
      "|10251  |22       |6       |\n",
      "|10251  |57       |15      |\n",
      "+-------+---------+--------+\n",
      "only showing top 10 rows\n",
      "\n"
     ]
    }
   ],
   "source": [
    "orderDetails.show(10, false)"
   ]
  },
  {
   "cell_type": "code",
   "execution_count": 39,
   "metadata": {},
   "outputs": [
    {
     "data": {
      "text/plain": [
       "\u001b[36mres39\u001b[39m: \u001b[32mLong\u001b[39m = \u001b[32m2155L\u001b[39m"
      ]
     },
     "execution_count": 39,
     "metadata": {},
     "output_type": "execute_result"
    }
   ],
   "source": [
    "orderDetails.count()"
   ]
  },
  {
   "cell_type": "code",
   "execution_count": 40,
   "metadata": {},
   "outputs": [],
   "source": [
    "orderDetails.write\n",
    "            .format(\"org.neo4j.spark.DataSource\")\n",
    "            .mode(\"overwrite\")\n",
    "            .option(\"relationship\", \"CONTAINS\")\n",
    "            .option(\"relationship.save.strategy\", \"keys\")\n",
    "            .option(\"relationship.source.labels\", \":Product\")\n",
    "            .option(\"relationship.source.save.mode\", \"Match\")\n",
    "            .option(\"relationship.source.node.keys\", \"productID:id\")\n",
    "            .option(\"relationship.target.labels\", \":Order\")\n",
    "            .option(\"relationship.target.save.mode\", \"Match\")\n",
    "            .option(\"relationship.target.node.keys\", \"orderID:id\")\n",
    "            .option(\"relationship.properties\", \"quantity:quantityOrdered\")\n",
    "            .save()"
   ]
  },
  {
   "cell_type": "markdown",
   "metadata": {},
   "source": [
    "### Write custom graphs via Cypher Query"
   ]
  },
  {
   "cell_type": "code",
   "execution_count": 41,
   "metadata": {},
   "outputs": [
    {
     "data": {
      "text/plain": [
       "\u001b[36mactorOrders\u001b[39m: \u001b[32mSeq\u001b[39m[(\u001b[32mString\u001b[39m, \u001b[32mInt\u001b[39m, \u001b[32mArray\u001b[39m[\u001b[32mInt\u001b[39m], \u001b[32mArray\u001b[39m[\u001b[32mInt\u001b[39m], \u001b[32mString\u001b[39m)] = \u001b[33mList\u001b[39m(\n",
       "  (\n",
       "    \u001b[32m\"Cuba Gooding Jr.\"\u001b[39m,\n",
       "    \u001b[32m1\u001b[39m,\n",
       "    \u001b[33mArray\u001b[39m(\u001b[32m11\u001b[39m, \u001b[32m42\u001b[39m, \u001b[32m72\u001b[39m),\n",
       "    \u001b[33mArray\u001b[39m(\u001b[32m1\u001b[39m, \u001b[32m2\u001b[39m, \u001b[32m3\u001b[39m),\n",
       "    \u001b[32m\"2022-06-07 00:00:00\"\u001b[39m\n",
       "  ),\n",
       "  (\u001b[32m\"Tom Hanks\"\u001b[39m, \u001b[32m2\u001b[39m, \u001b[33mArray\u001b[39m(\u001b[32m24\u001b[39m, \u001b[32m55\u001b[39m, \u001b[32m75\u001b[39m), \u001b[33mArray\u001b[39m(\u001b[32m3\u001b[39m, \u001b[32m2\u001b[39m, \u001b[32m1\u001b[39m), \u001b[32m\"2022-06-06 00:00:00\"\u001b[39m)\n",
       ")"
      ]
     },
     "execution_count": 41,
     "metadata": {},
     "output_type": "execute_result"
    }
   ],
   "source": [
    "val actorOrders = Seq(\n",
    "  (\"Cuba Gooding Jr.\", 1, Array(11, 42, 72), Array(1, 2, 3), \"2022-06-07 00:00:00\"),\n",
    "  (\"Tom Hanks\", 2, Array(24, 55, 75), Array(3, 2, 1), \"2022-06-06 00:00:00\")\n",
    ")"
   ]
  },
  {
   "cell_type": "code",
   "execution_count": 42,
   "metadata": {},
   "outputs": [
    {
     "data": {
      "text/plain": [
       "\u001b[36mactorOrdersDF\u001b[39m: \u001b[32mDataFrame\u001b[39m = [actor_name: string, order_id: int ... 3 more fields]"
      ]
     },
     "execution_count": 42,
     "metadata": {},
     "output_type": "execute_result"
    }
   ],
   "source": [
    "val actorOrdersDF = spark\n",
    "                    .createDataFrame(actorOrders)\n",
    "                    .withColumnsRenamed(\n",
    "                        Map(\n",
    "                            \"_1\" -> \"actor_name\",\n",
    "                            \"_2\" -> \"order_id\",\n",
    "                            \"_3\" -> \"products\",\n",
    "                            \"_4\" -> \"quantities\",\n",
    "                            \"_5\" -> \"order_date\"))"
   ]
  },
  {
   "cell_type": "code",
   "execution_count": 43,
   "metadata": {},
   "outputs": [
    {
     "name": "stdout",
     "output_type": "stream",
     "text": [
      "root\n",
      " |-- actor_name: string (nullable = true)\n",
      " |-- order_id: integer (nullable = false)\n",
      " |-- products: array (nullable = true)\n",
      " |    |-- element: integer (containsNull = false)\n",
      " |-- quantities: array (nullable = true)\n",
      " |    |-- element: integer (containsNull = false)\n",
      " |-- order_date: string (nullable = true)\n",
      "\n"
     ]
    }
   ],
   "source": [
    "actorOrdersDF.printSchema()"
   ]
  },
  {
   "cell_type": "code",
   "execution_count": 44,
   "metadata": {},
   "outputs": [
    {
     "name": "stdout",
     "output_type": "stream",
     "text": [
      "+----------------+--------+------------+----------+-------------------+\n",
      "|actor_name      |order_id|products    |quantities|order_date         |\n",
      "+----------------+--------+------------+----------+-------------------+\n",
      "|Cuba Gooding Jr.|1       |[11, 42, 72]|[1, 2, 3] |2022-06-07 00:00:00|\n",
      "|Tom Hanks       |2       |[24, 55, 75]|[3, 2, 1] |2022-06-06 00:00:00|\n",
      "+----------------+--------+------------+----------+-------------------+\n",
      "\n"
     ]
    }
   ],
   "source": [
    "actorOrdersDF.show(10, false)"
   ]
  },
  {
   "cell_type": "code",
   "execution_count": 45,
   "metadata": {},
   "outputs": [],
   "source": [
    "actorOrdersDF.write\n",
    "             .format(\"org.neo4j.spark.DataSource\")\n",
    "             .mode(\"overwrite\")\n",
    "             .option(\"query\", \"\"\"\n",
    "                     MATCH (person:Person {name: event.actor_name})\n",
    "                     MERGE (order:Order {id: event.order_id, date: datetime(replace(event.order_date, ' ', 'T'))})\n",
    "                     MERGE (person)-[:CREATED]->(order)\n",
    "                     WITH event, order\n",
    "                     UNWIND range(0, size(event.products) - 1) AS index\n",
    "                     MATCH (product:Product {id: event.products[index]})\n",
    "                     MERGE (product)-[:CONTAINS{quantityOrdered: event.quantities[index]}]->(order)\n",
    "                    \"\"\")\n",
    "             .save()"
   ]
  }
 ],
 "metadata": {
  "kernelspec": {
   "display_name": "Scala (2.12)",
   "language": "scala",
   "name": "scala212"
  },
  "language_info": {
   "codemirror_mode": "text/x-scala",
   "file_extension": ".sc",
   "mimetype": "text/x-scala",
   "name": "scala",
   "nbconvert_exporter": "script",
   "version": "2.12.18"
  }
 },
 "nbformat": 4,
 "nbformat_minor": 2
}
